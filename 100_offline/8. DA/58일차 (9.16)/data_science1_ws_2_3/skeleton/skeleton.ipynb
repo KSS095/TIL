{
 "cells": [
  {
   "cell_type": "code",
   "execution_count": 1,
   "metadata": {},
   "outputs": [
    {
     "name": "stdout",
     "output_type": "stream",
     "text": [
      "도입 전 평균 통근 시간: 37.06분\n",
      "도입 후 평균 통근 시간: 33.39분\n"
     ]
    }
   ],
   "source": [
    "import pandas as pd\n",
    "import numpy as np\n",
    "import scipy.stats as stats\n",
    "import matplotlib.pyplot as plt\n",
    "import seaborn as sns\n",
    "\n",
    "df = pd.read_csv('../data/data.csv')\n",
    "\n",
    "commute_before = df['commute_before']\n",
    "commute_after = df['commute_after']\n",
    "\n",
    "# 기초 통계량 확인\n",
    "print(f\"도입 전 평균 통근 시간: {np.mean(commute_before):.2f}분\")\n",
    "print(f\"도입 후 평균 통근 시간: {np.mean(commute_after):.2f}분\")"
   ]
  },
  {
   "cell_type": "code",
   "execution_count": 2,
   "metadata": {},
   "outputs": [
    {
     "name": "stdout",
     "output_type": "stream",
     "text": [
      "도입 전 평균 통근 시간: 36.23분\n",
      "도입 후 평균 통근 시간: 32.84분\n"
     ]
    }
   ],
   "source": [
    "import numpy as np\n",
    "import scipy.stats as stats\n",
    "import matplotlib.pyplot as plt\n",
    "import seaborn as sns\n",
    "\n",
    "# 데이터 생성: 동일한 시민들의 교통 시스템 도입 전후 통근 시간 (단위: 분)\n",
    "np.random.seed(42)\n",
    "\n",
    "commute_before = np.random.normal(loc=np.mean(commute_before), scale=np.std(commute_before), size=np.size(commute_before))  \n",
    "# 도입 전 평균, 표준편차, 표본 크기를 입력\n",
    "\n",
    "commute_after = np.random.normal(loc=np.mean(commute_after), scale=np.std(commute_after), size=np.size(commute_after))  \n",
    "# 도입 후 평균, 표준편차, 표본 크기를 입력\n",
    "\n",
    "# 기초 통계량 확인\n",
    "print(f\"도입 전 평균 통근 시간: {np.mean(commute_before):.2f}분\")  \n",
    "# 평균 계산\n",
    "\n",
    "print(f\"도입 후 평균 통근 시간: {np.mean(commute_after):.2f}분\")  \n",
    "# 평균 계산\n"
   ]
  },
  {
   "cell_type": "code",
   "execution_count": 4,
   "metadata": {},
   "outputs": [
    {
     "data": {
      "image/png": "[encoded data removed]",
      "text/plain": [
       "<Figure size 1200x500 with 1 Axes>"
      ]
     },
     "metadata": {},
     "output_type": "display_data"
    }
   ],
   "source": [
    "plt.figure(figsize=(12, 5))\n",
    "# 그래프 크기 설정 (가로, 세로)\n",
    "\n",
    "# KDE 그래프: 통근 시간 분포 비교\n",
    "plt.subplot(2, 30, 1)  \n",
    "# 서브플롯 설정 (행 개수, 열 개수, 현재 위치)\n",
    "\n",
    "sns.histplot(commute_before, kde=True, color='blue', label='before', alpha=0.6)  \n",
    "# KDE 포함 여부 설정\n",
    "\n",
    "sns.histplot(commute_after, kde=True, color='orange', label='after', alpha=0.6)  \n",
    "\n",
    "plt.axvline(np.mean(commute_before), color='blue', linestyle='dashed')  \n",
    "# 도입 전 평균선 추가\n",
    "\n",
    "plt.axvline(np.mean(commute_after), color='orange', linestyle='dashed')  \n",
    "# 도입 후 평균선 추가\n",
    "\n",
    "plt.title('Commute time of Distribution')  \n",
    "plt.xlabel('Commute Time (Minute)')  \n",
    "plt.legend()\n",
    "\n",
    "# 박스플롯: 그룹 간 비교\n",
    "plt.subplot(2, 30, 1)  \n",
    "\n",
    "sns.boxplot(data=[commute_before, commute_after], palette=['blue', 'orange'])  \n",
    "# 데이터 리스트를 입력하여 박스플롯 생성\n",
    "\n",
    "plt.xticks([0, 1], ['before', 'after'])  \n",
    "plt.title('Commute Time Boxplot')  \n",
    "plt.ylabel('Commute Time (Minute)')\n",
    "\n",
    "plt.show()\n"
   ]
  },
  {
   "cell_type": "code",
   "execution_count": 5,
   "metadata": {},
   "outputs": [
    {
     "name": "stdout",
     "output_type": "stream",
     "text": [
      "Shapiro-Wilk 검정 (도입 전) p-value: 0.6868\n",
      "Shapiro-Wilk 검정 (도입 후) p-value: 0.9130\n"
     ]
    }
   ],
   "source": [
    "shapiro_before = stats.shapiro(commute_before)  \n",
    "# 정규성 검정 함수\n",
    "\n",
    "shapiro_after = stats.shapiro(commute_after)  \n",
    "\n",
    "print(f\"Shapiro-Wilk 검정 (도입 전) p-value: {shapiro_before.pvalue:.4f}\")  \n",
    "print(f\"Shapiro-Wilk 검정 (도입 후) p-value: {shapiro_after.pvalue:.4f}\")  "
   ]
  },
  {
   "cell_type": "code",
   "execution_count": 6,
   "metadata": {},
   "outputs": [
    {
     "name": "stdout",
     "output_type": "stream",
     "text": [
      "대응표본 t-검정 t-통계량: 3.3503\n",
      "p-value: 0.0023\n"
     ]
    }
   ],
   "source": [
    "# 대응표본 t-검정 수행\n",
    "paired_t_stat, p_value = stats.ttest_rel(commute_before, commute_after)  \n",
    "# 대응표본 t-검정 함수 사용\n",
    "\n",
    "print(f\"대응표본 t-검정 t-통계량: {paired_t_stat:.4f}\")  \n",
    "print(f\"p-value: {p_value:.4f}\")  "
   ]
  }
 ],
 "metadata": {
  "kernelspec": {
   "display_name": "Python 3",
   "language": "python",
   "name": "python3"
  },
  "language_info": {
   "codemirror_mode": {
    "name": "ipython",
    "version": 3
   },
   "file_extension": ".py",
   "mimetype": "text/x-python",
   "name": "python",
   "nbconvert_exporter": "python",
   "pygments_lexer": "ipython3",
   "version": "3.11.9"
  }
 },
 "nbformat": 4,
 "nbformat_minor": 2
}
