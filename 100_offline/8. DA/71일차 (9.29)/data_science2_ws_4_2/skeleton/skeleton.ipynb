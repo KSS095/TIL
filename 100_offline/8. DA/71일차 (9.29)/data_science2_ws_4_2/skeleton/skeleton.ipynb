{
 "cells": [
  {
   "cell_type": "code",
   "execution_count": 16,
   "id": "d90c05c7",
   "metadata": {},
   "outputs": [
    {
     "name": "stdout",
     "output_type": "stream",
     "text": [
      "Requirement already satisfied: scikit-learn in c:\\users\\ssafy\\appdata\\local\\programs\\python\\python311\\lib\\site-packages (1.7.2)\n",
      "Requirement already satisfied: numpy>=1.22.0 in c:\\users\\ssafy\\appdata\\local\\programs\\python\\python311\\lib\\site-packages (from scikit-learn) (1.26.0)\n",
      "Requirement already satisfied: scipy>=1.8.0 in c:\\users\\ssafy\\appdata\\local\\programs\\python\\python311\\lib\\site-packages (from scikit-learn) (1.13.0)\n",
      "Requirement already satisfied: joblib>=1.2.0 in c:\\users\\ssafy\\appdata\\local\\programs\\python\\python311\\lib\\site-packages (from scikit-learn) (1.5.2)\n",
      "Requirement already satisfied: threadpoolctl>=3.1.0 in c:\\users\\ssafy\\appdata\\local\\programs\\python\\python311\\lib\\site-packages (from scikit-learn) (3.6.0)\n",
      "Note: you may need to restart the kernel to use updated packages.\n"
     ]
    },
    {
     "name": "stderr",
     "output_type": "stream",
     "text": [
      "\n",
      "[notice] A new release of pip is available: 24.0 -> 25.2\n",
      "[notice] To update, run: python.exe -m pip install --upgrade pip\n"
     ]
    }
   ],
   "source": [
    "%pip install scikit-learn\n",
    "# 필요한 라이브러리 불러오기\n",
    "# pandas: 엑셀 파일 데이터를 처리\n",
    "# numpy: 숫자 배열 처리\n",
    "import pandas as pd\n",
    "from sklearn.model_selection import train_test_split\n",
    "from sklearn.preprocessing import StandardScaler\n"
   ]
  },
  {
   "cell_type": "code",
   "execution_count": 17,
   "id": "0ee73957",
   "metadata": {},
   "outputs": [],
   "source": [
    "# 1. 교통 데이터셋 불러오기\n",
    "# 엑셀 파일을 읽어 pandas DataFrame으로 변환\n",
    "# sheet_name=0: 첫 번째 시트 사용\n",
    "# 엑셀을 읽기 위해 openpyxl 설치 필요: pip install openpyxl\n",
    "excel_file = '../data/weekday_traffic.xlsx'  # 파일 경로 설정\n",
    "data = pd.read_excel(excel_file, sheet_name=0)"
   ]
  },
  {
   "cell_type": "code",
   "execution_count": 18,
   "id": "e761ab64",
   "metadata": {},
   "outputs": [],
   "source": [
    "# 2. 라벨 전처리\n",
    "# '혼잡'이라는 컬럼은 범주형(0 또는 1)으로 표현됨\n",
    "# 정수형으로 변환해 정제된 형태로 사용\n",
    "data['혼잡'] = data['혼잡'].astype(int)"
   ]
  },
  {
   "cell_type": "code",
   "execution_count": 19,
   "id": "dfc0b299",
   "metadata": {},
   "outputs": [],
   "source": [
    "# 3. 특징(feature) 선택\n",
    "# 시간대별 교통량 데이터: '8시', '9시', '10시' 열만 선택\n",
    "features = data[['8시', '9시', '10시']].astype(float).values  # → NumPy 배열"
   ]
  },
  {
   "cell_type": "code",
   "execution_count": 20,
   "id": "3d239a56",
   "metadata": {},
   "outputs": [],
   "source": [
    "# 4. 라벨(label) 선택\n",
    "# 혼잡 여부를 예측 대상으로 설정\n",
    "labels = data['혼잡'].values  # → NumPy 배열"
   ]
  },
  {
   "cell_type": "code",
   "execution_count": 21,
   "id": "9633ef19",
   "metadata": {},
   "outputs": [],
   "source": [
    "# 5. 훈련/테스트 세트 분할\n",
    "# 전체 데이터를 80:20 비율로 분할\n",
    "# train_test_split은 무작위로 섞어 데이터를 나눔\n",
    "X_train, X_test, y_train, y_test = train_test_split(features, labels, test_size=0.2, random_state=42)"
   ]
  },
  {
   "cell_type": "code",
   "execution_count": 22,
   "id": "f88986db",
   "metadata": {},
   "outputs": [],
   "source": [
    "# 6. 특징 정규화 (스케일 조정)\n",
    "# 모델 학습에 도움을 주는 전처리 작업\n",
    "scaler = StandardScaler()\n",
    "X_train = scaler.fit_transform(X_train)\n",
    "X_test = scaler.transform(X_test)"
   ]
  },
  {
   "cell_type": "code",
   "execution_count": 23,
   "id": "1f59df61",
   "metadata": {},
   "outputs": [
    {
     "name": "stdout",
     "output_type": "stream",
     "text": [
      "정규화된 X_train 샘플:\n",
      "[[ 0.33882621  0.62227315  1.43154237]\n",
      " [-1.27198856 -0.97784449 -1.02955794]\n",
      " [ 0.45113659  0.9613617   1.47288102]\n",
      " [ 0.69792555  0.69434808  1.26793327]\n",
      " [ 1.11857049  0.54730662  1.19849237]]\n",
      "\n",
      "정규화된 X_test 샘플:\n",
      "[[-0.56283761 -0.66954169 -0.64846618]\n",
      " [ 0.17720402  0.79835729  0.95148208]\n",
      " [ 0.46466009  0.42416511  0.85104939]\n",
      " [-0.26350141 -1.19851115 -1.03077353]\n",
      " [ 0.14423941  1.32070938  0.88969885]]\n"
     ]
    }
   ],
   "source": [
    "# 정규화된 훈련 데이터 일부 출력\n",
    "# 처음 5개 샘플의 특징값을 출력합니다\n",
    "print(\"정규화된 X_train 샘플:\")\n",
    "print(X_train[:5])\n",
    "\n",
    "# 정규화된 테스트 데이터도 보고 싶을 경우\n",
    "print(\"\\n정규화된 X_test 샘플:\")\n",
    "print(X_test[:5])"
   ]
  },
  {
   "cell_type": "code",
   "execution_count": 24,
   "id": "e0d56225",
   "metadata": {},
   "outputs": [
    {
     "name": "stderr",
     "output_type": "stream",
     "text": [
      "c:\\Users\\SSAFY\\AppData\\Local\\Programs\\Python\\Python311\\Lib\\site-packages\\keras\\src\\layers\\core\\dense.py:92: UserWarning: Do not pass an `input_shape`/`input_dim` argument to a layer. When using Sequential models, prefer using an `Input(shape)` object as the first layer in the model instead.\n",
      "  super().__init__(activity_regularizer=activity_regularizer, **kwargs)\n"
     ]
    }
   ],
   "source": [
    "from tensorflow.keras.models import Sequential\n",
    "from tensorflow.keras.layers import Dense\n",
    "from tensorflow.keras.optimizers import SGD\n",
    "\n",
    "# 7. Sequential 모델 구성\n",
    "model = Sequential()\n",
    "model.add(Dense(8, input_dim=3, activation='relu'))  # 은닉층 (예: 뉴런 8개, ReLU 활성화)\n",
    "model.add(Dense(1, activation='sigmoid'))            # 출력층 (sigmoid 활성화)\n"
   ]
  },
  {
   "cell_type": "code",
   "execution_count": 25,
   "id": "599b5dcf",
   "metadata": {},
   "outputs": [],
   "source": [
    "# 8. 모델 컴파일\n",
    "model.compile(loss='binary_crossentropy',            # 이진 분류 손실 함수\n",
    "              optimizer=SGD(),     # SGD 옵티마이저\n",
    "              metrics=['accuracy'])                  # 성능 지표: 정확도"
   ]
  },
  {
   "cell_type": "code",
   "execution_count": 26,
   "id": "99e62040",
   "metadata": {},
   "outputs": [
    {
     "name": "stdout",
     "output_type": "stream",
     "text": [
      "Epoch 1/20\n",
      "\u001b[1m4/4\u001b[0m \u001b[32m━━━━━━━━━━━━━━━━━━━━\u001b[0m\u001b[37m\u001b[0m \u001b[1m0s\u001b[0m 6ms/step - accuracy: 0.6364 - loss: 0.6669  \n",
      "Epoch 2/20\n",
      "\u001b[1m4/4\u001b[0m \u001b[32m━━━━━━━━━━━━━━━━━━━━\u001b[0m\u001b[37m\u001b[0m \u001b[1m0s\u001b[0m 4ms/step - accuracy: 0.6970 - loss: 0.6611 \n",
      "Epoch 3/20\n",
      "\u001b[1m4/4\u001b[0m \u001b[32m━━━━━━━━━━━━━━━━━━━━\u001b[0m\u001b[37m\u001b[0m \u001b[1m0s\u001b[0m 5ms/step - accuracy: 0.6970 - loss: 0.6554 \n",
      "Epoch 4/20\n",
      "\u001b[1m4/4\u001b[0m \u001b[32m━━━━━━━━━━━━━━━━━━━━\u001b[0m\u001b[37m\u001b[0m \u001b[1m0s\u001b[0m 5ms/step - accuracy: 0.6970 - loss: 0.6490 \n",
      "Epoch 5/20\n",
      "\u001b[1m4/4\u001b[0m \u001b[32m━━━━━━━━━━━━━━━━━━━━\u001b[0m\u001b[37m\u001b[0m \u001b[1m0s\u001b[0m 5ms/step - accuracy: 0.6970 - loss: 0.6434 \n",
      "Epoch 6/20\n",
      "\u001b[1m4/4\u001b[0m \u001b[32m━━━━━━━━━━━━━━━━━━━━\u001b[0m\u001b[37m\u001b[0m \u001b[1m0s\u001b[0m 5ms/step - accuracy: 0.6970 - loss: 0.6386 \n",
      "Epoch 7/20\n",
      "\u001b[1m4/4\u001b[0m \u001b[32m━━━━━━━━━━━━━━━━━━━━\u001b[0m\u001b[37m\u001b[0m \u001b[1m0s\u001b[0m 4ms/step - accuracy: 0.6970 - loss: 0.6335 \n",
      "Epoch 8/20\n",
      "\u001b[1m4/4\u001b[0m \u001b[32m━━━━━━━━━━━━━━━━━━━━\u001b[0m\u001b[37m\u001b[0m \u001b[1m0s\u001b[0m 5ms/step - accuracy: 0.6970 - loss: 0.6283 \n",
      "Epoch 9/20\n",
      "\u001b[1m4/4\u001b[0m \u001b[32m━━━━━━━━━━━━━━━━━━━━\u001b[0m\u001b[37m\u001b[0m \u001b[1m0s\u001b[0m 5ms/step - accuracy: 0.6970 - loss: 0.6226 \n",
      "Epoch 10/20\n",
      "\u001b[1m4/4\u001b[0m \u001b[32m━━━━━━━━━━━━━━━━━━━━\u001b[0m\u001b[37m\u001b[0m \u001b[1m0s\u001b[0m 5ms/step - accuracy: 0.6970 - loss: 0.6177 \n",
      "Epoch 11/20\n",
      "\u001b[1m4/4\u001b[0m \u001b[32m━━━━━━━━━━━━━━━━━━━━\u001b[0m\u001b[37m\u001b[0m \u001b[1m0s\u001b[0m 5ms/step - accuracy: 0.6970 - loss: 0.6147 \n",
      "Epoch 12/20\n",
      "\u001b[1m4/4\u001b[0m \u001b[32m━━━━━━━━━━━━━━━━━━━━\u001b[0m\u001b[37m\u001b[0m \u001b[1m0s\u001b[0m 5ms/step - accuracy: 0.6970 - loss: 0.6103 \n",
      "Epoch 13/20\n",
      "\u001b[1m4/4\u001b[0m \u001b[32m━━━━━━━━━━━━━━━━━━━━\u001b[0m\u001b[37m\u001b[0m \u001b[1m0s\u001b[0m 5ms/step - accuracy: 0.7273 - loss: 0.6056 \n",
      "Epoch 14/20\n",
      "\u001b[1m4/4\u001b[0m \u001b[32m━━━━━━━━━━━━━━━━━━━━\u001b[0m\u001b[37m\u001b[0m \u001b[1m0s\u001b[0m 5ms/step - accuracy: 0.7576 - loss: 0.6004 \n",
      "Epoch 15/20\n",
      "\u001b[1m4/4\u001b[0m \u001b[32m━━━━━━━━━━━━━━━━━━━━\u001b[0m\u001b[37m\u001b[0m \u001b[1m0s\u001b[0m 5ms/step - accuracy: 0.7576 - loss: 0.5959 \n",
      "Epoch 16/20\n",
      "\u001b[1m4/4\u001b[0m \u001b[32m━━━━━━━━━━━━━━━━━━━━\u001b[0m\u001b[37m\u001b[0m \u001b[1m0s\u001b[0m 5ms/step - accuracy: 0.7879 - loss: 0.5912 \n",
      "Epoch 17/20\n",
      "\u001b[1m4/4\u001b[0m \u001b[32m━━━━━━━━━━━━━━━━━━━━\u001b[0m\u001b[37m\u001b[0m \u001b[1m0s\u001b[0m 5ms/step - accuracy: 0.7879 - loss: 0.5868 \n",
      "Epoch 18/20\n",
      "\u001b[1m4/4\u001b[0m \u001b[32m━━━━━━━━━━━━━━━━━━━━\u001b[0m\u001b[37m\u001b[0m \u001b[1m0s\u001b[0m 5ms/step - accuracy: 0.7879 - loss: 0.5840 \n",
      "Epoch 19/20\n",
      "\u001b[1m4/4\u001b[0m \u001b[32m━━━━━━━━━━━━━━━━━━━━\u001b[0m\u001b[37m\u001b[0m \u001b[1m0s\u001b[0m 5ms/step - accuracy: 0.8182 - loss: 0.5792 \n",
      "Epoch 20/20\n",
      "\u001b[1m4/4\u001b[0m \u001b[32m━━━━━━━━━━━━━━━━━━━━\u001b[0m\u001b[37m\u001b[0m \u001b[1m0s\u001b[0m 5ms/step - accuracy: 0.8182 - loss: 0.5752 \n",
      "테스트 손실: 0.5629\n",
      "테스트 정확도: 66.67%\n"
     ]
    }
   ],
   "source": [
    "# 9. 모델 학습 및 평가\n",
    "history = model.fit(X_train, y_train, epochs=20, batch_size=10, verbose=1)  # 학습\n",
    "loss, accuracy = model.evaluate(X_test, y_test, verbose=0)                  # 평가\n",
    "\n",
    "print(f\"테스트 손실: {loss:.4f}\")\n",
    "print(f\"테스트 정확도: {accuracy*100:.2f}%\")"
   ]
  }
 ],
 "metadata": {
  "kernelspec": {
   "display_name": "Python 3",
   "language": "python",
   "name": "python3"
  },
  "language_info": {
   "codemirror_mode": {
    "name": "ipython",
    "version": 3
   },
   "file_extension": ".py",
   "mimetype": "text/x-python",
   "name": "python",
   "nbconvert_exporter": "python",
   "pygments_lexer": "ipython3",
   "version": "3.11.9"
  }
 },
 "nbformat": 4,
 "nbformat_minor": 5
}
