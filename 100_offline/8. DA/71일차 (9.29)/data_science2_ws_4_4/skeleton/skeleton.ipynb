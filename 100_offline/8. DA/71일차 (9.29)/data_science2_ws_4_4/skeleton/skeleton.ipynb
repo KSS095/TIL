{
 "cells": [
  {
   "cell_type": "code",
   "execution_count": 1,
   "id": "7b391240-8276-4d47-b237-8dde6148552c",
   "metadata": {},
   "outputs": [],
   "source": [
    "import numpy as np\n",
    "import tensorflow as tf \n",
    "from tensorflow.keras.preprocessing.text import Tokenizer\n",
    "from tensorflow.keras.preprocessing.sequence import pad_sequences\n",
    "from tensorflow.keras.models import Sequential\n",
    "from tensorflow.keras.layers import Embedding, LSTM, Dense\n",
    "from tensorflow.keras.utils import to_categorical\n",
    "import matplotlib.pyplot as plt"
   ]
  },
  {
   "cell_type": "code",
   "execution_count": 2,
   "id": "7aac7946",
   "metadata": {},
   "outputs": [],
   "source": [
    "import numpy as np\n",
    "import random\n",
    "import os\n",
    "\n",
    "seed = 42\n",
    "np.random.seed(seed)\n",
    "tf.random.set_seed(seed)\n",
    "random.seed(seed)\n",
    "os.environ[\"PYTHONHASHSEED\"] = str(seed)\n"
   ]
  },
  {
   "cell_type": "code",
   "execution_count": 3,
   "id": "a80cd8ca-6a95-40e9-8fc0-8462f5bcf895",
   "metadata": {},
   "outputs": [],
   "source": [
    "# 1. 텍스트 데이터 불러오기\n",
    "# 'sherlock.txt' 파일은 셜록 홈즈 원문으로, 각 줄이 하나의 문장입니다. (data 폴더에 있습니다.)\n",
    "# 모든 문장을 소문자로 변환하여 처리의 일관성을 유지합니다.\n",
    "with open('../data/sherlock.txt', 'r', encoding='utf-8') as f:\n",
    "    text = f.read().lower()"
   ]
  },
  {
   "cell_type": "code",
   "execution_count": 4,
   "id": "5b1db4d4",
   "metadata": {},
   "outputs": [],
   "source": [
    "# 2. 문장 단위 분할\n",
    "# 줄바꿈 문자를 기준으로 문장을 나눕니다.\n",
    "sentences = text.split('\\n')"
   ]
  },
  {
   "cell_type": "code",
   "execution_count": 13,
   "id": "b70c3006-76d7-451b-a596-c56e6e7f5512",
   "metadata": {},
   "outputs": [],
   "source": [
    "# 3. 토크나이저 생성 및 학습\n",
    "# 텍스트 데이터를 단어 단위로 나누고, 각 단어에 고유 번호를 부여합니다.\n",
    "tokenizer = Tokenizer()\n",
    "tokenizer.fit_on_texts(sentences)\n",
    "total_words = len(tokenizer.word_index) + 1  # 전체 단어 수 (+1은 패딩을 고려)"
   ]
  },
  {
   "cell_type": "code",
   "execution_count": 18,
   "id": "89358216-37fc-46e8-bcbe-3bdd4d49a435",
   "metadata": {},
   "outputs": [],
   "source": [
    "# 4. n-gram 시퀀스 생성\n",
    "# 문장 내 단어들을 기반으로 [단어1, 단어2], [단어1, 단어2, 단어3], ... 등\n",
    "# 누적 시퀀스를 생성하여 다음 단어 예측 학습용 데이터로 만듭니다.\n",
    "input_sequences = []\n",
    "for line in sentences:\n",
    "    token_list = tokenizer.texts_to_sequences([line])[0]\n",
    "    for i in range(1, len(token_list)):\n",
    "        seq = token_list[:i + 1]\n",
    "        input_sequences.append(seq)\n",
    "\n",
    "# 너무 많은 데이터를 방지하기 위해 상한선 설정 (50,000개 시퀀스까지만)\n",
    "input_sequences = input_sequences[:50000]"
   ]
  },
  {
   "cell_type": "code",
   "execution_count": 19,
   "id": "dacf48a8",
   "metadata": {},
   "outputs": [],
   "source": [
    "# 5. 시퀀스 길이 통일: 가장 긴 시퀀스를 기준으로 앞쪽을 패딩합니다.\n",
    "max_seq_len = max(len(seq) for seq in input_sequences)\n",
    "input_sequences = pad_sequences(input_sequences, maxlen=max_seq_len, padding='pre')"
   ]
  },
  {
   "cell_type": "code",
   "execution_count": 20,
   "id": "3dd221ed",
   "metadata": {},
   "outputs": [],
   "source": [
    "# 6. 입력(X)과 정답(y) 분리\n",
    "# 마지막 단어는 예측 대상(y), 나머지는 입력 시퀀스(X)입니다.\n",
    "X = input_sequences[:, :-1]\n",
    "y = input_sequences[:, -1]  # sparse_categorical_crossentropy는 정수 라벨 그대로 사용 가능"
   ]
  },
  {
   "cell_type": "code",
   "execution_count": 25,
   "id": "e360a3a1",
   "metadata": {},
   "outputs": [
    {
     "name": "stderr",
     "output_type": "stream",
     "text": [
      "c:\\Users\\SSAFY\\AppData\\Local\\Programs\\Python\\Python311\\Lib\\site-packages\\keras\\src\\layers\\core\\embedding.py:97: UserWarning: Argument `input_length` is deprecated. Just remove it.\n",
      "  warnings.warn(\n"
     ]
    }
   ],
   "source": [
    "# 7. 모델 정의\n",
    "# - Embedding: 단어 ID를 고정 크기 밀집 벡터로 변환\n",
    "# - 시퀀스를 순차적으로 학습할 수 있는 개선된 모델 사용\n",
    "# - Dense: 전체 단어 중 정답 단어를 확률로 예측\n",
    "model = Sequential([\n",
    "    Embedding(input_dim=total_words, output_dim=50, input_length=max_seq_len-1),\n",
    "    LSTM(64), \n",
    "    Dense(total_words, activation='softmax')\n",
    "])"
   ]
  },
  {
   "cell_type": "code",
   "execution_count": 26,
   "id": "8c920c4b",
   "metadata": {},
   "outputs": [],
   "source": [
    "# 8. 모델 컴파일\n",
    "# 손실 함수: sparse_categorical_crossentropy (정수형 라벨 사용)\n",
    "# 옵티마이저: Adam (빠르고 안정적인 학습)\n",
    "model.compile(\n",
    "    loss='sparse_categorical_crossentropy', \n",
    "    optimizer='adam',\n",
    "    metrics=['accuracy']\n",
    "      )\n"
   ]
  },
  {
   "cell_type": "code",
   "execution_count": 27,
   "id": "898d5eeb",
   "metadata": {},
   "outputs": [
    {
     "name": "stdout",
     "output_type": "stream",
     "text": [
      "Epoch 1/10\n",
      "\u001b[1m391/391\u001b[0m \u001b[32m━━━━━━━━━━━━━━━━━━━━\u001b[0m\u001b[37m\u001b[0m \u001b[1m5s\u001b[0m 10ms/step - accuracy: 0.0475 - loss: 6.7024\n",
      "Epoch 2/10\n",
      "\u001b[1m391/391\u001b[0m \u001b[32m━━━━━━━━━━━━━━━━━━━━\u001b[0m\u001b[37m\u001b[0m \u001b[1m4s\u001b[0m 10ms/step - accuracy: 0.0497 - loss: 6.2001\n",
      "Epoch 3/10\n",
      "\u001b[1m391/391\u001b[0m \u001b[32m━━━━━━━━━━━━━━━━━━━━\u001b[0m\u001b[37m\u001b[0m \u001b[1m4s\u001b[0m 10ms/step - accuracy: 0.0546 - loss: 6.0895\n",
      "Epoch 4/10\n",
      "\u001b[1m391/391\u001b[0m \u001b[32m━━━━━━━━━━━━━━━━━━━━\u001b[0m\u001b[37m\u001b[0m \u001b[1m5s\u001b[0m 12ms/step - accuracy: 0.0614 - loss: 5.9835\n",
      "Epoch 5/10\n",
      "\u001b[1m391/391\u001b[0m \u001b[32m━━━━━━━━━━━━━━━━━━━━\u001b[0m\u001b[37m\u001b[0m \u001b[1m5s\u001b[0m 12ms/step - accuracy: 0.0688 - loss: 5.8903\n",
      "Epoch 6/10\n",
      "\u001b[1m391/391\u001b[0m \u001b[32m━━━━━━━━━━━━━━━━━━━━\u001b[0m\u001b[37m\u001b[0m \u001b[1m5s\u001b[0m 12ms/step - accuracy: 0.0773 - loss: 5.8023\n",
      "Epoch 7/10\n",
      "\u001b[1m391/391\u001b[0m \u001b[32m━━━━━━━━━━━━━━━━━━━━\u001b[0m\u001b[37m\u001b[0m \u001b[1m5s\u001b[0m 12ms/step - accuracy: 0.0874 - loss: 5.7051\n",
      "Epoch 8/10\n",
      "\u001b[1m391/391\u001b[0m \u001b[32m━━━━━━━━━━━━━━━━━━━━\u001b[0m\u001b[37m\u001b[0m \u001b[1m5s\u001b[0m 12ms/step - accuracy: 0.1006 - loss: 5.5893\n",
      "Epoch 9/10\n",
      "\u001b[1m391/391\u001b[0m \u001b[32m━━━━━━━━━━━━━━━━━━━━\u001b[0m\u001b[37m\u001b[0m \u001b[1m5s\u001b[0m 12ms/step - accuracy: 0.1104 - loss: 5.4743\n",
      "Epoch 10/10\n",
      "\u001b[1m391/391\u001b[0m \u001b[32m━━━━━━━━━━━━━━━━━━━━\u001b[0m\u001b[37m\u001b[0m \u001b[1m5s\u001b[0m 12ms/step - accuracy: 0.1209 - loss: 5.3723\n"
     ]
    }
   ],
   "source": [
    "# 9. 모델 학습\n",
    "# 적절한 에포크 수로 반복 학습 (시간 문제로 10 에포크 설정)\n",
    "history = model.fit(X, y, epochs=10, batch_size=128)"
   ]
  },
  {
   "cell_type": "code",
   "execution_count": 28,
   "id": "6423be79",
   "metadata": {},
   "outputs": [
    {
     "data": {
      "image/png": "[encoded data removed]",
      "text/plain": [
       "<Figure size 640x480 with 1 Axes>"
      ]
     },
     "metadata": {},
     "output_type": "display_data"
    }
   ],
   "source": [
    "# 10. 학습 결과 시각화\n",
    "plt.plot(history.history['loss'], label='Train Loss')\n",
    "plt.xlabel('Epoch')\n",
    "plt.ylabel('Value')\n",
    "plt.title('Training Loss')\n",
    "plt.legend()\n",
    "plt.show()\n"
   ]
  },
  {
   "cell_type": "code",
   "execution_count": 29,
   "id": "3f02d860",
   "metadata": {},
   "outputs": [],
   "source": [
    "# 11. 다음 단어 예측 함수 정의\n",
    "# 주어진 문장을 입력하면 다음에 올 단어를 예측합니다.\n",
    "def predict_next_word(model, tokenizer, text):\n",
    "    # 입력 텍스트를 시퀀스로 변환\n",
    "    token_list = tokenizer.texts_to_sequences([text])[0]\n",
    "    # 모델 입력 형태에 맞게 패딩\n",
    "    token_list = pad_sequences([token_list], maxlen=max_seq_len-1, padding='pre')\n",
    "    # 예측 확률 계산\n",
    "    pred = model.predict(token_list, verbose=0)\n",
    "    # 가장 높은 확률의 인덱스 선택\n",
    "    next_index = np.argmax(pred)\n",
    "    # 인덱스를 단어로 변환하여 반환\n",
    "    return tokenizer.index_word.get(next_index, '[UNK]')"
   ]
  },
  {
   "cell_type": "code",
   "execution_count": 30,
   "id": "c900b54d",
   "metadata": {},
   "outputs": [
    {
     "name": "stdout",
     "output_type": "stream",
     "text": [
      "the detective was → a\n",
      "he looked at → the\n",
      "it was a → man\n",
      "the room was → a\n"
     ]
    }
   ],
   "source": [
    "# 12. 예측 테스트\n",
    "# 임의의 문장을 넣고 그 다음에 나올 단어를 예측해봅니다.\n",
    "test_phrases = [\n",
    "    \"the detective was\",\n",
    "    \"he looked at\",\n",
    "    \"it was a\",\n",
    "    \"the room was\"\n",
    "]\n",
    "\n",
    "for phrase in test_phrases:\n",
    "    predicted = predict_next_word(model, tokenizer, phrase)\n",
    "    print(f\"{phrase} → {predicted}\")"
   ]
  },
  {
   "cell_type": "code",
   "execution_count": null,
   "id": "2bd1aeab",
   "metadata": {},
   "outputs": [],
   "source": []
  }
 ],
 "metadata": {
  "kernelspec": {
   "display_name": "Python 3",
   "language": "python",
   "name": "python3"
  },
  "language_info": {
   "codemirror_mode": {
    "name": "ipython",
    "version": 3
   },
   "file_extension": ".py",
   "mimetype": "text/x-python",
   "name": "python",
   "nbconvert_exporter": "python",
   "pygments_lexer": "ipython3",
   "version": "3.11.9"
  }
 },
 "nbformat": 4,
 "nbformat_minor": 5
}
