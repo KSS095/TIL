{
 "cells": [
  {
   "cell_type": "code",
   "execution_count": 30,
   "id": "e02c905c",
   "metadata": {},
   "outputs": [
    {
     "name": "stdout",
     "output_type": "stream",
     "text": [
      "Requirement already satisfied: langchain in c:\\users\\ssafy\\appdata\\local\\programs\\python\\python311\\lib\\site-packages (0.3.27)\n",
      "Requirement already satisfied: langchain-openai in c:\\users\\ssafy\\appdata\\local\\programs\\python\\python311\\lib\\site-packages (0.3.33)\n",
      "Requirement already satisfied: langchain-core<1.0.0,>=0.3.72 in c:\\users\\ssafy\\appdata\\local\\programs\\python\\python311\\lib\\site-packages (from langchain) (0.3.76)\n",
      "Requirement already satisfied: langchain-text-splitters<1.0.0,>=0.3.9 in c:\\users\\ssafy\\appdata\\local\\programs\\python\\python311\\lib\\site-packages (from langchain) (0.3.11)\n",
      "Requirement already satisfied: langsmith>=0.1.17 in c:\\users\\ssafy\\appdata\\local\\programs\\python\\python311\\lib\\site-packages (from langchain) (0.4.31)\n",
      "Requirement already satisfied: pydantic<3.0.0,>=2.7.4 in c:\\users\\ssafy\\appdata\\local\\programs\\python\\python311\\lib\\site-packages (from langchain) (2.11.7)\n",
      "Requirement already satisfied: SQLAlchemy<3,>=1.4 in c:\\users\\ssafy\\appdata\\local\\programs\\python\\python311\\lib\\site-packages (from langchain) (2.0.43)\n",
      "Requirement already satisfied: requests<3,>=2 in c:\\users\\ssafy\\appdata\\local\\programs\\python\\python311\\lib\\site-packages (from langchain) (2.32.5)\n",
      "Requirement already satisfied: PyYAML>=5.3 in c:\\users\\ssafy\\appdata\\local\\programs\\python\\python311\\lib\\site-packages (from langchain) (6.0.3)\n",
      "Requirement already satisfied: openai<2.0.0,>=1.104.2 in c:\\users\\ssafy\\appdata\\local\\programs\\python\\python311\\lib\\site-packages (from langchain-openai) (1.109.1)\n",
      "Requirement already satisfied: tiktoken<1,>=0.7 in c:\\users\\ssafy\\appdata\\local\\programs\\python\\python311\\lib\\site-packages (from langchain-openai) (0.9.0)\n",
      "Requirement already satisfied: tenacity!=8.4.0,<10.0.0,>=8.1.0 in c:\\users\\ssafy\\appdata\\local\\programs\\python\\python311\\lib\\site-packages (from langchain-core<1.0.0,>=0.3.72->langchain) (9.1.2)\n",
      "Requirement already satisfied: jsonpatch<2.0,>=1.33 in c:\\users\\ssafy\\appdata\\local\\programs\\python\\python311\\lib\\site-packages (from langchain-core<1.0.0,>=0.3.72->langchain) (1.33)\n",
      "Requirement already satisfied: typing-extensions>=4.7 in c:\\users\\ssafy\\appdata\\roaming\\python\\python311\\site-packages (from langchain-core<1.0.0,>=0.3.72->langchain) (4.14.1)\n",
      "Requirement already satisfied: packaging>=23.2 in c:\\users\\ssafy\\appdata\\roaming\\python\\python311\\site-packages (from langchain-core<1.0.0,>=0.3.72->langchain) (25.0)\n",
      "Requirement already satisfied: httpx<1,>=0.23.0 in c:\\users\\ssafy\\appdata\\local\\programs\\python\\python311\\lib\\site-packages (from langsmith>=0.1.17->langchain) (0.28.1)\n",
      "Requirement already satisfied: orjson>=3.9.14 in c:\\users\\ssafy\\appdata\\local\\programs\\python\\python311\\lib\\site-packages (from langsmith>=0.1.17->langchain) (3.11.3)\n",
      "Requirement already satisfied: requests-toolbelt>=1.0.0 in c:\\users\\ssafy\\appdata\\local\\programs\\python\\python311\\lib\\site-packages (from langsmith>=0.1.17->langchain) (1.0.0)\n",
      "Requirement already satisfied: zstandard>=0.23.0 in c:\\users\\ssafy\\appdata\\local\\programs\\python\\python311\\lib\\site-packages (from langsmith>=0.1.17->langchain) (0.25.0)\n",
      "Requirement already satisfied: anyio<5,>=3.5.0 in c:\\users\\ssafy\\appdata\\local\\programs\\python\\python311\\lib\\site-packages (from openai<2.0.0,>=1.104.2->langchain-openai) (4.9.0)\n",
      "Requirement already satisfied: distro<2,>=1.7.0 in c:\\users\\ssafy\\appdata\\local\\programs\\python\\python311\\lib\\site-packages (from openai<2.0.0,>=1.104.2->langchain-openai) (1.9.0)\n",
      "Requirement already satisfied: jiter<1,>=0.4.0 in c:\\users\\ssafy\\appdata\\local\\programs\\python\\python311\\lib\\site-packages (from openai<2.0.0,>=1.104.2->langchain-openai) (0.10.0)\n",
      "Requirement already satisfied: sniffio in c:\\users\\ssafy\\appdata\\local\\programs\\python\\python311\\lib\\site-packages (from openai<2.0.0,>=1.104.2->langchain-openai) (1.3.1)\n",
      "Requirement already satisfied: tqdm>4 in c:\\users\\ssafy\\appdata\\local\\programs\\python\\python311\\lib\\site-packages (from openai<2.0.0,>=1.104.2->langchain-openai) (4.67.1)\n",
      "Requirement already satisfied: annotated-types>=0.6.0 in c:\\users\\ssafy\\appdata\\local\\programs\\python\\python311\\lib\\site-packages (from pydantic<3.0.0,>=2.7.4->langchain) (0.7.0)\n",
      "Requirement already satisfied: pydantic-core==2.33.2 in c:\\users\\ssafy\\appdata\\local\\programs\\python\\python311\\lib\\site-packages (from pydantic<3.0.0,>=2.7.4->langchain) (2.33.2)\n",
      "Requirement already satisfied: typing-inspection>=0.4.0 in c:\\users\\ssafy\\appdata\\local\\programs\\python\\python311\\lib\\site-packages (from pydantic<3.0.0,>=2.7.4->langchain) (0.4.1)\n",
      "Requirement already satisfied: charset_normalizer<4,>=2 in c:\\users\\ssafy\\appdata\\local\\programs\\python\\python311\\lib\\site-packages (from requests<3,>=2->langchain) (3.4.2)\n",
      "Requirement already satisfied: idna<4,>=2.5 in c:\\users\\ssafy\\appdata\\local\\programs\\python\\python311\\lib\\site-packages (from requests<3,>=2->langchain) (3.10)\n",
      "Requirement already satisfied: urllib3<3,>=1.21.1 in c:\\users\\ssafy\\appdata\\local\\programs\\python\\python311\\lib\\site-packages (from requests<3,>=2->langchain) (2.5.0)\n",
      "Requirement already satisfied: certifi>=2017.4.17 in c:\\users\\ssafy\\appdata\\local\\programs\\python\\python311\\lib\\site-packages (from requests<3,>=2->langchain) (2025.7.14)\n",
      "Requirement already satisfied: greenlet>=1 in c:\\users\\ssafy\\appdata\\local\\programs\\python\\python311\\lib\\site-packages (from SQLAlchemy<3,>=1.4->langchain) (3.2.4)\n",
      "Requirement already satisfied: regex>=2022.1.18 in c:\\users\\ssafy\\appdata\\local\\programs\\python\\python311\\lib\\site-packages (from tiktoken<1,>=0.7->langchain-openai) (2024.11.6)\n",
      "Requirement already satisfied: httpcore==1.* in c:\\users\\ssafy\\appdata\\local\\programs\\python\\python311\\lib\\site-packages (from httpx<1,>=0.23.0->langsmith>=0.1.17->langchain) (1.0.9)\n",
      "Requirement already satisfied: h11>=0.16 in c:\\users\\ssafy\\appdata\\local\\programs\\python\\python311\\lib\\site-packages (from httpcore==1.*->httpx<1,>=0.23.0->langsmith>=0.1.17->langchain) (0.16.0)\n",
      "Requirement already satisfied: jsonpointer>=1.9 in c:\\users\\ssafy\\appdata\\local\\programs\\python\\python311\\lib\\site-packages (from jsonpatch<2.0,>=1.33->langchain-core<1.0.0,>=0.3.72->langchain) (3.0.0)\n",
      "Requirement already satisfied: colorama in c:\\users\\ssafy\\appdata\\roaming\\python\\python311\\site-packages (from tqdm>4->openai<2.0.0,>=1.104.2->langchain-openai) (0.4.6)\n",
      "Note: you may need to restart the kernel to use updated packages.\n"
     ]
    },
    {
     "name": "stderr",
     "output_type": "stream",
     "text": [
      "\n",
      "[notice] A new release of pip is available: 24.0 -> 25.2\n",
      "[notice] To update, run: python.exe -m pip install --upgrade pip\n"
     ]
    }
   ],
   "source": [
    "%pip install -U langchain langchain-openai\n",
    "\n",
    "from langchain.prompts import PromptTemplate  # LangChain의 프롬프트 템플릿 모듈\n",
    "from langchain_openai import ChatOpenAI  # OpenAI의 챗봇 모델을 사용하기 위한 모듈\n",
    "from langchain.schema import StrOutputParser  # 모델의 출력을 문자열로 변환하는 모듈\n",
    "from langchain.schema.runnable import RunnablePassthrough  # 데이터 변환 없이 그대로 전달하는 모듈\n",
    "import os  # 환경 변수 설정을 위한 모듈"
   ]
  },
  {
   "cell_type": "code",
   "execution_count": null,
   "id": "baf2e6b0",
   "metadata": {},
   "outputs": [],
   "source": [
    "from dotenv import load_dotenv\n",
    "\n",
    "load_dotenv()  # .env 파일 로드\n",
    "api_key = os.getenv(\"OPENAI_API_KEY\")\n"
   ]
  },
  {
   "cell_type": "code",
   "execution_count": 32,
   "id": "c0a2dc34",
   "metadata": {},
   "outputs": [],
   "source": [
    "# 여행 가이드 챗봇 프롬프트 템플릿 설정\n",
    "tour_guide_template = \"\"\"\n",
    "당신은 여행을 좋아하는 10년차 여행 가이드입니다.\n",
    "사용자가 입력한 여행 국가와 도시에 맞춰 3일간의 가상 여행 계획을 작성해주세요.\n",
    "반드시 아래 FORMAT에 맞춰 작성하세요.\n",
    "\n",
    "#상황:\n",
    "{question}\n",
    "\n",
    "#FORMAT:\n",
    "- Day1: \n",
    "- Day2: \n",
    "- Day3: \n",
    "\"\"\""
   ]
  },
  {
   "cell_type": "code",
   "execution_count": 33,
   "id": "c315bbf2",
   "metadata": {},
   "outputs": [],
   "source": [
    "# 사용자로부터 여행 국가와 도시를 입력받음\n",
    "country = input(\"여행 국가를 입력하세요: \")  # 예: \"프랑스\"\n",
    "city = input(\"여행 도시를 입력하세요: \")  # 예: \"파리\""
   ]
  },
  {
   "cell_type": "code",
   "execution_count": 34,
   "id": "bd424777",
   "metadata": {},
   "outputs": [],
   "source": [
    "# 입력받은 국가와 도시를 하나의 문자열로 구성\n",
    "# 입력값을 포맷에 맞춰 문자열로 변환\n",
    "user_input = f\"여행 국가: {country}, 여행 도시: {city}\"  # \"여행 국가: <국가>, 여행 도시: <도시>\" 형식으로 만들어야 함"
   ]
  },
  {
   "cell_type": "code",
   "execution_count": 35,
   "id": "230b4385",
   "metadata": {},
   "outputs": [],
   "source": [
    "# LangChain의 프롬프트 템플릿을 적용하여 사용자 입력을 프롬프트에 반영\n",
    "prompt = PromptTemplate.from_template(user_input)  # 프롬프트 템플릿을 이용하여 객체 생성"
   ]
  },
  {
   "cell_type": "code",
   "execution_count": null,
   "id": "c705790d",
   "metadata": {},
   "outputs": [],
   "source": [
    "# OpenAI의 GPT-4o-mini 모델을 활용하여 여행 일정 생성\n",
    "model = ChatOpenAI(model_name=\"gpt-5-nano\")  # OpenAI의 GPT-4o-mini 모델 사용 (gpt-5-nano 모델 사용 가능한 api key 였음)"
   ]
  },
  {
   "cell_type": "code",
   "execution_count": 37,
   "id": "3fbb6e3d",
   "metadata": {},
   "outputs": [],
   "source": [
    "# 모델의 출력을 문자열로 변환하는 파서 (결과 데이터를 가공 없이 그대로 출력할 수 있도록 설정)\n",
    "output_parser = StrOutputParser()  # 모델 결과를 문자열로 변환하는 파서"
   ]
  },
  {
   "cell_type": "code",
   "execution_count": 47,
   "id": "be103730",
   "metadata": {},
   "outputs": [],
   "source": [
    "# 체인 구성: \n",
    "# 1. 사용자 입력값을 그대로 전달 (RunnablePassthrough)\n",
    "# 2. 프롬프트 템플릿 적용\n",
    "# 3. OpenAI 모델을 실행하여 답변 생성\n",
    "# 4. 생성된 답변을 문자열로 변환하여 반환\n",
    "# 체인 구성: 사용자 입력 → 변환(RunnablePassthrough) → 프롬프트 적용 → 모델 실행 → 출력 변환\n",
    "chain = { \"question\": RunnablePassthrough() } | prompt | model | output_parser"
   ]
  },
  {
   "cell_type": "code",
   "execution_count": 48,
   "id": "11d79f3b",
   "metadata": {},
   "outputs": [],
   "source": [
    "# 체인을 실행하여 여행 계획을 생성\n",
    "# 사용자가 입력한 국가와 도시 정보를 `question` 키에 매핑하여 전달\n",
    "answer = chain.invoke({\"question\": user_input})  # 체인을 실행하고 결과를 가져옴"
   ]
  },
  {
   "cell_type": "code",
   "execution_count": 49,
   "id": "e32612ac",
   "metadata": {},
   "outputs": [
    {
     "name": "stdout",
     "output_type": "stream",
     "text": [
      "\n",
      "[여행 계획]\n",
      "좋아요! 프랑스 파리 여행을 잘 준비하시도록 도와드릴게요. 원하시는 일정, 예산, 관심사, 방문 날짜를 알려주시면 더 맞춤형으로 만들어 드리겠습니다. 우선 기본 가이드와 간단한 샘플 코스를 드려요.\n",
      "\n",
      "기본 팁\n",
      "- 핵심 명소: 루브르 박물관, 에펠탑, 몽마르트르의 사크레쾨르 대성당, 오르세 미술관, 센강 크루즈, 노트르담 주변(외관 관람 가능), 샤를리 드 모나코? (정확히는 생제르맹-데-쁘) 등.\n",
      "- 동선 팁: 파리는 도보 + 지하철이 편리합니다. 가능하면 하루에 1~2곳으로 집중하고, 미리 티켓 온라인 예매를 권장합니다(대부분의 인기 미술관은 시간대 입장권이 필요).\n",
      "- 교통: 지하철/버스/RER 이용. 관광객용 패스도 있지만 일정에 맞춰 티켓을 구입하는 편이 낫습니다. 카드 결제 널리 사용.\n",
      "- 식사 팁: 빵집(바게트, 크루아상), 카페에서의 커피와 크루아상, 크레페, 샤퀴테리와 치즈, 와인도 즐기기 좋습니다.\n",
      "- 안전: 피크 시간대 관광지에서 소지품 분실 주의. 좁은 골목이나 인적이 드문 곳은 야간에는 주의.\n",
      "- 계절: 봄/가을은 방문하기 좋고, 여름은 야외 활동과 인파가 많습니다. 겨울은 크리스마스 기간 빼고 한산한 편.\n",
      "\n",
      "샘플 코스\n",
      "- 3일 클래식 코스\n",
      "  - 1일차: 루브르 박물관(오전), 튈르리 정원 산책, 오르세 미술관 방문, 센 강 야경 크루즈(저녁)\n",
      "  - 2일차: Île de la Cité의 Sainte-Chapelle과 Conciergerie 방문, 노트르담 외관 감상(대부분 복구로 내부 관람은 제한될 수 있음), 몽마르트르 언덕과 사크레쾨르 대성당 방문, 몽마르트르 골목 산책\n",
      "  - 3일차: 에펠탑 조망 후 샤를 드 골샤넬 거리(샹젤리제)와 개선문 방문, 센강가 산책\n",
      "- 4–5일 여유 코스\n",
      "  - 1일차: 루브르 + 튈르리 정원 + 세느 강 크루즈\n",
      "  - 2일차: Île Saint-Louis 포함 센느 강 마을 분위기, 마레 지역 산책(콘시엘유지)\n",
      "  - 3일차: 몽마르트르 및 피나토몰(예술적 분위기) 방문\n",
      "  - 4일차: 베르사유 궁전 당일치기\n",
      "  - 5일차: 마레 지구 쇼핑/카페 문화 체험 + 센강 보트 투어 또는 Centre Pompidou/루브르 인근 추가 방문\n",
      "\n",
      "지역별 추천 동네\n",
      "- 마레(Marais): 고급스러운 분위기, 작은 바와 카페, 쇼핑. 도보로 주요 명소 접근성 좋음.\n",
      "- 라틴 구역(Latin Quarter): 학구적이고 분위기 좋은 골목, 대학가 분위기, 저렴한 레스토랑이 많음.\n",
      "- 생제르맹 데 프레(Saint-Germain-des-Prés): 세련된 카페, 예술과 패션 분위기.\n",
      "- 몽마르트르(Montmartre): 예술적 분위기, 좁은 골목과 전망 전망대, 사진 찍기 좋음.\n",
      "- 에펠탑 인근/샤틀레-루브르 인근: 관광 편의성 높지만 가격대가 다소 높은 편.\n",
      "\n",
      "체크리스트(출발 전 준비)\n",
      "- 방문 날짜에 맞춘 티켓 예매: 루브르, 오르세, 베르사유 등 인기 곳은 사전 예매 권장.\n",
      "- 숙소 위치: 교통의 편리성(지하철역 근처)과 다툼이 적은 동네를 추천.\n",
      "- 예산 계획: 식사비, 기념품, 교통비를 포함한 하루 예산을 미리 설정.\n",
      "- 짧은 회화 표현: 현지에서 도움 필요 시 사용할 간단한 프랑스어 인사말/표현 준비.\n",
      "- 비자/여권: 체류 기간에 따른 비자 필요 여부 확인. 유럽 연합 여권 소지 여부에 따라 절차가 다를 수 있음.\n",
      "\n",
      "다음 단계\n",
      "- 방문 기간, 체류 일수, 예산, 관심사(예: 미술 중심, 음식 탐방, 쇼핑, 야간 활동) 알려주시면 1) 맞춤 일정 표 2) 하루별 동선 및 소요 시간 3) 필요 시 예약 팁(티켓/식당)을 구체적으로 제안해 드릴게요.\n",
      "- 예를 들어: \"5일 간, 미술과 음식에 초점을 맞추고, 숙소는 센 강 인근, 예산 중간 정도\"처럼 구체적으로 적어 주세요.\n",
      "\n",
      "어떤 정보부터 먼저 드릴까요? 방문 날짜와 체류 기간, 관심사, 예산 범위를 알려주시면 바로 맞춤 계획을 만들어 드릴게요.\n"
     ]
    }
   ],
   "source": [
    "# 생성된 여행 계획 출력\n",
    "print(\"\\n[여행 계획]\")  # 여행 계획 제목 출력\n",
    "print(answer)  # 모델이 생성한 여행 계획 출력"
   ]
  }
 ],
 "metadata": {
  "kernelspec": {
   "display_name": "Python 3",
   "language": "python",
   "name": "python3"
  },
  "language_info": {
   "codemirror_mode": {
    "name": "ipython",
    "version": 3
   },
   "file_extension": ".py",
   "mimetype": "text/x-python",
   "name": "python",
   "nbconvert_exporter": "python",
   "pygments_lexer": "ipython3",
   "version": "3.11.9"
  }
 },
 "nbformat": 4,
 "nbformat_minor": 5
}
