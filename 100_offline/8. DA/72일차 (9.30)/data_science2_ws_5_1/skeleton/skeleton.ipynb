{
 "cells": [
  {
   "cell_type": "code",
   "execution_count": 1,
   "id": "e02c905c",
   "metadata": {},
   "outputs": [
    {
     "name": "stdout",
     "output_type": "stream",
     "text": [
      "Requirement already satisfied: langchain in c:\\users\\ssafy\\appdata\\local\\programs\\python\\python311\\lib\\site-packages (0.3.27)\n",
      "Requirement already satisfied: langchain-openai in c:\\users\\ssafy\\appdata\\local\\programs\\python\\python311\\lib\\site-packages (0.3.33)\n",
      "Requirement already satisfied: langchain-core<1.0.0,>=0.3.72 in c:\\users\\ssafy\\appdata\\local\\programs\\python\\python311\\lib\\site-packages (from langchain) (0.3.76)\n",
      "Requirement already satisfied: langchain-text-splitters<1.0.0,>=0.3.9 in c:\\users\\ssafy\\appdata\\local\\programs\\python\\python311\\lib\\site-packages (from langchain) (0.3.11)\n",
      "Requirement already satisfied: langsmith>=0.1.17 in c:\\users\\ssafy\\appdata\\local\\programs\\python\\python311\\lib\\site-packages (from langchain) (0.4.31)\n",
      "Requirement already satisfied: pydantic<3.0.0,>=2.7.4 in c:\\users\\ssafy\\appdata\\local\\programs\\python\\python311\\lib\\site-packages (from langchain) (2.11.7)\n",
      "Requirement already satisfied: SQLAlchemy<3,>=1.4 in c:\\users\\ssafy\\appdata\\local\\programs\\python\\python311\\lib\\site-packages (from langchain) (2.0.43)\n",
      "Requirement already satisfied: requests<3,>=2 in c:\\users\\ssafy\\appdata\\local\\programs\\python\\python311\\lib\\site-packages (from langchain) (2.32.5)\n",
      "Requirement already satisfied: PyYAML>=5.3 in c:\\users\\ssafy\\appdata\\local\\programs\\python\\python311\\lib\\site-packages (from langchain) (6.0.3)\n",
      "Requirement already satisfied: openai<2.0.0,>=1.104.2 in c:\\users\\ssafy\\appdata\\local\\programs\\python\\python311\\lib\\site-packages (from langchain-openai) (1.109.1)\n",
      "Requirement already satisfied: tiktoken<1,>=0.7 in c:\\users\\ssafy\\appdata\\local\\programs\\python\\python311\\lib\\site-packages (from langchain-openai) (0.9.0)\n",
      "Requirement already satisfied: tenacity!=8.4.0,<10.0.0,>=8.1.0 in c:\\users\\ssafy\\appdata\\local\\programs\\python\\python311\\lib\\site-packages (from langchain-core<1.0.0,>=0.3.72->langchain) (9.1.2)\n",
      "Requirement already satisfied: jsonpatch<2.0,>=1.33 in c:\\users\\ssafy\\appdata\\local\\programs\\python\\python311\\lib\\site-packages (from langchain-core<1.0.0,>=0.3.72->langchain) (1.33)\n",
      "Requirement already satisfied: typing-extensions>=4.7 in c:\\users\\ssafy\\appdata\\roaming\\python\\python311\\site-packages (from langchain-core<1.0.0,>=0.3.72->langchain) (4.14.1)\n",
      "Requirement already satisfied: packaging>=23.2 in c:\\users\\ssafy\\appdata\\roaming\\python\\python311\\site-packages (from langchain-core<1.0.0,>=0.3.72->langchain) (25.0)\n",
      "Requirement already satisfied: httpx<1,>=0.23.0 in c:\\users\\ssafy\\appdata\\local\\programs\\python\\python311\\lib\\site-packages (from langsmith>=0.1.17->langchain) (0.28.1)\n",
      "Requirement already satisfied: orjson>=3.9.14 in c:\\users\\ssafy\\appdata\\local\\programs\\python\\python311\\lib\\site-packages (from langsmith>=0.1.17->langchain) (3.11.3)\n",
      "Requirement already satisfied: requests-toolbelt>=1.0.0 in c:\\users\\ssafy\\appdata\\local\\programs\\python\\python311\\lib\\site-packages (from langsmith>=0.1.17->langchain) (1.0.0)\n",
      "Requirement already satisfied: zstandard>=0.23.0 in c:\\users\\ssafy\\appdata\\local\\programs\\python\\python311\\lib\\site-packages (from langsmith>=0.1.17->langchain) (0.25.0)\n",
      "Requirement already satisfied: anyio<5,>=3.5.0 in c:\\users\\ssafy\\appdata\\local\\programs\\python\\python311\\lib\\site-packages (from openai<2.0.0,>=1.104.2->langchain-openai) (4.9.0)\n",
      "Requirement already satisfied: distro<2,>=1.7.0 in c:\\users\\ssafy\\appdata\\local\\programs\\python\\python311\\lib\\site-packages (from openai<2.0.0,>=1.104.2->langchain-openai) (1.9.0)\n",
      "Requirement already satisfied: jiter<1,>=0.4.0 in c:\\users\\ssafy\\appdata\\local\\programs\\python\\python311\\lib\\site-packages (from openai<2.0.0,>=1.104.2->langchain-openai) (0.10.0)\n",
      "Requirement already satisfied: sniffio in c:\\users\\ssafy\\appdata\\local\\programs\\python\\python311\\lib\\site-packages (from openai<2.0.0,>=1.104.2->langchain-openai) (1.3.1)\n",
      "Requirement already satisfied: tqdm>4 in c:\\users\\ssafy\\appdata\\local\\programs\\python\\python311\\lib\\site-packages (from openai<2.0.0,>=1.104.2->langchain-openai) (4.67.1)\n",
      "Requirement already satisfied: annotated-types>=0.6.0 in c:\\users\\ssafy\\appdata\\local\\programs\\python\\python311\\lib\\site-packages (from pydantic<3.0.0,>=2.7.4->langchain) (0.7.0)\n",
      "Requirement already satisfied: pydantic-core==2.33.2 in c:\\users\\ssafy\\appdata\\local\\programs\\python\\python311\\lib\\site-packages (from pydantic<3.0.0,>=2.7.4->langchain) (2.33.2)\n",
      "Requirement already satisfied: typing-inspection>=0.4.0 in c:\\users\\ssafy\\appdata\\local\\programs\\python\\python311\\lib\\site-packages (from pydantic<3.0.0,>=2.7.4->langchain) (0.4.1)\n",
      "Requirement already satisfied: charset_normalizer<4,>=2 in c:\\users\\ssafy\\appdata\\local\\programs\\python\\python311\\lib\\site-packages (from requests<3,>=2->langchain) (3.4.2)\n",
      "Requirement already satisfied: idna<4,>=2.5 in c:\\users\\ssafy\\appdata\\local\\programs\\python\\python311\\lib\\site-packages (from requests<3,>=2->langchain) (3.10)\n",
      "Requirement already satisfied: urllib3<3,>=1.21.1 in c:\\users\\ssafy\\appdata\\local\\programs\\python\\python311\\lib\\site-packages (from requests<3,>=2->langchain) (2.5.0)\n",
      "Requirement already satisfied: certifi>=2017.4.17 in c:\\users\\ssafy\\appdata\\local\\programs\\python\\python311\\lib\\site-packages (from requests<3,>=2->langchain) (2025.7.14)\n",
      "Requirement already satisfied: greenlet>=1 in c:\\users\\ssafy\\appdata\\local\\programs\\python\\python311\\lib\\site-packages (from SQLAlchemy<3,>=1.4->langchain) (3.2.4)\n",
      "Requirement already satisfied: regex>=2022.1.18 in c:\\users\\ssafy\\appdata\\local\\programs\\python\\python311\\lib\\site-packages (from tiktoken<1,>=0.7->langchain-openai) (2024.11.6)\n",
      "Requirement already satisfied: httpcore==1.* in c:\\users\\ssafy\\appdata\\local\\programs\\python\\python311\\lib\\site-packages (from httpx<1,>=0.23.0->langsmith>=0.1.17->langchain) (1.0.9)\n",
      "Requirement already satisfied: h11>=0.16 in c:\\users\\ssafy\\appdata\\local\\programs\\python\\python311\\lib\\site-packages (from httpcore==1.*->httpx<1,>=0.23.0->langsmith>=0.1.17->langchain) (0.16.0)\n",
      "Requirement already satisfied: jsonpointer>=1.9 in c:\\users\\ssafy\\appdata\\local\\programs\\python\\python311\\lib\\site-packages (from jsonpatch<2.0,>=1.33->langchain-core<1.0.0,>=0.3.72->langchain) (3.0.0)\n",
      "Requirement already satisfied: colorama in c:\\users\\ssafy\\appdata\\roaming\\python\\python311\\site-packages (from tqdm>4->openai<2.0.0,>=1.104.2->langchain-openai) (0.4.6)\n",
      "Note: you may need to restart the kernel to use updated packages.\n"
     ]
    },
    {
     "name": "stderr",
     "output_type": "stream",
     "text": [
      "\n",
      "[notice] A new release of pip is available: 24.0 -> 25.2\n",
      "[notice] To update, run: python.exe -m pip install --upgrade pip\n"
     ]
    }
   ],
   "source": [
    "%pip install -U langchain langchain-openai\n",
    "\n",
    "from langchain.prompts import PromptTemplate  # LangChain의 프롬프트 템플릿 모듈\n",
    "from langchain_openai import ChatOpenAI  # OpenAI의 챗봇 모델을 사용하기 위한 모듈\n",
    "from langchain.schema import StrOutputParser  # 모델의 출력을 문자열로 변환하는 모듈\n",
    "from langchain.schema.runnable import RunnablePassthrough  # 데이터 변환 없이 그대로 전달하는 모듈\n",
    "import os  # 환경 변수 설정을 위한 모듈"
   ]
  },
  {
   "cell_type": "code",
   "execution_count": null,
   "id": "baf2e6b0",
   "metadata": {},
   "outputs": [],
   "source": [
    "from dotenv import load_dotenv\n",
    "\n",
    "load_dotenv()  # .env 파일 로드\n",
    "api_key = os.getenv(\"OPENAI_API_KEY\")\n"
   ]
  },
  {
   "cell_type": "code",
   "execution_count": null,
   "id": "c0a2dc34",
   "metadata": {},
   "outputs": [],
   "source": [
    "# 여행 가이드 챗봇 프롬프트 템플릿 설정\n",
    "tour_guide_template = \"\"\"\n",
    "당신은 여행을 좋아하는 10년차 여행 가이드입니다.\n",
    "사용자가 입력한 여행 국가와 도시에 맞춰 3일간의 가상 여행 계획을 작성해주세요.\n",
    "반드시 아래 FORMAT에 맞춰 작성하세요.\n",
    "\n",
    "#상황:\n",
    "{question}\n",
    "\n",
    "#FORMAT:\n",
    "- Day1: \n",
    "- Day2: \n",
    "- Day3: \n",
    "\"\"\""
   ]
  },
  {
   "cell_type": "code",
   "execution_count": null,
   "id": "c315bbf2",
   "metadata": {},
   "outputs": [],
   "source": [
    "# 사용자로부터 여행 국가와 도시를 입력받음\n",
    "country = input(\"여행 국가를 입력하세요: \")  # 예: \"프랑스\"\n",
    "city = input(\"여행 도시를 입력하세요: \")  # 예: \"파리\""
   ]
  },
  {
   "cell_type": "code",
   "execution_count": null,
   "id": "bd424777",
   "metadata": {},
   "outputs": [],
   "source": [
    "# 입력받은 국가와 도시를 하나의 문자열로 구성\n",
    "# 입력값을 포맷에 맞춰 문자열로 변환\n",
    "user_input = f\"여행 국가: {country}, 여행 도시: {city}\"  # \"여행 국가: <국가>, 여행 도시: <도시>\" 형식으로 만들어야 함"
   ]
  },
  {
   "cell_type": "code",
   "execution_count": null,
   "id": "230b4385",
   "metadata": {},
   "outputs": [],
   "source": [
    "# LangChain의 프롬프트 템플릿을 적용하여 사용자 입력을 프롬프트에 반영\n",
    "prompt = PromptTemplate.from_template(user_input)  # 프롬프트 템플릿을 이용하여 객체 생성"
   ]
  },
  {
   "cell_type": "code",
   "execution_count": null,
   "id": "c705790d",
   "metadata": {},
   "outputs": [],
   "source": [
    "# OpenAI의 GPT-4o-mini 모델을 활용하여 여행 일정 생성\n",
    "model = ChatOpenAI(model_name=\"gpt-5-nano\")  # OpenAI의 GPT-4o-mini 모델 사용 (gpt-5-nano 모델 사용 가능한 api key 였음)"
   ]
  },
  {
   "cell_type": "code",
   "execution_count": null,
   "id": "3fbb6e3d",
   "metadata": {},
   "outputs": [],
   "source": [
    "# 모델의 출력을 문자열로 변환하는 파서 (결과 데이터를 가공 없이 그대로 출력할 수 있도록 설정)\n",
    "output_parser = StrOutputParser()  # 모델 결과를 문자열로 변환하는 파서"
   ]
  },
  {
   "cell_type": "code",
   "execution_count": null,
   "id": "be103730",
   "metadata": {},
   "outputs": [],
   "source": [
    "# 체인 구성: \n",
    "# 1. 사용자 입력값을 그대로 전달 (RunnablePassthrough)\n",
    "# 2. 프롬프트 템플릿 적용\n",
    "# 3. OpenAI 모델을 실행하여 답변 생성\n",
    "# 4. 생성된 답변을 문자열로 변환하여 반환\n",
    "# 체인 구성: 사용자 입력 → 변환(RunnablePassthrough) → 프롬프트 적용 → 모델 실행 → 출력 변환\n",
    "chain = { \"question\": RunnablePassthrough() } | prompt | model | output_parser"
   ]
  },
  {
   "cell_type": "code",
   "execution_count": null,
   "id": "11d79f3b",
   "metadata": {},
   "outputs": [],
   "source": [
    "# 체인을 실행하여 여행 계획을 생성\n",
    "# 사용자가 입력한 국가와 도시 정보를 `question` 키에 매핑하여 전달\n",
    "answer = chain.invoke({\"question\": user_input})  # 체인을 실행하고 결과를 가져옴"
   ]
  },
  {
   "cell_type": "code",
   "execution_count": null,
   "id": "e32612ac",
   "metadata": {},
   "outputs": [
    {
     "name": "stdout",
     "output_type": "stream",
     "text": [
      "\n",
      "[여행 계획]\n",
      "멋진 선택이네요! 파리 여행 plan을 도와드리겠습니다. 원하시는 일정에 맞춰 맞춤형 계획을 만들어 드리려면, 몇 가지를 알려주시면 좋습니다. 우선 기본적인 아이디어를 몇 가지 공유하고, 원하시면 구체적인 일정으로 바로 작성해 드릴게요.\n",
      "\n",
      "간단한 코스 아이디어 (시간 여유가 있다면 참고)\n",
      "- 3일 코스\n",
      "  - Day 1: 루브르 미술관 방문(오전), 튀일리 정원 산책, 센 강 크루즈로 하루 마무리\n",
      "  - Day 2: 에펠탑 오전 방문 → 샹젤리제 거리와 개선문 구경 → 몽마르트 언덕의 사크레쾨르 대성당 방문\n",
      "  - Day 3: Île de la Cité의 노트르담 외관/생탈샤펠르(세인트샤펠르) 방문 → 마레 지구 산책 및 빌드거리 카페 탐방\n",
      "- 5일 코스\n",
      "  - 앞의 3일에 더해 Day 4: 베르사유 궁전 당일치기(대저택과 정원) 또는 기차로 기수 지역 당일치기\n",
      "  - Day 5: 오르세 미술관 및 로댕 미술관 방문, Luxembourg Gardens 산책\n",
      "- 7일 코스(느긋하게, 깊이 있게)\n",
      "  - 위에 5일 코스에 더해 Latin Quarter, Saint-Germain-des-Prés, Canal Saint-Martin 산책\n",
      "  - 또 한 번의 박물관 집중: Centre Pompidou, Musée Picasso 또는 Musée Carnavalet 방문\n",
      "  - 하루를 몽생미샤르 지역이나 몽파르나스 지구 탐방으로 마무리\n",
      "  - 가능하다면 샤모니/샤르트르 같은 당일치기(기차)으로 확장\n",
      "\n",
      "주요 팁\n",
      "- 교통: 파리 시내는 지하철(Métro)과 RER로 이동이 편리합니다. 4일 이상 체류 시 Navigo 주간 패스나 Paris Visite 패스를 고려해 보세요.\n",
      "- 입장 예약: 루브르, 오르세, 에펠탑 등은 사전 티켓 예약이 좋습니다. 특히 에펠탑은 대기시간이 길 수 있어 미리 예매 권장.\n",
      "- 무료/할인 정보: 유럽 연합 국적의 26세 이하 방문자 등 특정 조건에서 무료/저렴한 입장이 가능한 경우가 있습니다. 또한 일부 박물관은 특정 요일에 무료 입장이기도 하니, 방문 전 공식 사이트에서 확인하시길 권합니다.\n",
      "- 현지 식사: 빵집에서 크루아상과 바게트로 시작하면 좋고, 점심은 카페에서 간단한 샌드위치나 크레페, 저녁은 파리 식당에서 코스 요리나 타파스류를 즐겨 보세요.\n",
      "- 날씨 및 옷차림: 봄·가을은 기온이 쌀쌀할 수 있어 겉옷을 챙기고, 여름은 매우 더울 수 있으니 가벼운 옷과 물병을 준비하세요.\n",
      "\n",
      "원하시는 정보가 더 구체적으로 필요하신가요?\n",
      "- 체류 기간이 몇 일인가요?\n",
      "- 예산대는 어떻게 되나요? (합리적/중간/고급)\n",
      "- 관심 분야는 무엇인가요? 예술, 음식, 역사, 쇼핑, 가족과의 여행 등\n",
      "- 시작 도시/날짜와 이동 수단 선호도(비행기 vs 기차)도 알려주시면 좋습니다.\n",
      "\n",
      "원하시면 위 내용을 바탕으로 length별(3일/5일/7일) 맞춤형 구체 일정표를 바로 작성해 드리겠습니다.\n"
     ]
    }
   ],
   "source": [
    "# 생성된 여행 계획 출력\n",
    "print(\"\\n[여행 계획]\")  # 여행 계획 제목 출력\n",
    "print(answer)  # 모델이 생성한 여행 계획 출력"
   ]
  }
 ],
 "metadata": {
  "kernelspec": {
   "display_name": "Python 3",
   "language": "python",
   "name": "python3"
  },
  "language_info": {
   "codemirror_mode": {
    "name": "ipython",
    "version": 3
   },
   "file_extension": ".py",
   "mimetype": "text/x-python",
   "name": "python",
   "nbconvert_exporter": "python",
   "pygments_lexer": "ipython3",
   "version": "3.11.9"
  }
 },
 "nbformat": 4,
 "nbformat_minor": 5
}
