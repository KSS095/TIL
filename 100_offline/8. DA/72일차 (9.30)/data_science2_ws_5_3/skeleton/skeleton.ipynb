{
 "cells": [
  {
   "cell_type": "code",
   "execution_count": 1,
   "id": "a7549ec4",
   "metadata": {},
   "outputs": [
    {
     "name": "stdout",
     "output_type": "stream",
     "text": [
      "Requirement already satisfied: faiss-cpu in c:\\users\\ssafy\\appdata\\local\\programs\\python\\python311\\lib\\site-packages (1.12.0)\n",
      "Requirement already satisfied: numpy<3.0,>=1.25.0 in c:\\users\\ssafy\\appdata\\local\\programs\\python\\python311\\lib\\site-packages (from faiss-cpu) (2.3.3)\n",
      "Requirement already satisfied: packaging in c:\\users\\ssafy\\appdata\\roaming\\python\\python311\\site-packages (from faiss-cpu) (25.0)\n",
      "Note: you may need to restart the kernel to use updated packages.\n"
     ]
    },
    {
     "name": "stderr",
     "output_type": "stream",
     "text": [
      "\n",
      "[notice] A new release of pip is available: 24.0 -> 25.2\n",
      "[notice] To update, run: python.exe -m pip install --upgrade pip\n"
     ]
    }
   ],
   "source": [
    "%pip install faiss-cpu"
   ]
  },
  {
   "cell_type": "code",
   "execution_count": 2,
   "id": "669d4fd8",
   "metadata": {},
   "outputs": [],
   "source": [
    "from langchain.text_splitter import RecursiveCharacterTextSplitter\n",
    "from langchain.vectorstores import FAISS\n",
    "from langchain.embeddings.openai import OpenAIEmbeddings\n",
    "from langchain_openai import ChatOpenAI\n",
    "from langchain.prompts import PromptTemplate\n",
    "from langchain.schema.runnable import RunnablePassthrough\n",
    "from langchain.schema import StrOutputParser \n",
    "from langchain_community.document_loaders.csv_loader import CSVLoader\n",
    "import os  # 환경 변수 설정을 위한 모듈\n",
    "\n",
    "# OpenAI API 키 설정 (실제 사용 시에는 안전한 방법으로 API 키를 관리해야 함)\n",
    "from dotenv import load_dotenv\n",
    "\n",
    "load_dotenv()  # .env 파일 로드\n",
    "api_key = os.getenv(\"OPENAI_API_KEY\")\n"
   ]
  },
  {
   "cell_type": "code",
   "execution_count": 3,
   "id": "d45a1528",
   "metadata": {},
   "outputs": [
    {
     "name": "stdout",
     "output_type": "stream",
     "text": [
      "Row 수: 891\n"
     ]
    }
   ],
   "source": [
    "# 1. CSV 파일 로드\n",
    "# - CSVLoader를 사용하여 지정된 경로의 CSV 파일을 로드\n",
    "# - 각 행(row)이 하나의 문서(Document)로 변환됨\n",
    "loader = CSVLoader(file_path=\"../data/titanic.csv\")\n",
    "docs = loader.load()\n",
    "print(f\"Row 수: {len(docs)}\")"
   ]
  },
  {
   "cell_type": "code",
   "execution_count": 4,
   "id": "abb373a2",
   "metadata": {},
   "outputs": [
    {
     "name": "stdout",
     "output_type": "stream",
     "text": [
      "\n",
      "[페이지내용]\n",
      "PassengerId: 11\n",
      "Survived: 1\n",
      "Pclass: 3\n",
      "Name: Sandstrom, Miss. Marguerite Rut\n",
      "Sex: female\n",
      "Age: 4\n",
      "SibSp: 1\n",
      "Parch: 1\n",
      "Ticket: PP 9549\n",
      "Fare: 16.7\n",
      "Cabin: G6\n",
      "Embarked: S\n",
      "\n",
      "[metadata]\n",
      "{'source': '../data/titanic.csv', 'row': 10}\n",
      "\n"
     ]
    }
   ],
   "source": [
    "# 2. 불러온 문서 내용 확인\n",
    "# - 특정 문서의 내용을 출력하여 데이터 확인\n",
    "print(f\"\\n[페이지내용]\\n{docs[10].page_content[:500]}\")\n",
    "print(f\"\\n[metadata]\\n{docs[10].metadata}\\n\")"
   ]
  },
  {
   "cell_type": "code",
   "execution_count": 5,
   "id": "e50278b1",
   "metadata": {},
   "outputs": [
    {
     "name": "stdout",
     "output_type": "stream",
     "text": [
      "청크 개수: 891\n"
     ]
    }
   ],
   "source": [
    "# 3. 문서를 작은 청크로 분할\n",
    "# - RecursiveCharacterTextSplitter를 사용하여 텍스트를 일정 크기의 청크로 나눔\n",
    "# - chunk_size: 한 개의 청크 크기 (문자 수)\n",
    "# - chunk_overlap: 청크 간 겹치는 부분의 크기 (연속성 유지)\n",
    "chunk_size = 1000  # 적절한 값 조절 필요\n",
    "chunk_overlap = 100  # 적절한 값 조절 필요\n",
    "text_splitter = RecursiveCharacterTextSplitter(chunk_size=chunk_size, chunk_overlap=chunk_overlap)\n",
    "\n",
    "# 문서를 여러 개의 작은 청크로 나눔\n",
    "splits = text_splitter.split_documents(docs)\n",
    "print(f\"청크 개수: {len(splits)}\")  # 생성된 청크 개수 확인"
   ]
  },
  {
   "cell_type": "code",
   "execution_count": 6,
   "id": "eb937fcb",
   "metadata": {},
   "outputs": [
    {
     "name": "stderr",
     "output_type": "stream",
     "text": [
      "C:\\Users\\SSAFY\\AppData\\Local\\Temp\\ipykernel_24492\\1849054279.py:4: LangChainDeprecationWarning: The class `OpenAIEmbeddings` was deprecated in LangChain 0.0.9 and will be removed in 1.0. An updated version of the class exists in the :class:`~langchain-openai package and should be used instead. To use it run `pip install -U :class:`~langchain-openai` and import as `from :class:`~langchain_openai import OpenAIEmbeddings``.\n",
      "  vectorstore = FAISS.from_documents(documents=splits, embedding=OpenAIEmbeddings(model=\"text-embedding-3-small\"))\n"
     ]
    }
   ],
   "source": [
    "# 4. 벡터스토어(Vector Store) 생성\n",
    "# - FAISS(Facebook AI Similarity Search)를 사용하여 벡터 DB를 생성\n",
    "# - OpenAIEmbeddings를 사용하여 텍스트를 벡터로 변환하여 저장\n",
    "vectorstore = FAISS.from_documents(documents=splits, embedding=OpenAIEmbeddings(model=\"text-embedding-3-small\"))"
   ]
  },
  {
   "cell_type": "code",
   "execution_count": 7,
   "id": "1a5e80aa",
   "metadata": {},
   "outputs": [],
   "source": [
    "# 5. 문서에서 정보를 검색할 수 있도록 검색기(retriever) 생성\n",
    "retriever = vectorstore.as_retriever()"
   ]
  },
  {
   "cell_type": "code",
   "execution_count": 8,
   "id": "51b4451c",
   "metadata": {},
   "outputs": [],
   "source": [
    "# 6. 프롬프트 템플릿 정의 (출처 포함)\n",
    "# - 검색된 문서를 기반으로 질문에 답변하도록 설계\n",
    "prompt = PromptTemplate.from_template(\n",
    "    \"\"\"당신은 질문-답변(Question-Answering)을 수행하는 친절한 AI 어시스턴트입니다. 당신의 임무는 주어진 문맥(context)에서 주어진 질문(question)에 답하는 것입니다.\n",
    "검색된 다음 문맥(context)을 사용하여 질문(question)에 답하세요. 만약, 주어진 문맥(context)에서 답을 찾을 수 없다면, 답을 모른다면 `주어진 정보에서 질문에 대한 정보를 찾을 수 없습니다`라고 답하세요.\n",
    "한글로 답변해 주세요. 단, 기술적인 용어나 이름은 번역하지 않고 그대로 사용해 주세요.\n",
    "#Question:\n",
    "{question}\n",
    "\n",
    "#Context:\n",
    "{context}\n",
    "\n",
    "#Answer:\"\"\"\n",
    ")"
   ]
  },
  {
   "cell_type": "code",
   "execution_count": 9,
   "id": "6ec1aaa3",
   "metadata": {},
   "outputs": [],
   "source": [
    "# 7. LLM 모델 선택\n",
    "# - OpenAI의 GPT-4o-mini 모델을 사용하여 검색된 정보를 바탕으로 응답을 생성\n",
    "# - temperature=0 설정으로 일관된 답변을 생성하도록 설정\n",
    "llm = ChatOpenAI(model_name=\"gpt-5-nano\", temperature=0)"
   ]
  },
  {
   "cell_type": "code",
   "execution_count": 10,
   "id": "a86a971c",
   "metadata": {},
   "outputs": [],
   "source": [
    "# 8. RAG(Retrieval-Augmented Generation) 체인 생성\n",
    "# - 검색된 문서를 바탕으로 LLM이 답변을 생성하도록 연결\n",
    "rag_chain = (\n",
    "    {\"context\": retriever, \"question\": RunnablePassthrough()}  # 검색을 수행하는 객체 입력\n",
    "    | prompt\n",
    "    | llm\n",
    "    | StrOutputParser()\n",
    ")"
   ]
  },
  {
   "cell_type": "code",
   "execution_count": 11,
   "id": "5a54d467",
   "metadata": {},
   "outputs": [
    {
     "name": "stdout",
     "output_type": "stream",
     "text": [
      "다음 데이터는 Titanic 데이터셋(titanic.csv)의 일부로 보이며, 각 행은 한 명의 승객 정보를 담고 있습니다.\n",
      "\n",
      "주요 열(특성)\n",
      "- PassengerId, Survived, Pclass, Name, Sex, Age, SibSp, Parch, Ticket, Fare, Cabin, Embarked\n",
      "\n",
      "원천 정보\n",
      "- source: ../data/titanic.csv\n",
      "- 각 문서의 metadata에 적힌 row: 예) 687, 623, 206, 202 등\n",
      "\n",
      "사례 항목 요약\n",
      "- Dakic, Mr. Branko\n",
      "  - PassengerId: 688\n",
      "  - Survived: 0\n",
      "  - Pclass: 3\n",
      "  - Sex: male\n",
      "  - Age: 19\n",
      "  - SibSp: 0, Parch: 0\n",
      "  - Ticket: 349228\n",
      "  - Fare: 10.1708\n",
      "  - Cabin: (없음)\n",
      "  - Embarked: S\n",
      "\n",
      "- Hansen, Mr. Henry Damsgaard\n",
      "  - PassengerId: 624\n",
      "  - Survived: 0\n",
      "  - Pclass: 3\n",
      "  - Sex: male\n",
      "  - Age: 21\n",
      "  - SibSp: 0, Parch: 0\n",
      "  - Ticket: 350029\n",
      "  - Fare: 7.8542\n",
      "  - Cabin: (없음)\n",
      "  - Embarked: S\n",
      "\n",
      "- Backstrom, Mr. Karl Alfred\n",
      "  - PassengerId: 207\n",
      "  - Survived: 0\n",
      "  - Pclass: 3\n",
      "  - Sex: male\n",
      "  - Age: 32\n",
      "  - SibSp: 1, Parch: 0\n",
      "  - Ticket: 3101278\n",
      "  - Fare: 15.85\n",
      "  - Cabin: (없음)\n",
      "  - Embarked: S\n",
      "\n",
      "- Johanson, Mr. Jakob Alfred\n",
      "  - PassengerId: 203\n",
      "  - Survived: 0\n",
      "  - Pclass: 3\n",
      "  - Sex: male\n",
      "  - Age: 34\n",
      "  - SibSp: 0, Parch: 0\n",
      "  - Ticket: 3101264\n",
      "  - Fare: 6.4958\n",
      "  - Cabin: (없음)\n",
      "  - Embarked: S\n",
      "\n",
      "관찰 가능한 특징\n",
      "- 모두 Pclass가 3, Embarked가 S(Southampton)인 3등석 승객들로 보임\n",
      "- Survived는 모두 0으로 기록되어 있음\n",
      "- Fare 값은 6.4958~15.85로 다양함\n",
      "\n",
      "추가로 알고 싶은 부분이 있으면 말씀해 주세요.\n"
     ]
    }
   ],
   "source": [
    "# 실행 예시 (사용자가 입력한 질문)\n",
    "user_question = \"데이터에 대해서 알려주세요.\"\n",
    "response = rag_chain.invoke(user_question)  # 사용자의 질문을 입력\n",
    "print(response)  # 최종 생성된 답변 출력"
   ]
  },
  {
   "cell_type": "code",
   "execution_count": 12,
   "id": "caa7ff12",
   "metadata": {},
   "outputs": [
    {
     "name": "stdout",
     "output_type": "stream",
     "text": [
      "다음 데이터를 바탕으로 할 수 있는 분석 아이디어 5가지를 제안합니다.\n",
      "\n",
      "- Survived 예측 모델 구축 아이디어\n",
      "  - 목적: Survived를 예측하는 분류 모델 만들기(예: 로지스틱 회귀, RandomForest, GradientBoosting).\n",
      "  - 사용 변수: Pclass, Sex, Age, SibSp, Parch, Fare, Embarked, Ticket, Cabin의 여부 등. Age의 결측치는 평균/중간값 대체(imputation)나 모델 내 결측치 처리로 다루기.\n",
      "  - 추가 엔지니어링: Name에서 Title(예: Mr., Mrs., Miss, Master 등) 추출 후 포함, FamilySize = SibSp + Parch + 1 같은 파생 변수 추가.\n",
      "\n",
      "- Descriptive 생존 분석 아이디어\n",
      "  - 목적: 그룹별 생존 비율을 파악.\n",
      "  - 그룹 기준 예시: Pclass별, Sex별, Embarked별, 가족 구성 규모(FamilySize)별 등.\n",
      "  - 방법: groupby와 pivot table로 Survived 비율 계산 및 시각화(바 차트 등).\n",
      "\n",
      "- FamilySize 영향 분석 아이디어\n",
      "  - 목적: 가족 규모가 생존에 미치는 영향을 파악.\n",
      "  - 변수: FamilySize(=SibSp + Parch + 1)와 Survived 간 관계 분석.\n",
      "  - 방법: FamilySize 구간별 생존율 비교, 로지스틱 회귀에서 FamilySize의 계수 해석, 상호작용 효과 탐색(예: FamilySize vs Pclass).\n",
      "\n",
      "- Fare와 Pclass의 상호작용 분석 아이디어\n",
      "  - 목적: Fare 수준과 Pclass가 생존에 어떤 영향을 주는지 파악.\n",
      "  - 방법: Pclass별 Fare 분포 비교, Fare를 분위수(quartile)로 나눠 생존율 비교, Fare와 Survived 간의 상관 또는 로지스틱 회귀에서 Fare의 효과 확인.\n",
      "\n",
      "- Name에서 Title 추출 및 사회적 지위 분석 아이디어\n",
      "  - 목적: Name에서 Title을 추출해 사회적 지위의 차이가 생존에 미친 영향을 분석.\n",
      "  - 변수: Title(Mr., Mrs., Miss, Master, Dr 등) 추가 후 Survived와의 연관성 분석.\n",
      "  - 방법: Title별 생존율 계산, Title 조합으로 그룹화한 생존 패턴 파악, 동일 Title 간 Pclass/Embarked의 차이 탐색.\n",
      "\n",
      "필요하시면 위 아이디어들에 대해 구체적인 분석 코드 예시나 시각화 코드도 함께 제공해 드리겠습니다.\n"
     ]
    }
   ],
   "source": [
    "# 실행 예시 (사용자가 입력한 질문)\n",
    "user_question = \"이 데이터를 가지고 어떤 걸 분석할 수 있을지 아이디어 5개 리스트 형식으로 정리해줘.\"\n",
    "response = rag_chain.invoke(user_question)  # 사용자의 질문을 입력\n",
    "print(response)  # 최종 생성된 답변 출력"
   ]
  }
 ],
 "metadata": {
  "kernelspec": {
   "display_name": "Python 3",
   "language": "python",
   "name": "python3"
  },
  "language_info": {
   "codemirror_mode": {
    "name": "ipython",
    "version": 3
   },
   "file_extension": ".py",
   "mimetype": "text/x-python",
   "name": "python",
   "nbconvert_exporter": "python",
   "pygments_lexer": "ipython3",
   "version": "3.11.9"
  }
 },
 "nbformat": 4,
 "nbformat_minor": 5
}
