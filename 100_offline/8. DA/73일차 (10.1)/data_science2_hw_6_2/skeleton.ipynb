{
 "cells": [
  {
   "cell_type": "code",
   "execution_count": 12,
   "id": "357a6cbb",
   "metadata": {},
   "outputs": [],
   "source": [
    "import mlflow"
   ]
  },
  {
   "cell_type": "code",
   "execution_count": 13,
   "id": "ae16f13c",
   "metadata": {},
   "outputs": [],
   "source": [
    "mlflow.set_tracking_uri(\"http://127.0.0.1:5000\")"
   ]
  },
  {
   "cell_type": "code",
   "execution_count": 14,
   "id": "1e8c11f9",
   "metadata": {},
   "outputs": [],
   "source": [
    "# 숫자를 제곱하는 간단한 함수 정의\n",
    "def square_number(x):\n",
    "    return x * x"
   ]
  },
  {
   "cell_type": "code",
   "execution_count": 15,
   "id": "6bc6c492",
   "metadata": {},
   "outputs": [
    {
     "name": "stdout",
     "output_type": "stream",
     "text": [
      "🏃 View run square_1 at: http://127.0.0.1:5000/#/experiments/0/runs/f3ad7ba9953c4095a408e0e2731967b6\n",
      "🧪 View experiment at: http://127.0.0.1:5000/#/experiments/0\n",
      "🏃 View run square_2 at: http://127.0.0.1:5000/#/experiments/0/runs/972bcd3640f74d81ac42ac2a43b3136d\n",
      "🧪 View experiment at: http://127.0.0.1:5000/#/experiments/0\n",
      "🏃 View run square_3 at: http://127.0.0.1:5000/#/experiments/0/runs/f64303f76a394e02a093c53c1cf34e87\n",
      "🧪 View experiment at: http://127.0.0.1:5000/#/experiments/0\n",
      "🏃 View run square_4 at: http://127.0.0.1:5000/#/experiments/0/runs/a3d690f94d3f4f3b8d867c56ae8c731f\n",
      "🧪 View experiment at: http://127.0.0.1:5000/#/experiments/0\n",
      "🏃 View run square_5 at: http://127.0.0.1:5000/#/experiments/0/runs/73e5e7fe6045445a9fe1755c5f2981ad\n",
      "🧪 View experiment at: http://127.0.0.1:5000/#/experiments/0\n",
      "🏃 View run square_6 at: http://127.0.0.1:5000/#/experiments/0/runs/360e8f4d7fa94454862425ff38a7725a\n",
      "🧪 View experiment at: http://127.0.0.1:5000/#/experiments/0\n",
      "🏃 View run square_7 at: http://127.0.0.1:5000/#/experiments/0/runs/cd7486ab2025404bbab981138c0e345e\n",
      "🧪 View experiment at: http://127.0.0.1:5000/#/experiments/0\n",
      "🏃 View run square_8 at: http://127.0.0.1:5000/#/experiments/0/runs/bb89700adcc6472094805ba6e8ce2682\n",
      "🧪 View experiment at: http://127.0.0.1:5000/#/experiments/0\n",
      "🏃 View run square_9 at: http://127.0.0.1:5000/#/experiments/0/runs/2b60280831f14c37a318c78cb3523366\n",
      "🧪 View experiment at: http://127.0.0.1:5000/#/experiments/0\n",
      "🏃 View run square_10 at: http://127.0.0.1:5000/#/experiments/0/runs/8c2e6294a9db49e0be37c0a6d4489fef\n",
      "🧪 View experiment at: http://127.0.0.1:5000/#/experiments/0\n"
     ]
    }
   ],
   "source": [
    "# 1부터 10까지 숫자를 반복하여 MLflow로 실험 추적 수행\n",
    "for x in range(1, 11) :\n",
    "    # MLflow의 실험 기록을 시작 (각 숫자마다 새로운 Run 생성)\n",
    "    # run_name으로 \"square_1\", \"square_2\", ..., \"square_10\" 등 이름 지정\n",
    "    with mlflow.start_run(run_name=f\"square_{x}\"):\n",
    "        result = square_number(x)  # 현재 숫자를 제곱하여 결과 계산\n",
    "        mlflow.log_param(\"input_number\", x)   # 현재 입력한 숫자(x)를 MLflow 파라미터로 기록\n",
    "        mlflow.log_metric(\"square_result\", result)  # 제곱한 결과를 MLflow 메트릭으로 기록"
   ]
  },
  {
   "cell_type": "code",
   "execution_count": null,
   "id": "cae8c1e8",
   "metadata": {},
   "outputs": [],
   "source": []
  }
 ],
 "metadata": {
  "kernelspec": {
   "display_name": "mlflow-env",
   "language": "python",
   "name": "python3"
  },
  "language_info": {
   "codemirror_mode": {
    "name": "ipython",
    "version": 3
   },
   "file_extension": ".py",
   "mimetype": "text/x-python",
   "name": "python",
   "nbconvert_exporter": "python",
   "pygments_lexer": "ipython3",
   "version": "3.11.9"
  }
 },
 "nbformat": 4,
 "nbformat_minor": 5
}
