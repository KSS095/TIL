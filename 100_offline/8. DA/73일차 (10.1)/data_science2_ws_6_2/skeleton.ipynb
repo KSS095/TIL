{
 "cells": [
  {
   "cell_type": "code",
   "execution_count": 1,
   "id": "cae8c1e8",
   "metadata": {},
   "outputs": [
    {
     "name": "stderr",
     "output_type": "stream",
     "text": [
      "2025/10/01 11:29:18 INFO mlflow.tracking.fluent: Experiment with name 'my_first_experiment' does not exist. Creating a new experiment.\n"
     ]
    },
    {
     "data": {
      "text/plain": [
       "<Experiment: artifact_location='file:///c:/Users/SSAFY/Desktop/TIL/100_offline/8.%20DA/73%EC%9D%BC%EC%B0%A8%20%2810.1%29/data_science2_ws_6_2/mlruns/323774632391864949', creation_time=1759285758865, experiment_id='323774632391864949', last_update_time=1759285758865, lifecycle_stage='active', name='my_first_experiment', tags={}>"
      ]
     },
     "execution_count": 1,
     "metadata": {},
     "output_type": "execute_result"
    }
   ],
   "source": [
    "import mlflow\n",
    "\n",
    "mlflow.set_experiment(\"my_first_experiment\") # 원하는 실험명을 작성"
   ]
  },
  {
   "cell_type": "code",
   "execution_count": 3,
   "id": "24538397",
   "metadata": {},
   "outputs": [],
   "source": [
    "accuracy = [0.85, 0.88, 1.0, 0.9, 0.85]\n",
    "\n",
    "for i in range(5): \n",
    "    with mlflow.start_run():\n",
    "        mlflow.log_params({\"pram1\": i+1})\n",
    "        mlflow.log_metric(\"accuracy\", accuracy[i])"
   ]
  }
 ],
 "metadata": {
  "kernelspec": {
   "display_name": "mlflow-env",
   "language": "python",
   "name": "python3"
  },
  "language_info": {
   "codemirror_mode": {
    "name": "ipython",
    "version": 3
   },
   "file_extension": ".py",
   "mimetype": "text/x-python",
   "name": "python",
   "nbconvert_exporter": "python",
   "pygments_lexer": "ipython3",
   "version": "3.11.9"
  }
 },
 "nbformat": 4,
 "nbformat_minor": 5
}
