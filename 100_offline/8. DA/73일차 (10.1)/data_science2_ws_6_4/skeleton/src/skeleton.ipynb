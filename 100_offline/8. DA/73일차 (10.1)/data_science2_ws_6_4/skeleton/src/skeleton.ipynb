{
 "cells": [
  {
   "cell_type": "code",
   "execution_count": 6,
   "id": "cae8c1e8",
   "metadata": {},
   "outputs": [],
   "source": [
    "import argparse\n",
    "import mlflow\n",
    "import mlflow.sklearn\n",
    "import numpy\n",
    "import pandas as pd\n",
    "from sklearn.datasets import load_iris\n",
    "from sklearn.linear_model import LogisticRegression\n",
    "from sklearn.ensemble import RandomForestClassifier\n",
    "from sklearn.metrics import accuracy_score, precision_score, recall_score\n",
    "from sklearn.model_selection import train_test_split\n",
    "from sklearn.preprocessing import StandardScaler\n",
    "from mlflow.models import infer_signature\n",
    "\n",
    "mlflow.set_tracking_uri(\"http://127.0.0.1:5000\")\n",
    "\n",
    "df = pd.read_csv('./data/creditcard.csv')"
   ]
  },
  {
   "cell_type": "code",
   "execution_count": 7,
   "id": "24538397",
   "metadata": {},
   "outputs": [],
   "source": [
    "parser = argparse.ArgumentParser()\n",
    "parser.add_argument(\"--max_iter\", type=int, default=1000)\n",
    "parser.add_argument(\"--n_estimators\", type=int, default=100)\n",
    "\n",
    "args, unknown = parser.parse_known_args()\n",
    "# args = parser.parse_args()"
   ]
  },
  {
   "cell_type": "code",
   "execution_count": 8,
   "id": "c42b19f5",
   "metadata": {},
   "outputs": [],
   "source": [
    "X = df.drop(columns=\"Class\")\n",
    "y = df[\"Class\"]\n",
    "\n",
    "X_train, X_test, y_train, y_test = train_test_split(X, y, test_size=0.2, random_state=42)"
   ]
  },
  {
   "cell_type": "code",
   "execution_count": 9,
   "id": "9689aff9",
   "metadata": {},
   "outputs": [],
   "source": [
    "scaler = StandardScaler()\n",
    "X_train = scaler.fit_transform(X_train)\n",
    "X_test = scaler.transform(X_test)"
   ]
  },
  {
   "cell_type": "code",
   "execution_count": 10,
   "id": "6537103e",
   "metadata": {},
   "outputs": [
    {
     "data": {
      "text/plain": [
       "<Experiment: artifact_location=('file:///C:/Users/SSAFY/Desktop/TIL/100_offline/8. DA/73일차 '\n",
       " '(10.1)/data_science2_ws_6_4/mlruns/1'), creation_time=1759296934826, experiment_id='1', last_update_time=1759296934826, lifecycle_stage='active', name='creditcard_experiment2', tags={}>"
      ]
     },
     "execution_count": 10,
     "metadata": {},
     "output_type": "execute_result"
    }
   ],
   "source": [
    "mlflow.set_experiment(\"creditcard_experiment2\")"
   ]
  },
  {
   "cell_type": "code",
   "execution_count": 11,
   "id": "7c6e48b1",
   "metadata": {},
   "outputs": [
    {
     "name": "stderr",
     "output_type": "stream",
     "text": [
      "Registered model 'LogisticRegressionModel' already exists. Creating a new version of this model...\n",
      "2025/10/01 15:26:58 INFO mlflow.store.model_registry.abstract_store: Waiting up to 300 seconds for model version to finish creation. Model name: LogisticRegressionModel, version 2\n"
     ]
    },
    {
     "name": "stdout",
     "output_type": "stream",
     "text": [
      "🏃 View run LogisticRegression at: http://127.0.0.1:5000/#/experiments/1/runs/384c5adb10ba4e009f8cc97c8905f220\n",
      "🧪 View experiment at: http://127.0.0.1:5000/#/experiments/1\n"
     ]
    },
    {
     "name": "stderr",
     "output_type": "stream",
     "text": [
      "Created version '2' of model 'LogisticRegressionModel'.\n"
     ]
    }
   ],
   "source": [
    "with mlflow.start_run(run_name=\"LogisticRegression\"):\n",
    "    model = LogisticRegression(max_iter=args.max_iter)\n",
    "    model.fit(X_train, y_train)\n",
    "    preds = model.predict(X_test)\n",
    "\n",
    "    acc = accuracy_score(y_test, preds)\n",
    "    prec = precision_score(y_test, preds)\n",
    "    rec = recall_score(y_test, preds)\n",
    "\n",
    "    mlflow.set_tag(\"model\", \"LogisticRegression\")\n",
    "    mlflow.log_param(\"max_iter\", 1000)\n",
    "    mlflow.log_metric(\"accuracy\", acc)\n",
    "    mlflow.log_metric(\"precision\", prec)\n",
    "    mlflow.log_metric(\"recall\", rec)\n",
    "\n",
    "    signature = infer_signature(X_train, preds)\n",
    "\n",
    "    mlflow.sklearn.log_model(model, \"model\", registered_model_name=\"LogisticRegressionModel\", signature=signature)"
   ]
  },
  {
   "cell_type": "code",
   "execution_count": 12,
   "id": "f8ffdabf",
   "metadata": {},
   "outputs": [
    {
     "name": "stderr",
     "output_type": "stream",
     "text": [
      "Registered model 'RandomForestModel' already exists. Creating a new version of this model...\n",
      "2025/10/01 15:27:20 INFO mlflow.store.model_registry.abstract_store: Waiting up to 300 seconds for model version to finish creation. Model name: RandomForestModel, version 2\n"
     ]
    },
    {
     "name": "stdout",
     "output_type": "stream",
     "text": [
      "🏃 View run RandomForest at: http://127.0.0.1:5000/#/experiments/1/runs/9bad3dba21204a1c8a495e2da1e9ee0b\n",
      "🧪 View experiment at: http://127.0.0.1:5000/#/experiments/1\n"
     ]
    },
    {
     "name": "stderr",
     "output_type": "stream",
     "text": [
      "Created version '2' of model 'RandomForestModel'.\n"
     ]
    }
   ],
   "source": [
    "with mlflow.start_run(run_name=\"RandomForest\"):\n",
    "    model = RandomForestClassifier(n_estimators=args.n_estimators)\n",
    "    model.fit(X_train, y_train)\n",
    "    preds = model.predict(X_test)\n",
    "\n",
    "\n",
    "    acc = accuracy_score(y_test, preds)\n",
    "    prec = precision_score(y_test, preds)\n",
    "    rec = recall_score(y_test, preds)\n",
    "\n",
    "    mlflow.set_tag(\"model\", \"RandomForest\")\n",
    "    mlflow.log_param(\"n_estimators\", 100)\n",
    "    mlflow.log_metric(\"accuracy\", acc)\n",
    "    mlflow.log_metric(\"precision\", prec)\n",
    "    mlflow.log_metric(\"recall\", rec)\n",
    "\n",
    "    signature = infer_signature(X_train, preds)\n",
    "\n",
    "    mlflow.sklearn.log_model(model, \"model\", registered_model_name=\"RandomForestModel\", signature=signature)"
   ]
  },
  {
   "cell_type": "markdown",
   "id": "fed635a9",
   "metadata": {},
   "source": [
    "RandomForest 모델이 LogisticRegression 모델보다 실행 시간이 더 길지만, 그 만큼 성능지표가 더 높게 나옵니다."
   ]
  }
 ],
 "metadata": {
  "kernelspec": {
   "display_name": "mlflow-env",
   "language": "python",
   "name": "python3"
  },
  "language_info": {
   "codemirror_mode": {
    "name": "ipython",
    "version": 3
   },
   "file_extension": ".py",
   "mimetype": "text/x-python",
   "name": "python",
   "nbconvert_exporter": "python",
   "pygments_lexer": "ipython3",
   "version": "3.11.9"
  }
 },
 "nbformat": 4,
 "nbformat_minor": 5
}
