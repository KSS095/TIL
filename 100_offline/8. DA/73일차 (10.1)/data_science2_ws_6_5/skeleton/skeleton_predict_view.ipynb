{
 "cells": [
  {
   "cell_type": "code",
   "execution_count": null,
   "metadata": {},
   "outputs": [
    {
     "ename": "",
     "evalue": "",
     "output_type": "error",
     "traceback": [
      "\u001b[1;31m커널을 시작하지 못했습니다. \n",
      "\u001b[1;31m커널 'mlflow-env (Python 3.11.9)'을(를) 시작하지 못했습니다. \n",
      "\u001b[1;31m자세한 내용은 Jupyter <a href='command:jupyter.viewOutput'>로그</a>을 참조하세요. listen EFAULT: bad address in system call argument 192.168.210.66:9006"
     ]
    }
   ],
   "source": [
    "import pandas as pd\n",
    "\n",
    "df = pd.read_csv(\"data/predictions.csv\")\n",
    "df.head(5)\n"
   ]
  },
  {
   "cell_type": "code",
   "execution_count": null,
   "metadata": {},
   "outputs": [],
   "source": [
    "import mlflow\n",
    "import mlflow.pyfunc\n",
    "\n",
    "mlflow.set_tracking_uri(\"http://127.0.0.1:5000\")"
   ]
  },
  {
   "cell_type": "code",
   "execution_count": null,
   "metadata": {},
   "outputs": [],
   "source": [
    "print(df[\"predictions\"].value_counts())"
   ]
  },
  {
   "cell_type": "code",
   "execution_count": null,
   "metadata": {},
   "outputs": [],
   "source": [
    "model_uri = \"models:/CreditCardFraudModel/Production\"\n",
    "loaded_model = mlflow.pyfunc.load_model(model_uri)\n",
    "print(\"✅ 모델 불러오기 완료:\", model_uri)\n",
    "\n",
    "# X, y 분리 (predictions 컬럼은 예측값, Class가 있으면 실제 라벨)\n",
    "X_new = df.drop(columns=[\"predictions\"])\n",
    "y_true = df[\"Class\"] if \"Class\" in df.columns else None\n",
    "\n",
    "preds = loaded_model.predict(X_new)\n",
    "\n",
    "df[\"predictions\"] = preds\n",
    "\n",
    "# 3. 금융적 해석: 사기 거래 비율\n",
    "fraud_ratio = (df[\"predictions\"] == 1).mean() * 100\n",
    "print(f\"💳 전체 거래 중 사기 거래 예측 비율: {fraud_ratio:.3f}%\")\n",
    "\n",
    "# 금액대별 사기 거래 평균 금액 비교\n",
    "fraud_amount_mean = df.loc[df[\"predictions\"] == 1, \"Amount\"].mean()\n",
    "normal_amount_mean = df.loc[df[\"predictions\"] == 0, \"Amount\"].mean()\n",
    "\n",
    "print(f\"📊 사기 거래 평균 금액: {fraud_amount_mean:.2f}\")\n",
    "print(f\"📊 정상 거래 평균 금액: {normal_amount_mean:.2f}\")"
   ]
  }
 ],
 "metadata": {
  "kernelspec": {
   "display_name": "mlflow-env",
   "language": "python",
   "name": "python3"
  },
  "language_info": {
   "codemirror_mode": {
    "name": "ipython",
    "version": 3
   },
   "file_extension": ".py",
   "mimetype": "text/x-python",
   "name": "python",
   "nbconvert_exporter": "python",
   "pygments_lexer": "ipython3",
   "version": "3.11.9"
  }
 },
 "nbformat": 4,
 "nbformat_minor": 2
}
