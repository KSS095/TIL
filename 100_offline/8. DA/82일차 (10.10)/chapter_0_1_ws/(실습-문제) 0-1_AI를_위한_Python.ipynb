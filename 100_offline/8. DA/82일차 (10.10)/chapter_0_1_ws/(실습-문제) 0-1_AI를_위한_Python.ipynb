{
 "cells": [
  {
   "cell_type": "markdown",
   "metadata": {
    "id": "VaySc4aRPRWt"
   },
   "source": [
    "### **Content License Agreement**\n",
    "\n",
    "<font color='red'><b>**WARNING**</b></font> : 본 자료는 삼성청년SW·AI아카데미의 컨텐츠 자산으로, 보안서약서에 의거하여 어떠한 사유로도 임의로 복사, 촬영, 녹음, 복제, 보관, 전송하거나 허가 받지 않은 저장매체를 이용한 보관, 제3자에게 누설, 공개 또는 사용하는 등의 무단 사용 및 불법 배포 시 법적 조치를 받을 수 있습니다."
   ]
  },
  {
   "cell_type": "markdown",
   "metadata": {
    "id": "vheIRmHcPUJ6"
   },
   "source": [
    "### **Objectives**\n",
    "\n",
    "\n",
    "1. 실습명: AI를 위한 Python\n",
    "\n",
    "2. 핵심 주제\n",
    "  - Python의 기본 자료형과 제어문 이해 및 활용\n",
    "  - 함수, 클래스 등 객체지향 프로그래밍의 기초\n",
    "  - 데이터 분석을 위한 NumPy & Pandas의 실전 활용\n",
    "\n",
    "3. 학습 목표\n",
    "  - 다양한 Python 자료형을 선언하고 조작할 수 있다\n",
    "  - 조건문과 반복문을 활용해 흐름 제어 로직을 작성할 수 있다\n",
    "  - 사용자 정의 함수와 클래스를 구현할 수 있다\n",
    "  - NumPy와 Pandas를 활용해 데이터를 처리하고 분석할 수 있다\n",
    "  - 실습을 통해 Python 문법과 라이브러리 사용에 익숙해질 수 있다\n",
    "\n",
    "4. 학습 개념\n",
    "  - `int`, `float`, `str`, `None`: Python의 기본 데이터 타입\n",
    "  - `list`, `tuple`, `set`, `dict`: 컬렉션 자료형과 특징\n",
    "  - `defaultdict`, `Counter`, `itertools`: 고급 내장 모듈 활용\n",
    "  - List Comprehension: 반복문을 간결하게 표현하는 문법\n",
    "  - `function`, `class`: 코드 재사용성과 구조화의 핵심\n",
    "  - NumPy, Pandas: 대규모 데이터 처리 및 분석 도구\n",
    "\n",
    "5. 학습 방향\n",
    "  - 실습은 Python의 기초 문법부터 시작해 점차 객체지향과 데이터 분석으로 확장됩니다.\n",
    "  - 각 섹션은 개념 설명 + 실습 코드 + 테스트 코드로 구성되어 있어 학습자 스스로 확인 가능합니다.\n",
    "  - 공식 문서 및 PEP8 스타일 가이드를 참고하며, 실무에서 자주 쓰이는 패턴을 중심으로 구성하였습니다.\n",
    "  - 실습은 단계별로 진행되며, 각 단계는 독립적으로 테스트 가능하도록 설계되었습니다.\n",
    "  - Pandas 실습에서는 tips 데이터셋을 활용하며, 시각화와 통계 분석의 기초를 다집니다."
   ]
  },
  {
   "cell_type": "markdown",
   "metadata": {
    "id": "0M25bNTPLpJp"
   },
   "source": [
    "### **Prerequisites**\n",
    "```\n",
    "pandas>=2.0\n",
    "seaborn==0.13.2\n",
    "```"
   ]
  },
  {
   "cell_type": "markdown",
   "metadata": {
    "id": "jsJFSJaMpIpH"
   },
   "source": [
    "# 1. 기초 Python\n",
    "\n",
    "- **학습 목표**: Python의 가장 기초적인 개념에 대해 학습합니다.\n",
    "- **학습 개념**: Python에서 사용하는 자료형 (`int`, `float`, `str`, `list`, `dict`, `set`), 조건분/반복문 사용법, 함수 사용법\n",
    "- **진행하는 실습 요약**: 기초적인 자료형의 인스턴스화 방법과 내장된 메소드를 직접 사용해봅니다.\n"
   ]
  },
  {
   "cell_type": "markdown",
   "metadata": {
    "id": "MvnAliFbZ5gq"
   },
   "source": [
    "## 1.1 `int`, `float`, `str`"
   ]
  },
  {
   "cell_type": "markdown",
   "metadata": {
    "id": "JyRMrLXms2P8"
   },
   "source": [
    "🔢 int (정수형)\n",
    "- 정수 값을 저장하는 자료형으로 Java의 int, long 등과 유사합니다."
   ]
  },
  {
   "cell_type": "code",
   "execution_count": 1,
   "metadata": {
    "colab": {
     "base_uri": "https://localhost:8080/"
    },
    "executionInfo": {
     "elapsed": 63,
     "status": "ok",
     "timestamp": 1754115252469,
     "user": {
      "displayName": "Daehyun Cho",
      "userId": "17899950084767957204"
     },
     "user_tz": -540
    },
    "id": "M0iexgCHo1wr",
    "outputId": "830496bb-825b-4377-ca1e-2a2455fb247d"
   },
   "outputs": [
    {
     "name": "stdout",
     "output_type": "stream",
     "text": [
      "정수형 예시: 30, 타입: <class 'int'>\n"
     ]
    }
   ],
   "source": [
    "# Python은 크기 제한이 없습니다.\n",
    "age = 30\n",
    "print(f\"정수형 예시: {age}, 타입: {type(age)}\")"
   ]
  },
  {
   "cell_type": "markdown",
   "metadata": {
    "id": "SdP1ujP7s-Ax"
   },
   "source": [
    "🔣 float (부동소수점형)\n",
    "- 소수점을 포함한 숫자로 Java의 float, double과 유사합니다.\n",
    "- Python은 기본적으로 `double` 정밀도를 가집니다."
   ]
  },
  {
   "cell_type": "code",
   "execution_count": 2,
   "metadata": {
    "id": "_Vc1CYWGs8c5"
   },
   "outputs": [
    {
     "name": "stdout",
     "output_type": "stream",
     "text": [
      "부동소수점형 예시: 175.5, 타입: <class 'float'>\n"
     ]
    }
   ],
   "source": [
    "height = 175.5\n",
    "print(f\"부동소수점형 예시: {height}, 타입: {type(height)}\")"
   ]
  },
  {
   "cell_type": "markdown",
   "metadata": {
    "id": "_DvjeGGVtfSo"
   },
   "source": [
    "🚫 None (값 없음)\n",
    "- Java의 null과 유사합니다.\n",
    "- 값이 없음을 명시적으로 표현합니다."
   ]
  },
  {
   "cell_type": "code",
   "execution_count": 3,
   "metadata": {
    "colab": {
     "base_uri": "https://localhost:8080/"
    },
    "executionInfo": {
     "elapsed": 167,
     "status": "ok",
     "timestamp": 1754115252813,
     "user": {
      "displayName": "Daehyun Cho",
      "userId": "17899950084767957204"
     },
     "user_tz": -540
    },
    "id": "M83d1oGvak6v",
    "outputId": "616eb90b-773a-4f61-916f-4c7bb766e374"
   },
   "outputs": [
    {
     "name": "stdout",
     "output_type": "stream",
     "text": [
      "None 타입 예시: None, 타입: <class 'NoneType'>\n"
     ]
    }
   ],
   "source": [
    "nothing = None\n",
    "print(f\"None 타입 예시: {nothing}, 타입: {type(nothing)}\")"
   ]
  },
  {
   "cell_type": "markdown",
   "metadata": {
    "id": "InVql4Ei7PA9"
   },
   "source": [
    "☝️ 불리언형 (Booleans):\n",
    "- Java의 boolean과 동일합니다.\n",
    "- True 또는 False 값을 가집니다. (첫 글자는 대문자)"
   ]
  },
  {
   "cell_type": "code",
   "execution_count": 4,
   "metadata": {
    "colab": {
     "base_uri": "https://localhost:8080/"
    },
    "executionInfo": {
     "elapsed": 142,
     "status": "ok",
     "timestamp": 1754115252980,
     "user": {
      "displayName": "Daehyun Cho",
      "userId": "17899950084767957204"
     },
     "user_tz": -540
    },
    "id": "krqCRaKuahU1",
    "outputId": "dc4d656d-d87d-4e6b-eeb5-f189d9c2ad84"
   },
   "outputs": [
    {
     "name": "stdout",
     "output_type": "stream",
     "text": [
      "불리언형 예시: True, 타입: <class 'bool'>\n"
     ]
    }
   ],
   "source": [
    "is_student = True\n",
    "print(f\"불리언형 예시: {is_student}, 타입: {type(is_student)}\")"
   ]
  },
  {
   "cell_type": "markdown",
   "metadata": {
    "id": "B0Zup6dZbOY4"
   },
   "source": [
    "### ⌨️ **실습 1**: `int`/`float`에 내장된 함수 사용해보기\n",
    "다음의 코드에서 None에 해당하는 코드를 수정하여 결과를 만들어주세요.\n",
    "\n",
    "예시)\n",
    "```python\n",
    "# 1. a에 1을 더해 a_1에 할당해주세요\n",
    "a_1 = a + 1\n",
    "```"
   ]
  },
  {
   "cell_type": "code",
   "execution_count": 5,
   "metadata": {
    "id": "62de5jY_LpJv",
    "outputId": "bdaf74ac-9e5b-4e46-ef34-090844d28951"
   },
   "outputs": [
    {
     "name": "stdout",
     "output_type": "stream",
     "text": [
      "✅ 모든 수치형 데이터 테스트 통과!\n"
     ]
    }
   ],
   "source": [
    "# 정답을 확인하는 assert 코드는 수정하지말고 진행해주세요\n",
    "a = -3.14159\n",
    "\n",
    "# TODO: None 부분을 직접 채워보세요 :)\n",
    "# 1. a의 절대값을 만들어서 `a_abs`에 할당해주세요.\n",
    "a_abs = abs(a) # TODO\n",
    "assert a_abs > 0, \"절댓값이 양수가 아닙니다.\"\n",
    "\n",
    "# 2. a를 반올림하여 `a_rounded`에 할당해주세요.\n",
    "a_rounded = round(a) # TODO\n",
    "assert isinstance(a_rounded, int), \"반올림 결과가 정수가 아닙니다.\"\n",
    "assert a_rounded == -3, \"반올림 결과가 올바르지 않습니다.\"\n",
    "\n",
    "# 3. a의 제곱을 `a_squared`에 할당해주세요.\n",
    "a_squared = pow(a, 2) # TODO\n",
    "expected_squared = 9.869587728099999\n",
    "tolerance = 1e-10\n",
    "assert abs(a_squared - expected_squared) < tolerance, \"제곱 결과가 예상값과 다릅니다.\"\n",
    "\n",
    "# 4. a의 절댓값과 원주율 π를 비교하여 얼마나 가까운지 확인해주세요.\n",
    "# 확인결과를 `is_close_to_pi`에 할당해주세요.\n",
    "# 참고: https://docs.python.org/3/library/math.html#math.isclose\n",
    "import math\n",
    "\n",
    "is_close_to_pi: bool = math.isclose(a, math.pi) # TODO\n",
    "assert isinstance(is_close_to_pi, bool), \"결과물이 boolean이 아닙니다.\"\n",
    "\n",
    "print(\"✅ 모든 수치형 데이터 테스트 통과!\")"
   ]
  },
  {
   "cell_type": "markdown",
   "metadata": {
    "id": "byCoW6Q4tnRr"
   },
   "source": [
    "📝 str (문자열형)\n",
    "- 문자들의 집합으로 Java의 String과 유사합니다.\n",
    "- 작은따옴표 ' ' 또는 큰따옴표 \" \" 모두 사용 가능합니다."
   ]
  },
  {
   "cell_type": "code",
   "execution_count": 6,
   "metadata": {
    "colab": {
     "base_uri": "https://localhost:8080/"
    },
    "executionInfo": {
     "elapsed": 5,
     "status": "ok",
     "timestamp": 1754115253003,
     "user": {
      "displayName": "Daehyun Cho",
      "userId": "17899950084767957204"
     },
     "user_tz": -540
    },
    "id": "XBPDO22VajXW",
    "outputId": "56b63a81-c1bf-4dbc-f6f5-78ef56f27fae"
   },
   "outputs": [
    {
     "name": "stdout",
     "output_type": "stream",
     "text": [
      "문자열 예시1: 김철수, 타입: <class 'str'>\n",
      "문자열 예시2: 안녕하세요!, 타입: <class 'str'>\n"
     ]
    }
   ],
   "source": [
    "name = \"김철수\"\n",
    "greeting = '안녕하세요!'\n",
    "print(f\"문자열 예시1: {name}, 타입: {type(name)}\")\n",
    "print(f\"문자열 예시2: {greeting}, 타입: {type(greeting)}\")"
   ]
  },
  {
   "cell_type": "markdown",
   "metadata": {
    "id": "VPlsiA0Ydhna"
   },
   "source": [
    "### ⌨️ **실습 2**: `str`에 내장된 함수 사용해보기\n",
    "지시 사항에 따라 다음 실습을 완성해주세요."
   ]
  },
  {
   "cell_type": "code",
   "execution_count": 7,
   "metadata": {
    "id": "m3BUNqL9LpJx",
    "outputId": "32eb77ad-698a-4ccb-fa3e-e5b38e59363e"
   },
   "outputs": [
    {
     "name": "stdout",
     "output_type": "stream",
     "text": [
      "✅ 모든 문자열 테스트 통과!\n"
     ]
    }
   ],
   "source": [
    "s = \"Hello World!\"\n",
    "\n",
    "# TODO\n",
    "# 1. s를 소문자로 변환하여 `s_lower`에 할당해주세요.\n",
    "s_lower = s.lower()\n",
    "assert s_lower == \"hello world!\", \"소문자 변환이 올바르지 않습니다.\"\n",
    "\n",
    "# 2. s를 대문자로 변환하여 `s_upper`에 할당해주세요.\n",
    "s_upper = s.upper()\n",
    "assert s_upper == \"HELLO WORLD!\", \"대문자 변환이 올바르지 않습니다.\"\n",
    "\n",
    "# 3. s를 두 개 붙인 결과를 `s_double`에 할당해주세요.\n",
    "s_double = s + s\n",
    "assert s_double == \"Hello World!Hello World!\", \"문자열 덧셈 결과가 다릅니다.\"\n",
    "\n",
    "# 4. s가 !로 끝나는지 아닌지의 결과를 `ends_with_exclamation`에 할당해주세요.\n",
    "# HINT: https://docs.python.org/3/library/stdtypes.html#str.endswith\n",
    "ends_with_exclamation: bool = s.endswith('!')\n",
    "assert ends_with_exclamation is True, '\"!\"로 끝나지 않습니다.'\n",
    "\n",
    "# 5. s가 int/float으로 변환 가능이 가능할까요? 가능여부를 `is_convertible`에 할당해주세요.\n",
    "# https://docs.python.org/ko/3.13/library/stdtypes.html#str.isdigit\n",
    "is_convertible: bool = s.isdigit()\n",
    "assert isinstance(is_convertible, bool), \"문자열이 숫자로 변환 가능하다고 잘못 판단했습니다.\"\n",
    "\n",
    "print(\"✅ 모든 문자열 테스트 통과!\")"
   ]
  },
  {
   "cell_type": "markdown",
   "metadata": {
    "id": "7B3zu8AuQ2Lu"
   },
   "source": [
    "### 📝 **참고**: Python은 변수 선언 시 타입을 명시하지 않습니다. (동적 타이핑)\n",
    "\n",
    "**JAVA**\n",
    "```java\n",
    "Java: int count = 10;\n",
    "```\n",
    "\n",
    "**python**\n",
    "```python\n",
    "count = 10 # (변수에 할당되는 값에 따라 타입이 결정됩니다.)\n",
    "```\n",
    "\n",
    "**typehint**: 동적타이핑을 사용하다보니 변수가 어떤 자료형인지 헷갈릴 수 있습니다. 그래서 변수의 자료형을 알려주는 **typehint**를 사용하면 다른 개발자들과 협업할 때 아주 좋은 관례입니다.\n",
    "```python\n",
    "count: int = 10\n",
    "```"
   ]
  },
  {
   "cell_type": "markdown",
   "metadata": {
    "id": "BlQ2kUFUfBCI"
   },
   "source": [
    "## 1.2 `list`, `tuple`, `set`, `dict`"
   ]
  },
  {
   "cell_type": "markdown",
   "metadata": {
    "id": "yc4XV1MVrPha"
   },
   "source": [
    "📋 List (리스트)\n",
    "- 순서가 있고, 변경 가능한 자료형입니다.\n",
    "- 다양한 타입의 데이터를 함께 저장 가능합니다."
   ]
  },
  {
   "cell_type": "code",
   "execution_count": 8,
   "metadata": {
    "colab": {
     "base_uri": "https://localhost:8080/"
    },
    "executionInfo": {
     "elapsed": 12,
     "status": "ok",
     "timestamp": 1756443394289,
     "user": {
      "displayName": "Daehyun Cho",
      "userId": "17899950084767957204"
     },
     "user_tz": -540
    },
    "id": "ej1RCegNpLBq",
    "outputId": "3bfec00b-34f9-4b72-c498-f9fd4b1ba00b"
   },
   "outputs": [
    {
     "name": "stdout",
     "output_type": "stream",
     "text": [
      "\n",
      "리스트 예시: [1, 2, 'apple', True], 타입: <class 'list'>\n",
      "리스트 첫 번째 요소: 1\n",
      "요소 추가 후 리스트: [1, 2, 'apple', True, 'banana']\n",
      "리스트 길이: 5\n"
     ]
    }
   ],
   "source": [
    "my_list = [1, 2, 'apple', True]\n",
    "print(f\"\\n리스트 예시: {my_list}, 타입: {type(my_list)}\")\n",
    "print(f\"리스트 첫 번째 요소: {my_list[0]}\")\n",
    "my_list.append('banana')\n",
    "print(f\"요소 추가 후 리스트: {my_list}\")\n",
    "print(f\"리스트 길이: {len(my_list)}\")"
   ]
  },
  {
   "cell_type": "code",
   "execution_count": 9,
   "metadata": {
    "colab": {
     "base_uri": "https://localhost:8080/"
    },
    "executionInfo": {
     "elapsed": 7,
     "status": "ok",
     "timestamp": 1756443394297,
     "user": {
      "displayName": "Daehyun Cho",
      "userId": "17899950084767957204"
     },
     "user_tz": -540
    },
    "id": "BH6Zpy1VLpJx",
    "outputId": "2ccac49c-a24b-4589-d5dd-98b38820c7cc"
   },
   "outputs": [
    {
     "name": "stdout",
     "output_type": "stream",
     "text": [
      "리스트에 'apple'이 있나요? True\n",
      "리스트에 3이 있나요? False\n",
      "리스트 이어 붙이기: [1, 2, 3, 4]\n",
      "리스트 일부 추출 (1~3번째): [20, 30, 40]\n",
      "짝수 인덱스 요소들: [20, 40]\n"
     ]
    }
   ],
   "source": [
    "# 리스트 특정 값 포함 여부 확인\n",
    "print(f\"리스트에 'apple'이 있나요? {'apple' in my_list}\")\n",
    "print(f\"리스트에 3이 있나요? {3 in my_list}\")\n",
    "\n",
    "# 리스트 이어 붙이기\n",
    "l1 = [1, 2]\n",
    "l2 = [3, 4]\n",
    "combined = l1 + l2\n",
    "print(f\"리스트 이어 붙이기: {combined}\")\n",
    "\n",
    "# 리스트 슬라이싱\n",
    "numbers = [10, 20, 30, 40, 50]\n",
    "print(f\"리스트 일부 추출 (1~3번째): {numbers[1:4]}\")   # [20, 30, 40]\n",
    "\n",
    "# 짝수 인덱스 추출\n",
    "print(f\"짝수 인덱스 요소들: {numbers[1::2]}\")  # [20, 40]"
   ]
  },
  {
   "cell_type": "markdown",
   "metadata": {
    "id": "8fX4JEUYfbUi"
   },
   "source": [
    "### ⌨️ **실습 3**: `list`에 내장된 함수 사용해보기\n",
    "\n",
    "None 부분을 지시사항에 맞춰 직접 채우며 테스트코드가 동작하도록 문제를 풀어보세요 :)   \n",
    "혹시 문제를 풀어보다가 막히면 [Python에서 제공하는 공식 List Documentation](https://docs.python.org/ko/3.13/tutorial/datastructures.html)을 확인해보세요.   \n",
    "정답을 확인하는 assert 코드는 수정하지말고 진행해주세요"
   ]
  },
  {
   "cell_type": "code",
   "execution_count": 10,
   "metadata": {
    "id": "YT9KvBPjLpJy",
    "outputId": "17bbc28b-1433-4da5-fd89-a65ae44e0343"
   },
   "outputs": [
    {
     "name": "stdout",
     "output_type": "stream",
     "text": [
      "✅ 모든 리스트 테스트 통과!\n"
     ]
    }
   ],
   "source": [
    "# 초기 리스트\n",
    "l = [1, 2, 3, 4]\n",
    "\n",
    "# TODO\n",
    "# 1. l에는 몇 개의 원소가 들어있나요? `length`에 할당해주세요\n",
    "length = len(l)\n",
    "assert length == 4\n",
    "\n",
    "# 2. l에 1이 들어있나요? 1이 있는지 없는지 `has_1`에 할당해주세요.\n",
    "has_1: bool = 1 in l\n",
    "assert has_1 is True\n",
    "\n",
    "# 3. l에 5가 들어있나요? 5가 있는지 없는지 `has_5`에 할당해주세요.\n",
    "has_5: bool = 5 in l\n",
    "assert has_5 is False\n",
    "\n",
    "# 4. l을 이어붙일 수 있나요? (출력값: [1, 2, 3, 4, 1, 2, 3, 4])\n",
    "# 이어 붙일 수 있다면 `doubled_l`에 할당해주세요.\n",
    "doubled_l = l + l\n",
    "assert doubled_l == [1, 2, 3, 4, 1, 2, 3, 4]\n",
    "\n",
    "# 5. l에서 2, 3만 뽑아낸 `sublist_2_3`를 만들어주세요.\n",
    "sublist_2_3 = l[1:3]\n",
    "assert sublist_2_3 == [2, 3]\n",
    "\n",
    "# 6. l에서 짝수번째 배열만 있는 `even_indexed`를 만들어주세요.\n",
    "even_indexed = l[1::2]\n",
    "assert even_indexed == [2, 4]\n",
    "\n",
    "# 7. l에 j = [5, 6, 7, 8]을 이어붙여 l에 할당해주세요.\n",
    "j = [5, 6, 7, 8]\n",
    "l += j\n",
    "assert l == [1, 2, 3, 4, 5, 6, 7, 8]\n",
    "\n",
    "# 8. l 내에서 최대값과 최소값을 각각 `max_val`, `min_val`에 할당해주세요\n",
    "max_val = max(l)\n",
    "min_val = min(l)\n",
    "assert max_val == 8\n",
    "assert min_val == 1\n",
    "\n",
    "# 9. l에는 1이 등장한 횟수를 `count_1`에 할당해주세요.\n",
    "count_1 = l.count(1)\n",
    "assert count_1 == 1\n",
    "\n",
    "# 10. l 내에서 3의 위치를 `index_3`에 할당해주세요.\n",
    "index_3 = l.index(3)\n",
    "assert index_3 == 2\n",
    "\n",
    "# 11. l에서 3을 지워보세요.\n",
    "# 새로운 변수가 아닌 l 내에서 3을 지워보세요.\n",
    "# TODO\n",
    "l.remove(3)\n",
    "assert 3 not in l\n",
    "\n",
    "# 12. l에 다시 3을 같은 자리에 넣어보세요.\n",
    "# TODO\n",
    "l.insert(index_3, 3)\n",
    "assert l[2] == 3\n",
    "\n",
    "# 13. l을 뒤집은 `reversed_l`을 만들어주세요.\n",
    "reversed_l = l[::-1]\n",
    "assert reversed_l == [8, 7, 6, 5, 4, 3, 2, 1]\n",
    "\n",
    "# 14. 위에서 뒤집은 l을 다시 뒤집어보세요.\n",
    "l = reversed_l[::-1]\n",
    "assert l == [1, 2, 3, 4, 5, 6, 7, 8]\n",
    "\n",
    "# 15. l의 맨 끝에 원소 5를 추가해보세요.\n",
    "# TODO\n",
    "l.append(5)\n",
    "assert l[-1] == 5\n",
    "assert l.count(5) == 2\n",
    "\n",
    "# 16. l의 모든 원소를 없애버리세요.\n",
    "# TODO\n",
    "l.clear()\n",
    "assert l == []\n",
    "\n",
    "print(\"✅ 모든 리스트 테스트 통과!\")"
   ]
  },
  {
   "cell_type": "markdown",
   "metadata": {
    "id": "mvo8PaYzrU4z"
   },
   "source": [
    "📦 Tuple (튜플)\n",
    "- 순서가 있지만, 변경 불가능한 자료형 (immutable) 입니다. 한 번 객체를 생성하면 구성요소를 바꿀 수 없습니다.\n",
    "- 리스트보다 메모리 효율이 좋고, 안전한 데이터 저장에 적합합니다."
   ]
  },
  {
   "cell_type": "code",
   "execution_count": 11,
   "metadata": {
    "colab": {
     "base_uri": "https://localhost:8080/"
    },
    "executionInfo": {
     "elapsed": 143,
     "status": "ok",
     "timestamp": 1754116491125,
     "user": {
      "displayName": "Daehyun Cho",
      "userId": "17899950084767957204"
     },
     "user_tz": -540
    },
    "id": "67hipPlGfSzk",
    "outputId": "a181fdb1-b29f-4974-f958-3c609544f8cc"
   },
   "outputs": [
    {
     "name": "stdout",
     "output_type": "stream",
     "text": [
      "\n",
      "튜플 예시: (10, 20, 'cherry'), 타입: <class 'tuple'>\n",
      "튜플 두 번째 요소: 20\n"
     ]
    }
   ],
   "source": [
    "my_tuple = (10, 20, 'cherry')\n",
    "print(f\"\\n튜플 예시: {my_tuple}, 타입: {type(my_tuple)}\")\n",
    "print(f\"튜플 두 번째 요소: {my_tuple[1]}\")\n",
    "# my_tuple.append(30) # 주석 해제 시 오류 발생: 'tuple' object has no attribute 'append'"
   ]
  },
  {
   "cell_type": "markdown",
   "metadata": {
    "id": "Mdp7rREagqde"
   },
   "source": [
    "### ⌨️ **실습 4**: `tuple`에 내장된 함수 사용해보기\n",
    "\n",
    "None 부분을 지시사항에 맞춰 직접 채우며 테스트코드가 동작하도록 문제를 풀어보세요 :)   \n",
    "정답을 확인하는 assert 코드는 수정하지말고 진행해주세요"
   ]
  },
  {
   "cell_type": "code",
   "execution_count": 12,
   "metadata": {
    "id": "Y9zoOGHKLpJy",
    "outputId": "e647e133-7797-4af3-974b-9dbf7f4742ff"
   },
   "outputs": [
    {
     "name": "stdout",
     "output_type": "stream",
     "text": [
      "✅ 모든 튜플 테스트 통과!\n"
     ]
    }
   ],
   "source": [
    "# 초기 튜플\n",
    "t = (1, 2, 3, 4)\n",
    "\n",
    "# TODO\n",
    "# 1. t의 원소 개수를 `length`에 할당해주세요.\n",
    "length = len(t)\n",
    "assert length == 4\n",
    "\n",
    "# 2. t에 1이 들어있나요? 1이 있는지 없는지 `has_1`에 할당해주세요.\n",
    "has_1 = 1 in t\n",
    "assert has_1 is True\n",
    "\n",
    "# 3. t에 5가 들어있나요? 5가 있는지 없는지 `has_5`에 할당해주세요.\n",
    "has_5 = 5 in t\n",
    "assert has_5 is False\n",
    "\n",
    "# 4. t을 이어붙일 수 있나요? (출력값: [1, 2, 3, 4, 1, 2, 3, 4])\n",
    "# 이어 붙일 수 있다면 `doubled_t`에 할당해주세요\n",
    "doubled_t = t + t\n",
    "assert doubled_t == (1, 2, 3, 4, 1, 2, 3, 4)\n",
    "\n",
    "# 5. t 내의 2, 3만 가진 `subtuple_2_3`를 만들어주세요.\n",
    "subtuple_2_3 = t[1:3]\n",
    "assert subtuple_2_3 == (2, 3)\n",
    "\n",
    "# 6. t에 u = (5, 6, 7, 8)를 이어붙일 수 있나요? 아니면 새로운 변수에 할당해야하나요?\n",
    "# 새로운 변수에 할당해야하면 `combined`에 할당해주세요.\n",
    "u = (5, 6, 7, 8)\n",
    "# t += u\n",
    "combined = t + u\n",
    "assert combined == (1, 2, 3, 4, 5, 6, 7, 8)\n",
    "\n",
    "# 7. t 내에서 최대값과 최소값을 각각 max_val, min_val에 할당해주세요.\n",
    "max_val = max(t)\n",
    "min_val = min(t)\n",
    "assert max_val == 4\n",
    "assert min_val == 1\n",
    "\n",
    "# 8. t에 1이 등장한 횟수를 `count_1`에 할당해주세요.\n",
    "count_1 = t.count(1)\n",
    "assert count_1 == 1\n",
    "\n",
    "# 9. t 내에서 3의 위치를 할당해주세요.\n",
    "index_3 = t.index(3)\n",
    "assert index_3 == 2\n",
    "\n",
    "# 10. t에서 3을 지울 수 있나요? (불가능하므로 예외 처리)\n",
    "try:\n",
    "    t.remove(3)\n",
    "    assert False, \"튜플에서 remove가 작동하면 안 됩니다.\"\n",
    "except AttributeError:\n",
    "    pass  # 정상적으로 예외 발생\n",
    "\n",
    "# 11. t을 뒤집은 결과를 `reversed_t`를 할당해주세요.\n",
    "reversed_t = t[::-1]\n",
    "assert reversed_t == (4, 3, 2, 1)\n",
    "\n",
    "print(\"✅ 모든 튜플 테스트 통과!\")"
   ]
  },
  {
   "cell_type": "markdown",
   "metadata": {
    "id": "EMV0eZgNre50"
   },
   "source": [
    "🧮 Set (세트)\n",
    "- 순서 없음, 중복 허용 안됩니다. Java의 HashSet과 유사합니다.\n",
    "- 집합 연산에 유용: 합집합, 교집합, 차집합 등"
   ]
  },
  {
   "cell_type": "code",
   "execution_count": 13,
   "metadata": {
    "id": "1tteGJ4ifT3W"
   },
   "outputs": [
    {
     "name": "stdout",
     "output_type": "stream",
     "text": [
      "\n",
      "세트 예시: {1, 2, 3}, 타입: <class 'set'>\n",
      "요소 추가 후 세트: {1, 2, 3, 4}\n"
     ]
    }
   ],
   "source": [
    "my_set = {1, 2, 3, 2, 1}\n",
    "print(f\"\\n세트 예시: {my_set}, 타입: {type(my_set)}\") # 중복이 제거됨을 확인\n",
    "my_set.add(4)\n",
    "print(f\"요소 추가 후 세트: {my_set}\")"
   ]
  },
  {
   "cell_type": "markdown",
   "metadata": {
    "id": "z69GM6Teha-d"
   },
   "source": [
    "### ⌨️ **실습 5**: `set`에 내장된 함수 사용해보기\n",
    "\n",
    "\n",
    "None 부분을 지시사항에 맞춰 직접 채우며 테스트코드가 동작하도록 문제를 풀어보세요 :)   \n",
    "정답을 확인하는 assert 코드는 수정하지말고 진행해주세요"
   ]
  },
  {
   "cell_type": "code",
   "execution_count": 14,
   "metadata": {
    "id": "HvgDoShxLpJz",
    "outputId": "40ceaab8-302b-477c-a50f-58650ee6f098"
   },
   "outputs": [
    {
     "name": "stdout",
     "output_type": "stream",
     "text": [
      "✅ 모든 집합(set) 테스트 통과!\n"
     ]
    }
   ],
   "source": [
    "# 초기 집합\n",
    "s = {1, 2, 3, 4}\n",
    "\n",
    "# TODO\n",
    "# 1. s의 원소수를 `length`에 할당해주세요.\n",
    "length = len(s)\n",
    "assert length == 4\n",
    "\n",
    "# 2. s에 1이 들어있나요? 1이 있는지 없는지 `has_1`에 할당해주세요.\n",
    "has_1 = 1 in s\n",
    "assert has_1 is True\n",
    "\n",
    "# 3. s에 5가 들어있나요? 5가 있는지 없는지 `has_5`에 할당해주세요.\n",
    "has_5 = 5 in s\n",
    "assert has_5 is False\n",
    "\n",
    "# 4. s을 이어붙일 수 있나요? (불가능 — 집합은 덧셈 연산 불가)\n",
    "try:\n",
    "    result = s + s\n",
    "    assert False, \"집합은 + 연산이 불가능해야 합니다.\"\n",
    "except TypeError:\n",
    "    pass  # 정상적으로 예외 발생\n",
    "\n",
    "# 5. s에서 2, 3만 출력할 수 있나요? (인덱싱이 가능한가요?)\n",
    "try:\n",
    "    subset = s[1:3]\n",
    "    assert False, \"집합은 인덱싱이 불가능해야 합니다.\"\n",
    "except TypeError:\n",
    "    pass  # 정상적으로 예외 발생\n",
    "\n",
    "# 6. s 내에서 최대값과 최소값을 각각 `max_val`, `min_val`에 할당해주세요.\n",
    "max_val = max(s)\n",
    "min_val = min(s)\n",
    "assert max_val == 4\n",
    "assert min_val == 1\n",
    "\n",
    "# 7. s에서 3을 지울 수 있나요?\n",
    "s = s - {3}\n",
    "assert 3 not in s\n",
    "\n",
    "s2 = {3, 4, 5, 6}\n",
    "# 8. s와 s2의 교집합 `intersection`을 만들어주세요.\n",
    "intersection = s.intersection(s2)\n",
    "assert intersection == {4}\n",
    "\n",
    "# 9. s와 s2의 합집합 `union`을 만들어주세요.\n",
    "union = s.union(s2)\n",
    "assert union == {1, 2, 3, 4, 5, 6}\n",
    "\n",
    "# 10. s와 s2의 차집합(s - s2) `difference`를 만들어주세요.\n",
    "difference = s.difference(s2)\n",
    "assert difference == {1, 2}\n",
    "\n",
    "# 11. s와 s2의 대칭차집합 `symmetric_diff`를 만들어주세요.\n",
    "symmetric_diff = s.symmetric_difference(s2)\n",
    "assert symmetric_diff == {1, 2, 3, 5, 6}\n",
    "\n",
    "print(\"✅ 모든 집합(set) 테스트 통과!\")"
   ]
  },
  {
   "cell_type": "markdown",
   "metadata": {
    "id": "QaN4CwwarFwE"
   },
   "source": [
    "🗂️ Dict (딕셔너리)\n",
    "- 키-값 쌍으로 구성된 자료형으로 Java의 HashMap과 유사합니다.\n",
    "- 순서 없음 (Python 3.7 이후부터는 삽입 순서 유지)"
   ]
  },
  {
   "cell_type": "code",
   "execution_count": 15,
   "metadata": {
    "id": "Po0mzjYrfWyI"
   },
   "outputs": [
    {
     "name": "stdout",
     "output_type": "stream",
     "text": [
      "\n",
      "딕셔너리 예시: {'name': '김영희', 'age': 25, 'city': '서울'}, 타입: <class 'dict'>\n",
      "딕셔너리에서 'name' 키의 값: 김영희\n",
      "수정 및 추가 후 딕셔너리: {'name': '김영희', 'age': 26, 'city': '서울', 'job': '엔지니어'}\n"
     ]
    }
   ],
   "source": [
    "my_dict = {'name': '김영희', 'age': 25, 'city': '서울'}\n",
    "print(f\"\\n딕셔너리 예시: {my_dict}, 타입: {type(my_dict)}\")\n",
    "print(f\"딕셔너리에서 'name' 키의 값: {my_dict['name']}\")\n",
    "my_dict['age'] = 26 # 값 변경\n",
    "my_dict['job'] = '엔지니어' # 새 키-값 추가\n",
    "print(f\"수정 및 추가 후 딕셔너리: {my_dict}\")"
   ]
  },
  {
   "cell_type": "markdown",
   "metadata": {
    "id": "q8z8Bvy9lj3n"
   },
   "source": [
    "Python에는 `dict`에 부가적인 기능을 탑재한 빌트인 딕셔너리가 추가로 존재합니다. 자주 사용되는 두 가지 `dict`가 있는데 바로 `defaultdict`와 `Counter`입니다.\n",
    "- **`defaultdict`**: 기본값을 지정할 수 있는 딕셔너리로,  키가 존재하지 않을 때 KeyError 대신 지정된 기본값을 자동으로 생성합니다.\n",
    "- **`Counter`**: 리스트나 문자열 등 반복 가능한 객체의 요소 개수를 자동으로 세어주는 딕셔너리로 가장 많이 등장한 요소를 쉽게 파악할 수 있음.\n"
   ]
  },
  {
   "cell_type": "code",
   "execution_count": 16,
   "metadata": {
    "colab": {
     "base_uri": "https://localhost:8080/"
    },
    "executionInfo": {
     "elapsed": 15,
     "status": "ok",
     "timestamp": 1754303556184,
     "user": {
      "displayName": "Daehyun Cho",
      "userId": "17899950084767957204"
     },
     "user_tz": -540
    },
    "id": "IsJdSMgDliUU",
    "outputId": "413fb8c3-c0a6-4924-af81-ae31f03f51ca"
   },
   "outputs": [
    {
     "name": "stdout",
     "output_type": "stream",
     "text": [
      "defaultdict 결과: {'apple': 1, 'banana': 2}\n",
      "Counter 결과: {'apple': 2, 'banana': 3, 'cheese': 1}\n"
     ]
    }
   ],
   "source": [
    "from collections import defaultdict, Counter\n",
    "\n",
    "# defaultdict 예시\n",
    "dd = defaultdict(int)\n",
    "# 아직 `apple`이라는 key값에 해당하는 value를 만들어주지 않았으나\n",
    "# += 1 연산이 가능함.\n",
    "dd['apple'] += 1\n",
    "dd['banana'] += 2\n",
    "print(\"defaultdict 결과:\", dict(dd))  # {'apple': 1, 'banana': 2}\n",
    "\n",
    "# Counter 예시\n",
    "fruits = ['apple', 'banana', 'apple', 'cheese', 'banana', 'banana']\n",
    "counter = Counter(fruits)\n",
    "print(\"Counter 결과:\", dict(counter))  # {'apple': 2, 'banana': 3, 'cheese': 1}"
   ]
  },
  {
   "cell_type": "markdown",
   "metadata": {
    "id": "b37znVNDis_K"
   },
   "source": [
    "### ⌨️ **실습 6**: `dict`에 내장된 함수 사용해보기\n",
    "\n",
    "None 부분을 지시사항에 맞춰 직접 채우며 테스트코드가 동작하도록 문제를 풀어보세요 :)   \n",
    "정답을 확인하는 assert 코드는 수정하지말고 진행해주세요"
   ]
  },
  {
   "cell_type": "code",
   "execution_count": 26,
   "metadata": {
    "id": "1HSlWTydLpJ_",
    "outputId": "d15e0e61-f8f6-4c2f-9ad2-e3b2f2bc14e9"
   },
   "outputs": [
    {
     "name": "stdout",
     "output_type": "stream",
     "text": [
      "✅ 모든 딕셔너리 테스트 통과!\n"
     ]
    }
   ],
   "source": [
    "# 초기 딕셔너리\n",
    "d = {\n",
    "    1: \"apple\",\n",
    "    2: \"banana\",\n",
    "    3: \"cheese\",\n",
    "}\n",
    "\n",
    "# 1. d에는 몇 개의 원소가 들어있나요?\n",
    "length = len(d)\n",
    "assert length == 3\n",
    "\n",
    "# 2. d의 key들을 list에 할당해주세요\n",
    "keys = list(d.keys())\n",
    "assert keys == [1, 2, 3]\n",
    "\n",
    "# 3. d에 4라는 key가 있나요?\n",
    "has_key_4 = 4 in d.keys()\n",
    "assert has_key_4 is False\n",
    "\n",
    "# 4. d[4]는 오류 없이 출력될 수 있을까요?\n",
    "# 오류 없이 key가 존재하면 value를 반환하고, 없으면 None을 반환하는 방법\n",
    "# https://docs.python.org/ko/3.13/library/stdtypes.html#dict.get\n",
    "value_4 = d[4] if 4 in d else None\n",
    "assert value_4 is None\n",
    "\n",
    "# 5. d와 d2를 합쳐보세요.\n",
    "d2 = {\n",
    "    4: \"dragonfruit\"\n",
    "}\n",
    "merged = {**d, **d2}\n",
    "\n",
    "assert merged == {\n",
    "    1: \"apple\",\n",
    "    2: \"banana\",\n",
    "    3: \"cheese\",\n",
    "    4: \"dragonfruit\"\n",
    "}\n",
    "\n",
    "print(\"✅ 모든 딕셔너리 테스트 통과!\")"
   ]
  },
  {
   "cell_type": "markdown",
   "metadata": {
    "id": "hRL7PPddrC3q"
   },
   "source": [
    "## 1.3 조건문/반복문 사용하기"
   ]
  },
  {
   "cell_type": "markdown",
   "metadata": {
    "id": "OoHZX8iC_JTh"
   },
   "source": [
    "`if`문의 가장 기본적인 사용방법은 다음과 같습니다.\n",
    "`if`문 안에는 항상 `boolean`으로 해석 가능한 값이 들어가야합니다."
   ]
  },
  {
   "cell_type": "code",
   "execution_count": 27,
   "metadata": {
    "colab": {
     "base_uri": "https://localhost:8080/"
    },
    "executionInfo": {
     "elapsed": 46,
     "status": "ok",
     "timestamp": 1754119619574,
     "user": {
      "displayName": "Daehyun Cho",
      "userId": "17899950084767957204"
     },
     "user_tz": -540
    },
    "id": "4v-iuaKorSu7",
    "outputId": "b7dfebe8-b9fa-4f2d-a0df-7743fd575dd4"
   },
   "outputs": [
    {
     "name": "stdout",
     "output_type": "stream",
     "text": [
      "학점: B\n",
      "입장 가능합니다.\n"
     ]
    }
   ],
   "source": [
    "score = 85\n",
    "\n",
    "if score >= 90:\n",
    "    print(\"학점: A\")\n",
    "elif score >= 80:\n",
    "    print(\"학점: B\")\n",
    "elif score >= 70:\n",
    "    print(\"학점: C\")\n",
    "else:\n",
    "    print(\"학점: D\")\n",
    "\n",
    "# 논리 연산자 사용 예시\n",
    "age = 20\n",
    "has_card = True\n",
    "\n",
    "if age >= 19 and has_card:\n",
    "    print(\"입장 가능합니다.\")\n",
    "else:\n",
    "    print(\"입장 불가능합니다.\")"
   ]
  },
  {
   "cell_type": "code",
   "execution_count": 28,
   "metadata": {
    "colab": {
     "base_uri": "https://localhost:8080/"
    },
    "executionInfo": {
     "elapsed": 42,
     "status": "ok",
     "timestamp": 1754119662289,
     "user": {
      "displayName": "Daehyun Cho",
      "userId": "17899950084767957204"
     },
     "user_tz": -540
    },
    "id": "vlw9LKmsrXKR",
    "outputId": "2915b92a-66d1-4f2c-e324-8dd0ab2999ce"
   },
   "outputs": [
    {
     "name": "stdout",
     "output_type": "stream",
     "text": [
      "\n",
      "--- 과일 목록 ---\n",
      "apple\n",
      "banana\n",
      "cherry\n"
     ]
    }
   ],
   "source": [
    "# for 루프: 순회 가능한(iterable) 객체의 요소를 하나씩 순회합니다.\n",
    "# Java의 enhanced for loop (for-each)와 유사합니다.\n",
    "fruits = [\"apple\", \"banana\", \"cherry\"]\n",
    "print(\"\\n--- 과일 목록 ---\")\n",
    "for fruit in fruits:\n",
    "    print(fruit)"
   ]
  },
  {
   "cell_type": "code",
   "execution_count": 29,
   "metadata": {
    "colab": {
     "base_uri": "https://localhost:8080/"
    },
    "executionInfo": {
     "elapsed": 10,
     "status": "ok",
     "timestamp": 1754119662419,
     "user": {
      "displayName": "Daehyun Cho",
      "userId": "17899950084767957204"
     },
     "user_tz": -540
    },
    "id": "FgzE0NCDrYwc",
    "outputId": "2896a053-58da-437e-d2b7-d4393367cfa8"
   },
   "outputs": [
    {
     "name": "stdout",
     "output_type": "stream",
     "text": [
      "\n",
      "--- 0부터 4까지 출력 ---\n",
      "0\n",
      "1\n",
      "2\n",
      "3\n",
      "4\n",
      "\n",
      "--- 2부터 10까지 짝수 출력 ---\n",
      "2\n",
      "4\n",
      "6\n",
      "8\n",
      "10\n"
     ]
    }
   ],
   "source": [
    "# range() 함수와 함께 사용하는 for 루프: 특정 횟수만큼 반복할 때 유용합니다.\n",
    "# Java의 for (int i = 0; i < n; i++)와 유사합니다.\n",
    "print(\"\\n--- 0부터 4까지 출력 ---\")\n",
    "for i in range(5): # 0부터 4까지 (5는 포함 안됨)\n",
    "    print(i)\n",
    "\n",
    "print(\"\\n--- 2부터 10까지 짝수 출력 ---\")\n",
    "for i in range(2, 11, 2): # 시작 값, 끝 값 (포함 안됨), 스텝\n",
    "    print(i)"
   ]
  },
  {
   "cell_type": "code",
   "execution_count": 30,
   "metadata": {
    "colab": {
     "base_uri": "https://localhost:8080/"
    },
    "executionInfo": {
     "elapsed": 16,
     "status": "ok",
     "timestamp": 1754119662613,
     "user": {
      "displayName": "Daehyun Cho",
      "userId": "17899950084767957204"
     },
     "user_tz": -540
    },
    "id": "ARSbjQo2ra5E",
    "outputId": "efa820f1-04c8-4be6-8baf-a9fe639b7443"
   },
   "outputs": [
    {
     "name": "stdout",
     "output_type": "stream",
     "text": [
      "\n",
      "--- 카운트 다운 ---\n",
      "5\n",
      "4\n",
      "3\n",
      "2\n",
      "1\n",
      "발사!\n"
     ]
    }
   ],
   "source": [
    "# while 루프: 조건이 True인 동안 반복합니다.\n",
    "print(\"\\n--- 카운트 다운 ---\")\n",
    "count = 5\n",
    "while count > 0:\n",
    "    print(count)\n",
    "    count -= 1\n",
    "print(\"발사!\")"
   ]
  },
  {
   "cell_type": "code",
   "execution_count": 31,
   "metadata": {
    "colab": {
     "base_uri": "https://localhost:8080/"
    },
    "executionInfo": {
     "elapsed": 11,
     "status": "ok",
     "timestamp": 1754119662795,
     "user": {
      "displayName": "Daehyun Cho",
      "userId": "17899950084767957204"
     },
     "user_tz": -540
    },
    "id": "jPlrrAP3rb7g",
    "outputId": "a7009fe4-dce2-4e4f-b48d-f1f5443d795c"
   },
   "outputs": [
    {
     "name": "stdout",
     "output_type": "stream",
     "text": [
      "\n",
      "--- break와 continue ---\n",
      "0\n",
      "1\n",
      "2\n",
      "4\n",
      "5\n",
      "6\n"
     ]
    }
   ],
   "source": [
    "# break와 continue\n",
    "print(\"\\n--- break와 continue ---\")\n",
    "for i in range(10):\n",
    "    if i == 3:\n",
    "        continue # 현재 반복 건너뛰고 다음 반복으로\n",
    "    if i == 7:\n",
    "        break # 루프 완전히 종료\n",
    "    print(i)"
   ]
  },
  {
   "cell_type": "markdown",
   "metadata": {
    "id": "EBFU_NynA4b8"
   },
   "source": [
    "리스트 컴프리헨션 (List Comprehension)\n",
    "- 반복문을 간결하게 표현하는 Python의 강력한 기능\n",
    "- Java의 Stream API의 map, filter와 유사한 개념으로 볼 수 있습니다.\n",
    "- 🌟굉장히 아주 자주 매우🌟 등장하기 때문에 익숙해져야합니다.\n",
    "- https://docs.python.org/3/tutorial/datastructures.html#list-comprehensions"
   ]
  },
  {
   "cell_type": "code",
   "execution_count": 32,
   "metadata": {
    "colab": {
     "base_uri": "https://localhost:8080/"
    },
    "executionInfo": {
     "elapsed": 7,
     "status": "ok",
     "timestamp": 1754119662934,
     "user": {
      "displayName": "Daehyun Cho",
      "userId": "17899950084767957204"
     },
     "user_tz": -540
    },
    "id": "H9kuLMBhrCSo",
    "outputId": "db99bfd5-535b-48e2-8e92-a3ede9a4dc3b"
   },
   "outputs": [
    {
     "name": "stdout",
     "output_type": "stream",
     "text": [
      "\n",
      "--- 리스트 컴프리헨션 ---\n",
      "0부터 9까지 제곱: [0, 1, 4, 9, 16, 25, 36, 49, 64, 81]\n",
      "0부터 19까지 짝수: [0, 2, 4, 6, 8, 10, 12, 14, 16, 18]\n"
     ]
    }
   ],
   "source": [
    "print(\"\\n--- 리스트 컴프리헨션 ---\")\n",
    "squares = [x**2 for x in range(10)]\n",
    "print(f\"0부터 9까지 제곱: {squares}\")\n",
    "\n",
    "even_numbers = [x for x in range(20) if x % 2 == 0]\n",
    "print(f\"0부터 19까지 짝수: {even_numbers}\")"
   ]
  },
  {
   "cell_type": "markdown",
   "metadata": {
    "id": "nmUe1bbCpUkZ"
   },
   "source": [
    "🔗 `itertools`: 반복을 더 강력하게!\n",
    "itertools는 반복(iteration)을 더 유연하고 강력하게 만들어주는 파이썬 표준 라이브러리입니다. 특히 조합, 순열, 누적합 등 다양한 패턴을 쉽게 구현할 수 있어요.\n",
    "\n",
    "🔧 주요 함수\n",
    "- `product()`:\t데카르트 곱 (중첩 반복)\n",
    "- `permutations()`:\t순열 생성\n",
    "- `combinations()`:\t조합 생성\n",
    "- `accumulate()`:\t누적합 계산\n",
    "- `groupby()`:\t조건에 따라 그룹화"
   ]
  },
  {
   "cell_type": "code",
   "execution_count": 33,
   "metadata": {
    "colab": {
     "base_uri": "https://localhost:8080/"
    },
    "executionInfo": {
     "elapsed": 8,
     "status": "ok",
     "timestamp": 1754303635104,
     "user": {
      "displayName": "Daehyun Cho",
      "userId": "17899950084767957204"
     },
     "user_tz": -540
    },
    "id": "oEUOUJ1ypEWl",
    "outputId": "6d0c65a4-c87a-40f9-a6f0-22a9ef050f45"
   },
   "outputs": [
    {
     "name": "stdout",
     "output_type": "stream",
     "text": [
      "\n",
      "--- product ---\n",
      "(1, 'A')\n",
      "(1, 'B')\n",
      "(2, 'A')\n",
      "(2, 'B')\n",
      "\n",
      "--- permutations ---\n",
      "(1, 2)\n",
      "(1, 3)\n",
      "(2, 1)\n",
      "(2, 3)\n",
      "(3, 1)\n",
      "(3, 2)\n",
      "\n",
      "--- combinations ---\n",
      "(1, 2)\n",
      "(1, 3)\n",
      "(2, 3)\n",
      "\n",
      "--- accumulate ---\n",
      "누적합: [1, 3, 6, 10]\n",
      "누적곱: [1, 2, 6, 24]\n"
     ]
    }
   ],
   "source": [
    "from itertools import product, permutations, combinations, accumulate\n",
    "\n",
    "# product: 모든 조합 (중첩 반복)\n",
    "print(\"\\n--- product ---\")\n",
    "for p in product([1, 2], ['A', 'B']):\n",
    "    print(p)\n",
    "\n",
    "# permutations: 순열\n",
    "print(\"\\n--- permutations ---\")\n",
    "for p in permutations([1, 2, 3], 2):\n",
    "    print(p)\n",
    "\n",
    "# combinations: 조합\n",
    "print(\"\\n--- combinations ---\")\n",
    "for c in combinations([1, 2, 3], 2):\n",
    "    print(c)\n",
    "\n",
    "# accumulate: 누적합\n",
    "print(\"\\n--- accumulate ---\")\n",
    "import operator\n",
    "nums = [1, 2, 3, 4]\n",
    "print(\"누적합:\", list(accumulate(nums)))\n",
    "print(\"누적곱:\", list(accumulate(nums, func=operator.mul)))"
   ]
  },
  {
   "cell_type": "markdown",
   "metadata": {
    "id": "HDTuhSnGfJxI"
   },
   "source": [
    "## 1.4 함수 사용하기 (function)"
   ]
  },
  {
   "cell_type": "code",
   "execution_count": 34,
   "metadata": {
    "colab": {
     "base_uri": "https://localhost:8080/"
    },
    "executionInfo": {
     "elapsed": 10,
     "status": "ok",
     "timestamp": 1754119424264,
     "user": {
      "displayName": "Daehyun Cho",
      "userId": "17899950084767957204"
     },
     "user_tz": -540
    },
    "id": "n4yNi49ZkxEP",
    "outputId": "ea833872-ab0e-4a21-8ea1-4962598b1985"
   },
   "outputs": [
    {
     "name": "stdout",
     "output_type": "stream",
     "text": [
      "안녕하세요!\n"
     ]
    }
   ],
   "source": [
    "# 기본적인 함수 정의 및 호출\n",
    "def greet():\n",
    "  \"\"\"간단한 환영 메시지를 출력하는 함수\"\"\"\n",
    "  print(\"안녕하세요!\")\n",
    "\n",
    "greet() # 함수 호출"
   ]
  },
  {
   "cell_type": "code",
   "execution_count": 35,
   "metadata": {
    "colab": {
     "base_uri": "https://localhost:8080/"
    },
    "executionInfo": {
     "elapsed": 8,
     "status": "ok",
     "timestamp": 1754119424435,
     "user": {
      "displayName": "Daehyun Cho",
      "userId": "17899950084767957204"
     },
     "user_tz": -540
    },
    "id": "wmxfdlsIk8lX",
    "outputId": "883e973a-f69f-48c5-edc5-b12af853ca6d"
   },
   "outputs": [
    {
     "name": "stdout",
     "output_type": "stream",
     "text": [
      "안녕하세요, 제니님!\n"
     ]
    }
   ],
   "source": [
    "# 매개변수가 있는 함수\n",
    "def greet_name(name):\n",
    "  \"\"\"이름을 받아 환영 메시지를 출력하는 함수\"\"\"\n",
    "  print(f\"안녕하세요, {name}님!\")\n",
    "\n",
    "greet_name(name=\"제니\") # 매개변수 전달하여 호출"
   ]
  },
  {
   "cell_type": "code",
   "execution_count": 36,
   "metadata": {
    "colab": {
     "base_uri": "https://localhost:8080/"
    },
    "executionInfo": {
     "elapsed": 4,
     "status": "ok",
     "timestamp": 1754119424579,
     "user": {
      "displayName": "Daehyun Cho",
      "userId": "17899950084767957204"
     },
     "user_tz": -540
    },
    "id": "Cgk4Jqo6k9WA",
    "outputId": "af8d075d-d897-4b79-e911-06cd19e9d79c"
   },
   "outputs": [
    {
     "name": "stdout",
     "output_type": "stream",
     "text": [
      "5 + 3 = 8\n"
     ]
    }
   ],
   "source": [
    "# 반환 값이 있는 함수\n",
    "def add(a, b):\n",
    "  \"\"\"두 숫자를 더하고 결과를 반환하는 함수\"\"\"\n",
    "  return a + b\n",
    "\n",
    "result = add(a=5, b=3)\n",
    "print(f\"5 + 3 = {result}\")"
   ]
  },
  {
   "cell_type": "markdown",
   "metadata": {
    "id": "2yWM9373mDQp"
   },
   "source": [
    "### 📝 **참고**: PEP\n",
    "\n",
    "Python은 `;`을 사용하지 않고 tab을 기준으로 코드를 나누기 때문에 상대적으로 다른 프로그래밍 언어에 비해 작성 자유도가 높고 난이도가 낮은 편입니다. 그러다보니 개발자마다 작성하는 스타일이 달라 같은 언어임에도 불구하고 가독성이 배우 떨어질 대가 많습니다.\n",
    "\n",
    "이를 방지하기 위해 Python 사용자들은 **Python Enhancement Proposals(PEP)**를 제안하였습니다. 여기에는 문법적으로는 오류가 없으나, 상대적인 가독성과 생산성을 위해 Python '권장' 작성요령이 담겨져 있습니다. 이 중 가독성 (Style Guide)를 중심으로 작성된 것이 PEP 8인데요, 참고하면 좋습니다.\n",
    "\n",
    "다음은 제가 아주 자주 강조하는 사용자들이 지켰으면하는 세 가지 작성요령입니다.\n",
    "\n",
    "#### 1. 띄어쓰기\n",
    "```python\n",
    "# ❌ 노우..\n",
    "a=1\n",
    "a+=1\n",
    "x=a * 2-1\n",
    "\n",
    "# 🙏 제발\n",
    "a = 1\n",
    "a += 1\n",
    "x = a*2 - 1\n",
    "```\n",
    "\n",
    "#### 2. Line Break 위치\n",
    "```python\n",
    "# ❌ 노우..\n",
    "income = (gross_wages +\n",
    "          taxable_interest +\n",
    "          (dividends - qualified_dividends) -\n",
    "          ira_deduction -\n",
    "          student_loan_interest)\n",
    "\n",
    "# 🙏 제발\n",
    "income = (gross_wages\n",
    "          + taxable_interest\n",
    "          + (dividends - qualified_dividends)\n",
    "          - ira_deduction\n",
    "          - student_loan_interest)\n",
    "```\n",
    "\n",
    "#### 3. Keyword Arguments 사용하기\n",
    "마주하는 함수가 도대체 무슨 함수인지도 모르겠는데 keyword argument를 작성하지 않으면 흐름을 이해하는데 시간이 걸립니다. 이를 단축시키기 위해 다음과 같은 사안을 권장합니다.\n",
    "\n",
    "```python\n",
    "def do_something(user_id, verbose):\n",
    "  ...\n",
    "  \n",
    "# ❌ 노우..\n",
    "do_something(42, True)\n",
    "\n",
    "# 🙏 제발\n",
    "do_something(user_id=42, verbose=True)\n",
    "```"
   ]
  },
  {
   "cell_type": "code",
   "execution_count": 37,
   "metadata": {
    "colab": {
     "base_uri": "https://localhost:8080/"
    },
    "executionInfo": {
     "elapsed": 49,
     "status": "ok",
     "timestamp": 1754119401134,
     "user": {
      "displayName": "Daehyun Cho",
      "userId": "17899950084767957204"
     },
     "user_tz": -540
    },
    "id": "asGy0KHJlMLX",
    "outputId": "51691310-b242-45d2-d8d5-54adc1723a9d"
   },
   "outputs": [
    {
     "name": "stdout",
     "output_type": "stream",
     "text": [
      "Python을 사용하시는 KIM님, 안녕하세요!\n",
      "Java을 사용하시는 CHOI님, 안녕하세요!\n"
     ]
    }
   ],
   "source": [
    "# 기본 매개변수가 있는 함수\n",
    "def greet_language(name, lang=\"Python\"):\n",
    "  \"\"\"이름과 언어를 받아 환영 메시지를 출력하는 함수 (기본값 설정)\"\"\"\n",
    "  print(f\"{lang}을 사용하시는 {name}님, 안녕하세요!\")\n",
    "\n",
    "greet_language(name=\"KIM\") # 기본 매개변수 사용\n",
    "greet_language(name=\"CHOI\", lang=\"Java\") # 기본 매개변수 재정의"
   ]
  },
  {
   "cell_type": "code",
   "execution_count": 38,
   "metadata": {
    "id": "obbLrtkQqnFQ"
   },
   "outputs": [
    {
     "name": "stdout",
     "output_type": "stream",
     "text": [
      "1, 2, 3의 합계: 6\n",
      "1, 2, 3, 4, 5의 합계: 15\n"
     ]
    }
   ],
   "source": [
    "# 가변 인자 (*args) - Java의 varargs와 유사\n",
    "def sum_all(*args):\n",
    "  \"\"\"모든 입력 숫자의 합계를 반환하는 함수\"\"\"\n",
    "  total = 0\n",
    "  for num in args:\n",
    "    total += num\n",
    "  return total\n",
    "\n",
    "print(f\"1, 2, 3의 합계: {sum_all(1, 2, 3)}\")\n",
    "print(f\"1, 2, 3, 4, 5의 합계: {sum_all(1, 2, 3, 4, 5)}\")"
   ]
  },
  {
   "cell_type": "code",
   "execution_count": 39,
   "metadata": {
    "id": "FH-au4PaqorK"
   },
   "outputs": [
    {
     "name": "stdout",
     "output_type": "stream",
     "text": [
      "name: LEE\n",
      "age: 2\n",
      "city: LA\n"
     ]
    }
   ],
   "source": [
    "# 키워드 인자 (**kwargs)\n",
    "def print_info(**kwargs):\n",
    "  \"\"\"키-값 쌍으로 정보를 받아 출력하는 함수\"\"\"\n",
    "  for key, value in kwargs.items():\n",
    "    print(f\"{key}: {value}\")\n",
    "\n",
    "print_info(name=\"LEE\", age=2, city=\"LA\")"
   ]
  },
  {
   "cell_type": "code",
   "execution_count": 40,
   "metadata": {
    "id": "RS68gZm1qqOk"
   },
   "outputs": [
    {
     "name": "stdout",
     "output_type": "stream",
     "text": [
      "5의 제곱 (람다 사용): 25\n",
      "5에 3을 더한 결과 (클로저 사용): 8\n"
     ]
    }
   ],
   "source": [
    "# 람다 함수 (Lambda Function) - 간단한 익명 함수\n",
    "# Java의 람다 표현식과 유사\n",
    "square = lambda x: x * x\n",
    "print(f\"5의 제곱 (람다 사용): {square(5)}\")\n",
    "\n",
    "# 중첩 함수 (Nested Function) 및 클로저 (Closure)\n",
    "def outer_function(x):\n",
    "  def inner_function(y):\n",
    "    return x + y # 외부 함수의 변수 x에 접근\n",
    "\n",
    "  return inner_function\n",
    "\n",
    "add_five = outer_function(5)\n",
    "print(f\"5에 3을 더한 결과 (클로저 사용): {add_five(3)}\")"
   ]
  },
  {
   "cell_type": "code",
   "execution_count": 41,
   "metadata": {
    "id": "OpIf8WcOkjEh"
   },
   "outputs": [
    {
     "name": "stdout",
     "output_type": "stream",
     "text": [
      "함수 설명 확인: \n",
      "  두 숫자를 곱하는 함수.\n",
      "\n",
      "  Args:\n",
      "    a: 첫 번째 숫자\n",
      "    b: 두 번째 숫자\n",
      "\n",
      "  Returns:\n",
      "    두 숫자의 곱\n",
      "  \n"
     ]
    }
   ],
   "source": [
    "# Docstring (함수 설명) - Java의 Javadoc과 유사\n",
    "def multiply(a, b):\n",
    "  \"\"\"\n",
    "  두 숫자를 곱하는 함수.\n",
    "\n",
    "  Args:\n",
    "    a: 첫 번째 숫자\n",
    "    b: 두 번째 숫자\n",
    "\n",
    "  Returns:\n",
    "    두 숫자의 곱\n",
    "  \"\"\"\n",
    "  return a * b\n",
    "\n",
    "print(f\"함수 설명 확인: {multiply.__doc__}\")"
   ]
  },
  {
   "cell_type": "markdown",
   "metadata": {
    "id": "Her6wqzptNDx"
   },
   "source": [
    "### ⌨️ **실습 7**: 조건문/반복문/함수 응용해보기\n",
    "\n",
    "**문자열 속 숫자 구하기**: 문자열이 주어졌을 때 문자열 안에 포함된 숫자를 합한 결과를 반환하는 함수를 만들어주세요."
   ]
  },
  {
   "cell_type": "code",
   "execution_count": 42,
   "metadata": {
    "id": "LMGFS0GpLpKC",
    "outputId": "e36159cf-7216-4bec-d2bf-ed41f1ddf372"
   },
   "outputs": [
    {
     "name": "stdout",
     "output_type": "stream",
     "text": [
      "✅ 모든 테스트를 통과했습니다!\n"
     ]
    }
   ],
   "source": [
    "# 문자열 s에 포함된 모든 숫자(digit)를 더해서 반환하는 함수입니다.\n",
    "# 예: \"a1b2c3\" → 1 + 2 + 3 = 6\n",
    "# TODO: None 부분을 직접 채워보세요 :)\n",
    "# 정답을 확인하는 assert 코드는 수정하지말고 진행해주세요\n",
    "def sum_of_digits_in_strnig(s: str) -> int:\n",
    "    # 숫자인 문자만 골라서 정수로 변환한 뒤 모두 더하세요\n",
    "    result = sum(int(char) for char in s if char.isdigit())  # TODO\n",
    "    return result\n",
    "    \n",
    "assert sum_of_digits_in_strnig(s=\"123\") == 6\n",
    "assert sum_of_digits_in_strnig(s=\"a1b2c3\") == 6\n",
    "assert sum_of_digits_in_strnig(s=\"abc\") == 0\n",
    "print(\"✅ 모든 테스트를 통과했습니다!\")"
   ]
  },
  {
   "cell_type": "markdown",
   "metadata": {
    "id": "ZJ7P91M5pLO7"
   },
   "source": [
    "## 1.5 Python을 이용한 객체지향프로그래밍"
   ]
  },
  {
   "cell_type": "code",
   "execution_count": 43,
   "metadata": {
    "colab": {
     "base_uri": "https://localhost:8080/"
    },
    "executionInfo": {
     "elapsed": 13,
     "status": "ok",
     "timestamp": 1754813221747,
     "user": {
      "displayName": "‍조대현[ 대학원석·박사통합과정수료연구(재학) / 인공지능학과 ]",
      "userId": "01156684096009482818"
     },
     "user_tz": -540
    },
    "id": "Ojg4PjD2pSny",
    "outputId": "b8d58294-6c57-4468-b5b1-f120d47c6ed5"
   },
   "outputs": [
    {
     "name": "stdout",
     "output_type": "stream",
     "text": [
      "우리 강아지 이름: 바둑이\n",
      "우리 강아지 품종: 진돗개\n",
      "바둑이가 멍멍 짖습니다!\n",
      "이름: 바둑이, 품종: 진돗개\n"
     ]
    }
   ],
   "source": [
    "# 클래스 정의\n",
    "class Dog:\n",
    "  # 생성자 (Java의 생성자와 유사)\n",
    "  def __init__(self, name, breed):\n",
    "    self.name = name # 인스턴스 변수 (속성)\n",
    "    self.breed = breed\n",
    "\n",
    "  # 메서드 (Java의 메서드와 유사)\n",
    "  def bark(self):\n",
    "    print(f\"{self.name}가 멍멍 짖습니다!\")\n",
    "\n",
    "  def __str__(self):\n",
    "    # 객체를 문자열로 표현할 때 사용 (Java의 toString()과 유사)\n",
    "    return f\"이름: {self.name}, 품종: {self.breed}\"\n",
    "\n",
    "# 객체 생성\n",
    "my_dog = Dog(name=\"바둑이\", breed=\"진돗개\")\n",
    "\n",
    "# 속성 접근\n",
    "print(f\"우리 강아지 이름: {my_dog.name}\")\n",
    "print(f\"우리 강아지 품종: {my_dog.breed}\")\n",
    "\n",
    "# 메서드 호출\n",
    "my_dog.bark()\n",
    "\n",
    "# 객체 출력 (toString()과 유사)\n",
    "print(my_dog)"
   ]
  },
  {
   "cell_type": "code",
   "execution_count": 44,
   "metadata": {
    "colab": {
     "base_uri": "https://localhost:8080/"
    },
    "executionInfo": {
     "elapsed": 61,
     "status": "ok",
     "timestamp": 1754813222066,
     "user": {
      "displayName": "‍조대현[ 대학원석·박사통합과정수료연구(재학) / 인공지능학과 ]",
      "userId": "01156684096009482818"
     },
     "user_tz": -540
    },
    "id": "yU7Su3N4uaaE",
    "outputId": "2cc54523-8ed0-4fc8-df70-25fb0951b9e3"
   },
   "outputs": [
    {
     "name": "stdout",
     "output_type": "stream",
     "text": [
      "초코가 낑낑거립니다!\n",
      "이름: 초코, 품종: 푸들, 나이: 3개월\n"
     ]
    }
   ],
   "source": [
    "# 상속 (Inheritance)\n",
    "class Puppy(Dog):\n",
    "  def __init__(self, name, breed, age):\n",
    "    # 부모 클래스의 생성자 호출 (Java의 super()와 유사)\n",
    "    super().__init__(name, breed)\n",
    "    self.age = age\n",
    "\n",
    "  # 메서드 오버라이딩 (Method Overriding)\n",
    "  def bark(self):\n",
    "    print(f\"{self.name}가 낑낑거립니다!\")\n",
    "\n",
    "  def __str__(self):\n",
    "    return f\"이름: {self.name}, 품종: {self.breed}, 나이: {self.age}개월\"\n",
    "\n",
    "# 자식 클래스 객체 생성\n",
    "my_puppy = Puppy(name=\"초코\", breed=\"푸들\", age=3)\n",
    "\n",
    "# 상속된 메서드 및 오버라이딩된 메서드 호출\n",
    "my_puppy.bark()\n",
    "print(my_puppy)"
   ]
  },
  {
   "cell_type": "code",
   "execution_count": 45,
   "metadata": {
    "colab": {
     "base_uri": "https://localhost:8080/"
    },
    "executionInfo": {
     "elapsed": 18,
     "status": "ok",
     "timestamp": 1754813222918,
     "user": {
      "displayName": "‍조대현[ 대학원석·박사통합과정수료연구(재학) / 인공지능학과 ]",
      "userId": "01156684096009482818"
     },
     "user_tz": -540
    },
    "id": "1UaSkA8apS9c",
    "outputId": "261b1010-1df5-4eba-b5eb-3600b09c58d8"
   },
   "outputs": [
    {
     "name": "stdout",
     "output_type": "stream",
     "text": [
      "5000원 입금되었습니다. 현재 잔액: 15000\n",
      "2000원 출금되었습니다. 현재 잔액: 13000\n",
      "현재 잔액: 13000\n"
     ]
    }
   ],
   "source": [
    "# 캡슐화 (Encapsulation) - Python은 명시적인 private 키워드는 없지만, 관례적으로 변수 이름 앞에 `_` 또는 `__`를 붙여 내부적으로 사용함을 나타냅니다.\n",
    "class BankAccount:\n",
    "  def __init__(self, balance):\n",
    "    self.__balance = balance # private 변수 (관례)\n",
    "\n",
    "  def deposit(self, amount):\n",
    "    if amount > 0:\n",
    "      self.__balance += amount\n",
    "      print(f\"{amount}원 입금되었습니다. 현재 잔액: {self.__balance}\")\n",
    "    else:\n",
    "      print(\"유효하지 않은 금액입니다.\")\n",
    "\n",
    "  def withdraw(self, amount):\n",
    "    if amount > 0 and amount <= self.__balance:\n",
    "      self.__balance -= amount\n",
    "      print(f\"{amount}원 출금되었습니다. 현재 잔액: {self.__balance}\")\n",
    "    else:\n",
    "      print(\"잔액이 부족하거나 유효하지 않은 금액입니다.\")\n",
    "\n",
    "  def get_balance(self):\n",
    "    return self.__balance\n",
    "\n",
    "# 캡슐화 예시\n",
    "account = BankAccount(balance=10000)\n",
    "account.deposit(amount=5000)\n",
    "account.withdraw(amount=2000)\n",
    "# print(account.__balance) # 직접 접근은 어렵습니다 (Name mangling)\n",
    "print(f\"현재 잔액: {account.get_balance()}\")"
   ]
  },
  {
   "cell_type": "markdown",
   "metadata": {
    "id": "RU4ykKkJwmiL"
   },
   "source": [
    "### ⌨️ **실습 8**: `class` 만들어보기\n",
    "\n",
    "🎯 **목표**:   \n",
    "Student 클래스를 활용하여 학생들의 점수 데이터를 분석합니다.\n",
    "\n",
    "🧩 **문제 설명**:\n",
    "클래스 정의\n",
    "- Student 클래스는 다음 속성을 가집니다:\n",
    "- 이름 (`name: str`)\n",
    "- 국어 점수 (`korean: int`)\n",
    "- 영어 점수 (`english: int`)\n",
    "- 수학 점수 (`math: int`)\n",
    "- `get_average()` 메서드를 통해 평균 점수를 계산할 수 있습니다.\n",
    "\n",
    "요구사항\n",
    "1.\t함수: `check_pass(student: Student) -> str`\n",
    "  - \t평균 점수가 75점 이상이면 \"합격\", 아니면 \"불합격\" 반환\n",
    "2.\t함수: `analyze_students(students: list[Student], threshold: int) -> tuple[list[str], list[str]]`\n",
    "  - 모든 학생의 합격/불합격 여부를 분석\n",
    "  - 총점이 threshold점 이상인 학생을 우수 학생으로 선정\n",
    "  - 반환값: (합격자 이름 리스트, 우수 학생 이름 리스트)\n"
   ]
  },
  {
   "cell_type": "code",
   "execution_count": 46,
   "metadata": {
    "id": "7HAkxTQ0LpKD",
    "outputId": "f128f9d8-4777-4363-cc57-7bde7fe4eb0e"
   },
   "outputs": [
    {
     "name": "stdout",
     "output_type": "stream",
     "text": [
      "✅ 모든 테스트를 통과했습니다!\n"
     ]
    }
   ],
   "source": [
    "from typing import List, Tuple\n",
    "\n",
    "# None 부분을 직접 채우며 테스트코드가 동작하도록 문제를 풀어보세요 :)\n",
    "# 정답을 확인하는 assert 코드는 수정하지말고 진행해주세요\n",
    "class Student:\n",
    "    def __init__(self, name: str, korean: int, english: int, math: int):\n",
    "        # 학생 이름과 과목별 점수를 저장합니다.\n",
    "        self.name = name\n",
    "        self.korean = korean\n",
    "        self.english = english\n",
    "        self.math = math\n",
    "\n",
    "    def get_total(self) -> int:\n",
    "        # 총점을 계산하는 메서드입니다.\n",
    "        return self.korean + self.english + self.math\n",
    "\n",
    "    def get_average(self) -> float:\n",
    "        # 평균 점수를 계산하는 메서드입니다.\n",
    "        return (self.korean + self.english + self.math) / 3.0\n",
    "\n",
    "\n",
    "def check_pass(student: Student) -> str:\n",
    "    # 학생 평균 점수가 75점 이상이면 \"합격\", 아니면 \"불합격\"을 반환합니다.\n",
    "    return \"합격\" if student.get_average() >= 75 else \"불합격\"\n",
    "\n",
    "\n",
    "def analyze_students(students: List[Student], threshold: int) -> Tuple[List[str], List[str]]:\n",
    "    # 여러 학생 정보를 받아 합격자와 우수자를 분류합니다.\n",
    "    # threshold 이상 총점을 받은 학생은 우수자로 간주합니다.\n",
    "    return (\n",
    "        [student.name for student in students if check_pass(student) == \"합격\"],\n",
    "        [student.name for student in students if student.get_total() >= threshold]\n",
    "    )\n",
    "\n",
    "\n",
    "# 아래는 채점코드입니다.\n",
    "# 수정하지말고 진행해주세요 :)\n",
    "students: List[Student] = [\n",
    "    Student(name=\"뷔\", korean=90, english=95, math=100),   # 평균 95.0, 총점 285\n",
    "    Student(name=\"정국\", korean=60, english=70, math=65),  # 평균 65.0, 총점 195\n",
    "    Student(name=\"지민\", korean=80, english=90, math=85),  # 평균 85.0, 총점 255\n",
    "    Student(name=\"슈가\", korean=75, english=70, math=80),  # 평균 75.0, 총점 225\n",
    "]\n",
    "\n",
    "passed, excellent = analyze_students(students, threshold=250)\n",
    "\n",
    "assert set(passed) == {\"지민\", \"뷔\", \"슈가\"}, \"합격자 리스트 오류\"\n",
    "assert set(excellent) == {\"지민\", \"뷔\"}, \"우수 학생 리스트 오류\"\n",
    "assert check_pass(students[1]) == \"불합격\", \"불합격자 판별 오류\"\n",
    "assert check_pass(students[2]) == \"합격\", \"합격자 판별 오류\"\n",
    "\n",
    "print(\"✅ 모든 테스트를 통과했습니다!\")"
   ]
  },
  {
   "cell_type": "markdown",
   "metadata": {
    "id": "raGqfW0yvICB"
   },
   "source": [
    "### 📝 **참고**: 사실 모든 것은 객체다\n",
    "\n",
    "Python의 모든 기본 자료형(int, str, list, dict 등)은 사실 클래스(class) 로 정의되어 있고, 그 내부에 정의된 특수 메서드들(소위 매직 메서드 또는 덧셈 연산자 오버로딩용 메서드)을 통해 우리가 사용하는 연산자나 함수가 동작하는 것입니다.\n",
    "\n",
    "```python\n",
    "print(type(10))        # <class 'int'>\n",
    "print(type(\"hello\"))   # <class 'str'>\n",
    "print(type([1, 2, 3]))  # <class 'list'>\n",
    "```\n",
    "\n",
    "이처럼 int, str, list, dict, float 등은 전부 class로 정의되어 있으며, 우리가 사용하는 수많은 기능들은 그 내부의 특수한 메서드들을 통해 구현되어 있습니다.\n",
    "\n",
    "🪄 Magic Method란?\n",
    "\n",
    "매직 메서드(Magic Method) 또는 덧셈 연산자 오버로딩용 메서드는 이름 앞뒤에 __ (double underscore)를 붙인 Python 메서드들입니다. 예를 들어:\n",
    "-\t`__init__`: 생성자 (객체가 생성될 때 호출됨)\n",
    "-\t`__str__`: 문자열로 표현할 때 사용 (print 등)\n",
    "-\t`__add__`: + 연산자 동작을 정의\n",
    "-\t`__len__`: len() 함수 호출 시 동작\n",
    "-\t`__getitem__`: 인덱싱 (`obj[key]`|)\n",
    "-\t`__eq__`: == 연산자 오버라이딩\n",
    "\n",
    "이런 매직 메서드들은 Python의 핵심 문법을 클래스 수준에서 재정의하거나 확장할 수 있게 해줍니다.\n",
    "\n",
    "예시:\n",
    "```python\n",
    "a = 10\n",
    "b = 5\n",
    "print(a + b)            # 15\n",
    "print(a.__add__(b))     # 15, 동일한 결과\n",
    "```\n",
    "\n",
    "Custom Class에 적용해보기\n",
    "```python\n",
    "class Vector:\n",
    "    def __init__(self, x, y):\n",
    "        self.x = x\n",
    "        self.y = y\n",
    "\n",
    "    def __add__(self, other):\n",
    "        return Vector(self.x + other.x, self.y + other.y)\n",
    "\n",
    "    def __str__(self):\n",
    "        return f\"({self.x}, {self.y})\"\n",
    "\n",
    "v1 = Vector(1, 2)\n",
    "v2 = Vector(3, 4)\n",
    "print(v1 + v2)  # (4, 6)\n",
    "```\n",
    "\n",
    "이처럼 사실 모든 자료형 또한 객체라는 것을 알았습니다. 우리는 앞으로 python을 다양하게 활용하다보면 magic method를 생각보다 직접 짜서 사용하게 되는 경우들이 있습니다. 참고하면 좋은 [자료](https://docs.python.org/3/reference/datamodel.html#basic-customization)"
   ]
  },
  {
   "cell_type": "markdown",
   "metadata": {
    "id": "utJquzTwpTOA"
   },
   "source": [
    "# 2. 데이터 분석도구: NumPy & Pandas\n",
    "\n",
    "**학습 목표**\n",
    "  - NumPy를 활용해 다차원 배열을 생성하고 수치 연산을 수행할 수 있다.\n",
    "  - Pandas를 이용해 데이터프레임을 생성하고, 필터링, 그룹화, 통계 분석 등의 기초적인 데이터 처리 작업을 수행할 수 있다.\n",
    "  - 실습을 통해 데이터 분석에 필요한 핵심 라이브러리 사용법을 익힌다.\n",
    "\n",
    "**학습 개념**:\n",
    "  - NumPy: 대규모 수치 데이터를 빠르게 처리할 수 있는 배열 기반 라이브러리\n",
    "  - Pandas: 표 형식의 데이터를 다루는 데 특화된 라이브러리\n",
    "  \n",
    "**진행하는 실습 요약**\n",
    "  - `numpy` 배열 생성 및 기본연산\n",
    "  - `pandas`의 기초적인 데이터 다루기 메소드 활용"
   ]
  },
  {
   "cell_type": "markdown",
   "metadata": {
    "id": "C4A6r38BzawT"
   },
   "source": [
    "## 2.1 `numpy`: 한 번에 많은 수를 다룰 수 있는 라이브러리"
   ]
  },
  {
   "cell_type": "code",
   "execution_count": 47,
   "metadata": {
    "id": "_N0_aEKgzaak"
   },
   "outputs": [],
   "source": [
    "import numpy as np"
   ]
  },
  {
   "cell_type": "code",
   "execution_count": 50,
   "metadata": {
    "colab": {
     "base_uri": "https://localhost:8080/"
    },
    "executionInfo": {
     "elapsed": 7,
     "status": "ok",
     "timestamp": 1754121783529,
     "user": {
      "displayName": "Daehyun Cho",
      "userId": "17899950084767957204"
     },
     "user_tz": -540
    },
    "id": "CFoMWQDjxX6r",
    "outputId": "06b4d499-3ef1-4102-a502-34ffc7d921bc"
   },
   "outputs": [
    {
     "name": "stdout",
     "output_type": "stream",
     "text": [
      "1차원 배열: [1 2 3 4 5]\n",
      "2차원 배열:\n",
      " [[10 20 30]\n",
      " [40 50 60]]\n",
      "랜덤 점수 5개: [81 71 84 57 67]\n"
     ]
    }
   ],
   "source": [
    "# Numpy의 기본: 배열 생성\n",
    "arr = np.array([1, 2, 3, 4, 5])\n",
    "print(\"1차원 배열:\", arr)\n",
    "\n",
    "# 다차원 배열 생성\n",
    "arr2d = np.array([[10, 20, 30], [40, 50, 60]])\n",
    "print(\"2차원 배열:\\n\", arr2d)\n",
    "\n",
    "# 랜덤 정수 생성 (예: 50~100 사이 점수 5개)\n",
    "random_scores = np.random.randint(low=50, high=101, size=5)\n",
    "print(\"랜덤 점수 5개:\", random_scores)"
   ]
  },
  {
   "cell_type": "markdown",
   "metadata": {
    "id": "vrdYvdFXzoc8"
   },
   "source": [
    "### ⌨️ **실습 9**: `numpy`와 친해지기 1\n",
    "\n",
    "다음 요구사항에 맞춰 배열을 생성해주세요.\n",
    "- None 부분을 직접 채우며 테스트코드가 동작하도록 문제를 풀어보세요 :)   \n",
    "- 정답을 확인하는 assert 코드는 수정하지말고 진행해주세요\n"
   ]
  },
  {
   "cell_type": "code",
   "execution_count": 53,
   "metadata": {
    "id": "XYFOi6J8LpKE"
   },
   "outputs": [
    {
     "name": "stdout",
     "output_type": "stream",
     "text": [
      "Variable                  Type                    Data/Info\n",
      "-----------------------------------------------------------\n",
      "BankAccount               type                    <class '__main__.BankAccount'>\n",
      "Counter                   type                    <class 'collections.Counter'>\n",
      "Dog                       type                    <class '__main__.Dog'>\n",
      "List                      _SpecialGenericAlias    typing.List\n",
      "Puppy                     type                    <class '__main__.Puppy'>\n",
      "Student                   type                    <class '__main__.Student'>\n",
      "Tuple                     _TupleType              typing.Tuple\n",
      "a                         float                   -3.14159\n",
      "a_abs                     float                   3.14159\n",
      "a_rounded                 int                     -3\n",
      "a_squared                 float                   9.869587728099999\n",
      "account                   BankAccount             <__main__.BankAccount obj<...>ct at 0x000001722B564CD0>\n",
      "accumulate                type                    <class 'itertools.accumulate'>\n",
      "add                       function                <function add at 0x000001722B500EA0>\n",
      "add_five                  function                <function outer_function.<...>on at 0x000001722B5C3100>\n",
      "age                       int                     20\n",
      "analyze_students          function                <function analyze_students at 0x000001722B68DE40>\n",
      "arr                       ndarray                 5: 5 elems, type `int32`, 20 bytes\n",
      "arr2d                     ndarray                 2x3: 6 elems, type `int32`, 24 bytes\n",
      "c                         tuple                   n=2\n",
      "check_pass                function                <function check_pass at 0x000001722B68D6C0>\n",
      "combinations              type                    <class 'itertools.combinations'>\n",
      "combined                  tuple                   n=8\n",
      "count                     int                     0\n",
      "count_1                   int                     1\n",
      "counter                   Counter                 Counter({'banana': 3, 'apple': 2, 'cheese': 1})\n",
      "d                         dict                    n=3\n",
      "d2                        dict                    n=1\n",
      "dd                        defaultdict             defaultdict(<class 'int'><...>'apple': 1, 'banana': 2})\n",
      "defaultdict               type                    <class 'collections.defaultdict'>\n",
      "difference                set                     {1, 2}\n",
      "doubled_l                 list                    n=8\n",
      "doubled_t                 tuple                   n=8\n",
      "ends_with_exclamation     bool                    True\n",
      "even_indexed              list                    n=2\n",
      "even_numbers              list                    n=10\n",
      "excellent                 list                    n=2\n",
      "expected_squared          float                   9.869587728099999\n",
      "fruit                     str                     cherry\n",
      "fruits                    list                    n=3\n",
      "greet                     function                <function greet at 0x000001722B5C0EA0>\n",
      "greet_language            function                <function greet_language at 0x000001722B5C14E0>\n",
      "greet_name                function                <function greet_name at 0x000001722B5C1300>\n",
      "greeting                  str                     안녕하세요!\n",
      "has_1                     bool                    True\n",
      "has_5                     bool                    False\n",
      "has_card                  bool                    True\n",
      "has_key_4                 bool                    False\n",
      "height                    float                   175.5\n",
      "i                         int                     7\n",
      "index_3                   int                     2\n",
      "intersection              set                     {4}\n",
      "is_close_to_pi            bool                    False\n",
      "is_convertible            bool                    False\n",
      "is_student                bool                    True\n",
      "j                         list                    n=4\n",
      "keys                      list                    n=3\n",
      "l                         list                    n=0\n",
      "l1                        list                    n=2\n",
      "l2                        list                    n=2\n",
      "length                    int                     3\n",
      "math                      module                  <module 'math' (built-in)>\n",
      "max_val                   int                     4\n",
      "merged                    dict                    n=4\n",
      "min_val                   int                     1\n",
      "multiply                  function                <function multiply at 0x000001722B5C31A0>\n",
      "my_dict                   dict                    n=4\n",
      "my_dog                    Dog                     이름: 바둑이, 품종: 진돗개\n",
      "my_list                   list                    n=5\n",
      "my_puppy                  Puppy                   이름: 초코, 품종: 푸들, 나이: 3개월\n",
      "my_set                    set                     {1, 2, 3, 4}\n",
      "my_tuple                  tuple                   n=3\n",
      "name                      str                     김철수\n",
      "nothing                   NoneType                None\n",
      "np                        module                  <module 'numpy' from 'c:\\<...>ges\\\\numpy\\\\__init__.py'>\n",
      "numbers                   list                    n=5\n",
      "nums                      list                    n=4\n",
      "operator                  module                  <module 'operator' from '<...>onda3\\\\Lib\\\\operator.py'>\n",
      "outer_function            function                <function outer_function at 0x000001722B5C2FC0>\n",
      "p                         tuple                   n=2\n",
      "passed                    list                    n=3\n",
      "permutations              type                    <class 'itertools.permutations'>\n",
      "print_info                function                <function print_info at 0x000001722B5C1B20>\n",
      "product                   type                    <class 'itertools.product'>\n",
      "random_scores             ndarray                 5: 5 elems, type `int32`, 20 bytes\n",
      "result                    int                     8\n",
      "reversed_l                list                    n=8\n",
      "reversed_t                tuple                   n=4\n",
      "s                         set                     {1, 2, 4}\n",
      "s2                        set                     {3, 4, 5, 6}\n",
      "s_double                  str                     Hello World!Hello World!\n",
      "s_lower                   str                     hello world!\n",
      "s_upper                   str                     HELLO WORLD!\n",
      "score                     int                     85\n",
      "square                    function                <function <lambda> at 0x000001722B5C2B60>\n",
      "squares                   list                    n=10\n",
      "students                  list                    n=4\n",
      "sublist_2_3               list                    n=2\n",
      "subtuple_2_3              tuple                   n=2\n",
      "sum_all                   function                <function sum_all at 0x000001722B5C13A0>\n",
      "sum_of_digits_in_strnig   function                <function sum_of_digits_i<...>ig at 0x000001722B67B560>\n",
      "symmetric_diff            set                     {1, 2, 3, 5, 6}\n",
      "t                         tuple                   n=4\n",
      "tolerance                 float                   1e-10\n",
      "u                         tuple                   n=4\n",
      "union                     set                     {1, 2, 3, 4, 5, 6}\n",
      "value_4                   NoneType                None\n",
      "x                         matrix                  [[1. 0. 1.]\\n [0. 1. 0.]\\n [0. 0. 1.]]\n",
      "x_bool                    matrix                  [[ True False  True]\\n [F<...>e]\\n [False False  True]]\n",
      "x_float                   matrix                  [[1.1 0.  1.1]\\n [0.  1.1 0. ]\\n [0.  0.  1.1]]\n",
      "x_int                     matrix                  [[1 0 1]\\n [0 1 0]\\n [0 0 1]]\n",
      "y                         ndarray                 3x3: 9 elems, type `float64`, 72 bytes\n",
      "z                         matrix                  [[ 1.49498839  0.82578847<...> 0.57738786  1.40862165]]\n"
     ]
    }
   ],
   "source": [
    "# 1. 3x3 단위행렬 x를 만들어주세요\n",
    "x = np.matrix(np.identity(3))\n",
    "assert x.shape == (3, 3)\n",
    "assert np.array_equal(x, np.identity(3))\n",
    "\n",
    "# 2. 표준정규분포로부터 추출된 숫자들의 배열 3x3 y를 만들어주세요\n",
    "y = np.random.randn(3, 3)\n",
    "assert y.shape == (3, 3)\n",
    "\n",
    "# 3. x의 1행 3열 원소를 1로 변경해주세요 (0-based index 기준)\n",
    "x [0, 2] = 1\n",
    "assert x[0, 2] == 1\n",
    "\n",
    "# 4. x와 y의 행렬곱인 z를 구해주세요\n",
    "z = x @ y\n",
    "assert z.shape == (3, 3)\n",
    "\n",
    "# 5. x를 복사하여 자료형을 bool로 변경한 x_bool을 만들어주세요\n",
    "x_bool = x.copy().astype(bool)\n",
    "assert x_bool.dtype == bool\n",
    "\n",
    "# 6. x를 복사하여 자료형을 int로 변경한 x_int를 만들어주세요\n",
    "x_int = x.copy().astype(int)\n",
    "assert x_int.dtype == int\n",
    "\n",
    "# 7. x를 복사하여 1.1을 곱한 x_float을 만들어주세요\n",
    "x_float = x.copy() * 1.1\n",
    "assert np.allclose(x_float, x.astype(float) * 1.1)\n",
    "\n",
    "# 8. %whos Magic Command를 통해 변수목록 및 상세정보를 확인해보세요\n",
    "# (Jupyter 또는 Colab 환경에서 아래 명령어를 셀에 단독으로 입력하세요)\n",
    "%whos"
   ]
  },
  {
   "cell_type": "markdown",
   "metadata": {
    "id": "qJZiMz2_6nF4"
   },
   "source": [
    "### ⌨️ **실습 10**: `numpy`와 친해지기 2\n",
    "\n",
    "다음 요구사항에 맞춰 배열을 생성해주세요.\n",
    "- None 부분을 직접 채우며 테스트코드가 동작하도록 문제를 풀어보세요 :)   \n",
    "- 정답을 확인하는 assert 코드는 수정하지말고 진행해주세요"
   ]
  },
  {
   "cell_type": "code",
   "execution_count": 56,
   "metadata": {
    "id": "UQ6gKW1XLpKE",
    "outputId": "7f319dce-2ff7-435e-9c00-a066b01dc4c6"
   },
   "outputs": [
    {
     "data": {
      "text/plain": [
       "Text(0, 0.5, 'sin(θ)')"
      ]
     },
     "execution_count": 56,
     "metadata": {},
     "output_type": "execute_result"
    },
    {
     "data": {
      "image/png": "[encoded data removed]",
      "text/plain": [
       "<Figure size 640x480 with 1 Axes>"
      ]
     },
     "metadata": {},
     "output_type": "display_data"
    }
   ],
   "source": [
    "# 1. 길이가 3이고 원소가 1, 2, 3을 포함하는 배열 v를 만들어주세요\n",
    "v = np.array([1, 2, 3])\n",
    "assert v.shape == (3,)\n",
    "assert np.array_equal(v, [1, 2, 3])\n",
    "\n",
    "# 2. 벡터 v를 복제하여 만든 다음과 같은 행렬 V를 만들어주세요\n",
    "# [[1, 2, 3], [1, 2, 3], [1, 2, 3]]\n",
    "V = v.copy().reshape(1, 3).repeat(3, axis=0)\n",
    "assert V.shape == (3, 3)\n",
    "assert np.array_equal(V, [[1, 2, 3], [1, 2, 3], [1, 2, 3]])\n",
    "\n",
    "# 3. V를 일렬로 만들어 V_vector로 만들어주세요\n",
    "V_vector = V.copy().reshape(-1)\n",
    "assert V_vector.shape == (9,)\n",
    "assert np.array_equal(V_vector, [1, 2, 3, 1, 2, 3, 1, 2, 3])\n",
    "\n",
    "# 4. 0부터 2π까지 균등한 간격의 길이가 100인 배열 theta를 만들어주세요\n",
    "theta = np.linspace(0, 2 * np.pi, 100)\n",
    "assert theta.shape == (100,)\n",
    "assert np.isclose(theta[0], 0)\n",
    "assert np.isclose(theta[-1], 2 * np.pi)\n",
    "\n",
    "# 5. theta의 각 원소에 삼각함수 sin함수를 적용한 sin_theta 배열을 만들어주세요\n",
    "sin_theta = np.sin(theta)\n",
    "assert sin_theta.shape == (100,)\n",
    "assert np.isclose(sin_theta[0], 0)\n",
    "assert np.isclose(sin_theta[25], 1, atol=0.1)  # π/2 근처\n",
    "\n",
    "# 다음 코드를 통해 시각화해보세요\n",
    "import matplotlib.pyplot as plt\n",
    "plt.plot(theta, sin_theta)\n",
    "plt.title(\"Sine Curve\")\n",
    "plt.xlabel(\"θ (radians)\")\n",
    "plt.ylabel(\"sin(θ)\")"
   ]
  },
  {
   "cell_type": "markdown",
   "metadata": {
    "id": "suzAyJyK8wT5"
   },
   "source": [
    "## 2.2 `pandas`: 배열을 엑셀로!\n",
    "\n",
    "Pandas는 Python에서 **표 형태(엑셀처럼)**의 데이터를 다루기 쉽게 해주는 데이터 분석 라이브러리입니다.\n",
    "  - pan(el) + da(ta) → pandas\n",
    "  - 구조화된 데이터를 생성, 탐색, 분석, 전처리하는 데 매우 유용\n",
    "  - 엑셀, CSV, DB, 웹 등 다양한 형식과 연동 가능\n",
    "\n",
    "오늘은 가장 기초적인 용례만 사용해보고, 추후 실습모듈 3에서 더 많이 배워볼 예정입니다!"
   ]
  },
  {
   "cell_type": "code",
   "execution_count": 57,
   "metadata": {
    "id": "SMMvxhucCvzk"
   },
   "outputs": [],
   "source": [
    "import pandas as pd"
   ]
  },
  {
   "cell_type": "code",
   "execution_count": 58,
   "metadata": {
    "colab": {
     "base_uri": "https://localhost:8080/",
     "height": 143
    },
    "executionInfo": {
     "elapsed": 64,
     "status": "ok",
     "timestamp": 1754813403310,
     "user": {
      "displayName": "‍조대현[ 대학원석·박사통합과정수료연구(재학) / 인공지능학과 ]",
      "userId": "01156684096009482818"
     },
     "user_tz": -540
    },
    "id": "PgRrOzR5Cue8",
    "outputId": "b337a2c3-270e-4326-9f9b-0a8bb0606252"
   },
   "outputs": [
    {
     "data": {
      "text/html": [
       "<div>\n",
       "<style scoped>\n",
       "    .dataframe tbody tr th:only-of-type {\n",
       "        vertical-align: middle;\n",
       "    }\n",
       "\n",
       "    .dataframe tbody tr th {\n",
       "        vertical-align: top;\n",
       "    }\n",
       "\n",
       "    .dataframe thead th {\n",
       "        text-align: right;\n",
       "    }\n",
       "</style>\n",
       "<table border=\"1\" class=\"dataframe\">\n",
       "  <thead>\n",
       "    <tr style=\"text-align: right;\">\n",
       "      <th></th>\n",
       "      <th>Name</th>\n",
       "      <th>Age</th>\n",
       "      <th>Score</th>\n",
       "    </tr>\n",
       "  </thead>\n",
       "  <tbody>\n",
       "    <tr>\n",
       "      <th>0</th>\n",
       "      <td>Alice</td>\n",
       "      <td>25</td>\n",
       "      <td>85.5</td>\n",
       "    </tr>\n",
       "    <tr>\n",
       "      <th>1</th>\n",
       "      <td>Bob</td>\n",
       "      <td>30</td>\n",
       "      <td>90.3</td>\n",
       "    </tr>\n",
       "    <tr>\n",
       "      <th>2</th>\n",
       "      <td>Charlie</td>\n",
       "      <td>35</td>\n",
       "      <td>78.9</td>\n",
       "    </tr>\n",
       "  </tbody>\n",
       "</table>\n",
       "</div>"
      ],
      "text/plain": [
       "      Name  Age  Score\n",
       "0    Alice   25   85.5\n",
       "1      Bob   30   90.3\n",
       "2  Charlie   35   78.9"
      ]
     },
     "execution_count": 58,
     "metadata": {},
     "output_type": "execute_result"
    }
   ],
   "source": [
    " # 딕셔너리 기반으로 DataFrame 생성\n",
    "data = {\n",
    "    \"Name\": [\"Alice\", \"Bob\", \"Charlie\"],\n",
    "    \"Age\": [25, 30, 35],\n",
    "    \"Score\": [85.5, 90.3, 78.9]\n",
    "}\n",
    "\n",
    "df = pd.DataFrame(data)\n",
    "df"
   ]
  },
  {
   "cell_type": "code",
   "execution_count": 59,
   "metadata": {
    "colab": {
     "base_uri": "https://localhost:8080/"
    },
    "executionInfo": {
     "elapsed": 22,
     "status": "ok",
     "timestamp": 1754813403980,
     "user": {
      "displayName": "‍조대현[ 대학원석·박사통합과정수료연구(재학) / 인공지능학과 ]",
      "userId": "01156684096009482818"
     },
     "user_tz": -540
    },
    "id": "2O8D7jIvDJo9",
    "outputId": "fe465f6b-8e0d-4b41-e99b-b72abb8b0f14"
   },
   "outputs": [
    {
     "name": "stdout",
     "output_type": "stream",
     "text": [
      "\n",
      "2. DataFrame 타입: <class 'pandas.core.frame.DataFrame'>\n",
      "Series (Age):\n",
      " 0    25\n",
      "1    30\n",
      "2    35\n",
      "Name: Age, dtype: int64\n",
      "Series 타입: <class 'pandas.core.series.Series'>\n"
     ]
    }
   ],
   "source": [
    "# DataFrame: 2차원 표 구조\n",
    "print(\"\\n2. DataFrame 타입:\", type(df))\n",
    "\n",
    "# Series: DataFrame의 열 하나\n",
    "age_series = df[\"Age\"]\n",
    "print(\"Series (Age):\\n\", age_series)\n",
    "print(\"Series 타입:\", type(age_series))"
   ]
  },
  {
   "cell_type": "code",
   "execution_count": 60,
   "metadata": {
    "colab": {
     "base_uri": "https://localhost:8080/"
    },
    "executionInfo": {
     "elapsed": 8,
     "status": "ok",
     "timestamp": 1754813404280,
     "user": {
      "displayName": "‍조대현[ 대학원석·박사통합과정수료연구(재학) / 인공지능학과 ]",
      "userId": "01156684096009482818"
     },
     "user_tz": -540
    },
    "id": "VM-QyuOIDM4c",
    "outputId": "c7628afd-7b8a-403b-e898-864a71aca898"
   },
   "outputs": [
    {
     "name": "stdout",
     "output_type": "stream",
     "text": [
      "\n",
      "3-1. Name 열:\n",
      " 0      Alice\n",
      "1        Bob\n",
      "2    Charlie\n",
      "Name: Name, dtype: object\n",
      "\n",
      "3-2. 1번째 행 (iloc):\n",
      " Name     Alice\n",
      "Age         25\n",
      "Score     85.5\n",
      "Name: 0, dtype: object\n",
      "\n",
      "3-3. 1번째 행 (loc):\n",
      " Name     Alice\n",
      "Age         25\n",
      "Score     85.5\n",
      "Name: 0, dtype: object\n",
      "\n",
      "3-4. Name과 Score 열만 추출:\n",
      "       Name  Score\n",
      "0    Alice   85.5\n",
      "1      Bob   90.3\n",
      "2  Charlie   78.9\n"
     ]
    }
   ],
   "source": [
    "# Column 접근\n",
    "print(\"\\n3-1. Name 열:\\n\", df[\"Name\"])\n",
    "\n",
    "# Row 접근 by index (정수 위치 기반)\n",
    "print(\"\\n3-2. 1번째 행 (iloc):\\n\", df.iloc[0])  # Alice\n",
    "\n",
    "# Row 접근 by label (index label 기반, 지금은 숫자와 같음)\n",
    "print(\"\\n3-3. 1번째 행 (loc):\\n\", df.loc[0])\n",
    "\n",
    "# 여러 행/열 추출\n",
    "print(\"\\n3-4. Name과 Score 열만 추출:\\n\", df[[\"Name\", \"Score\"]])"
   ]
  },
  {
   "cell_type": "code",
   "execution_count": 61,
   "metadata": {
    "colab": {
     "base_uri": "https://localhost:8080/"
    },
    "executionInfo": {
     "elapsed": 41,
     "status": "ok",
     "timestamp": 1754813405868,
     "user": {
      "displayName": "‍조대현[ 대학원석·박사통합과정수료연구(재학) / 인공지능학과 ]",
      "userId": "01156684096009482818"
     },
     "user_tz": -540
    },
    "id": "6gozDEzqDPSY",
    "outputId": "7d051baa-a04b-47a7-e404-1f06171700d9"
   },
   "outputs": [
    {
     "name": "stdout",
     "output_type": "stream",
     "text": [
      "\n",
      "4-1. 요약 정보\n",
      "<class 'pandas.core.frame.DataFrame'>\n",
      "RangeIndex: 3 entries, 0 to 2\n",
      "Data columns (total 3 columns):\n",
      " #   Column  Non-Null Count  Dtype  \n",
      "---  ------  --------------  -----  \n",
      " 0   Name    3 non-null      object \n",
      " 1   Age     3 non-null      int64  \n",
      " 2   Score   3 non-null      float64\n",
      "dtypes: float64(1), int64(1), object(1)\n",
      "memory usage: 204.0+ bytes\n",
      "None\n",
      "\n",
      "4-2. 통계 요약\n",
      "        Age      Score\n",
      "count   3.0   3.000000\n",
      "mean   30.0  84.900000\n",
      "std     5.0   5.723635\n",
      "min    25.0  78.900000\n",
      "25%    27.5  82.200000\n",
      "50%    30.0  85.500000\n",
      "75%    32.5  87.900000\n",
      "max    35.0  90.300000\n",
      "\n",
      "4-3. 데이터 크기 (행, 열): (3, 3)\n",
      "\n",
      "4-4. 컬럼 이름들: ['Name', 'Age', 'Score']\n",
      "\n",
      "4-5. 인덱스: RangeIndex(start=0, stop=3, step=1)\n",
      "\n",
      "4-6. 상위 2개 행 보기\n",
      "    Name  Age  Score\n",
      "0  Alice   25   85.5\n",
      "1    Bob   30   90.3\n",
      "\n",
      "4-7. Score 평균: 84.9\n",
      "\n",
      "4-8. 나이 기준 정렬\n",
      "      Name  Age  Score\n",
      "0    Alice   25   85.5\n",
      "1      Bob   30   90.3\n",
      "2  Charlie   35   78.9\n"
     ]
    }
   ],
   "source": [
    "print(\"\\n4-1. 요약 정보\")\n",
    "print(df.info())\n",
    "\n",
    "print(\"\\n4-2. 통계 요약\")\n",
    "print(df.describe())\n",
    "\n",
    "print(\"\\n4-3. 데이터 크기 (행, 열):\", df.shape)\n",
    "\n",
    "print(\"\\n4-4. 컬럼 이름들:\", df.columns.tolist())\n",
    "\n",
    "print(\"\\n4-5. 인덱스:\", df.index)\n",
    "\n",
    "print(\"\\n4-6. 상위 2개 행 보기\")\n",
    "print(df.head(2))\n",
    "\n",
    "print(\"\\n4-7. Score 평균:\", df[\"Score\"].mean())\n",
    "\n",
    "print(\"\\n4-8. 나이 기준 정렬\")\n",
    "print(df.sort_values(by=\"Age\"))"
   ]
  },
  {
   "cell_type": "markdown",
   "metadata": {
    "id": "3YgHkgcREZtw"
   },
   "source": [
    "### ⌨️ **실습 11**: `pandas`와 친해지기\n",
    "\n",
    "pandas.DataFrame은 pandas 라이브러리의 정수입니다. 앞으로도 다양한 데이터를 DataFrame으로 변환할 일이 많습니다. DataFrame은 주어진 예시 말고도 다양한 방법으로 instance를 생성할 수 있습니다.\n",
    "\n",
    "다음은 위에서 생성한 dataframe과 같은 데이터를 다른 방법으로 DataFrame으로 만들어봅시다.\n",
    "\n",
    "1. `List[Dict]` 형태의 데이터를 만들어봅시다.\n",
    "2. `List[List]` 형태의 데이터를 통해 만들어봅시다.\n",
    "3. `numpy.ndarray` 형태의 데이터를 통해 만들어봅시다."
   ]
  },
  {
   "cell_type": "code",
   "execution_count": null,
   "metadata": {
    "id": "BEb9vdkpLpKF",
    "outputId": "5d1210a1-1119-4cc0-c7e7-3c58b027b899"
   },
   "outputs": [
    {
     "name": "stdout",
     "output_type": "stream",
     "text": [
      "Name      object\n",
      "Age        int64\n",
      "Score    float64\n",
      "dtype: object\n",
      "Name      object\n",
      "Age        int64\n",
      "Score    float64\n",
      "dtype: object\n",
      "✅ 모든 DataFrame 테스트 통과!\n"
     ]
    }
   ],
   "source": [
    "# None 부분을 직접 채우며 테스트코드가 동작하도록 문제를 풀어보세요 :)\n",
    "# 정답을 확인하는 assert 코드는 수정하지말고 진행해주세요\n",
    "# 기준이 되는 DataFrame\n",
    "df = pd.DataFrame({\n",
    "    \"Name\": [\"Alice\", \"Bob\", \"Charlie\"],\n",
    "    \"Age\": [25, 30, 35],\n",
    "    \"Score\": [85.5, 90.3, 78.9]\n",
    "})\n",
    "\n",
    "# 1. List[Dict] 형태의 데이터를 통해 DataFrame을 만들어봅시다.\n",
    "alice = {\"Name\": \"Alice\", \"Age\": 25, \"Score\": 85.5}\n",
    "bob = {\"Name\": \"Bob\", \"Age\": 30, \"Score\": 90.3}\n",
    "charlie = {\"Name\": \"Charlie\", \"Age\": 35, \"Score\": 78.9}\n",
    "\n",
    "df_1 = pd.DataFrame([alice, bob, charlie])\n",
    "assert df.equals(df_1), \"두 데이터가 다릅니다. column / index / data-type 등을 확인해보세요.\"\n",
    "\n",
    "# 2. List[List] 형태의 데이터를 통해 DataFrame을 만들어봅시다.\n",
    "data = [\n",
    "    [\"Alice\", 25, 85.5],\n",
    "    [\"Bob\", 30, 90.3],\n",
    "    [\"Charlie\", 35, 78.9]\n",
    "]\n",
    "columns = [\"Name\", \"Age\", \"Score\"]\n",
    "\n",
    "df_2 = pd.DataFrame(data, columns=columns)\n",
    "assert df.equals(df_2), \"두 데이터가 다릅니다. column / index / data-type 등을 확인해보세요.\"\n",
    "\n",
    "# 3. numpy.ndarray 형태의 데이터를 통해 DataFrame을 만들어봅시다.\n",
    "# assertion code에서 에러가 나는 경우, `df`와 `df_3`의 차이를 한 번 살펴봐보세요 :)\n",
    "names = [\"Alice\", \"Bob\", \"Charlie\"]\n",
    "nums = np.array([\n",
    "    [25, 85.5],\n",
    "    [30, 90.3],\n",
    "    [35, 78.9]\n",
    "])\n",
    "\n",
    "df_3 = pd.DataFrame(nums, columns=[\"Age\", \"Score\"])\n",
    "df_3.insert(0, \"Name\", names)  # 0번째 위치에 Name 열 삽입\n",
    "df_3['Age'] = df_3['Age'].astype(\"int64\")  # Age 열을 정수형으로 변환\n",
    "\n",
    "assert df.equals(df_3), \"두 데이터가 다릅니다. column / index / data-type 등을 확인해보세요.\"\n",
    "\n",
    "print(\"✅ 모든 DataFrame 테스트 통과!\")"
   ]
  },
  {
   "cell_type": "markdown",
   "metadata": {
    "id": "2gzVyE0qWcyl"
   },
   "source": [
    "## 마치며\n",
    "\n",
    "이상으로 가장 기본적인 Python 기초에 대해 학습하고 Data Science에서 가장 많이 사용되는 `numpy`, `pandas` 라이브러리에 대해 배웠습니다.\n",
    "\n",
    "사실 `numpy`, `pandas`는 글로 배우기보다, 실제로 많이 사용해보면서 용례를 익히는 것이 가장 빠르게 배우는 방법입니다. 과제에서 조금 더 깊게 사용해보도록 합시다."
   ]
  }
 ],
 "metadata": {
  "colab": {
   "provenance": []
  },
  "kernelspec": {
   "display_name": "base",
   "language": "python",
   "name": "python3"
  },
  "language_info": {
   "codemirror_mode": {
    "name": "ipython",
    "version": 3
   },
   "file_extension": ".py",
   "mimetype": "text/x-python",
   "name": "python",
   "nbconvert_exporter": "python",
   "pygments_lexer": "ipython3",
   "version": "3.11.7"
  }
 },
 "nbformat": 4,
 "nbformat_minor": 0
}
