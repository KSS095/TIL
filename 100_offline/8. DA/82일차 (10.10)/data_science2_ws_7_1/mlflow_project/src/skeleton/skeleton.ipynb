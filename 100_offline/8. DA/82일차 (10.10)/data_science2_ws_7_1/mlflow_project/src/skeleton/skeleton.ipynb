{
 "cells": [
  {
   "cell_type": "code",
   "execution_count": 15,
   "id": "fb032d53",
   "metadata": {},
   "outputs": [],
   "source": [
    "import pandas as pd\n",
    "import mlflow\n",
    "import mlflow.xgboost\n",
    "import xgboost as xgb\n",
    "from sklearn.model_selection import train_test_split\n",
    "from sklearn.preprocessing import StandardScaler, OneHotEncoder\n",
    "from sklearn.compose import ColumnTransformer\n",
    "from sklearn.ensemble import RandomForestClassifier\n",
    "from sklearn.metrics import accuracy_score, precision_score, recall_score, f1_score, roc_auc_score\n",
    "from mlflow.models import infer_signature\n",
    "\n",
    "\"\"\"\n",
    "1. 데이터 로딩\n",
    "2. 고객 이탈 예측을 위한 데이터\n",
    "3. 'Exited' 컬럼이 예측 대상(target)\n",
    "\"\"\"\n",
    "data = pd.read_csv('../data/churn.csv')\n",
    "\n",
    "# Tracking Server 설정\n",
    "mlflow.set_tracking_uri(uri=\"http://127.0.0.1:5000\")"
   ]
  },
  {
   "cell_type": "code",
   "execution_count": 16,
   "id": "c95055d7",
   "metadata": {},
   "outputs": [],
   "source": [
    "# 불필요한 컬럼 제거 후 feature(X), target(y) 분리\n",
    "X = data.drop(['Exited', 'RowNumber', 'CustomerId', 'Surname'], axis=1)\n",
    "y = data['Exited']"
   ]
  },
  {
   "cell_type": "code",
   "execution_count": 17,
   "id": "574be354",
   "metadata": {},
   "outputs": [],
   "source": [
    "# 범주형 수치형 feature 정의\n",
    "categorical_features = ['Geography', 'Gender']\n",
    "numeric_features = ['CreditScore', 'Age', 'Tenure', 'Balance', 'NumOfProducts', 'HasCrCard', 'IsActiveMember', 'EstimatedSalary']"
   ]
  },
  {
   "cell_type": "code",
   "execution_count": 18,
   "id": "03ecea7e",
   "metadata": {},
   "outputs": [],
   "source": [
    "# 전처리 파이프라인 설정\n",
    "preprocessor = ColumnTransformer(\n",
    "    transformers=[\n",
    "        ('num', StandardScaler(), numeric_features), # 수치형 데이터 표준화\n",
    "        ('cat', OneHotEncoder(), categorical_features) # 범주형 데이터 원핫인코딩\n",
    "    ])"
   ]
  },
  {
   "cell_type": "code",
   "execution_count": 19,
   "id": "523ef321",
   "metadata": {},
   "outputs": [],
   "source": [
    "# 데이터 전처리 수행\n",
    "X_processed = preprocessor.fit_transform(X)"
   ]
  },
  {
   "cell_type": "code",
   "execution_count": 20,
   "id": "daaa7909",
   "metadata": {},
   "outputs": [],
   "source": [
    "# 데이터셋 학습용과 테스트용으로 분할\n",
    "X_train, X_test, y_train, y_test = train_test_split(X_processed, y, test_size=0.2, random_state=42)"
   ]
  },
  {
   "cell_type": "code",
   "execution_count": 21,
   "id": "2a162a10",
   "metadata": {},
   "outputs": [
    {
     "name": "stderr",
     "output_type": "stream",
     "text": [
      "2025/10/10 11:32:52 INFO mlflow.tracking.fluent: Experiment with name 'practice1' does not exist. Creating a new experiment.\n"
     ]
    },
    {
     "data": {
      "text/plain": [
       "<Experiment: artifact_location=('file:///C:/Users/SSAFY/Desktop/TIL/100_offline/8. DA/82일차 '\n",
       " '(10.10)/data_science2_ws_7_1/mlflow_project/mlruns/1'), creation_time=1760063572581, experiment_id='1', last_update_time=1760063572581, lifecycle_stage='active', name='practice1', tags={}>"
      ]
     },
     "execution_count": 21,
     "metadata": {},
     "output_type": "execute_result"
    }
   ],
   "source": [
    "# MLFlow 실험 설정\n",
    "mlflow.set_experiment(\"practice1\")"
   ]
  },
  {
   "cell_type": "code",
   "execution_count": 22,
   "id": "9964e860",
   "metadata": {},
   "outputs": [
    {
     "name": "stdout",
     "output_type": "stream",
     "text": [
      "🏃 View run RandomForest at: http://127.0.0.1:5000/#/experiments/1/runs/d5b6cd6832e34a5881d28608db7db3b5\n",
      "🧪 View experiment at: http://127.0.0.1:5000/#/experiments/1\n"
     ]
    }
   ],
   "source": [
    "# 랜덤 포레스트 모델 학습 및 평가\n",
    "with mlflow.start_run(run_name=\"RandomForest\"):\n",
    "    model = RandomForestClassifier(n_estimators=100, random_state=42)\n",
    "    model.fit(X_train, y_train) # 모델 학습\n",
    "    preds = model.predict(X_test) # 예측 수행\n",
    "\n",
    "    # 성능 지표 계산\n",
    "    acc = accuracy_score(y_test, preds)\n",
    "    precision = precision_score(y_test, preds)\n",
    "    recall = recall_score(y_test, preds)\n",
    "    f1 = f1_score(y_test, preds)\n",
    "    roc_auc = roc_auc_score(y_test, preds)\n",
    "\n",
    "    # MLFlow에 하이퍼파라미터 및 평가 지표 저장\n",
    "    mlflow.log_params({\n",
    "        'model': 'RandomForest',\n",
    "        'n_estimators': 100, \n",
    "    })\n",
    "\n",
    "    mlflow.log_metrics({\n",
    "        'accuracy': acc,\n",
    "        'precision': precision,\n",
    "        'recall': recall,\n",
    "        'f1_score': f1,\n",
    "        'roc_auc': roc_auc\n",
    "    })\n",
    "\n",
    "    # 입력과 출력 형태 정의 및 MLFlow에 모델 저장\n",
    "    signature = infer_signature(X_train, preds)\n",
    "    mlflow.sklearn.log_model(model, \"random_forest_model\", signature=signature)"
   ]
  },
  {
   "cell_type": "code",
   "execution_count": 23,
   "id": "f9352af7",
   "metadata": {},
   "outputs": [
    {
     "name": "stdout",
     "output_type": "stream",
     "text": [
      "🏃 View run XGBoost at: http://127.0.0.1:5000/#/experiments/1/runs/ff603a19bb9f4fbf93b3bab7909a7180\n",
      "🧪 View experiment at: http://127.0.0.1:5000/#/experiments/1\n"
     ]
    }
   ],
   "source": [
    "# XGBoost 모델 학습 및 평가\n",
    "with mlflow.start_run(run_name=\"XGBoost\"):\n",
    "    model = xgb.XGBClassifier(n_estimators=100, eval_metric='logloss')\n",
    "    model.fit(X_train, y_train) # 모델 학습\n",
    "    preds = model.predict(X_test) # 예측 수행\n",
    "\n",
    "    # 성능 평가 지표 계산\n",
    "    acc = accuracy_score(y_test, preds)\n",
    "    precision = precision_score(y_test, preds)\n",
    "    recall = recall_score(y_test, preds)\n",
    "    f1 = f1_score(y_test, preds)\n",
    "    roc_auc = roc_auc_score(y_test, preds)\n",
    "\n",
    "    # MLflow에 하이퍼파라미터 및 평가 지표 저장\n",
    "    mlflow.log_params({'model': 'XGBoost', 'n_estimators': 100})\n",
    "    mlflow.log_metrics({\n",
    "        'accuracy': acc,\n",
    "        'precision': precision,\n",
    "        'recall': recall,\n",
    "        'f1_score': f1,\n",
    "        'roc_auc': roc_auc\n",
    "    })\n",
    "\n",
    "    # 입력과 출력 형태 정의 및 MLFlow에 모델 저장\n",
    "    signature = infer_signature(X_train, preds)\n",
    "    mlflow.xgboost.log_model(model, \"xgboost_model\", signature=signature, model_format='json')"
   ]
  },
  {
   "cell_type": "code",
   "execution_count": null,
   "id": "53709968",
   "metadata": {},
   "outputs": [],
   "source": []
  }
 ],
 "metadata": {
  "kernelspec": {
   "display_name": "mlflow-env",
   "language": "python",
   "name": "python3"
  },
  "language_info": {
   "codemirror_mode": {
    "name": "ipython",
    "version": 3
   },
   "file_extension": ".py",
   "mimetype": "text/x-python",
   "name": "python",
   "nbconvert_exporter": "python",
   "pygments_lexer": "ipython3",
   "version": "3.11.9"
  }
 },
 "nbformat": 4,
 "nbformat_minor": 5
}
