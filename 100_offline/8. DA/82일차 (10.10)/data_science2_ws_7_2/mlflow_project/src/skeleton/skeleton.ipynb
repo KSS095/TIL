{
 "cells": [
  {
   "cell_type": "code",
   "execution_count": 2,
   "id": "24451a92",
   "metadata": {},
   "outputs": [],
   "source": [
    "import pandas as pd\n",
    "import mlflow\n",
    "import mlflow.xgboost\n",
    "import xgboost as xgb\n",
    "from sklearn.model_selection import train_test_split\n",
    "from sklearn.preprocessing import StandardScaler, OneHotEncoder\n",
    "from sklearn.compose import ColumnTransformer\n",
    "from sklearn.metrics import accuracy_score, precision_score, recall_score, f1_score, roc_auc_score\n",
    "from mlflow.models import infer_signature\n",
    "\n",
    "\"\"\"\n",
    "1. 데이터 로딩\n",
    "2. 고객 이탈 예측을 위한 데이터\n",
    "3. 'Exited' 컬럼이 예측 대상(target)\n",
    "\"\"\"\n",
    "data = pd.read_csv('../data/churn.csv')\n",
    "\n",
    "# Tracking Server 설정\n",
    "mlflow.set_tracking_uri(uri=\"http://127.0.0.1:5000\") # 환경 변수를 설정했지만, 확실하게 설정"
   ]
  },
  {
   "cell_type": "code",
   "execution_count": 3,
   "id": "5e49e51a",
   "metadata": {},
   "outputs": [],
   "source": [
    "# 불필요한 컬럼 제거 후 feature(X), target(y) 분리\n",
    "X = data.drop(['Exited', 'RowNumber', 'CustomerId', 'Surname'], axis=1)\n",
    "y = data['Exited']"
   ]
  },
  {
   "cell_type": "code",
   "execution_count": 4,
   "id": "161e2744",
   "metadata": {},
   "outputs": [],
   "source": [
    "# 범주형 수치형 feature 정의\n",
    "categorical_features = ['Geography', 'Gender']\n",
    "numeric_features = ['CreditScore', 'Age', 'Tenure', 'Balance', 'NumOfProducts', 'HasCrCard', 'IsActiveMember', 'EstimatedSalary']"
   ]
  },
  {
   "cell_type": "code",
   "execution_count": 5,
   "id": "25b1af22",
   "metadata": {},
   "outputs": [],
   "source": [
    "# 전처리 파이프라인 설정\n",
    "preprocessor = ColumnTransformer(\n",
    "    transformers=[\n",
    "        ('num', StandardScaler(), numeric_features), # 수치형 데이터 표준화\n",
    "        ('cat', OneHotEncoder(), categorical_features) # 범주형 데이터 원핫인코딩\n",
    "    ])"
   ]
  },
  {
   "cell_type": "code",
   "execution_count": 6,
   "id": "0e50cae7",
   "metadata": {},
   "outputs": [],
   "source": [
    "# 데이터 전처리 수행\n",
    "X_processed = preprocessor.fit_transform(X)"
   ]
  },
  {
   "cell_type": "code",
   "execution_count": 7,
   "id": "bde7ce98",
   "metadata": {},
   "outputs": [],
   "source": [
    "# 데이터셋 학습용과 테스트용으로 분할\n",
    "X_train, X_test, y_train, y_test = train_test_split(X_processed, y, test_size=0.2, random_state=42)"
   ]
  },
  {
   "cell_type": "code",
   "execution_count": 8,
   "id": "1359a9d5",
   "metadata": {},
   "outputs": [
    {
     "name": "stderr",
     "output_type": "stream",
     "text": [
      "2025/10/10 11:48:47 INFO mlflow.tracking.fluent: Experiment with name 'practice2' does not exist. Creating a new experiment.\n"
     ]
    },
    {
     "data": {
      "text/plain": [
       "<Experiment: artifact_location=('file:///C:/Users/SSAFY/Desktop/TIL/100_offline/8. DA/82일차 '\n",
       " '(10.10)/data_science2_ws_7_2/mlflow_project/mlruns/1'), creation_time=1760064527205, experiment_id='1', last_update_time=1760064527205, lifecycle_stage='active', name='practice2', tags={}>"
      ]
     },
     "execution_count": 8,
     "metadata": {},
     "output_type": "execute_result"
    }
   ],
   "source": [
    "# MLFlow 실험 설정\n",
    "mlflow.set_experiment(\"practice2\")"
   ]
  },
  {
   "cell_type": "code",
   "execution_count": 9,
   "id": "1ecefb82",
   "metadata": {},
   "outputs": [
    {
     "name": "stderr",
     "output_type": "stream",
     "text": [
      "Successfully registered model 'Practice2_ChurnModel'.\n",
      "2025/10/10 11:49:42 INFO mlflow.store.model_registry.abstract_store: Waiting up to 300 seconds for model version to finish creation. Model name: Practice2_ChurnModel, version 1\n"
     ]
    },
    {
     "name": "stdout",
     "output_type": "stream",
     "text": [
      "🏃 View run XGBoost at: http://127.0.0.1:5000/#/experiments/1/runs/aae44ecfd4ad4bd387d23fadf8fd7709\n",
      "🧪 View experiment at: http://127.0.0.1:5000/#/experiments/1\n"
     ]
    },
    {
     "name": "stderr",
     "output_type": "stream",
     "text": [
      "Created version '1' of model 'Practice2_ChurnModel'.\n"
     ]
    }
   ],
   "source": [
    "# XGBoost 모델 학습 및 평가\n",
    "with mlflow.start_run(run_name=\"XGBoost\"):\n",
    "    model = xgb.XGBClassifier(n_estimators=100, eval_metric='logloss')\n",
    "    model.fit(X_train, y_train) # 모델 학습\n",
    "    preds = model.predict(X_test) # 예측 수행\n",
    "\n",
    "    # 성능 평가 지표 계산\n",
    "    acc = accuracy_score(y_test, preds)\n",
    "    precision = precision_score(y_test, preds)\n",
    "    recall = recall_score(y_test, preds)\n",
    "    f1 = f1_score(y_test, preds)\n",
    "    roc_auc = roc_auc_score(y_test, preds)\n",
    "\n",
    "    # MLflow에 하이퍼파라미터 및 평가 지표 저장\n",
    "    mlflow.log_params({'model': 'XGBoost', 'n_estimators': 100})\n",
    "    mlflow.log_metrics({\n",
    "        'accuracy': acc,\n",
    "        'precision': precision,\n",
    "        'recall': recall,\n",
    "        'f1_score': f1,\n",
    "        'roc_auc': roc_auc\n",
    "    })\n",
    "\n",
    "    # 입력과 출력 형태 정의 및 MLFlow에 모델 저장\n",
    "    signature = infer_signature(X_train, preds)\n",
    "    \n",
    "    # 'registered_model_name' 파라미터를 지정하면 모델이 자동으로 Model Registry에 등록\n",
    "    mlflow.xgboost.log_model(model, \"xgboost_model\", signature=signature, model_format='json', registered_model_name=\"Practice2_ChurnModel\")"
   ]
  },
  {
   "cell_type": "code",
   "execution_count": 10,
   "id": "84ad7ce2",
   "metadata": {},
   "outputs": [],
   "source": [
    "from mlflow.tracking import MlflowClient\n",
    "\n",
    "# MLflow 클라이언트 객체 생성\n",
    "client = MlflowClient()\n",
    "\n",
    "# 모델 버전 1에 'staging'이라는 alias 설정\n",
    "# 기존 stage='Staging'과 같은 의미를 alias='staging'으로 표현\n",
    "client.set_registered_model_alias(\n",
    "    name=\"Practice2_ChurnModel\",  # 모델 이름\n",
    "    alias=\"staging\",              # 설정할 alias (예: staging, production 등)\n",
    "    version=1                     # alias가 가리킬 모델 버전\n",
    ")\n"
   ]
  },
  {
   "cell_type": "code",
   "execution_count": 11,
   "id": "0b10b4b4",
   "metadata": {},
   "outputs": [
    {
     "name": "stdout",
     "output_type": "stream",
     "text": [
      "[0 0 0 ... 1 0 1]\n"
     ]
    }
   ],
   "source": [
    "# 이 코드는 주석처리 후, 이전까지의 코드가 모두 수행된 상태\n",
    "\n",
    "# 등록된 모델 불러오기 및 예측 수행\n",
    "model = mlflow.pyfunc.load_model(\"models:/Practice2_ChurnModel@staging\")\n",
    "predictions = model.predict(X_test)\n",
    "print(predictions)"
   ]
  }
 ],
 "metadata": {
  "kernelspec": {
   "display_name": "mlflow-env",
   "language": "python",
   "name": "python3"
  },
  "language_info": {
   "codemirror_mode": {
    "name": "ipython",
    "version": 3
   },
   "file_extension": ".py",
   "mimetype": "text/x-python",
   "name": "python",
   "nbconvert_exporter": "python",
   "pygments_lexer": "ipython3",
   "version": "3.11.9"
  }
 },
 "nbformat": 4,
 "nbformat_minor": 5
}
