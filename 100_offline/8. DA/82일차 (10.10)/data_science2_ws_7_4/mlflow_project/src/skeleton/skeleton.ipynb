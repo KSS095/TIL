{
 "cells": [
  {
   "cell_type": "code",
   "execution_count": 1,
   "id": "e45b3cf6",
   "metadata": {},
   "outputs": [],
   "source": [
    "# 필요 라이브러리 임포트\n",
    "import pandas as pd\n",
    "import mlflow\n",
    "import mlflow.xgboost\n",
    "import mlflow.pyfunc\n",
    "import xgboost as xgb\n",
    "from sklearn.model_selection import train_test_split\n",
    "from sklearn.preprocessing import StandardScaler, OneHotEncoder\n",
    "from sklearn.compose import ColumnTransformer\n",
    "from sklearn.metrics import roc_auc_score\n",
    "from mlflow.models import infer_signature\n",
    "from mlflow.tracking import MlflowClient\n",
    "from hyperopt import fmin, tpe, hp, Trials, STATUS_OK\n",
    "\n",
    "# 1. 데이터 로딩 및 전처리\n",
    "data = pd.read_csv('../data/churn.csv')  # 고객 이탈 데이터 로딩\n",
    "\n",
    "# Tracking Server 설정\n",
    "mlflow.set_tracking_uri(uri=\"http://127.0.0.1:5000\") # 환경 변수를 설정했지만, 확실하게 설정"
   ]
  },
  {
   "cell_type": "code",
   "execution_count": 2,
   "id": "692b679e",
   "metadata": {},
   "outputs": [],
   "source": [
    "\n",
    "# 사용하지 않는 열 제거 및 feature/target 분리\n",
    "X = data.drop(['Exited', 'RowNumber', 'CustomerId', 'Surname'], axis=1)\n",
    "y = data['Exited']"
   ]
  },
  {
   "cell_type": "code",
   "execution_count": 3,
   "id": "e4034ae0",
   "metadata": {},
   "outputs": [],
   "source": [
    "# 범주형 및 수치형 feature 정의\n",
    "categorical = ['Geography', 'Gender']\n",
    "numeric = ['CreditScore', 'Age', 'Tenure', 'Balance',\n",
    "           'NumOfProducts', 'HasCrCard', 'IsActiveMember', 'EstimatedSalary']\n"
   ]
  },
  {
   "cell_type": "code",
   "execution_count": 4,
   "id": "cb08ff69",
   "metadata": {},
   "outputs": [],
   "source": [
    "# 전처리 파이프라인: 수치형 표준화 + 범주형 원-핫 인코딩\n",
    "preprocessor = ColumnTransformer([\n",
    "    ('num', StandardScaler(), numeric),\n",
    "    ('cat', OneHotEncoder(), categorical)\n",
    "])"
   ]
  },
  {
   "cell_type": "code",
   "execution_count": 5,
   "id": "4f554012",
   "metadata": {},
   "outputs": [],
   "source": [
    "# 전처리 적용\n",
    "X_processed = preprocessor.fit_transform(X)\n",
    "\n"
   ]
  },
  {
   "cell_type": "code",
   "execution_count": 6,
   "id": "c55ef874",
   "metadata": {},
   "outputs": [],
   "source": [
    "# 학습/테스트 데이터 분리\n",
    "X_train, X_test, y_train, y_test = train_test_split(\n",
    "    X_processed, y, test_size=0.2, random_state=42\n",
    ")"
   ]
  },
  {
   "cell_type": "code",
   "execution_count": 8,
   "id": "27a27f41",
   "metadata": {},
   "outputs": [],
   "source": [
    "\n",
    "# 2. 하이퍼파라미터 탐색 공간 정의 (Hyperopt 사용)\n",
    "space = {\n",
    "    'max_depth': hp.choice('max_depth', range(3, 10)),               # 트리 깊이\n",
    "    'learning_rate': hp.uniform('learning_rate', 0.01, 0.2),         # 학습률\n",
    "    'n_estimators': hp.choice('n_estimators', range(50, 200)),       # 트리 개수\n",
    "    'gamma': hp.uniform('gamma', 0, 5)                                # 가지치기 규제 파라미터\n",
    "}"
   ]
  },
  {
   "cell_type": "code",
   "execution_count": 9,
   "id": "e788c398",
   "metadata": {},
   "outputs": [],
   "source": [
    "# 3. objective 함수 정의: 실험 수행 + 성능 평가 + 조건 충족 시 모델 자동 등록\n",
    "def objective(params):\n",
    "    mlflow.set_experiment(\"practice4\")  # 실험 이름 설정\n",
    "    with mlflow.start_run(nested=True) as run:  # 각 하이퍼파라미터 조합마다 별도 Run 시작\n",
    "        # 모델 학습\n",
    "        model = xgb.XGBClassifier(eval_metric='logloss', **params)\n",
    "        model.fit(X_train, y_train)\n",
    "\n",
    "        # ROC-AUC 계산을 위한 확률 예측\n",
    "        probs = model.predict_proba(X_test)[:, 1]\n",
    "        roc_auc = roc_auc_score(y_test, probs)\n",
    "\n",
    "        # 실험 결과 로깅 (하이퍼파라미터 및 성능 지표)\n",
    "        mlflow.log_params(params)\n",
    "        mlflow.log_metric(\"roc_auc\", roc_auc)\n",
    "\n",
    "        # 조건 만족 시 (성능 기준 통과), 모델 Registry에 자동 등록 및 Staging 전환\n",
    "        if roc_auc > 0.86:\n",
    "            # 모델 시그니처 정의\n",
    "            signature = infer_signature(X_train, probs)\n",
    "\n",
    "            # 모델 저장 및 등록\n",
    "            result = mlflow.xgboost.log_model(\n",
    "                model,\n",
    "                artifact_path=\"model\",\n",
    "                signature=signature,\n",
    "                registered_model_name=\"CICDModel\"\n",
    "            )\n",
    "\n",
    "            # Registry에 등록된 모델 버전 확인 후, Staging 단계로 전환\n",
    "            client = MlflowClient()\n",
    "            latest_version = client.get_latest_versions(\"CICDModel\", stages=[\"None\"])[0].version\n",
    "            client.transition_model_version_stage(\n",
    "                name=\"CICDModel\",\n",
    "                version=latest_version,\n",
    "                stage=\"Staging\",\n",
    "                archive_existing_versions=True\n",
    "            )\n",
    "\n",
    "            print(f\"등록 완료: version {latest_version}, AUC={roc_auc:.4f}\")\n",
    "\n",
    "        # Hyperopt가 사용하는 반환 형식 (최소화 대상: -roc_auc)\n",
    "        return {'loss': -roc_auc, 'status': STATUS_OK}\n"
   ]
  },
  {
   "cell_type": "code",
   "execution_count": 10,
   "id": "7b42a163",
   "metadata": {},
   "outputs": [
    {
     "name": "stdout",
     "output_type": "stream",
     "text": [
      "  0%|          | 0/30 [00:00<?, ?trial/s, best loss=?]"
     ]
    },
    {
     "name": "stderr",
     "output_type": "stream",
     "text": [
      "2025/10/10 23:42:45 INFO mlflow.tracking.fluent: Experiment with name 'practice4' does not exist. Creating a new experiment.\n",
      "\n",
      "c:\\Users\\tmdtn\\venvs\\mlflow-env\\Lib\\site-packages\\xgboost\\sklearn.py:1028: UserWarning: [23:42:46] WARNING: C:\\actions-runner\\_work\\xgboost\\xgboost\\src\\c_api\\c_api.cc:1427: Saving model in the UBJSON format as default.  You can use file extension: `json`, `ubj` or `deprecated` to choose between formats.\n",
      "  self.get_booster().save_model(fname)\n",
      "\n",
      "Successfully registered model 'CICDModel'.\n",
      "2025/10/10 23:43:16 INFO mlflow.store.model_registry.abstract_store: Waiting up to 300 seconds for model version to finish creation. Model name: CICDModel, version 1\n",
      "\n",
      "Created version '1' of model 'CICDModel'.\n",
      "C:\\Users\\tmdtn\\AppData\\Local\\Temp\\ipykernel_40980\\360130756.py:32: FutureWarning: ``mlflow.tracking.client.MlflowClient.get_latest_versions`` is deprecated since 2.9.0. Model registry stages will be removed in a future major release. To learn more about the deprecation of model registry stages, see our migration guide here: https://mlflow.org/docs/latest/model-registry.html#migrating-from-stages\n",
      "  latest_version = client.get_latest_versions(\"CICDModel\", stages=[\"None\"])[0].version\n",
      "\n",
      "C:\\Users\\tmdtn\\AppData\\Local\\Temp\\ipykernel_40980\\360130756.py:33: FutureWarning: ``mlflow.tracking.client.MlflowClient.transition_model_version_stage`` is deprecated since 2.9.0. Model registry stages will be removed in a future major release. To learn more about the deprecation of model registry stages, see our migration guide here: https://mlflow.org/docs/latest/model-registry.html#migrating-from-stages\n",
      "  client.transition_model_version_stage(\n",
      "\n"
     ]
    },
    {
     "name": "stdout",
     "output_type": "stream",
     "text": [
      "등록 완료: version 1, AUC=0.8754                          \n",
      "🏃 View run redolent-squid-846 at: http://127.0.0.1:5000/#/experiments/1/runs/109de31054434a398ebb10071d82c248\n",
      "\n",
      "🧪 View experiment at: http://127.0.0.1:5000/#/experiments/1\n",
      "\n",
      "  3%|▎         | 1/30 [00:33<16:15, 33.64s/trial, best loss: -0.8754447384296755]"
     ]
    },
    {
     "name": "stderr",
     "output_type": "stream",
     "text": [
      "c:\\Users\\tmdtn\\venvs\\mlflow-env\\Lib\\site-packages\\xgboost\\sklearn.py:1028: UserWarning: [23:43:18] WARNING: C:\\actions-runner\\_work\\xgboost\\xgboost\\src\\c_api\\c_api.cc:1427: Saving model in the UBJSON format as default.  You can use file extension: `json`, `ubj` or `deprecated` to choose between formats.\n",
      "  self.get_booster().save_model(fname)\n",
      "\n",
      "Registered model 'CICDModel' already exists. Creating a new version of this model...\n",
      "2025/10/10 23:43:48 INFO mlflow.store.model_registry.abstract_store: Waiting up to 300 seconds for model version to finish creation. Model name: CICDModel, version 2\n",
      "\n",
      "Created version '2' of model 'CICDModel'.\n",
      "C:\\Users\\tmdtn\\AppData\\Local\\Temp\\ipykernel_40980\\360130756.py:32: FutureWarning: ``mlflow.tracking.client.MlflowClient.get_latest_versions`` is deprecated since 2.9.0. Model registry stages will be removed in a future major release. To learn more about the deprecation of model registry stages, see our migration guide here: https://mlflow.org/docs/latest/model-registry.html#migrating-from-stages\n",
      "  latest_version = client.get_latest_versions(\"CICDModel\", stages=[\"None\"])[0].version\n",
      "\n",
      "C:\\Users\\tmdtn\\AppData\\Local\\Temp\\ipykernel_40980\\360130756.py:33: FutureWarning: ``mlflow.tracking.client.MlflowClient.transition_model_version_stage`` is deprecated since 2.9.0. Model registry stages will be removed in a future major release. To learn more about the deprecation of model registry stages, see our migration guide here: https://mlflow.org/docs/latest/model-registry.html#migrating-from-stages\n",
      "  client.transition_model_version_stage(\n",
      "\n"
     ]
    },
    {
     "name": "stdout",
     "output_type": "stream",
     "text": [
      "등록 완료: version 2, AUC=0.8717                                                     \n",
      "🏃 View run zealous-kit-268 at: http://127.0.0.1:5000/#/experiments/1/runs/fea9056631794f8884140472900766e3\n",
      "\n",
      "🧪 View experiment at: http://127.0.0.1:5000/#/experiments/1                     \n",
      "\n",
      "  7%|▋         | 2/30 [01:05<15:10, 32.51s/trial, best loss: -0.8754447384296755]"
     ]
    },
    {
     "name": "stderr",
     "output_type": "stream",
     "text": [
      "c:\\Users\\tmdtn\\venvs\\mlflow-env\\Lib\\site-packages\\xgboost\\sklearn.py:1028: UserWarning: [23:43:50] WARNING: C:\\actions-runner\\_work\\xgboost\\xgboost\\src\\c_api\\c_api.cc:1427: Saving model in the UBJSON format as default.  You can use file extension: `json`, `ubj` or `deprecated` to choose between formats.\n",
      "  self.get_booster().save_model(fname)\n",
      "\n",
      "Registered model 'CICDModel' already exists. Creating a new version of this model...\n",
      "2025/10/10 23:44:07 INFO mlflow.store.model_registry.abstract_store: Waiting up to 300 seconds for model version to finish creation. Model name: CICDModel, version 3\n",
      "\n",
      "Created version '3' of model 'CICDModel'.\n",
      "C:\\Users\\tmdtn\\AppData\\Local\\Temp\\ipykernel_40980\\360130756.py:32: FutureWarning: ``mlflow.tracking.client.MlflowClient.get_latest_versions`` is deprecated since 2.9.0. Model registry stages will be removed in a future major release. To learn more about the deprecation of model registry stages, see our migration guide here: https://mlflow.org/docs/latest/model-registry.html#migrating-from-stages\n",
      "  latest_version = client.get_latest_versions(\"CICDModel\", stages=[\"None\"])[0].version\n",
      "\n",
      "C:\\Users\\tmdtn\\AppData\\Local\\Temp\\ipykernel_40980\\360130756.py:33: FutureWarning: ``mlflow.tracking.client.MlflowClient.transition_model_version_stage`` is deprecated since 2.9.0. Model registry stages will be removed in a future major release. To learn more about the deprecation of model registry stages, see our migration guide here: https://mlflow.org/docs/latest/model-registry.html#migrating-from-stages\n",
      "  client.transition_model_version_stage(\n",
      "\n"
     ]
    },
    {
     "name": "stdout",
     "output_type": "stream",
     "text": [
      "등록 완료: version 3, AUC=0.8711                                                     \n",
      "🏃 View run incongruous-crab-981 at: http://127.0.0.1:5000/#/experiments/1/runs/65aec4357bda41769eed3e924360225c\n",
      "\n",
      "🧪 View experiment at: http://127.0.0.1:5000/#/experiments/1                     \n",
      "\n",
      " 10%|█         | 3/30 [01:24<11:49, 26.26s/trial, best loss: -0.8754447384296755]"
     ]
    },
    {
     "name": "stderr",
     "output_type": "stream",
     "text": [
      "c:\\Users\\tmdtn\\venvs\\mlflow-env\\Lib\\site-packages\\xgboost\\sklearn.py:1028: UserWarning: [23:44:08] WARNING: C:\\actions-runner\\_work\\xgboost\\xgboost\\src\\c_api\\c_api.cc:1427: Saving model in the UBJSON format as default.  You can use file extension: `json`, `ubj` or `deprecated` to choose between formats.\n",
      "  self.get_booster().save_model(fname)\n",
      "\n",
      "Registered model 'CICDModel' already exists. Creating a new version of this model...\n",
      "2025/10/10 23:44:24 INFO mlflow.store.model_registry.abstract_store: Waiting up to 300 seconds for model version to finish creation. Model name: CICDModel, version 4\n",
      "\n",
      "Created version '4' of model 'CICDModel'.\n",
      "C:\\Users\\tmdtn\\AppData\\Local\\Temp\\ipykernel_40980\\360130756.py:32: FutureWarning: ``mlflow.tracking.client.MlflowClient.get_latest_versions`` is deprecated since 2.9.0. Model registry stages will be removed in a future major release. To learn more about the deprecation of model registry stages, see our migration guide here: https://mlflow.org/docs/latest/model-registry.html#migrating-from-stages\n",
      "  latest_version = client.get_latest_versions(\"CICDModel\", stages=[\"None\"])[0].version\n",
      "\n",
      "C:\\Users\\tmdtn\\AppData\\Local\\Temp\\ipykernel_40980\\360130756.py:33: FutureWarning: ``mlflow.tracking.client.MlflowClient.transition_model_version_stage`` is deprecated since 2.9.0. Model registry stages will be removed in a future major release. To learn more about the deprecation of model registry stages, see our migration guide here: https://mlflow.org/docs/latest/model-registry.html#migrating-from-stages\n",
      "  client.transition_model_version_stage(\n",
      "\n"
     ]
    },
    {
     "name": "stdout",
     "output_type": "stream",
     "text": [
      "등록 완료: version 4, AUC=0.8695                                                     \n",
      "🏃 View run abundant-dog-642 at: http://127.0.0.1:5000/#/experiments/1/runs/cd94cc1c9b734ec5826554e8696d80ed\n",
      "\n",
      "🧪 View experiment at: http://127.0.0.1:5000/#/experiments/1                     \n",
      "\n",
      " 13%|█▎        | 4/30 [01:40<09:44, 22.48s/trial, best loss: -0.8754447384296755]"
     ]
    },
    {
     "name": "stderr",
     "output_type": "stream",
     "text": [
      "c:\\Users\\tmdtn\\venvs\\mlflow-env\\Lib\\site-packages\\xgboost\\sklearn.py:1028: UserWarning: [23:44:25] WARNING: C:\\actions-runner\\_work\\xgboost\\xgboost\\src\\c_api\\c_api.cc:1427: Saving model in the UBJSON format as default.  You can use file extension: `json`, `ubj` or `deprecated` to choose between formats.\n",
      "  self.get_booster().save_model(fname)\n",
      "\n",
      "Registered model 'CICDModel' already exists. Creating a new version of this model...\n",
      "2025/10/10 23:44:40 INFO mlflow.store.model_registry.abstract_store: Waiting up to 300 seconds for model version to finish creation. Model name: CICDModel, version 5\n",
      "\n",
      "Created version '5' of model 'CICDModel'.\n",
      "C:\\Users\\tmdtn\\AppData\\Local\\Temp\\ipykernel_40980\\360130756.py:32: FutureWarning: ``mlflow.tracking.client.MlflowClient.get_latest_versions`` is deprecated since 2.9.0. Model registry stages will be removed in a future major release. To learn more about the deprecation of model registry stages, see our migration guide here: https://mlflow.org/docs/latest/model-registry.html#migrating-from-stages\n",
      "  latest_version = client.get_latest_versions(\"CICDModel\", stages=[\"None\"])[0].version\n",
      "\n",
      "C:\\Users\\tmdtn\\AppData\\Local\\Temp\\ipykernel_40980\\360130756.py:33: FutureWarning: ``mlflow.tracking.client.MlflowClient.transition_model_version_stage`` is deprecated since 2.9.0. Model registry stages will be removed in a future major release. To learn more about the deprecation of model registry stages, see our migration guide here: https://mlflow.org/docs/latest/model-registry.html#migrating-from-stages\n",
      "  client.transition_model_version_stage(\n",
      "\n"
     ]
    },
    {
     "name": "stdout",
     "output_type": "stream",
     "text": [
      "등록 완료: version 5, AUC=0.8735                                                     \n",
      "🏃 View run abrasive-lynx-575 at: http://127.0.0.1:5000/#/experiments/1/runs/b9d08113a94c4205bb5f6f41c98215c1\n",
      "\n",
      "🧪 View experiment at: http://127.0.0.1:5000/#/experiments/1                     \n",
      "\n",
      " 17%|█▋        | 5/30 [01:57<08:29, 20.39s/trial, best loss: -0.8754447384296755]"
     ]
    },
    {
     "name": "stderr",
     "output_type": "stream",
     "text": [
      "c:\\Users\\tmdtn\\venvs\\mlflow-env\\Lib\\site-packages\\xgboost\\sklearn.py:1028: UserWarning: [23:44:42] WARNING: C:\\actions-runner\\_work\\xgboost\\xgboost\\src\\c_api\\c_api.cc:1427: Saving model in the UBJSON format as default.  You can use file extension: `json`, `ubj` or `deprecated` to choose between formats.\n",
      "  self.get_booster().save_model(fname)\n",
      "\n",
      "Registered model 'CICDModel' already exists. Creating a new version of this model...\n",
      "2025/10/10 23:45:01 INFO mlflow.store.model_registry.abstract_store: Waiting up to 300 seconds for model version to finish creation. Model name: CICDModel, version 6\n",
      "\n",
      "Created version '6' of model 'CICDModel'.\n",
      "C:\\Users\\tmdtn\\AppData\\Local\\Temp\\ipykernel_40980\\360130756.py:32: FutureWarning: ``mlflow.tracking.client.MlflowClient.get_latest_versions`` is deprecated since 2.9.0. Model registry stages will be removed in a future major release. To learn more about the deprecation of model registry stages, see our migration guide here: https://mlflow.org/docs/latest/model-registry.html#migrating-from-stages\n",
      "  latest_version = client.get_latest_versions(\"CICDModel\", stages=[\"None\"])[0].version\n",
      "\n",
      "C:\\Users\\tmdtn\\AppData\\Local\\Temp\\ipykernel_40980\\360130756.py:33: FutureWarning: ``mlflow.tracking.client.MlflowClient.transition_model_version_stage`` is deprecated since 2.9.0. Model registry stages will be removed in a future major release. To learn more about the deprecation of model registry stages, see our migration guide here: https://mlflow.org/docs/latest/model-registry.html#migrating-from-stages\n",
      "  client.transition_model_version_stage(\n",
      "\n"
     ]
    },
    {
     "name": "stdout",
     "output_type": "stream",
     "text": [
      "등록 완료: version 6, AUC=0.8715                                                     \n",
      "🏃 View run abundant-yak-50 at: http://127.0.0.1:5000/#/experiments/1/runs/d16232810f8345b08194e5012ce19976\n",
      "\n",
      "🧪 View experiment at: http://127.0.0.1:5000/#/experiments/1                     \n",
      "\n",
      " 20%|██        | 6/30 [02:18<08:14, 20.62s/trial, best loss: -0.8754447384296755]"
     ]
    },
    {
     "name": "stderr",
     "output_type": "stream",
     "text": [
      "c:\\Users\\tmdtn\\venvs\\mlflow-env\\Lib\\site-packages\\xgboost\\sklearn.py:1028: UserWarning: [23:45:03] WARNING: C:\\actions-runner\\_work\\xgboost\\xgboost\\src\\c_api\\c_api.cc:1427: Saving model in the UBJSON format as default.  You can use file extension: `json`, `ubj` or `deprecated` to choose between formats.\n",
      "  self.get_booster().save_model(fname)\n",
      "\n",
      "Registered model 'CICDModel' already exists. Creating a new version of this model...\n",
      "2025/10/10 23:45:19 INFO mlflow.store.model_registry.abstract_store: Waiting up to 300 seconds for model version to finish creation. Model name: CICDModel, version 7\n",
      "\n",
      "Created version '7' of model 'CICDModel'.\n",
      "C:\\Users\\tmdtn\\AppData\\Local\\Temp\\ipykernel_40980\\360130756.py:32: FutureWarning: ``mlflow.tracking.client.MlflowClient.get_latest_versions`` is deprecated since 2.9.0. Model registry stages will be removed in a future major release. To learn more about the deprecation of model registry stages, see our migration guide here: https://mlflow.org/docs/latest/model-registry.html#migrating-from-stages\n",
      "  latest_version = client.get_latest_versions(\"CICDModel\", stages=[\"None\"])[0].version\n",
      "\n",
      "C:\\Users\\tmdtn\\AppData\\Local\\Temp\\ipykernel_40980\\360130756.py:33: FutureWarning: ``mlflow.tracking.client.MlflowClient.transition_model_version_stage`` is deprecated since 2.9.0. Model registry stages will be removed in a future major release. To learn more about the deprecation of model registry stages, see our migration guide here: https://mlflow.org/docs/latest/model-registry.html#migrating-from-stages\n",
      "  client.transition_model_version_stage(\n",
      "\n"
     ]
    },
    {
     "name": "stdout",
     "output_type": "stream",
     "text": [
      "등록 완료: version 7, AUC=0.8730                                                     \n",
      "🏃 View run receptive-frog-89 at: http://127.0.0.1:5000/#/experiments/1/runs/127029f439714a06a1a56f204eb75571\n",
      "\n",
      "🧪 View experiment at: http://127.0.0.1:5000/#/experiments/1                     \n",
      "\n",
      " 23%|██▎       | 7/30 [02:36<07:36, 19.83s/trial, best loss: -0.8754447384296755]"
     ]
    },
    {
     "name": "stderr",
     "output_type": "stream",
     "text": [
      "c:\\Users\\tmdtn\\venvs\\mlflow-env\\Lib\\site-packages\\xgboost\\sklearn.py:1028: UserWarning: [23:45:21] WARNING: C:\\actions-runner\\_work\\xgboost\\xgboost\\src\\c_api\\c_api.cc:1427: Saving model in the UBJSON format as default.  You can use file extension: `json`, `ubj` or `deprecated` to choose between formats.\n",
      "  self.get_booster().save_model(fname)\n",
      "\n",
      "Registered model 'CICDModel' already exists. Creating a new version of this model...\n",
      "2025/10/10 23:45:45 INFO mlflow.store.model_registry.abstract_store: Waiting up to 300 seconds for model version to finish creation. Model name: CICDModel, version 8\n",
      "\n",
      "Created version '8' of model 'CICDModel'.\n",
      "C:\\Users\\tmdtn\\AppData\\Local\\Temp\\ipykernel_40980\\360130756.py:32: FutureWarning: ``mlflow.tracking.client.MlflowClient.get_latest_versions`` is deprecated since 2.9.0. Model registry stages will be removed in a future major release. To learn more about the deprecation of model registry stages, see our migration guide here: https://mlflow.org/docs/latest/model-registry.html#migrating-from-stages\n",
      "  latest_version = client.get_latest_versions(\"CICDModel\", stages=[\"None\"])[0].version\n",
      "\n",
      "C:\\Users\\tmdtn\\AppData\\Local\\Temp\\ipykernel_40980\\360130756.py:33: FutureWarning: ``mlflow.tracking.client.MlflowClient.transition_model_version_stage`` is deprecated since 2.9.0. Model registry stages will be removed in a future major release. To learn more about the deprecation of model registry stages, see our migration guide here: https://mlflow.org/docs/latest/model-registry.html#migrating-from-stages\n",
      "  client.transition_model_version_stage(\n",
      "\n"
     ]
    },
    {
     "name": "stdout",
     "output_type": "stream",
     "text": [
      "등록 완료: version 8, AUC=0.8721                                                     \n",
      "🏃 View run ambitious-snail-351 at: http://127.0.0.1:5000/#/experiments/1/runs/fb9120e6c87b461e83a78a5d4ee14a5c\n",
      "\n",
      "🧪 View experiment at: http://127.0.0.1:5000/#/experiments/1                     \n",
      "\n",
      " 27%|██▋       | 8/30 [03:01<07:53, 21.53s/trial, best loss: -0.8754447384296755]"
     ]
    },
    {
     "name": "stderr",
     "output_type": "stream",
     "text": [
      "c:\\Users\\tmdtn\\venvs\\mlflow-env\\Lib\\site-packages\\xgboost\\sklearn.py:1028: UserWarning: [23:45:46] WARNING: C:\\actions-runner\\_work\\xgboost\\xgboost\\src\\c_api\\c_api.cc:1427: Saving model in the UBJSON format as default.  You can use file extension: `json`, `ubj` or `deprecated` to choose between formats.\n",
      "  self.get_booster().save_model(fname)\n",
      "\n",
      "Registered model 'CICDModel' already exists. Creating a new version of this model...\n",
      "2025/10/10 23:46:15 INFO mlflow.store.model_registry.abstract_store: Waiting up to 300 seconds for model version to finish creation. Model name: CICDModel, version 9\n",
      "\n",
      "Created version '9' of model 'CICDModel'.\n",
      "C:\\Users\\tmdtn\\AppData\\Local\\Temp\\ipykernel_40980\\360130756.py:32: FutureWarning: ``mlflow.tracking.client.MlflowClient.get_latest_versions`` is deprecated since 2.9.0. Model registry stages will be removed in a future major release. To learn more about the deprecation of model registry stages, see our migration guide here: https://mlflow.org/docs/latest/model-registry.html#migrating-from-stages\n",
      "  latest_version = client.get_latest_versions(\"CICDModel\", stages=[\"None\"])[0].version\n",
      "\n",
      "C:\\Users\\tmdtn\\AppData\\Local\\Temp\\ipykernel_40980\\360130756.py:33: FutureWarning: ``mlflow.tracking.client.MlflowClient.transition_model_version_stage`` is deprecated since 2.9.0. Model registry stages will be removed in a future major release. To learn more about the deprecation of model registry stages, see our migration guide here: https://mlflow.org/docs/latest/model-registry.html#migrating-from-stages\n",
      "  client.transition_model_version_stage(\n",
      "\n"
     ]
    },
    {
     "name": "stdout",
     "output_type": "stream",
     "text": [
      "등록 완료: version 9, AUC=0.8692                                                     \n",
      "🏃 View run rebellious-ant-259 at: http://127.0.0.1:5000/#/experiments/1/runs/9dab971bc7b241d1b2e8fa3f31179b80\n",
      "\n",
      "🧪 View experiment at: http://127.0.0.1:5000/#/experiments/1                     \n",
      "\n",
      " 30%|███       | 9/30 [03:32<08:30, 24.30s/trial, best loss: -0.8754447384296755]"
     ]
    },
    {
     "name": "stderr",
     "output_type": "stream",
     "text": [
      "c:\\Users\\tmdtn\\venvs\\mlflow-env\\Lib\\site-packages\\xgboost\\sklearn.py:1028: UserWarning: [23:46:28] WARNING: C:\\actions-runner\\_work\\xgboost\\xgboost\\src\\c_api\\c_api.cc:1427: Saving model in the UBJSON format as default.  You can use file extension: `json`, `ubj` or `deprecated` to choose between formats.\n",
      "  self.get_booster().save_model(fname)\n",
      "\n",
      "Registered model 'CICDModel' already exists. Creating a new version of this model...\n",
      "2025/10/10 23:46:47 INFO mlflow.store.model_registry.abstract_store: Waiting up to 300 seconds for model version to finish creation. Model name: CICDModel, version 10\n",
      "\n",
      "Created version '10' of model 'CICDModel'.\n",
      "C:\\Users\\tmdtn\\AppData\\Local\\Temp\\ipykernel_40980\\360130756.py:32: FutureWarning: ``mlflow.tracking.client.MlflowClient.get_latest_versions`` is deprecated since 2.9.0. Model registry stages will be removed in a future major release. To learn more about the deprecation of model registry stages, see our migration guide here: https://mlflow.org/docs/latest/model-registry.html#migrating-from-stages\n",
      "  latest_version = client.get_latest_versions(\"CICDModel\", stages=[\"None\"])[0].version\n",
      "\n",
      "C:\\Users\\tmdtn\\AppData\\Local\\Temp\\ipykernel_40980\\360130756.py:33: FutureWarning: ``mlflow.tracking.client.MlflowClient.transition_model_version_stage`` is deprecated since 2.9.0. Model registry stages will be removed in a future major release. To learn more about the deprecation of model registry stages, see our migration guide here: https://mlflow.org/docs/latest/model-registry.html#migrating-from-stages\n",
      "  client.transition_model_version_stage(\n",
      "\n"
     ]
    },
    {
     "name": "stdout",
     "output_type": "stream",
     "text": [
      "등록 완료: version 10, AUC=0.8731                                                    \n",
      "🏃 View run suave-rat-247 at: http://127.0.0.1:5000/#/experiments/1/runs/a44c48e9a2564bc4879313775fd214ef\n",
      "\n",
      "🧪 View experiment at: http://127.0.0.1:5000/#/experiments/1                     \n",
      "\n",
      " 33%|███▎      | 10/30 [04:04<08:52, 26.61s/trial, best loss: -0.8754447384296755]"
     ]
    },
    {
     "name": "stderr",
     "output_type": "stream",
     "text": [
      "c:\\Users\\tmdtn\\venvs\\mlflow-env\\Lib\\site-packages\\xgboost\\sklearn.py:1028: UserWarning: [23:46:48] WARNING: C:\\actions-runner\\_work\\xgboost\\xgboost\\src\\c_api\\c_api.cc:1427: Saving model in the UBJSON format as default.  You can use file extension: `json`, `ubj` or `deprecated` to choose between formats.\n",
      "  self.get_booster().save_model(fname)\n",
      "\n",
      "Registered model 'CICDModel' already exists. Creating a new version of this model...\n",
      "2025/10/10 23:47:17 INFO mlflow.store.model_registry.abstract_store: Waiting up to 300 seconds for model version to finish creation. Model name: CICDModel, version 11\n",
      "\n",
      "Created version '11' of model 'CICDModel'.\n",
      "C:\\Users\\tmdtn\\AppData\\Local\\Temp\\ipykernel_40980\\360130756.py:32: FutureWarning: ``mlflow.tracking.client.MlflowClient.get_latest_versions`` is deprecated since 2.9.0. Model registry stages will be removed in a future major release. To learn more about the deprecation of model registry stages, see our migration guide here: https://mlflow.org/docs/latest/model-registry.html#migrating-from-stages\n",
      "  latest_version = client.get_latest_versions(\"CICDModel\", stages=[\"None\"])[0].version\n",
      "\n",
      "C:\\Users\\tmdtn\\AppData\\Local\\Temp\\ipykernel_40980\\360130756.py:33: FutureWarning: ``mlflow.tracking.client.MlflowClient.transition_model_version_stage`` is deprecated since 2.9.0. Model registry stages will be removed in a future major release. To learn more about the deprecation of model registry stages, see our migration guide here: https://mlflow.org/docs/latest/model-registry.html#migrating-from-stages\n",
      "  client.transition_model_version_stage(\n",
      "\n"
     ]
    },
    {
     "name": "stdout",
     "output_type": "stream",
     "text": [
      "등록 완료: version 11, AUC=0.8730                                                     \n",
      "🏃 View run loud-boar-837 at: http://127.0.0.1:5000/#/experiments/1/runs/a85efc37334e4484b47d1d937e2b09bb\n",
      "\n",
      "🧪 View experiment at: http://127.0.0.1:5000/#/experiments/1                      \n",
      "\n",
      " 37%|███▋      | 11/30 [04:34<08:47, 27.77s/trial, best loss: -0.8754447384296755]"
     ]
    },
    {
     "name": "stderr",
     "output_type": "stream",
     "text": [
      "c:\\Users\\tmdtn\\venvs\\mlflow-env\\Lib\\site-packages\\xgboost\\sklearn.py:1028: UserWarning: [23:47:20] WARNING: C:\\actions-runner\\_work\\xgboost\\xgboost\\src\\c_api\\c_api.cc:1427: Saving model in the UBJSON format as default.  You can use file extension: `json`, `ubj` or `deprecated` to choose between formats.\n",
      "  self.get_booster().save_model(fname)\n",
      "\n",
      "Registered model 'CICDModel' already exists. Creating a new version of this model...\n",
      "2025/10/10 23:47:48 INFO mlflow.store.model_registry.abstract_store: Waiting up to 300 seconds for model version to finish creation. Model name: CICDModel, version 12\n",
      "\n",
      "Created version '12' of model 'CICDModel'.\n",
      "C:\\Users\\tmdtn\\AppData\\Local\\Temp\\ipykernel_40980\\360130756.py:32: FutureWarning: ``mlflow.tracking.client.MlflowClient.get_latest_versions`` is deprecated since 2.9.0. Model registry stages will be removed in a future major release. To learn more about the deprecation of model registry stages, see our migration guide here: https://mlflow.org/docs/latest/model-registry.html#migrating-from-stages\n",
      "  latest_version = client.get_latest_versions(\"CICDModel\", stages=[\"None\"])[0].version\n",
      "\n",
      "C:\\Users\\tmdtn\\AppData\\Local\\Temp\\ipykernel_40980\\360130756.py:33: FutureWarning: ``mlflow.tracking.client.MlflowClient.transition_model_version_stage`` is deprecated since 2.9.0. Model registry stages will be removed in a future major release. To learn more about the deprecation of model registry stages, see our migration guide here: https://mlflow.org/docs/latest/model-registry.html#migrating-from-stages\n",
      "  client.transition_model_version_stage(\n",
      "\n"
     ]
    },
    {
     "name": "stdout",
     "output_type": "stream",
     "text": [
      "등록 완료: version 12, AUC=0.8742                                                     \n",
      "🏃 View run hilarious-skink-644 at: http://127.0.0.1:5000/#/experiments/1/runs/56ac0a707d924f7a96886d348baf5a95\n",
      "\n",
      "🧪 View experiment at: http://127.0.0.1:5000/#/experiments/1                      \n",
      "\n",
      " 40%|████      | 12/30 [05:05<08:39, 28.87s/trial, best loss: -0.8754447384296755]"
     ]
    },
    {
     "name": "stderr",
     "output_type": "stream",
     "text": [
      "c:\\Users\\tmdtn\\venvs\\mlflow-env\\Lib\\site-packages\\xgboost\\sklearn.py:1028: UserWarning: [23:47:50] WARNING: C:\\actions-runner\\_work\\xgboost\\xgboost\\src\\c_api\\c_api.cc:1427: Saving model in the UBJSON format as default.  You can use file extension: `json`, `ubj` or `deprecated` to choose between formats.\n",
      "  self.get_booster().save_model(fname)\n",
      "\n",
      "Registered model 'CICDModel' already exists. Creating a new version of this model...\n",
      "2025/10/10 23:48:07 INFO mlflow.store.model_registry.abstract_store: Waiting up to 300 seconds for model version to finish creation. Model name: CICDModel, version 13\n",
      "\n",
      "Created version '13' of model 'CICDModel'.\n",
      "C:\\Users\\tmdtn\\AppData\\Local\\Temp\\ipykernel_40980\\360130756.py:32: FutureWarning: ``mlflow.tracking.client.MlflowClient.get_latest_versions`` is deprecated since 2.9.0. Model registry stages will be removed in a future major release. To learn more about the deprecation of model registry stages, see our migration guide here: https://mlflow.org/docs/latest/model-registry.html#migrating-from-stages\n",
      "  latest_version = client.get_latest_versions(\"CICDModel\", stages=[\"None\"])[0].version\n",
      "\n",
      "C:\\Users\\tmdtn\\AppData\\Local\\Temp\\ipykernel_40980\\360130756.py:33: FutureWarning: ``mlflow.tracking.client.MlflowClient.transition_model_version_stage`` is deprecated since 2.9.0. Model registry stages will be removed in a future major release. To learn more about the deprecation of model registry stages, see our migration guide here: https://mlflow.org/docs/latest/model-registry.html#migrating-from-stages\n",
      "  client.transition_model_version_stage(\n",
      "\n"
     ]
    },
    {
     "name": "stdout",
     "output_type": "stream",
     "text": [
      "등록 완료: version 13, AUC=0.8713                                                     \n",
      "🏃 View run nebulous-lamb-383 at: http://127.0.0.1:5000/#/experiments/1/runs/5d9fe09654b34c0e878948f32c6c30c9\n",
      "\n",
      "🧪 View experiment at: http://127.0.0.1:5000/#/experiments/1                      \n",
      "\n",
      " 43%|████▎     | 13/30 [05:24<07:17, 25.74s/trial, best loss: -0.8754447384296755]"
     ]
    },
    {
     "name": "stderr",
     "output_type": "stream",
     "text": [
      "c:\\Users\\tmdtn\\venvs\\mlflow-env\\Lib\\site-packages\\xgboost\\sklearn.py:1028: UserWarning: [23:48:08] WARNING: C:\\actions-runner\\_work\\xgboost\\xgboost\\src\\c_api\\c_api.cc:1427: Saving model in the UBJSON format as default.  You can use file extension: `json`, `ubj` or `deprecated` to choose between formats.\n",
      "  self.get_booster().save_model(fname)\n",
      "\n",
      "Registered model 'CICDModel' already exists. Creating a new version of this model...\n",
      "2025/10/10 23:48:40 INFO mlflow.store.model_registry.abstract_store: Waiting up to 300 seconds for model version to finish creation. Model name: CICDModel, version 14\n",
      "\n",
      "Created version '14' of model 'CICDModel'.\n",
      "C:\\Users\\tmdtn\\AppData\\Local\\Temp\\ipykernel_40980\\360130756.py:32: FutureWarning: ``mlflow.tracking.client.MlflowClient.get_latest_versions`` is deprecated since 2.9.0. Model registry stages will be removed in a future major release. To learn more about the deprecation of model registry stages, see our migration guide here: https://mlflow.org/docs/latest/model-registry.html#migrating-from-stages\n",
      "  latest_version = client.get_latest_versions(\"CICDModel\", stages=[\"None\"])[0].version\n",
      "\n",
      "C:\\Users\\tmdtn\\AppData\\Local\\Temp\\ipykernel_40980\\360130756.py:33: FutureWarning: ``mlflow.tracking.client.MlflowClient.transition_model_version_stage`` is deprecated since 2.9.0. Model registry stages will be removed in a future major release. To learn more about the deprecation of model registry stages, see our migration guide here: https://mlflow.org/docs/latest/model-registry.html#migrating-from-stages\n",
      "  client.transition_model_version_stage(\n",
      "\n"
     ]
    },
    {
     "name": "stdout",
     "output_type": "stream",
     "text": [
      "등록 완료: version 14, AUC=0.8674                                                     \n",
      "🏃 View run intelligent-ape-656 at: http://127.0.0.1:5000/#/experiments/1/runs/97abb89d36434b22ba84a4d039cf32b7\n",
      "\n",
      "🧪 View experiment at: http://127.0.0.1:5000/#/experiments/1                      \n",
      "\n",
      " 47%|████▋     | 14/30 [05:57<07:28, 28.06s/trial, best loss: -0.8754447384296755]"
     ]
    },
    {
     "name": "stderr",
     "output_type": "stream",
     "text": [
      "c:\\Users\\tmdtn\\venvs\\mlflow-env\\Lib\\site-packages\\xgboost\\sklearn.py:1028: UserWarning: [23:48:44] WARNING: C:\\actions-runner\\_work\\xgboost\\xgboost\\src\\c_api\\c_api.cc:1427: Saving model in the UBJSON format as default.  You can use file extension: `json`, `ubj` or `deprecated` to choose between formats.\n",
      "  self.get_booster().save_model(fname)\n",
      "\n",
      "Registered model 'CICDModel' already exists. Creating a new version of this model...\n",
      "2025/10/10 23:49:10 INFO mlflow.store.model_registry.abstract_store: Waiting up to 300 seconds for model version to finish creation. Model name: CICDModel, version 15\n",
      "\n",
      "Created version '15' of model 'CICDModel'.\n",
      "C:\\Users\\tmdtn\\AppData\\Local\\Temp\\ipykernel_40980\\360130756.py:32: FutureWarning: ``mlflow.tracking.client.MlflowClient.get_latest_versions`` is deprecated since 2.9.0. Model registry stages will be removed in a future major release. To learn more about the deprecation of model registry stages, see our migration guide here: https://mlflow.org/docs/latest/model-registry.html#migrating-from-stages\n",
      "  latest_version = client.get_latest_versions(\"CICDModel\", stages=[\"None\"])[0].version\n",
      "\n",
      "C:\\Users\\tmdtn\\AppData\\Local\\Temp\\ipykernel_40980\\360130756.py:33: FutureWarning: ``mlflow.tracking.client.MlflowClient.transition_model_version_stage`` is deprecated since 2.9.0. Model registry stages will be removed in a future major release. To learn more about the deprecation of model registry stages, see our migration guide here: https://mlflow.org/docs/latest/model-registry.html#migrating-from-stages\n",
      "  client.transition_model_version_stage(\n",
      "\n"
     ]
    },
    {
     "name": "stdout",
     "output_type": "stream",
     "text": [
      "등록 완료: version 15, AUC=0.8719                                                     \n",
      "🏃 View run smiling-shad-328 at: http://127.0.0.1:5000/#/experiments/1/runs/fa44964cfc9d4d849563ecca33aacee0\n",
      "\n",
      "🧪 View experiment at: http://127.0.0.1:5000/#/experiments/1                      \n",
      "\n",
      " 50%|█████     | 15/30 [06:26<07:03, 28.26s/trial, best loss: -0.8754447384296755]"
     ]
    },
    {
     "name": "stderr",
     "output_type": "stream",
     "text": [
      "c:\\Users\\tmdtn\\venvs\\mlflow-env\\Lib\\site-packages\\xgboost\\sklearn.py:1028: UserWarning: [23:49:10] WARNING: C:\\actions-runner\\_work\\xgboost\\xgboost\\src\\c_api\\c_api.cc:1427: Saving model in the UBJSON format as default.  You can use file extension: `json`, `ubj` or `deprecated` to choose between formats.\n",
      "  self.get_booster().save_model(fname)\n",
      "\n",
      "Registered model 'CICDModel' already exists. Creating a new version of this model...\n",
      "2025/10/10 23:49:31 INFO mlflow.store.model_registry.abstract_store: Waiting up to 300 seconds for model version to finish creation. Model name: CICDModel, version 16\n",
      "\n",
      "Created version '16' of model 'CICDModel'.\n",
      "C:\\Users\\tmdtn\\AppData\\Local\\Temp\\ipykernel_40980\\360130756.py:32: FutureWarning: ``mlflow.tracking.client.MlflowClient.get_latest_versions`` is deprecated since 2.9.0. Model registry stages will be removed in a future major release. To learn more about the deprecation of model registry stages, see our migration guide here: https://mlflow.org/docs/latest/model-registry.html#migrating-from-stages\n",
      "  latest_version = client.get_latest_versions(\"CICDModel\", stages=[\"None\"])[0].version\n",
      "\n",
      "C:\\Users\\tmdtn\\AppData\\Local\\Temp\\ipykernel_40980\\360130756.py:33: FutureWarning: ``mlflow.tracking.client.MlflowClient.transition_model_version_stage`` is deprecated since 2.9.0. Model registry stages will be removed in a future major release. To learn more about the deprecation of model registry stages, see our migration guide here: https://mlflow.org/docs/latest/model-registry.html#migrating-from-stages\n",
      "  client.transition_model_version_stage(\n",
      "\n"
     ]
    },
    {
     "name": "stdout",
     "output_type": "stream",
     "text": [
      "등록 완료: version 16, AUC=0.8708                                                     \n",
      "🏃 View run serious-loon-881 at: http://127.0.0.1:5000/#/experiments/1/runs/ca3ad893fe684272bf4bc71d16617a9e\n",
      "\n",
      "🧪 View experiment at: http://127.0.0.1:5000/#/experiments/1                      \n",
      "\n",
      " 53%|█████▎    | 16/30 [06:48<06:09, 26.36s/trial, best loss: -0.8754447384296755]"
     ]
    },
    {
     "name": "stderr",
     "output_type": "stream",
     "text": [
      "c:\\Users\\tmdtn\\venvs\\mlflow-env\\Lib\\site-packages\\xgboost\\sklearn.py:1028: UserWarning: [23:49:32] WARNING: C:\\actions-runner\\_work\\xgboost\\xgboost\\src\\c_api\\c_api.cc:1427: Saving model in the UBJSON format as default.  You can use file extension: `json`, `ubj` or `deprecated` to choose between formats.\n",
      "  self.get_booster().save_model(fname)\n",
      "\n",
      "Registered model 'CICDModel' already exists. Creating a new version of this model...\n",
      "2025/10/10 23:49:53 INFO mlflow.store.model_registry.abstract_store: Waiting up to 300 seconds for model version to finish creation. Model name: CICDModel, version 17\n",
      "\n",
      "Created version '17' of model 'CICDModel'.\n",
      "C:\\Users\\tmdtn\\AppData\\Local\\Temp\\ipykernel_40980\\360130756.py:32: FutureWarning: ``mlflow.tracking.client.MlflowClient.get_latest_versions`` is deprecated since 2.9.0. Model registry stages will be removed in a future major release. To learn more about the deprecation of model registry stages, see our migration guide here: https://mlflow.org/docs/latest/model-registry.html#migrating-from-stages\n",
      "  latest_version = client.get_latest_versions(\"CICDModel\", stages=[\"None\"])[0].version\n",
      "\n",
      "C:\\Users\\tmdtn\\AppData\\Local\\Temp\\ipykernel_40980\\360130756.py:33: FutureWarning: ``mlflow.tracking.client.MlflowClient.transition_model_version_stage`` is deprecated since 2.9.0. Model registry stages will be removed in a future major release. To learn more about the deprecation of model registry stages, see our migration guide here: https://mlflow.org/docs/latest/model-registry.html#migrating-from-stages\n",
      "  client.transition_model_version_stage(\n",
      "\n"
     ]
    },
    {
     "name": "stdout",
     "output_type": "stream",
     "text": [
      "등록 완료: version 17, AUC=0.8707                                                     \n",
      "🏃 View run glamorous-sow-635 at: http://127.0.0.1:5000/#/experiments/1/runs/da74ea1309c44ada99705067e5f058fa\n",
      "\n",
      "🧪 View experiment at: http://127.0.0.1:5000/#/experiments/1                      \n",
      "\n",
      " 57%|█████▋    | 17/30 [07:09<05:23, 24.86s/trial, best loss: -0.8754447384296755]"
     ]
    },
    {
     "name": "stderr",
     "output_type": "stream",
     "text": [
      "c:\\Users\\tmdtn\\venvs\\mlflow-env\\Lib\\site-packages\\xgboost\\sklearn.py:1028: UserWarning: [23:49:54] WARNING: C:\\actions-runner\\_work\\xgboost\\xgboost\\src\\c_api\\c_api.cc:1427: Saving model in the UBJSON format as default.  You can use file extension: `json`, `ubj` or `deprecated` to choose between formats.\n",
      "  self.get_booster().save_model(fname)\n",
      "\n",
      "Registered model 'CICDModel' already exists. Creating a new version of this model...\n",
      "2025/10/10 23:50:06 INFO mlflow.store.model_registry.abstract_store: Waiting up to 300 seconds for model version to finish creation. Model name: CICDModel, version 18\n",
      "\n",
      "Created version '18' of model 'CICDModel'.\n",
      "C:\\Users\\tmdtn\\AppData\\Local\\Temp\\ipykernel_40980\\360130756.py:32: FutureWarning: ``mlflow.tracking.client.MlflowClient.get_latest_versions`` is deprecated since 2.9.0. Model registry stages will be removed in a future major release. To learn more about the deprecation of model registry stages, see our migration guide here: https://mlflow.org/docs/latest/model-registry.html#migrating-from-stages\n",
      "  latest_version = client.get_latest_versions(\"CICDModel\", stages=[\"None\"])[0].version\n",
      "\n",
      "C:\\Users\\tmdtn\\AppData\\Local\\Temp\\ipykernel_40980\\360130756.py:33: FutureWarning: ``mlflow.tracking.client.MlflowClient.transition_model_version_stage`` is deprecated since 2.9.0. Model registry stages will be removed in a future major release. To learn more about the deprecation of model registry stages, see our migration guide here: https://mlflow.org/docs/latest/model-registry.html#migrating-from-stages\n",
      "  client.transition_model_version_stage(\n",
      "\n"
     ]
    },
    {
     "name": "stdout",
     "output_type": "stream",
     "text": [
      "등록 완료: version 18, AUC=0.8743                                                     \n",
      "🏃 View run stately-shad-950 at: http://127.0.0.1:5000/#/experiments/1/runs/5043a296d6b14029a80785772728233a\n",
      "\n",
      "🧪 View experiment at: http://127.0.0.1:5000/#/experiments/1                      \n",
      "\n",
      " 60%|██████    | 18/30 [07:23<04:17, 21.48s/trial, best loss: -0.8754447384296755]"
     ]
    },
    {
     "name": "stderr",
     "output_type": "stream",
     "text": [
      "c:\\Users\\tmdtn\\venvs\\mlflow-env\\Lib\\site-packages\\xgboost\\sklearn.py:1028: UserWarning: [23:50:08] WARNING: C:\\actions-runner\\_work\\xgboost\\xgboost\\src\\c_api\\c_api.cc:1427: Saving model in the UBJSON format as default.  You can use file extension: `json`, `ubj` or `deprecated` to choose between formats.\n",
      "  self.get_booster().save_model(fname)\n",
      "\n",
      "Registered model 'CICDModel' already exists. Creating a new version of this model...\n",
      "2025/10/10 23:50:27 INFO mlflow.store.model_registry.abstract_store: Waiting up to 300 seconds for model version to finish creation. Model name: CICDModel, version 19\n",
      "\n",
      "Created version '19' of model 'CICDModel'.\n",
      "C:\\Users\\tmdtn\\AppData\\Local\\Temp\\ipykernel_40980\\360130756.py:32: FutureWarning: ``mlflow.tracking.client.MlflowClient.get_latest_versions`` is deprecated since 2.9.0. Model registry stages will be removed in a future major release. To learn more about the deprecation of model registry stages, see our migration guide here: https://mlflow.org/docs/latest/model-registry.html#migrating-from-stages\n",
      "  latest_version = client.get_latest_versions(\"CICDModel\", stages=[\"None\"])[0].version\n",
      "\n",
      "C:\\Users\\tmdtn\\AppData\\Local\\Temp\\ipykernel_40980\\360130756.py:33: FutureWarning: ``mlflow.tracking.client.MlflowClient.transition_model_version_stage`` is deprecated since 2.9.0. Model registry stages will be removed in a future major release. To learn more about the deprecation of model registry stages, see our migration guide here: https://mlflow.org/docs/latest/model-registry.html#migrating-from-stages\n",
      "  client.transition_model_version_stage(\n",
      "\n"
     ]
    },
    {
     "name": "stdout",
     "output_type": "stream",
     "text": [
      "등록 완료: version 19, AUC=0.8734                                                     \n",
      "🏃 View run indecisive-zebra-10 at: http://127.0.0.1:5000/#/experiments/1/runs/bd6b91399a744f6b8c3a342516e3bb0d\n",
      "\n",
      "🧪 View experiment at: http://127.0.0.1:5000/#/experiments/1                      \n",
      "\n",
      " 63%|██████▎   | 19/30 [07:44<03:53, 21.19s/trial, best loss: -0.8754447384296755]"
     ]
    },
    {
     "name": "stderr",
     "output_type": "stream",
     "text": [
      "c:\\Users\\tmdtn\\venvs\\mlflow-env\\Lib\\site-packages\\xgboost\\sklearn.py:1028: UserWarning: [23:50:28] WARNING: C:\\actions-runner\\_work\\xgboost\\xgboost\\src\\c_api\\c_api.cc:1427: Saving model in the UBJSON format as default.  You can use file extension: `json`, `ubj` or `deprecated` to choose between formats.\n",
      "  self.get_booster().save_model(fname)\n",
      "\n",
      "Registered model 'CICDModel' already exists. Creating a new version of this model...\n",
      "2025/10/10 23:50:45 INFO mlflow.store.model_registry.abstract_store: Waiting up to 300 seconds for model version to finish creation. Model name: CICDModel, version 20\n",
      "\n",
      "Created version '20' of model 'CICDModel'.\n",
      "C:\\Users\\tmdtn\\AppData\\Local\\Temp\\ipykernel_40980\\360130756.py:32: FutureWarning: ``mlflow.tracking.client.MlflowClient.get_latest_versions`` is deprecated since 2.9.0. Model registry stages will be removed in a future major release. To learn more about the deprecation of model registry stages, see our migration guide here: https://mlflow.org/docs/latest/model-registry.html#migrating-from-stages\n",
      "  latest_version = client.get_latest_versions(\"CICDModel\", stages=[\"None\"])[0].version\n",
      "\n",
      "C:\\Users\\tmdtn\\AppData\\Local\\Temp\\ipykernel_40980\\360130756.py:33: FutureWarning: ``mlflow.tracking.client.MlflowClient.transition_model_version_stage`` is deprecated since 2.9.0. Model registry stages will be removed in a future major release. To learn more about the deprecation of model registry stages, see our migration guide here: https://mlflow.org/docs/latest/model-registry.html#migrating-from-stages\n",
      "  client.transition_model_version_stage(\n",
      "\n"
     ]
    },
    {
     "name": "stdout",
     "output_type": "stream",
     "text": [
      "등록 완료: version 20, AUC=0.8716                                                     \n",
      "🏃 View run adaptable-vole-461 at: http://127.0.0.1:5000/#/experiments/1/runs/56de531d73d14b3ea83fdf8455c91591\n",
      "\n",
      "🧪 View experiment at: http://127.0.0.1:5000/#/experiments/1                      \n",
      "\n",
      " 67%|██████▋   | 20/30 [08:01<03:21, 20.15s/trial, best loss: -0.8754447384296755]"
     ]
    },
    {
     "name": "stderr",
     "output_type": "stream",
     "text": [
      "c:\\Users\\tmdtn\\venvs\\mlflow-env\\Lib\\site-packages\\xgboost\\sklearn.py:1028: UserWarning: [23:50:46] WARNING: C:\\actions-runner\\_work\\xgboost\\xgboost\\src\\c_api\\c_api.cc:1427: Saving model in the UBJSON format as default.  You can use file extension: `json`, `ubj` or `deprecated` to choose between formats.\n",
      "  self.get_booster().save_model(fname)\n",
      "\n",
      "Registered model 'CICDModel' already exists. Creating a new version of this model...\n",
      "2025/10/10 23:51:00 INFO mlflow.store.model_registry.abstract_store: Waiting up to 300 seconds for model version to finish creation. Model name: CICDModel, version 21\n",
      "\n",
      "Created version '21' of model 'CICDModel'.\n",
      "C:\\Users\\tmdtn\\AppData\\Local\\Temp\\ipykernel_40980\\360130756.py:32: FutureWarning: ``mlflow.tracking.client.MlflowClient.get_latest_versions`` is deprecated since 2.9.0. Model registry stages will be removed in a future major release. To learn more about the deprecation of model registry stages, see our migration guide here: https://mlflow.org/docs/latest/model-registry.html#migrating-from-stages\n",
      "  latest_version = client.get_latest_versions(\"CICDModel\", stages=[\"None\"])[0].version\n",
      "\n",
      "C:\\Users\\tmdtn\\AppData\\Local\\Temp\\ipykernel_40980\\360130756.py:33: FutureWarning: ``mlflow.tracking.client.MlflowClient.transition_model_version_stage`` is deprecated since 2.9.0. Model registry stages will be removed in a future major release. To learn more about the deprecation of model registry stages, see our migration guide here: https://mlflow.org/docs/latest/model-registry.html#migrating-from-stages\n",
      "  client.transition_model_version_stage(\n",
      "\n"
     ]
    },
    {
     "name": "stdout",
     "output_type": "stream",
     "text": [
      "등록 완료: version 21, AUC=0.8713                                                     \n",
      "🏃 View run languid-bug-397 at: http://127.0.0.1:5000/#/experiments/1/runs/0ac2b3dab48344a18ed86e39eb3615f7\n",
      "\n",
      "🧪 View experiment at: http://127.0.0.1:5000/#/experiments/1                      \n",
      "\n",
      " 70%|███████   | 21/30 [08:17<02:48, 18.71s/trial, best loss: -0.8754447384296755]"
     ]
    },
    {
     "name": "stderr",
     "output_type": "stream",
     "text": [
      "c:\\Users\\tmdtn\\venvs\\mlflow-env\\Lib\\site-packages\\xgboost\\sklearn.py:1028: UserWarning: [23:51:01] WARNING: C:\\actions-runner\\_work\\xgboost\\xgboost\\src\\c_api\\c_api.cc:1427: Saving model in the UBJSON format as default.  You can use file extension: `json`, `ubj` or `deprecated` to choose between formats.\n",
      "  self.get_booster().save_model(fname)\n",
      "\n",
      "Registered model 'CICDModel' already exists. Creating a new version of this model...\n",
      "2025/10/10 23:51:19 INFO mlflow.store.model_registry.abstract_store: Waiting up to 300 seconds for model version to finish creation. Model name: CICDModel, version 22\n",
      "\n",
      "Created version '22' of model 'CICDModel'.\n",
      "C:\\Users\\tmdtn\\AppData\\Local\\Temp\\ipykernel_40980\\360130756.py:32: FutureWarning: ``mlflow.tracking.client.MlflowClient.get_latest_versions`` is deprecated since 2.9.0. Model registry stages will be removed in a future major release. To learn more about the deprecation of model registry stages, see our migration guide here: https://mlflow.org/docs/latest/model-registry.html#migrating-from-stages\n",
      "  latest_version = client.get_latest_versions(\"CICDModel\", stages=[\"None\"])[0].version\n",
      "\n",
      "C:\\Users\\tmdtn\\AppData\\Local\\Temp\\ipykernel_40980\\360130756.py:33: FutureWarning: ``mlflow.tracking.client.MlflowClient.transition_model_version_stage`` is deprecated since 2.9.0. Model registry stages will be removed in a future major release. To learn more about the deprecation of model registry stages, see our migration guide here: https://mlflow.org/docs/latest/model-registry.html#migrating-from-stages\n",
      "  client.transition_model_version_stage(\n",
      "\n"
     ]
    },
    {
     "name": "stdout",
     "output_type": "stream",
     "text": [
      "등록 완료: version 22, AUC=0.8617                                                     \n",
      "🏃 View run defiant-wasp-739 at: http://127.0.0.1:5000/#/experiments/1/runs/604bbd5e087f440186535df83de73f14\n",
      "\n",
      "🧪 View experiment at: http://127.0.0.1:5000/#/experiments/1                      \n",
      "\n",
      " 73%|███████▎  | 22/30 [08:36<02:30, 18.76s/trial, best loss: -0.8754447384296755]"
     ]
    },
    {
     "name": "stderr",
     "output_type": "stream",
     "text": [
      "c:\\Users\\tmdtn\\venvs\\mlflow-env\\Lib\\site-packages\\xgboost\\sklearn.py:1028: UserWarning: [23:51:21] WARNING: C:\\actions-runner\\_work\\xgboost\\xgboost\\src\\c_api\\c_api.cc:1427: Saving model in the UBJSON format as default.  You can use file extension: `json`, `ubj` or `deprecated` to choose between formats.\n",
      "  self.get_booster().save_model(fname)\n",
      "\n",
      "Registered model 'CICDModel' already exists. Creating a new version of this model...\n",
      "2025/10/10 23:51:50 INFO mlflow.store.model_registry.abstract_store: Waiting up to 300 seconds for model version to finish creation. Model name: CICDModel, version 23\n",
      "\n",
      "Created version '23' of model 'CICDModel'.\n",
      "C:\\Users\\tmdtn\\AppData\\Local\\Temp\\ipykernel_40980\\360130756.py:32: FutureWarning: ``mlflow.tracking.client.MlflowClient.get_latest_versions`` is deprecated since 2.9.0. Model registry stages will be removed in a future major release. To learn more about the deprecation of model registry stages, see our migration guide here: https://mlflow.org/docs/latest/model-registry.html#migrating-from-stages\n",
      "  latest_version = client.get_latest_versions(\"CICDModel\", stages=[\"None\"])[0].version\n",
      "\n",
      "C:\\Users\\tmdtn\\AppData\\Local\\Temp\\ipykernel_40980\\360130756.py:33: FutureWarning: ``mlflow.tracking.client.MlflowClient.transition_model_version_stage`` is deprecated since 2.9.0. Model registry stages will be removed in a future major release. To learn more about the deprecation of model registry stages, see our migration guide here: https://mlflow.org/docs/latest/model-registry.html#migrating-from-stages\n",
      "  client.transition_model_version_stage(\n",
      "\n"
     ]
    },
    {
     "name": "stdout",
     "output_type": "stream",
     "text": [
      "등록 완료: version 23, AUC=0.8712                                                     \n",
      "🏃 View run sneaky-mule-332 at: http://127.0.0.1:5000/#/experiments/1/runs/d4cc36c7f2bb479aa4541f1d45a10871\n",
      "\n",
      "🧪 View experiment at: http://127.0.0.1:5000/#/experiments/1                      \n",
      "\n",
      " 77%|███████▋  | 23/30 [09:08<02:39, 22.81s/trial, best loss: -0.8754447384296755]"
     ]
    },
    {
     "name": "stderr",
     "output_type": "stream",
     "text": [
      "c:\\Users\\tmdtn\\venvs\\mlflow-env\\Lib\\site-packages\\xgboost\\sklearn.py:1028: UserWarning: [23:51:54] WARNING: C:\\actions-runner\\_work\\xgboost\\xgboost\\src\\c_api\\c_api.cc:1427: Saving model in the UBJSON format as default.  You can use file extension: `json`, `ubj` or `deprecated` to choose between formats.\n",
      "  self.get_booster().save_model(fname)\n",
      "\n",
      "Registered model 'CICDModel' already exists. Creating a new version of this model...\n",
      "2025/10/10 23:52:26 INFO mlflow.store.model_registry.abstract_store: Waiting up to 300 seconds for model version to finish creation. Model name: CICDModel, version 24\n",
      "\n",
      "Created version '24' of model 'CICDModel'.\n",
      "C:\\Users\\tmdtn\\AppData\\Local\\Temp\\ipykernel_40980\\360130756.py:32: FutureWarning: ``mlflow.tracking.client.MlflowClient.get_latest_versions`` is deprecated since 2.9.0. Model registry stages will be removed in a future major release. To learn more about the deprecation of model registry stages, see our migration guide here: https://mlflow.org/docs/latest/model-registry.html#migrating-from-stages\n",
      "  latest_version = client.get_latest_versions(\"CICDModel\", stages=[\"None\"])[0].version\n",
      "\n",
      "C:\\Users\\tmdtn\\AppData\\Local\\Temp\\ipykernel_40980\\360130756.py:33: FutureWarning: ``mlflow.tracking.client.MlflowClient.transition_model_version_stage`` is deprecated since 2.9.0. Model registry stages will be removed in a future major release. To learn more about the deprecation of model registry stages, see our migration guide here: https://mlflow.org/docs/latest/model-registry.html#migrating-from-stages\n",
      "  client.transition_model_version_stage(\n",
      "\n"
     ]
    },
    {
     "name": "stdout",
     "output_type": "stream",
     "text": [
      "등록 완료: version 24, AUC=0.8707                                                     \n",
      "🏃 View run nervous-quail-115 at: http://127.0.0.1:5000/#/experiments/1/runs/986755eee3f040f4bf114a46c28935f9\n",
      "\n",
      "🧪 View experiment at: http://127.0.0.1:5000/#/experiments/1                      \n",
      "\n",
      " 80%|████████  | 24/30 [09:43<02:39, 26.62s/trial, best loss: -0.8754447384296755]"
     ]
    },
    {
     "name": "stderr",
     "output_type": "stream",
     "text": [
      "c:\\Users\\tmdtn\\venvs\\mlflow-env\\Lib\\site-packages\\xgboost\\sklearn.py:1028: UserWarning: [23:52:28] WARNING: C:\\actions-runner\\_work\\xgboost\\xgboost\\src\\c_api\\c_api.cc:1427: Saving model in the UBJSON format as default.  You can use file extension: `json`, `ubj` or `deprecated` to choose between formats.\n",
      "  self.get_booster().save_model(fname)\n",
      "\n",
      "Registered model 'CICDModel' already exists. Creating a new version of this model...\n",
      "2025/10/10 23:52:45 INFO mlflow.store.model_registry.abstract_store: Waiting up to 300 seconds for model version to finish creation. Model name: CICDModel, version 25\n",
      "\n",
      "Created version '25' of model 'CICDModel'.\n",
      "C:\\Users\\tmdtn\\AppData\\Local\\Temp\\ipykernel_40980\\360130756.py:32: FutureWarning: ``mlflow.tracking.client.MlflowClient.get_latest_versions`` is deprecated since 2.9.0. Model registry stages will be removed in a future major release. To learn more about the deprecation of model registry stages, see our migration guide here: https://mlflow.org/docs/latest/model-registry.html#migrating-from-stages\n",
      "  latest_version = client.get_latest_versions(\"CICDModel\", stages=[\"None\"])[0].version\n",
      "\n",
      "C:\\Users\\tmdtn\\AppData\\Local\\Temp\\ipykernel_40980\\360130756.py:33: FutureWarning: ``mlflow.tracking.client.MlflowClient.transition_model_version_stage`` is deprecated since 2.9.0. Model registry stages will be removed in a future major release. To learn more about the deprecation of model registry stages, see our migration guide here: https://mlflow.org/docs/latest/model-registry.html#migrating-from-stages\n",
      "  client.transition_model_version_stage(\n",
      "\n"
     ]
    },
    {
     "name": "stdout",
     "output_type": "stream",
     "text": [
      "등록 완료: version 25, AUC=0.8747                                                     \n",
      "🏃 View run traveling-shoat-34 at: http://127.0.0.1:5000/#/experiments/1/runs/c5524212596549cc8bc861c31cc5427f\n",
      "\n",
      "🧪 View experiment at: http://127.0.0.1:5000/#/experiments/1                      \n",
      "\n",
      " 83%|████████▎ | 25/30 [10:01<02:00, 24.02s/trial, best loss: -0.8754447384296755]"
     ]
    },
    {
     "name": "stderr",
     "output_type": "stream",
     "text": [
      "c:\\Users\\tmdtn\\venvs\\mlflow-env\\Lib\\site-packages\\xgboost\\sklearn.py:1028: UserWarning: [23:52:46] WARNING: C:\\actions-runner\\_work\\xgboost\\xgboost\\src\\c_api\\c_api.cc:1427: Saving model in the UBJSON format as default.  You can use file extension: `json`, `ubj` or `deprecated` to choose between formats.\n",
      "  self.get_booster().save_model(fname)\n",
      "\n",
      "Registered model 'CICDModel' already exists. Creating a new version of this model...\n",
      "2025/10/10 23:53:02 INFO mlflow.store.model_registry.abstract_store: Waiting up to 300 seconds for model version to finish creation. Model name: CICDModel, version 26\n",
      "\n",
      "Created version '26' of model 'CICDModel'.\n",
      "C:\\Users\\tmdtn\\AppData\\Local\\Temp\\ipykernel_40980\\360130756.py:32: FutureWarning: ``mlflow.tracking.client.MlflowClient.get_latest_versions`` is deprecated since 2.9.0. Model registry stages will be removed in a future major release. To learn more about the deprecation of model registry stages, see our migration guide here: https://mlflow.org/docs/latest/model-registry.html#migrating-from-stages\n",
      "  latest_version = client.get_latest_versions(\"CICDModel\", stages=[\"None\"])[0].version\n",
      "\n",
      "C:\\Users\\tmdtn\\AppData\\Local\\Temp\\ipykernel_40980\\360130756.py:33: FutureWarning: ``mlflow.tracking.client.MlflowClient.transition_model_version_stage`` is deprecated since 2.9.0. Model registry stages will be removed in a future major release. To learn more about the deprecation of model registry stages, see our migration guide here: https://mlflow.org/docs/latest/model-registry.html#migrating-from-stages\n",
      "  client.transition_model_version_stage(\n",
      "\n"
     ]
    },
    {
     "name": "stdout",
     "output_type": "stream",
     "text": [
      "등록 완료: version 26, AUC=0.8744                                                     \n",
      "🏃 View run tasteful-gull-348 at: http://127.0.0.1:5000/#/experiments/1/runs/a75b1d6dd2104665a2b89bdcdc03d213\n",
      "\n",
      "🧪 View experiment at: http://127.0.0.1:5000/#/experiments/1                      \n",
      "\n",
      " 87%|████████▋ | 26/30 [10:18<01:27, 21.87s/trial, best loss: -0.8754447384296755]"
     ]
    },
    {
     "name": "stderr",
     "output_type": "stream",
     "text": [
      "c:\\Users\\tmdtn\\venvs\\mlflow-env\\Lib\\site-packages\\xgboost\\sklearn.py:1028: UserWarning: [23:53:03] WARNING: C:\\actions-runner\\_work\\xgboost\\xgboost\\src\\c_api\\c_api.cc:1427: Saving model in the UBJSON format as default.  You can use file extension: `json`, `ubj` or `deprecated` to choose between formats.\n",
      "  self.get_booster().save_model(fname)\n",
      "\n",
      "Registered model 'CICDModel' already exists. Creating a new version of this model...\n",
      "2025/10/10 23:53:16 INFO mlflow.store.model_registry.abstract_store: Waiting up to 300 seconds for model version to finish creation. Model name: CICDModel, version 27\n",
      "\n",
      "Created version '27' of model 'CICDModel'.\n",
      "C:\\Users\\tmdtn\\AppData\\Local\\Temp\\ipykernel_40980\\360130756.py:32: FutureWarning: ``mlflow.tracking.client.MlflowClient.get_latest_versions`` is deprecated since 2.9.0. Model registry stages will be removed in a future major release. To learn more about the deprecation of model registry stages, see our migration guide here: https://mlflow.org/docs/latest/model-registry.html#migrating-from-stages\n",
      "  latest_version = client.get_latest_versions(\"CICDModel\", stages=[\"None\"])[0].version\n",
      "\n",
      "C:\\Users\\tmdtn\\AppData\\Local\\Temp\\ipykernel_40980\\360130756.py:33: FutureWarning: ``mlflow.tracking.client.MlflowClient.transition_model_version_stage`` is deprecated since 2.9.0. Model registry stages will be removed in a future major release. To learn more about the deprecation of model registry stages, see our migration guide here: https://mlflow.org/docs/latest/model-registry.html#migrating-from-stages\n",
      "  client.transition_model_version_stage(\n",
      "\n"
     ]
    },
    {
     "name": "stdout",
     "output_type": "stream",
     "text": [
      "등록 완료: version 27, AUC=0.8707                                                     \n",
      "🏃 View run clean-hen-287 at: http://127.0.0.1:5000/#/experiments/1/runs/11f10f98a24a49b3bae83147249a5454\n",
      "\n",
      "🧪 View experiment at: http://127.0.0.1:5000/#/experiments/1                      \n",
      "\n",
      " 90%|█████████ | 27/30 [10:33<00:59, 19.70s/trial, best loss: -0.8754447384296755]"
     ]
    },
    {
     "name": "stderr",
     "output_type": "stream",
     "text": [
      "c:\\Users\\tmdtn\\venvs\\mlflow-env\\Lib\\site-packages\\xgboost\\sklearn.py:1028: UserWarning: [23:53:17] WARNING: C:\\actions-runner\\_work\\xgboost\\xgboost\\src\\c_api\\c_api.cc:1427: Saving model in the UBJSON format as default.  You can use file extension: `json`, `ubj` or `deprecated` to choose between formats.\n",
      "  self.get_booster().save_model(fname)\n",
      "\n",
      "Registered model 'CICDModel' already exists. Creating a new version of this model...\n",
      "2025/10/10 23:53:34 INFO mlflow.store.model_registry.abstract_store: Waiting up to 300 seconds for model version to finish creation. Model name: CICDModel, version 28\n",
      "\n",
      "Created version '28' of model 'CICDModel'.\n",
      "C:\\Users\\tmdtn\\AppData\\Local\\Temp\\ipykernel_40980\\360130756.py:32: FutureWarning: ``mlflow.tracking.client.MlflowClient.get_latest_versions`` is deprecated since 2.9.0. Model registry stages will be removed in a future major release. To learn more about the deprecation of model registry stages, see our migration guide here: https://mlflow.org/docs/latest/model-registry.html#migrating-from-stages\n",
      "  latest_version = client.get_latest_versions(\"CICDModel\", stages=[\"None\"])[0].version\n",
      "\n",
      "C:\\Users\\tmdtn\\AppData\\Local\\Temp\\ipykernel_40980\\360130756.py:33: FutureWarning: ``mlflow.tracking.client.MlflowClient.transition_model_version_stage`` is deprecated since 2.9.0. Model registry stages will be removed in a future major release. To learn more about the deprecation of model registry stages, see our migration guide here: https://mlflow.org/docs/latest/model-registry.html#migrating-from-stages\n",
      "  client.transition_model_version_stage(\n",
      "\n"
     ]
    },
    {
     "name": "stdout",
     "output_type": "stream",
     "text": [
      "등록 완료: version 28, AUC=0.8730                                                     \n",
      "🏃 View run charming-fish-561 at: http://127.0.0.1:5000/#/experiments/1/runs/839fb56a5ac14bfd99cbb1951b26ee59\n",
      "\n",
      "🧪 View experiment at: http://127.0.0.1:5000/#/experiments/1                      \n",
      "\n",
      " 93%|█████████▎| 28/30 [10:50<00:38, 19.10s/trial, best loss: -0.8754447384296755]"
     ]
    },
    {
     "name": "stderr",
     "output_type": "stream",
     "text": [
      "c:\\Users\\tmdtn\\venvs\\mlflow-env\\Lib\\site-packages\\xgboost\\sklearn.py:1028: UserWarning: [23:53:35] WARNING: C:\\actions-runner\\_work\\xgboost\\xgboost\\src\\c_api\\c_api.cc:1427: Saving model in the UBJSON format as default.  You can use file extension: `json`, `ubj` or `deprecated` to choose between formats.\n",
      "  self.get_booster().save_model(fname)\n",
      "\n",
      "Registered model 'CICDModel' already exists. Creating a new version of this model...\n",
      "2025/10/10 23:53:50 INFO mlflow.store.model_registry.abstract_store: Waiting up to 300 seconds for model version to finish creation. Model name: CICDModel, version 29\n",
      "\n",
      "Created version '29' of model 'CICDModel'.\n",
      "C:\\Users\\tmdtn\\AppData\\Local\\Temp\\ipykernel_40980\\360130756.py:32: FutureWarning: ``mlflow.tracking.client.MlflowClient.get_latest_versions`` is deprecated since 2.9.0. Model registry stages will be removed in a future major release. To learn more about the deprecation of model registry stages, see our migration guide here: https://mlflow.org/docs/latest/model-registry.html#migrating-from-stages\n",
      "  latest_version = client.get_latest_versions(\"CICDModel\", stages=[\"None\"])[0].version\n",
      "\n",
      "C:\\Users\\tmdtn\\AppData\\Local\\Temp\\ipykernel_40980\\360130756.py:33: FutureWarning: ``mlflow.tracking.client.MlflowClient.transition_model_version_stage`` is deprecated since 2.9.0. Model registry stages will be removed in a future major release. To learn more about the deprecation of model registry stages, see our migration guide here: https://mlflow.org/docs/latest/model-registry.html#migrating-from-stages\n",
      "  client.transition_model_version_stage(\n",
      "\n"
     ]
    },
    {
     "name": "stdout",
     "output_type": "stream",
     "text": [
      "등록 완료: version 29, AUC=0.8745                                                     \n",
      "🏃 View run amazing-dove-151 at: http://127.0.0.1:5000/#/experiments/1/runs/77f2c3990803443d9fa5fee8717977d0\n",
      "\n",
      "🧪 View experiment at: http://127.0.0.1:5000/#/experiments/1                      \n",
      "\n",
      " 97%|█████████▋| 29/30 [11:06<00:18, 18.12s/trial, best loss: -0.8754447384296755]"
     ]
    },
    {
     "name": "stderr",
     "output_type": "stream",
     "text": [
      "c:\\Users\\tmdtn\\venvs\\mlflow-env\\Lib\\site-packages\\xgboost\\sklearn.py:1028: UserWarning: [23:53:51] WARNING: C:\\actions-runner\\_work\\xgboost\\xgboost\\src\\c_api\\c_api.cc:1427: Saving model in the UBJSON format as default.  You can use file extension: `json`, `ubj` or `deprecated` to choose between formats.\n",
      "  self.get_booster().save_model(fname)\n",
      "\n",
      "Registered model 'CICDModel' already exists. Creating a new version of this model...\n",
      "2025/10/10 23:54:04 INFO mlflow.store.model_registry.abstract_store: Waiting up to 300 seconds for model version to finish creation. Model name: CICDModel, version 30\n",
      "\n",
      "Created version '30' of model 'CICDModel'.\n",
      "C:\\Users\\tmdtn\\AppData\\Local\\Temp\\ipykernel_40980\\360130756.py:32: FutureWarning: ``mlflow.tracking.client.MlflowClient.get_latest_versions`` is deprecated since 2.9.0. Model registry stages will be removed in a future major release. To learn more about the deprecation of model registry stages, see our migration guide here: https://mlflow.org/docs/latest/model-registry.html#migrating-from-stages\n",
      "  latest_version = client.get_latest_versions(\"CICDModel\", stages=[\"None\"])[0].version\n",
      "\n",
      "C:\\Users\\tmdtn\\AppData\\Local\\Temp\\ipykernel_40980\\360130756.py:33: FutureWarning: ``mlflow.tracking.client.MlflowClient.transition_model_version_stage`` is deprecated since 2.9.0. Model registry stages will be removed in a future major release. To learn more about the deprecation of model registry stages, see our migration guide here: https://mlflow.org/docs/latest/model-registry.html#migrating-from-stages\n",
      "  client.transition_model_version_stage(\n",
      "\n"
     ]
    },
    {
     "name": "stdout",
     "output_type": "stream",
     "text": [
      "등록 완료: version 30, AUC=0.8719                                                     \n",
      "🏃 View run funny-midge-383 at: http://127.0.0.1:5000/#/experiments/1/runs/29af4846e7fd41c3b1660e2cb03d4b73\n",
      "\n",
      "🧪 View experiment at: http://127.0.0.1:5000/#/experiments/1                      \n",
      "\n",
      "100%|██████████| 30/30 [11:21<00:00, 22.71s/trial, best loss: -0.8754447384296755]\n"
     ]
    }
   ],
   "source": [
    "# 4. 하이퍼파라미터 최적화 수행 (총 30회 시도)\n",
    "trials = Trials()\n",
    "best = fmin(\n",
    "    fn=objective,        # 목적 함수\n",
    "    space=space,         # 탐색 공간\n",
    "    algo=tpe.suggest,    # 탐색 알고리즘: TPE\n",
    "    max_evals=30,        # 총 30회 시도\n",
    "    trials=trials        # 실험 결과 저장 객체\n",
    ")"
   ]
  }
 ],
 "metadata": {
  "kernelspec": {
   "display_name": "mlflow-env",
   "language": "python",
   "name": "python3"
  },
  "language_info": {
   "codemirror_mode": {
    "name": "ipython",
    "version": 3
   },
   "file_extension": ".py",
   "mimetype": "text/x-python",
   "name": "python",
   "nbconvert_exporter": "python",
   "pygments_lexer": "ipython3",
   "version": "3.11.9"
  }
 },
 "nbformat": 4,
 "nbformat_minor": 5
}
