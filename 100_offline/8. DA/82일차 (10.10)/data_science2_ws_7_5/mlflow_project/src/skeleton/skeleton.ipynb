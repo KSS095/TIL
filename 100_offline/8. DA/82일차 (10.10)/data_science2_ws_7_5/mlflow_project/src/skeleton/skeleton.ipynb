{
 "cells": [
  {
   "cell_type": "code",
   "execution_count": 1,
   "id": "e45b3cf6",
   "metadata": {},
   "outputs": [],
   "source": [
    "import pandas as pd\n",
    "import mlflow\n",
    "import mlflow.xgboost\n",
    "import xgboost as xgb\n",
    "from sklearn.model_selection import train_test_split\n",
    "from sklearn.preprocessing import StandardScaler, OneHotEncoder\n",
    "from sklearn.compose import ColumnTransformer\n",
    "from sklearn.metrics import accuracy_score, precision_score, recall_score, f1_score, roc_auc_score\n",
    "from mlflow.models import infer_signature\n",
    "from hyperopt import fmin, tpe, hp, Trials, STATUS_OK\n",
    "\n",
    "# 데이터 로딩 및 전처리\n",
    "data = pd.read_csv('../data/churn.csv')\n",
    "\n",
    "# Tracking Server 설정\n",
    "mlflow.set_tracking_uri(uri=\"http://127.0.0.1:5000\") # 환경 변수를 설정했지만, 확실하게 설정"
   ]
  },
  {
   "cell_type": "code",
   "execution_count": 2,
   "id": "692b679e",
   "metadata": {},
   "outputs": [],
   "source": [
    "X = data.drop(['Exited', 'RowNumber', 'CustomerId', 'Surname'], axis=1)\n",
    "y = data['Exited']"
   ]
  },
  {
   "cell_type": "code",
   "execution_count": 3,
   "id": "e4034ae0",
   "metadata": {},
   "outputs": [],
   "source": [
    "categorical_features = ['Geography', 'Gender']\n",
    "numeric_features = ['CreditScore', 'Age', 'Tenure', 'Balance', 'NumOfProducts', 'HasCrCard', 'IsActiveMember', 'EstimatedSalary']"
   ]
  },
  {
   "cell_type": "code",
   "execution_count": 4,
   "id": "cb08ff69",
   "metadata": {},
   "outputs": [],
   "source": [
    "preprocessor = ColumnTransformer(\n",
    "    transformers=[\n",
    "        ('num', StandardScaler(), numeric_features),\n",
    "        ('cat', OneHotEncoder(), categorical_features)\n",
    "    ])"
   ]
  },
  {
   "cell_type": "code",
   "execution_count": 5,
   "id": "4f554012",
   "metadata": {},
   "outputs": [],
   "source": [
    "X_processed = preprocessor.fit_transform(X)"
   ]
  },
  {
   "cell_type": "code",
   "execution_count": 6,
   "id": "c55ef874",
   "metadata": {},
   "outputs": [],
   "source": [
    "X_train, X_test, y_train, y_test = train_test_split(X_processed, y, test_size=0.2, random_state=42)"
   ]
  },
  {
   "cell_type": "code",
   "execution_count": 7,
   "id": "27a27f41",
   "metadata": {},
   "outputs": [],
   "source": [
    "# 하이퍼파라미터 탐색 공간 정의\n",
    "space = {\n",
    "    'max_depth': hp.choice('max_depth', range(3, 10)),\n",
    "    'learning_rate': hp.uniform('learning_rate', 0.01, 0.2),\n",
    "    'n_estimators': hp.choice('n_estimators', range(50, 200)),\n",
    "    'gamma': hp.uniform('gamma', 0, 5)\n",
    "}"
   ]
  },
  {
   "cell_type": "code",
   "execution_count": 8,
   "id": "e788c398",
   "metadata": {},
   "outputs": [],
   "source": [
    "# objective 함수 정의\n",
    "def objective(params):\n",
    "    with mlflow.start_run(nested=True):\n",
    "        model = xgb.XGBClassifier(\n",
    "            use_label_encoder=False,\n",
    "            eval_metric='logloss',\n",
    "            **params\n",
    "        )\n",
    "        model.fit(X_train, y_train)\n",
    "        \n",
    "        # 예측값과 확률 분리\n",
    "        preds = model.predict(X_test)\n",
    "        probs = model.predict_proba(X_test)[:, 1]\n",
    "\n",
    "        acc = accuracy_score(y_test, preds)\n",
    "        precision = precision_score(y_test, preds)\n",
    "        recall = recall_score(y_test, preds)\n",
    "        f1 = f1_score(y_test, preds)\n",
    "        roc_auc = roc_auc_score(y_test, probs)\n",
    "\n",
    "        mlflow.log_params(params)\n",
    "        mlflow.log_metrics({\n",
    "            'accuracy': acc,\n",
    "            'precision': precision,\n",
    "            'recall': recall,\n",
    "            'f1_score': f1,\n",
    "            'roc_auc': roc_auc\n",
    "        })\n",
    "\n",
    "        signature = infer_signature(X_train, probs)\n",
    "\n",
    "        return {\n",
    "            'loss': -roc_auc,\n",
    "            'status': STATUS_OK,\n",
    "            'model': model,\n",
    "            'signature': signature\n",
    "        }"
   ]
  },
  {
   "cell_type": "code",
   "execution_count": 9,
   "id": "7b42a163",
   "metadata": {},
   "outputs": [
    {
     "name": "stderr",
     "output_type": "stream",
     "text": [
      "2025/10/10 23:56:40 INFO mlflow.tracking.fluent: Experiment with name 'practice5' does not exist. Creating a new experiment.\n"
     ]
    },
    {
     "name": "stdout",
     "output_type": "stream",
     "text": [
      "  0%|          | 0/20 [00:00<?, ?trial/s, best loss=?]"
     ]
    },
    {
     "name": "stderr",
     "output_type": "stream",
     "text": [
      "c:\\Users\\tmdtn\\venvs\\mlflow-env\\Lib\\site-packages\\xgboost\\training.py:183: UserWarning: [23:56:42] WARNING: C:\\actions-runner\\_work\\xgboost\\xgboost\\src\\learner.cc:738: \n",
      "Parameters: { \"use_label_encoder\" } are not used.\n",
      "\n",
      "  bst.update(dtrain, iteration=i, fobj=obj)\n",
      "\n"
     ]
    },
    {
     "name": "stdout",
     "output_type": "stream",
     "text": [
      "🏃 View run legendary-lamb-99 at: http://127.0.0.1:5000/#/experiments/1/runs/75897464a9494388bf272ab2bd425079\n",
      "\n",
      "🧪 View experiment at: http://127.0.0.1:5000/#/experiments/1\n",
      "\n",
      "  5%|▌         | 1/20 [00:01<00:26,  1.37s/trial, best loss: -0.871954125636726]"
     ]
    },
    {
     "name": "stderr",
     "output_type": "stream",
     "text": [
      "c:\\Users\\tmdtn\\venvs\\mlflow-env\\Lib\\site-packages\\xgboost\\training.py:183: UserWarning: [23:56:44] WARNING: C:\\actions-runner\\_work\\xgboost\\xgboost\\src\\learner.cc:738: \n",
      "Parameters: { \"use_label_encoder\" } are not used.\n",
      "\n",
      "  bst.update(dtrain, iteration=i, fobj=obj)\n",
      "\n"
     ]
    },
    {
     "name": "stdout",
     "output_type": "stream",
     "text": [
      "🏃 View run bustling-cat-441 at: http://127.0.0.1:5000/#/experiments/1/runs/957cd6d57bf2444e83e4184b4dd262f9\n",
      "\n",
      "🧪 View experiment at: http://127.0.0.1:5000/#/experiments/1                    \n",
      "\n",
      " 10%|█         | 2/20 [00:02<00:26,  1.46s/trial, best loss: -0.871954125636726]"
     ]
    },
    {
     "name": "stderr",
     "output_type": "stream",
     "text": [
      "c:\\Users\\tmdtn\\venvs\\mlflow-env\\Lib\\site-packages\\xgboost\\training.py:183: UserWarning: [23:56:45] WARNING: C:\\actions-runner\\_work\\xgboost\\xgboost\\src\\learner.cc:738: \n",
      "Parameters: { \"use_label_encoder\" } are not used.\n",
      "\n",
      "  bst.update(dtrain, iteration=i, fobj=obj)\n",
      "\n"
     ]
    },
    {
     "name": "stdout",
     "output_type": "stream",
     "text": [
      "🏃 View run brawny-lamb-35 at: http://127.0.0.1:5000/#/experiments/1/runs/4c0b510df3fe4f179d30ba45ea6f8649\n",
      "\n",
      "🧪 View experiment at: http://127.0.0.1:5000/#/experiments/1                    \n",
      "\n",
      " 15%|█▌        | 3/20 [00:03<00:21,  1.28s/trial, best loss: -0.871954125636726]"
     ]
    },
    {
     "name": "stderr",
     "output_type": "stream",
     "text": [
      "c:\\Users\\tmdtn\\venvs\\mlflow-env\\Lib\\site-packages\\xgboost\\training.py:183: UserWarning: [23:56:46] WARNING: C:\\actions-runner\\_work\\xgboost\\xgboost\\src\\learner.cc:738: \n",
      "Parameters: { \"use_label_encoder\" } are not used.\n",
      "\n",
      "  bst.update(dtrain, iteration=i, fobj=obj)\n",
      "\n"
     ]
    },
    {
     "name": "stdout",
     "output_type": "stream",
     "text": [
      "🏃 View run unruly-sloth-838 at: http://127.0.0.1:5000/#/experiments/1/runs/5b0d667998ed4dc1804b572dcbfa0a6a\n",
      "\n",
      "🧪 View experiment at: http://127.0.0.1:5000/#/experiments/1                    \n",
      "\n",
      " 20%|██        | 4/20 [00:05<00:19,  1.20s/trial, best loss: -0.873843125891654]"
     ]
    },
    {
     "name": "stderr",
     "output_type": "stream",
     "text": [
      "c:\\Users\\tmdtn\\venvs\\mlflow-env\\Lib\\site-packages\\xgboost\\training.py:183: UserWarning: [23:56:47] WARNING: C:\\actions-runner\\_work\\xgboost\\xgboost\\src\\learner.cc:738: \n",
      "Parameters: { \"use_label_encoder\" } are not used.\n",
      "\n",
      "  bst.update(dtrain, iteration=i, fobj=obj)\n",
      "\n"
     ]
    },
    {
     "name": "stdout",
     "output_type": "stream",
     "text": [
      "🏃 View run adorable-sponge-438 at: http://127.0.0.1:5000/#/experiments/1/runs/3d420dc2bd564e4491e01799d1949a63\n",
      "\n",
      "🧪 View experiment at: http://127.0.0.1:5000/#/experiments/1                    \n",
      "\n",
      " 25%|██▌       | 5/20 [00:05<00:15,  1.03s/trial, best loss: -0.873843125891654]"
     ]
    },
    {
     "name": "stderr",
     "output_type": "stream",
     "text": [
      "c:\\Users\\tmdtn\\venvs\\mlflow-env\\Lib\\site-packages\\xgboost\\training.py:183: UserWarning: [23:56:48] WARNING: C:\\actions-runner\\_work\\xgboost\\xgboost\\src\\learner.cc:738: \n",
      "Parameters: { \"use_label_encoder\" } are not used.\n",
      "\n",
      "  bst.update(dtrain, iteration=i, fobj=obj)\n",
      "\n"
     ]
    },
    {
     "name": "stdout",
     "output_type": "stream",
     "text": [
      "🏃 View run calm-fish-59 at: http://127.0.0.1:5000/#/experiments/1/runs/f88784d3a70c4d58af6df4907c06ff87\n",
      "\n",
      "🧪 View experiment at: http://127.0.0.1:5000/#/experiments/1                    \n",
      "\n",
      " 30%|███       | 6/20 [00:06<00:13,  1.04trial/s, best loss: -0.873843125891654]"
     ]
    },
    {
     "name": "stderr",
     "output_type": "stream",
     "text": [
      "c:\\Users\\tmdtn\\venvs\\mlflow-env\\Lib\\site-packages\\xgboost\\training.py:183: UserWarning: [23:56:49] WARNING: C:\\actions-runner\\_work\\xgboost\\xgboost\\src\\learner.cc:738: \n",
      "Parameters: { \"use_label_encoder\" } are not used.\n",
      "\n",
      "  bst.update(dtrain, iteration=i, fobj=obj)\n",
      "\n"
     ]
    },
    {
     "name": "stdout",
     "output_type": "stream",
     "text": [
      "🏃 View run respected-shark-618 at: http://127.0.0.1:5000/#/experiments/1/runs/1dccd70171b149f2b70227c5f0c9168d\n",
      "\n",
      "🧪 View experiment at: http://127.0.0.1:5000/#/experiments/1                    \n",
      "\n",
      " 35%|███▌      | 7/20 [00:07<00:11,  1.11trial/s, best loss: -0.8748660044873653]"
     ]
    },
    {
     "name": "stderr",
     "output_type": "stream",
     "text": [
      "c:\\Users\\tmdtn\\venvs\\mlflow-env\\Lib\\site-packages\\xgboost\\training.py:183: UserWarning: [23:56:49] WARNING: C:\\actions-runner\\_work\\xgboost\\xgboost\\src\\learner.cc:738: \n",
      "Parameters: { \"use_label_encoder\" } are not used.\n",
      "\n",
      "  bst.update(dtrain, iteration=i, fobj=obj)\n",
      "\n"
     ]
    },
    {
     "name": "stdout",
     "output_type": "stream",
     "text": [
      "🏃 View run flawless-hog-386 at: http://127.0.0.1:5000/#/experiments/1/runs/e62c76881c404b52a13150f2210db9fa\n",
      "\n",
      "🧪 View experiment at: http://127.0.0.1:5000/#/experiments/1                     \n",
      "\n",
      " 40%|████      | 8/20 [00:08<00:10,  1.13trial/s, best loss: -0.8748660044873653]"
     ]
    },
    {
     "name": "stderr",
     "output_type": "stream",
     "text": [
      "c:\\Users\\tmdtn\\venvs\\mlflow-env\\Lib\\site-packages\\xgboost\\training.py:183: UserWarning: [23:56:50] WARNING: C:\\actions-runner\\_work\\xgboost\\xgboost\\src\\learner.cc:738: \n",
      "Parameters: { \"use_label_encoder\" } are not used.\n",
      "\n",
      "  bst.update(dtrain, iteration=i, fobj=obj)\n",
      "\n"
     ]
    },
    {
     "name": "stdout",
     "output_type": "stream",
     "text": [
      "🏃 View run vaunted-stoat-293 at: http://127.0.0.1:5000/#/experiments/1/runs/57d045dea1f14602b8b4fd55fa59516d\n",
      "\n",
      "🧪 View experiment at: http://127.0.0.1:5000/#/experiments/1                     \n",
      "\n",
      " 45%|████▌     | 9/20 [00:08<00:09,  1.18trial/s, best loss: -0.8753085657373672]"
     ]
    },
    {
     "name": "stderr",
     "output_type": "stream",
     "text": [
      "c:\\Users\\tmdtn\\venvs\\mlflow-env\\Lib\\site-packages\\xgboost\\training.py:183: UserWarning: [23:56:51] WARNING: C:\\actions-runner\\_work\\xgboost\\xgboost\\src\\learner.cc:738: \n",
      "Parameters: { \"use_label_encoder\" } are not used.\n",
      "\n",
      "  bst.update(dtrain, iteration=i, fobj=obj)\n",
      "\n"
     ]
    },
    {
     "name": "stdout",
     "output_type": "stream",
     "text": [
      "🏃 View run powerful-mule-288 at: http://127.0.0.1:5000/#/experiments/1/runs/378f81a9d5d24e179d3c706763be619c\n",
      "\n",
      "🧪 View experiment at: http://127.0.0.1:5000/#/experiments/1                     \n",
      "\n",
      " 50%|█████     | 10/20 [00:09<00:08,  1.13trial/s, best loss: -0.8753085657373672]"
     ]
    },
    {
     "name": "stderr",
     "output_type": "stream",
     "text": [
      "c:\\Users\\tmdtn\\venvs\\mlflow-env\\Lib\\site-packages\\xgboost\\training.py:183: UserWarning: [23:56:52] WARNING: C:\\actions-runner\\_work\\xgboost\\xgboost\\src\\learner.cc:738: \n",
      "Parameters: { \"use_label_encoder\" } are not used.\n",
      "\n",
      "  bst.update(dtrain, iteration=i, fobj=obj)\n",
      "\n"
     ]
    },
    {
     "name": "stdout",
     "output_type": "stream",
     "text": [
      "🏃 View run luxuriant-fox-112 at: http://127.0.0.1:5000/#/experiments/1/runs/15b2b7e8260e4bb2b8f9dec3d0e2ff9f\n",
      "\n",
      "🧪 View experiment at: http://127.0.0.1:5000/#/experiments/1                      \n",
      "\n",
      " 55%|█████▌    | 11/20 [00:10<00:08,  1.10trial/s, best loss: -0.8753085657373672]"
     ]
    },
    {
     "name": "stderr",
     "output_type": "stream",
     "text": [
      "c:\\Users\\tmdtn\\venvs\\mlflow-env\\Lib\\site-packages\\xgboost\\training.py:183: UserWarning: [23:56:53] WARNING: C:\\actions-runner\\_work\\xgboost\\xgboost\\src\\learner.cc:738: \n",
      "Parameters: { \"use_label_encoder\" } are not used.\n",
      "\n",
      "  bst.update(dtrain, iteration=i, fobj=obj)\n",
      "\n"
     ]
    },
    {
     "name": "stdout",
     "output_type": "stream",
     "text": [
      "🏃 View run colorful-ray-160 at: http://127.0.0.1:5000/#/experiments/1/runs/300b0e48936b49248aebe2676ebe48ae\n",
      "\n",
      "🧪 View experiment at: http://127.0.0.1:5000/#/experiments/1                      \n",
      "\n",
      " 60%|██████    | 12/20 [00:11<00:07,  1.05trial/s, best loss: -0.8753085657373672]"
     ]
    },
    {
     "name": "stderr",
     "output_type": "stream",
     "text": [
      "c:\\Users\\tmdtn\\venvs\\mlflow-env\\Lib\\site-packages\\xgboost\\training.py:183: UserWarning: [23:56:54] WARNING: C:\\actions-runner\\_work\\xgboost\\xgboost\\src\\learner.cc:738: \n",
      "Parameters: { \"use_label_encoder\" } are not used.\n",
      "\n",
      "  bst.update(dtrain, iteration=i, fobj=obj)\n",
      "\n"
     ]
    },
    {
     "name": "stdout",
     "output_type": "stream",
     "text": [
      "🏃 View run exultant-ray-565 at: http://127.0.0.1:5000/#/experiments/1/runs/37a2385385d84507b8b753df9f6d1f87\n",
      "\n",
      "🧪 View experiment at: http://127.0.0.1:5000/#/experiments/1                      \n",
      "\n",
      " 65%|██████▌   | 13/20 [00:12<00:06,  1.04trial/s, best loss: -0.8753085657373672]"
     ]
    },
    {
     "name": "stderr",
     "output_type": "stream",
     "text": [
      "c:\\Users\\tmdtn\\venvs\\mlflow-env\\Lib\\site-packages\\xgboost\\training.py:183: UserWarning: [23:56:55] WARNING: C:\\actions-runner\\_work\\xgboost\\xgboost\\src\\learner.cc:738: \n",
      "Parameters: { \"use_label_encoder\" } are not used.\n",
      "\n",
      "  bst.update(dtrain, iteration=i, fobj=obj)\n",
      "\n"
     ]
    },
    {
     "name": "stdout",
     "output_type": "stream",
     "text": [
      "🏃 View run worried-kit-216 at: http://127.0.0.1:5000/#/experiments/1/runs/7823f0657f124c8194d5bdcbdca944a6\n",
      "\n",
      "🧪 View experiment at: http://127.0.0.1:5000/#/experiments/1                      \n",
      "\n",
      " 70%|███████   | 14/20 [00:14<00:06,  1.02s/trial, best loss: -0.8753085657373672]"
     ]
    },
    {
     "name": "stderr",
     "output_type": "stream",
     "text": [
      "c:\\Users\\tmdtn\\venvs\\mlflow-env\\Lib\\site-packages\\xgboost\\training.py:183: UserWarning: [23:56:56] WARNING: C:\\actions-runner\\_work\\xgboost\\xgboost\\src\\learner.cc:738: \n",
      "Parameters: { \"use_label_encoder\" } are not used.\n",
      "\n",
      "  bst.update(dtrain, iteration=i, fobj=obj)\n",
      "\n"
     ]
    },
    {
     "name": "stdout",
     "output_type": "stream",
     "text": [
      "🏃 View run stately-sloth-26 at: http://127.0.0.1:5000/#/experiments/1/runs/aac28baf5aa94db9a204a3d5cfaa64fb\n",
      "\n",
      "🧪 View experiment at: http://127.0.0.1:5000/#/experiments/1                      \n",
      "\n",
      " 75%|███████▌  | 15/20 [00:15<00:05,  1.00s/trial, best loss: -0.8753085657373672]"
     ]
    },
    {
     "name": "stderr",
     "output_type": "stream",
     "text": [
      "c:\\Users\\tmdtn\\venvs\\mlflow-env\\Lib\\site-packages\\xgboost\\training.py:183: UserWarning: [23:56:57] WARNING: C:\\actions-runner\\_work\\xgboost\\xgboost\\src\\learner.cc:738: \n",
      "Parameters: { \"use_label_encoder\" } are not used.\n",
      "\n",
      "  bst.update(dtrain, iteration=i, fobj=obj)\n",
      "\n"
     ]
    },
    {
     "name": "stdout",
     "output_type": "stream",
     "text": [
      "🏃 View run learned-calf-964 at: http://127.0.0.1:5000/#/experiments/1/runs/971d2ac4ef4e410ea85a173862c7cac7\n",
      "\n",
      "🧪 View experiment at: http://127.0.0.1:5000/#/experiments/1                      \n",
      "\n",
      " 80%|████████  | 16/20 [00:16<00:04,  1.00s/trial, best loss: -0.8753085657373672]"
     ]
    },
    {
     "name": "stderr",
     "output_type": "stream",
     "text": [
      "c:\\Users\\tmdtn\\venvs\\mlflow-env\\Lib\\site-packages\\xgboost\\training.py:183: UserWarning: [23:56:58] WARNING: C:\\actions-runner\\_work\\xgboost\\xgboost\\src\\learner.cc:738: \n",
      "Parameters: { \"use_label_encoder\" } are not used.\n",
      "\n",
      "  bst.update(dtrain, iteration=i, fobj=obj)\n",
      "\n"
     ]
    },
    {
     "name": "stdout",
     "output_type": "stream",
     "text": [
      "🏃 View run angry-gull-757 at: http://127.0.0.1:5000/#/experiments/1/runs/bc83f4680d994c13833527d4b0d28cf1\n",
      "\n",
      "🧪 View experiment at: http://127.0.0.1:5000/#/experiments/1                      \n",
      "\n",
      " 85%|████████▌ | 17/20 [00:17<00:02,  1.00trial/s, best loss: -0.8753085657373672]"
     ]
    },
    {
     "name": "stderr",
     "output_type": "stream",
     "text": [
      "c:\\Users\\tmdtn\\venvs\\mlflow-env\\Lib\\site-packages\\xgboost\\training.py:183: UserWarning: [23:56:59] WARNING: C:\\actions-runner\\_work\\xgboost\\xgboost\\src\\learner.cc:738: \n",
      "Parameters: { \"use_label_encoder\" } are not used.\n",
      "\n",
      "  bst.update(dtrain, iteration=i, fobj=obj)\n",
      "\n"
     ]
    },
    {
     "name": "stdout",
     "output_type": "stream",
     "text": [
      "🏃 View run wistful-cub-31 at: http://127.0.0.1:5000/#/experiments/1/runs/5c6c46e1ab3644b9a5ec9e81dc7d8998\n",
      "\n",
      "🧪 View experiment at: http://127.0.0.1:5000/#/experiments/1                      \n",
      "\n",
      " 90%|█████████ | 18/20 [00:17<00:01,  1.03trial/s, best loss: -0.8753085657373672]"
     ]
    },
    {
     "name": "stderr",
     "output_type": "stream",
     "text": [
      "c:\\Users\\tmdtn\\venvs\\mlflow-env\\Lib\\site-packages\\xgboost\\training.py:183: UserWarning: [23:57:00] WARNING: C:\\actions-runner\\_work\\xgboost\\xgboost\\src\\learner.cc:738: \n",
      "Parameters: { \"use_label_encoder\" } are not used.\n",
      "\n",
      "  bst.update(dtrain, iteration=i, fobj=obj)\n",
      "\n"
     ]
    },
    {
     "name": "stdout",
     "output_type": "stream",
     "text": [
      "🏃 View run adventurous-loon-943 at: http://127.0.0.1:5000/#/experiments/1/runs/ab72710ea1d64f46ad6814686a2cd68e\n",
      "\n",
      "🧪 View experiment at: http://127.0.0.1:5000/#/experiments/1                      \n",
      "\n",
      " 95%|█████████▌| 19/20 [00:18<00:00,  1.09trial/s, best loss: -0.8753085657373672]"
     ]
    },
    {
     "name": "stderr",
     "output_type": "stream",
     "text": [
      "c:\\Users\\tmdtn\\venvs\\mlflow-env\\Lib\\site-packages\\xgboost\\training.py:183: UserWarning: [23:57:01] WARNING: C:\\actions-runner\\_work\\xgboost\\xgboost\\src\\learner.cc:738: \n",
      "Parameters: { \"use_label_encoder\" } are not used.\n",
      "\n",
      "  bst.update(dtrain, iteration=i, fobj=obj)\n",
      "\n"
     ]
    },
    {
     "name": "stdout",
     "output_type": "stream",
     "text": [
      "🏃 View run legendary-squid-80 at: http://127.0.0.1:5000/#/experiments/1/runs/5001c0ce02ec4c58b5d9c208c216b8b6\n",
      "\n",
      "🧪 View experiment at: http://127.0.0.1:5000/#/experiments/1                      \n",
      "\n",
      "100%|██████████| 20/20 [00:19<00:00,  1.02trial/s, best loss: -0.8753085657373672]\n"
     ]
    },
    {
     "name": "stderr",
     "output_type": "stream",
     "text": [
      "c:\\Users\\tmdtn\\venvs\\mlflow-env\\Lib\\site-packages\\xgboost\\sklearn.py:1028: UserWarning: [23:57:02] WARNING: C:\\actions-runner\\_work\\xgboost\\xgboost\\src\\c_api\\c_api.cc:1427: Saving model in the UBJSON format as default.  You can use file extension: `json`, `ubj` or `deprecated` to choose between formats.\n",
      "  self.get_booster().save_model(fname)\n"
     ]
    },
    {
     "name": "stdout",
     "output_type": "stream",
     "text": [
      "Best parameters: {'gamma': 2.175485630996258, 'learning_rate': 0.13314541619495712, 'max_depth': 2, 'n_estimators': 18}\n",
      "Best ROC-AUC: 0.8753\n",
      "🏃 View run XGBoost at: http://127.0.0.1:5000/#/experiments/1/runs/34850d987173402bbb32cae4d9f89456\n",
      "🧪 View experiment at: http://127.0.0.1:5000/#/experiments/1\n"
     ]
    }
   ],
   "source": [
    "# 실험 설정 및 fmin 수행\n",
    "mlflow.set_experiment(\"practice5\")\n",
    "\n",
    "with mlflow.start_run(run_name=\"XGBoost\") as run:\n",
    "    trials = Trials()\n",
    "    best = fmin(\n",
    "        fn=objective,\n",
    "        space=space,\n",
    "        algo=tpe.suggest,\n",
    "        max_evals=20,\n",
    "        trials=trials\n",
    "    )\n",
    "\n",
    "    # best run 결과 추출\n",
    "    best_result = sorted(trials.results, key=lambda x: x[\"loss\"])[0]\n",
    "    best_model = best_result[\"model\"]\n",
    "    signature = best_result[\"signature\"]\n",
    "\n",
    "    mlflow.log_params(best)\n",
    "    mlflow.log_metric(\"best_roc_auc\", -best_result[\"loss\"])\n",
    "\n",
    "    # 최종 best 모델 저장 (루트 run에)\n",
    "    mlflow.xgboost.log_model(best_model, \"best_xgboost_model\", signature=signature)\n",
    "\n",
    "    print(f\"Best parameters: {best}\")\n",
    "    print(f\"Best ROC-AUC: {-best_result['loss']:.4f}\")"
   ]
  }
 ],
 "metadata": {
  "kernelspec": {
   "display_name": "mlflow-env",
   "language": "python",
   "name": "python3"
  },
  "language_info": {
   "codemirror_mode": {
    "name": "ipython",
    "version": 3
   },
   "file_extension": ".py",
   "mimetype": "text/x-python",
   "name": "python",
   "nbconvert_exporter": "python",
   "pygments_lexer": "ipython3",
   "version": "3.11.9"
  }
 },
 "nbformat": 4,
 "nbformat_minor": 5
}
