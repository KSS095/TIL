{
  "cells": [
    {
      "cell_type": "markdown",
      "metadata": {
        "id": "8ukwYcxSOTgg"
      },
      "source": [
        "### **Content License Agreement**\n",
        "\n",
        "<font color='red'><b>**WARNING**</b></font> : 본 자료는 삼성청년SW·AI아카데미의 컨텐츠 자산으로, 보안서약서에 의거하여 어떠한 사유로도 임의로 복사, 촬영, 녹음, 복제, 보관, 전송하거나 허가 받지 않은 저장매체를 이용한 보관, 제3자에게 누설, 공개 또는 사용하는 등의 무단 사용 및 불법 배포 시 법적 조치를 받을 수 있습니다."
      ]
    },
    {
      "cell_type": "markdown",
      "metadata": {
        "id": "QK7VaXfNTErg"
      },
      "source": [
        "# **Objectives**\n",
        "\n",
        "1. 과제 개요\n",
        "  - 사전 학습된 CNN 모델(ResNet-18)을 활용한 리니어 프로빙 (Linear Probing)\n",
        "  - 자동 데이터 증강의 적용 (Auto - Augmentation) 및 미세 조정 (Fine-tuning) 을 통한 성능 향상\n",
        "  - HuggingFace ViT 모델을 통한 최신 트랜스포머 기반 모델 가중치 활용 진행\n",
        "\n",
        "2. 과제 진행 목적 및 배경\n",
        "  - 전이 학습(Transfer Learning)의 개념과 확장적 사용법\n",
        "  - 사전 학습된 모델 가중치의 부분적 활용을 통한 훈련 가속\n",
        "  - CNN 기반 모델과 Transformer 기반 모델의 차이 및 활용법 비교\n",
        "  - PyTorch 및 HuggingFace 생태계 간 상호작용 예시\n",
        "\n",
        "3. 과제 수행으로 얻어갈 수 있는 역량\n",
        "  - ResNet-18과 같은 CNN 모델 구조 및 전이 학습 주의사항 숙지\n",
        "  - Linear Probing과 Partial Fine-tuning의 사용성 차이 이해\n",
        "  - Automatic Data Augmentation 패키지 활용을 통한 효율적인 성능 개선 기법 적용 능력\n",
        "  - HuggingFace 모델 로딩 및 Inference Pipeline 활용법 실습\n",
        "\n",
        "4. 과제 핵심 내용\n",
        "  - 사전 학습된 ResNet-18 모델의 마지막 레이어만 학습 (Linear Probing)\n",
        "  - 전체 모델을 대상으로 Fine-tuning 수행 (with Augmentation & Scheduler)\n",
        "  - HuggingFace의 Vision Transformer(ViT) 모델로 CIFAR-10 이미지 추론\n",
        "  - 학습 결과의 정확도 비교 및 전이 학습의 효과 체험\n"
      ]
    },
    {
      "cell_type": "markdown",
      "metadata": {
        "id": "q0S21LTIOTgh"
      },
      "source": [
        "# **Prerequisites**\n",
        "\n",
        "```\n",
        "pytorch : 2.7.1\n",
        "torchvision: Pytorch 2.7.1 compatible version\n",
        "transformers:  4.55.1\n",
        "datasets:  4.0.0\n",
        "```\n"
      ]
    },
    {
      "cell_type": "markdown",
      "metadata": {
        "id": "-cfHHrZAyW9I"
      },
      "source": [
        "# 과제 01 : 목표 데이터셋에 기존 학습된 모델 적응시키기"
      ]
    },
    {
      "cell_type": "markdown",
      "metadata": {
        "id": "7JWFo1RIy53Y"
      },
      "source": [
        "**학습 목표**\n",
        "\n",
        "실습 시간에 배운 전이 학습(Transfer Learning) 기법을 활용하여, 컴퓨터 비전 모델을 목표 데이터셋에 맞게 변형·학습·평가하는 방법을 익힌다.\n",
        "\n",
        "**학습 개념**\n",
        "- 부분적 가중치 동결을 활용한 목표 데이터셋에 맞춘 모델 변형의 이해\n",
        "\n",
        "- 다양한 학습률 스케줄러(Learning Rate Scheduler) 적용 사례 학습\n",
        "\n",
        "- 최적화 알고리즘(Optimizer) 변경을 통한 학습 성능 개선 방법 습득\n",
        "\n",
        "**실습 요약**\n",
        "\n",
        "사전 학습된 모델의 Linear Classifier 및 원하는 Layer를 목표 데이터셋에 맞게 변경하여 훈련한다.\n",
        "\n",
        "기본 StepLR 이외의 두 가지 Learning Rate Scheduler를 적용해 성능을 비교한다.\n",
        "\n",
        "학습 과정에서 Optimizer를 변경하며, 목표 일반화 성능 달성 여부를 검증한다.\n"
      ]
    },
    {
      "cell_type": "markdown",
      "metadata": {
        "id": "IM8MsSFd19qa"
      },
      "source": [
        "재현성을 위한 시드 고정부터 진행합니다."
      ]
    },
    {
      "cell_type": "code",
      "execution_count": 22,
      "metadata": {
        "id": "msFkmfazS9Lt",
        "colab": {
          "base_uri": "https://localhost:8080/"
        },
        "outputId": "b80ac5c8-1ece-4a3c-fa49-5726d11c2bee"
      },
      "outputs": [
        {
          "output_type": "stream",
          "name": "stdout",
          "text": [
            "사용 중인 장치: cuda\n"
          ]
        }
      ],
      "source": [
        "# 시드 설정\n",
        "import numpy as np\n",
        "import random\n",
        "import torch\n",
        "import torch.nn as nn\n",
        "import torch.optim as optim\n",
        "import torchvision\n",
        "import torchvision.transforms as transforms\n",
        "from torchvision import datasets\n",
        "import copy\n",
        "import matplotlib.pyplot as plt\n",
        "import tqdm\n",
        "\n",
        "torch.manual_seed(42)\n",
        "torch.cuda.manual_seed(42)\n",
        "np.random.seed(42)\n",
        "random.seed(42)\n",
        "torch.backends.cudnn.deterministic = True\n",
        "torch.backends.cudnn.benchmark = False\n",
        "\n",
        "device = torch.device(\"cuda\" if torch.cuda.is_available() else \"cpu\")\n",
        "print(\"사용 중인 장치:\", device)"
      ]
    },
    {
      "cell_type": "markdown",
      "metadata": {
        "id": "FWDcXabB2PTL"
      },
      "source": [
        "실습과 동일하게, 데이터를 준비합니다.\n",
        "저희가 사용할 ResNet18은 큰 클래스 갯수와 이미지 사이즈를 가지고 있는 ImageNet에 사전학습이 진행된 모델입니다. 다종다양한 그림에 학습된 모델에 전이학습을 적용하기 위해, 꽃에 집중된 데이터셋인 Flowers102를 사용합니다. torchvision을 이용해 해당 데이터셋을 불러오고, 이전과 동일한 전처리를 적용합니다.\n",
        "\n",
        "'train','val', 'test' 에 맞는 split을 받아, 3개의 Flowers102 데이터셋 객체를 형성합니다.\n"
      ]
    },
    {
      "cell_type": "code",
      "execution_count": 23,
      "metadata": {
        "id": "lSkD4YR72OQJ-problem",
        "colab": {
          "base_uri": "https://localhost:8080/"
        },
        "outputId": "ae657e5e-07ec-4907-d009-f97ac0c06636"
      },
      "outputs": [
        {
          "output_type": "stream",
          "name": "stdout",
          "text": [
            "Raw train dataset size: 1020\n",
            "Raw validation dataset size: 1020\n",
            "Raw test dataset size: 6149\n"
          ]
        }
      ],
      "source": [
        "# 문제 1. Flowers102 데이터셋 로드\n",
        "# [TODO] Flowers102 데이터셋을 'train', 'val', 'test' split으로 각각 로드하세요.\n",
        "# 힌트: datasets.Flowers102의 split 인자에 'train', 'val', 'test'를 각각 전달합니다.\n",
        "train_dataset_raw = datasets.Flowers102(\n",
        "    root=\"./data\",\n",
        "    split=\"train\",\n",
        "    download=True\n",
        ")\n",
        "val_dataset_raw = datasets.Flowers102(\n",
        "    root=\"./data\",\n",
        "    split=\"val\",\n",
        "    download=True\n",
        ")\n",
        "test_dataset_raw = datasets.Flowers102(\n",
        "    root=\"./data\",\n",
        "    split=\"test\",\n",
        "    download=True\n",
        ")\n",
        "\n",
        "print(f\"Raw train dataset size: {len(train_dataset_raw)}\")\n",
        "print(f\"Raw validation dataset size: {len(val_dataset_raw)}\")\n",
        "print(f\"Raw test dataset size: {len(test_dataset_raw)}\")"
      ]
    },
    {
      "cell_type": "markdown",
      "metadata": {
        "id": "GuPKgHrF6g_n"
      },
      "source": [
        "학습 및 평가를 위한 데이터가 준비되었으니, 전처리를 진행합니다. 실습에서 배운 픽셀 평균/분산 계산 법을 활용하여,  Normalization을 위한 파라미터를 계산합니다. 이후 해당 값을 이용해, 전처리를 진행합니다."
      ]
    },
    {
      "cell_type": "markdown",
      "metadata": {
        "id": "SA4psL6NJTB-"
      },
      "source": [
        "# 과제 02. Flowers102 데이터셋 대상 Fine-Tuning\n",
        "Flowers102는 getitem을 활용할 시 image를 반환합니다.\n",
        "Flow : 이미지를 numpy로 변형, Tensor로 변형, 평균의 계산, 표준편차의 계산\n",
        "Hint : a = np.array(a)"
      ]
    },
    {
      "cell_type": "code",
      "execution_count": 24,
      "metadata": {
        "id": "pdhHeKuC6181-problem",
        "colab": {
          "base_uri": "https://localhost:8080/"
        },
        "outputId": "0c74640d-0fee-4ff3-def1-2f128a4ea335"
      },
      "outputs": [
        {
          "output_type": "stream",
          "name": "stdout",
          "text": [
            "Mean: 0.4690, Std: 0.2587\n"
          ]
        }
      ],
      "source": [
        "data_tensor = torch.from_numpy(np.array(train_dataset_raw[0][0]))\n",
        "# 문제 2. 텐서의 평균과 표준편차 계산\n",
        "# [TODO] 텐서의 픽셀 값을 0~1 범위로 스케일링한 후, 평균과 표준편차를 계산하세요.\n",
        "# 힌트: 텐서를 255.0으로 나누고, torch.mean()과 torch.std() 함수를 사용합니다.\n",
        "#       차원(dim)을 (0, 1, 2)로 설정하여 전체 픽셀에 대해 계산합니다.\n",
        "mean = torch.mean(data_tensor / 255.0, dim=(0, 1, 2))\n",
        "std = torch.std(data_tensor / 255.0, dim=(0, 1, 2))\n",
        "\n",
        "print(f\"Mean: {mean:.4f}, Std: {std:.4f}\")"
      ]
    },
    {
      "cell_type": "code",
      "execution_count": 25,
      "metadata": {
        "id": "70iaIXXd7tpc-problem",
        "colab": {
          "base_uri": "https://localhost:8080/"
        },
        "outputId": "9f4f14c3-c38a-45f0-d2df-864ad1e2eabb"
      },
      "outputs": [
        {
          "output_type": "stream",
          "name": "stdout",
          "text": [
            "훈련 배치 개수: 16 테스트 배치 개수: 97\n"
          ]
        }
      ],
      "source": [
        "# 문제 3. 데이터 전처리\n",
        "# [TODO] 위에서 구한 파라미터를 활용하여, 전처리를 진행합니다.\n",
        "# hint : 아래의 to_numpy 클래스를 사용하여 PIL 이미지를 NumPy 배열로 변환할 수 있습니다.\n",
        "#Hint : ToNumpy는 ToTensor 이전에 호출합니다.\n",
        "class ToNumpy:\n",
        "    # BEGIN\n",
        "    def __call__(self, img):\n",
        "        return np.array(img)\n",
        "    # END\n",
        "\n",
        "# 데이터 변환기 정의\n",
        "# 학습 데이터: 224로 리사이즈 후 텐서화 및 정규화\n",
        "train_transform = transforms.Compose([\n",
        " # Hint : Resize,\n",
        " # ToNumpy(),\n",
        " transforms.Resize((224, 224)),\n",
        " ToNumpy(),\n",
        " transforms.ToTensor(),\n",
        " transforms.Normalize(mean, std)\n",
        "])\n",
        "\n",
        "# 테스트 데이터: 리사이즈 후 텐서화 및 정규화 (학습과 동일하게)\n",
        "test_transform = transforms.Compose([\n",
        "# Hint : Resize,\n",
        " transforms.Resize((224, 224)),\n",
        " ToNumpy(),\n",
        " transforms.ToTensor(),\n",
        " transforms.Normalize(mean, std)\n",
        "])\n",
        "\n",
        "# 문제 4. 데이터셋 객체 생성\n",
        "# [TODO] 위에서 정의한 transform을 적용하여 데이터셋 객체를 다시 생성하세요.\n",
        "# 힌트: datasets.Flowers102의 transform 인자에 위에서 만든 변환기를 전달합니다.\n",
        "train_dataset = datasets.Flowers102(\n",
        "    root=\"./data\",\n",
        "    split=\"train\",\n",
        "    transform=train_transform,\n",
        "    download=True\n",
        ")\n",
        "val_dataset = datasets.Flowers102(\n",
        "    root=\"./data\",\n",
        "    split=\"val\",\n",
        "    transform=test_transform,\n",
        "    download=True\n",
        ")\n",
        "test_dataset = datasets.Flowers102(\n",
        "    root=\"./data\",\n",
        "    split=\"test\",\n",
        "    transform=test_transform,\n",
        "    download=True\n",
        ")\n",
        "\n",
        "# DataLoader를 통해 배치 구성\n",
        "trainloader = torch.utils.data.DataLoader(train_dataset, batch_size=64, shuffle=True)\n",
        "valloader = torch.utils.data.DataLoader(val_dataset, batch_size=64, shuffle=False)\n",
        "testloader  = torch.utils.data.DataLoader(test_dataset, batch_size=64, shuffle=False)\n",
        "\n",
        "print(\"훈련 배치 개수:\", len(trainloader), \"테스트 배치 개수:\", len(testloader))"
      ]
    },
    {
      "cell_type": "code",
      "execution_count": 26,
      "metadata": {
        "colab": {
          "base_uri": "https://localhost:8080/"
        },
        "id": "-7d3fwUMOTgi",
        "outputId": "07d0366f-b3b8-40f1-a81e-dec078704ad7"
      },
      "outputs": [
        {
          "output_type": "stream",
          "name": "stdout",
          "text": [
            "세 데이터셋 객체가 서로 다릅니다.\n",
            "train_dataset split: train\n",
            "val_dataset split: val\n",
            "test_dataset split: test\n",
            "각 데이터셋의 split이 예상하는 값과 일치합니다.\n"
          ]
        }
      ],
      "source": [
        "# Assertion 01.\n",
        "\n",
        "# 세 데이터셋 객체가 서로 다른지 확인\n",
        "assert train_dataset != val_dataset\n",
        "assert train_dataset != test_dataset\n",
        "assert val_dataset != test_dataset\n",
        "\n",
        "print(\"세 데이터셋 객체가 서로 다릅니다.\")\n",
        "\n",
        "# 각 데이터셋의 split 확인\n",
        "print(f\"train_dataset split: {train_dataset._split}\")\n",
        "print(f\"val_dataset split: {val_dataset._split}\")\n",
        "print(f\"test_dataset split: {test_dataset._split}\")\n",
        "\n",
        "# 각 데이터셋의 split이 예상하는 값과 일치하는지 확인\n",
        "assert train_dataset._split == 'train'\n",
        "assert val_dataset._split == 'val'\n",
        "assert test_dataset._split == 'test'\n",
        "\n",
        "print(\"각 데이터셋의 split이 예상하는 값과 일치합니다.\")"
      ]
    },
    {
      "cell_type": "markdown",
      "metadata": {
        "id": "E4b7Sbnn9pOb"
      },
      "source": [
        "실습과 동일한 과정으로 모델을 수정하겠습니다."
      ]
    },
    {
      "cell_type": "code",
      "execution_count": 27,
      "metadata": {
        "id": "A8EF-8MICLIV-problem",
        "colab": {
          "base_uri": "https://localhost:8080/"
        },
        "outputId": "1558925c-4d7f-4142-e787-dfa3246b03bf"
      },
      "outputs": [
        {
          "output_type": "stream",
          "name": "stdout",
          "text": [
            "('', ResNet(\n",
            "  (conv1): Conv2d(3, 64, kernel_size=(7, 7), stride=(2, 2), padding=(3, 3), bias=False)\n",
            "  (bn1): BatchNorm2d(64, eps=1e-05, momentum=0.1, affine=True, track_running_stats=True)\n",
            "  (relu): ReLU(inplace=True)\n",
            "  (maxpool): MaxPool2d(kernel_size=3, stride=2, padding=1, dilation=1, ceil_mode=False)\n",
            "  (layer1): Sequential(\n",
            "    (0): BasicBlock(\n",
            "      (conv1): Conv2d(64, 64, kernel_size=(3, 3), stride=(1, 1), padding=(1, 1), bias=False)\n",
            "      (bn1): BatchNorm2d(64, eps=1e-05, momentum=0.1, affine=True, track_running_stats=True)\n",
            "      (relu): ReLU(inplace=True)\n",
            "      (conv2): Conv2d(64, 64, kernel_size=(3, 3), stride=(1, 1), padding=(1, 1), bias=False)\n",
            "      (bn2): BatchNorm2d(64, eps=1e-05, momentum=0.1, affine=True, track_running_stats=True)\n",
            "    )\n",
            "    (1): BasicBlock(\n",
            "      (conv1): Conv2d(64, 64, kernel_size=(3, 3), stride=(1, 1), padding=(1, 1), bias=False)\n",
            "      (bn1): BatchNorm2d(64, eps=1e-05, momentum=0.1, affine=True, track_running_stats=True)\n",
            "      (relu): ReLU(inplace=True)\n",
            "      (conv2): Conv2d(64, 64, kernel_size=(3, 3), stride=(1, 1), padding=(1, 1), bias=False)\n",
            "      (bn2): BatchNorm2d(64, eps=1e-05, momentum=0.1, affine=True, track_running_stats=True)\n",
            "    )\n",
            "  )\n",
            "  (layer2): Sequential(\n",
            "    (0): BasicBlock(\n",
            "      (conv1): Conv2d(64, 128, kernel_size=(3, 3), stride=(2, 2), padding=(1, 1), bias=False)\n",
            "      (bn1): BatchNorm2d(128, eps=1e-05, momentum=0.1, affine=True, track_running_stats=True)\n",
            "      (relu): ReLU(inplace=True)\n",
            "      (conv2): Conv2d(128, 128, kernel_size=(3, 3), stride=(1, 1), padding=(1, 1), bias=False)\n",
            "      (bn2): BatchNorm2d(128, eps=1e-05, momentum=0.1, affine=True, track_running_stats=True)\n",
            "      (downsample): Sequential(\n",
            "        (0): Conv2d(64, 128, kernel_size=(1, 1), stride=(2, 2), bias=False)\n",
            "        (1): BatchNorm2d(128, eps=1e-05, momentum=0.1, affine=True, track_running_stats=True)\n",
            "      )\n",
            "    )\n",
            "    (1): BasicBlock(\n",
            "      (conv1): Conv2d(128, 128, kernel_size=(3, 3), stride=(1, 1), padding=(1, 1), bias=False)\n",
            "      (bn1): BatchNorm2d(128, eps=1e-05, momentum=0.1, affine=True, track_running_stats=True)\n",
            "      (relu): ReLU(inplace=True)\n",
            "      (conv2): Conv2d(128, 128, kernel_size=(3, 3), stride=(1, 1), padding=(1, 1), bias=False)\n",
            "      (bn2): BatchNorm2d(128, eps=1e-05, momentum=0.1, affine=True, track_running_stats=True)\n",
            "    )\n",
            "  )\n",
            "  (layer3): Sequential(\n",
            "    (0): BasicBlock(\n",
            "      (conv1): Conv2d(128, 256, kernel_size=(3, 3), stride=(2, 2), padding=(1, 1), bias=False)\n",
            "      (bn1): BatchNorm2d(256, eps=1e-05, momentum=0.1, affine=True, track_running_stats=True)\n",
            "      (relu): ReLU(inplace=True)\n",
            "      (conv2): Conv2d(256, 256, kernel_size=(3, 3), stride=(1, 1), padding=(1, 1), bias=False)\n",
            "      (bn2): BatchNorm2d(256, eps=1e-05, momentum=0.1, affine=True, track_running_stats=True)\n",
            "      (downsample): Sequential(\n",
            "        (0): Conv2d(128, 256, kernel_size=(1, 1), stride=(2, 2), bias=False)\n",
            "        (1): BatchNorm2d(256, eps=1e-05, momentum=0.1, affine=True, track_running_stats=True)\n",
            "      )\n",
            "    )\n",
            "    (1): BasicBlock(\n",
            "      (conv1): Conv2d(256, 256, kernel_size=(3, 3), stride=(1, 1), padding=(1, 1), bias=False)\n",
            "      (bn1): BatchNorm2d(256, eps=1e-05, momentum=0.1, affine=True, track_running_stats=True)\n",
            "      (relu): ReLU(inplace=True)\n",
            "      (conv2): Conv2d(256, 256, kernel_size=(3, 3), stride=(1, 1), padding=(1, 1), bias=False)\n",
            "      (bn2): BatchNorm2d(256, eps=1e-05, momentum=0.1, affine=True, track_running_stats=True)\n",
            "    )\n",
            "  )\n",
            "  (layer4): Sequential(\n",
            "    (0): BasicBlock(\n",
            "      (conv1): Conv2d(256, 512, kernel_size=(3, 3), stride=(2, 2), padding=(1, 1), bias=False)\n",
            "      (bn1): BatchNorm2d(512, eps=1e-05, momentum=0.1, affine=True, track_running_stats=True)\n",
            "      (relu): ReLU(inplace=True)\n",
            "      (conv2): Conv2d(512, 512, kernel_size=(3, 3), stride=(1, 1), padding=(1, 1), bias=False)\n",
            "      (bn2): BatchNorm2d(512, eps=1e-05, momentum=0.1, affine=True, track_running_stats=True)\n",
            "      (downsample): Sequential(\n",
            "        (0): Conv2d(256, 512, kernel_size=(1, 1), stride=(2, 2), bias=False)\n",
            "        (1): BatchNorm2d(512, eps=1e-05, momentum=0.1, affine=True, track_running_stats=True)\n",
            "      )\n",
            "    )\n",
            "    (1): BasicBlock(\n",
            "      (conv1): Conv2d(512, 512, kernel_size=(3, 3), stride=(1, 1), padding=(1, 1), bias=False)\n",
            "      (bn1): BatchNorm2d(512, eps=1e-05, momentum=0.1, affine=True, track_running_stats=True)\n",
            "      (relu): ReLU(inplace=True)\n",
            "      (conv2): Conv2d(512, 512, kernel_size=(3, 3), stride=(1, 1), padding=(1, 1), bias=False)\n",
            "      (bn2): BatchNorm2d(512, eps=1e-05, momentum=0.1, affine=True, track_running_stats=True)\n",
            "    )\n",
            "  )\n",
            "  (avgpool): AdaptiveAvgPool2d(output_size=(1, 1))\n",
            "  (fc): Linear(in_features=512, out_features=1000, bias=True)\n",
            "))\n",
            "('conv1', Conv2d(3, 64, kernel_size=(7, 7), stride=(2, 2), padding=(3, 3), bias=False))\n",
            "('bn1', BatchNorm2d(64, eps=1e-05, momentum=0.1, affine=True, track_running_stats=True))\n",
            "('relu', ReLU(inplace=True))\n",
            "('maxpool', MaxPool2d(kernel_size=3, stride=2, padding=1, dilation=1, ceil_mode=False))\n",
            "('layer1', Sequential(\n",
            "  (0): BasicBlock(\n",
            "    (conv1): Conv2d(64, 64, kernel_size=(3, 3), stride=(1, 1), padding=(1, 1), bias=False)\n",
            "    (bn1): BatchNorm2d(64, eps=1e-05, momentum=0.1, affine=True, track_running_stats=True)\n",
            "    (relu): ReLU(inplace=True)\n",
            "    (conv2): Conv2d(64, 64, kernel_size=(3, 3), stride=(1, 1), padding=(1, 1), bias=False)\n",
            "    (bn2): BatchNorm2d(64, eps=1e-05, momentum=0.1, affine=True, track_running_stats=True)\n",
            "  )\n",
            "  (1): BasicBlock(\n",
            "    (conv1): Conv2d(64, 64, kernel_size=(3, 3), stride=(1, 1), padding=(1, 1), bias=False)\n",
            "    (bn1): BatchNorm2d(64, eps=1e-05, momentum=0.1, affine=True, track_running_stats=True)\n",
            "    (relu): ReLU(inplace=True)\n",
            "    (conv2): Conv2d(64, 64, kernel_size=(3, 3), stride=(1, 1), padding=(1, 1), bias=False)\n",
            "    (bn2): BatchNorm2d(64, eps=1e-05, momentum=0.1, affine=True, track_running_stats=True)\n",
            "  )\n",
            "))\n",
            "('layer1.0', BasicBlock(\n",
            "  (conv1): Conv2d(64, 64, kernel_size=(3, 3), stride=(1, 1), padding=(1, 1), bias=False)\n",
            "  (bn1): BatchNorm2d(64, eps=1e-05, momentum=0.1, affine=True, track_running_stats=True)\n",
            "  (relu): ReLU(inplace=True)\n",
            "  (conv2): Conv2d(64, 64, kernel_size=(3, 3), stride=(1, 1), padding=(1, 1), bias=False)\n",
            "  (bn2): BatchNorm2d(64, eps=1e-05, momentum=0.1, affine=True, track_running_stats=True)\n",
            "))\n",
            "('layer1.0.conv1', Conv2d(64, 64, kernel_size=(3, 3), stride=(1, 1), padding=(1, 1), bias=False))\n",
            "('layer1.0.bn1', BatchNorm2d(64, eps=1e-05, momentum=0.1, affine=True, track_running_stats=True))\n",
            "('layer1.0.relu', ReLU(inplace=True))\n",
            "('layer1.0.conv2', Conv2d(64, 64, kernel_size=(3, 3), stride=(1, 1), padding=(1, 1), bias=False))\n",
            "('layer1.0.bn2', BatchNorm2d(64, eps=1e-05, momentum=0.1, affine=True, track_running_stats=True))\n",
            "('layer1.1', BasicBlock(\n",
            "  (conv1): Conv2d(64, 64, kernel_size=(3, 3), stride=(1, 1), padding=(1, 1), bias=False)\n",
            "  (bn1): BatchNorm2d(64, eps=1e-05, momentum=0.1, affine=True, track_running_stats=True)\n",
            "  (relu): ReLU(inplace=True)\n",
            "  (conv2): Conv2d(64, 64, kernel_size=(3, 3), stride=(1, 1), padding=(1, 1), bias=False)\n",
            "  (bn2): BatchNorm2d(64, eps=1e-05, momentum=0.1, affine=True, track_running_stats=True)\n",
            "))\n",
            "('layer1.1.conv1', Conv2d(64, 64, kernel_size=(3, 3), stride=(1, 1), padding=(1, 1), bias=False))\n",
            "('layer1.1.bn1', BatchNorm2d(64, eps=1e-05, momentum=0.1, affine=True, track_running_stats=True))\n",
            "('layer1.1.relu', ReLU(inplace=True))\n",
            "('layer1.1.conv2', Conv2d(64, 64, kernel_size=(3, 3), stride=(1, 1), padding=(1, 1), bias=False))\n",
            "('layer1.1.bn2', BatchNorm2d(64, eps=1e-05, momentum=0.1, affine=True, track_running_stats=True))\n",
            "('layer2', Sequential(\n",
            "  (0): BasicBlock(\n",
            "    (conv1): Conv2d(64, 128, kernel_size=(3, 3), stride=(2, 2), padding=(1, 1), bias=False)\n",
            "    (bn1): BatchNorm2d(128, eps=1e-05, momentum=0.1, affine=True, track_running_stats=True)\n",
            "    (relu): ReLU(inplace=True)\n",
            "    (conv2): Conv2d(128, 128, kernel_size=(3, 3), stride=(1, 1), padding=(1, 1), bias=False)\n",
            "    (bn2): BatchNorm2d(128, eps=1e-05, momentum=0.1, affine=True, track_running_stats=True)\n",
            "    (downsample): Sequential(\n",
            "      (0): Conv2d(64, 128, kernel_size=(1, 1), stride=(2, 2), bias=False)\n",
            "      (1): BatchNorm2d(128, eps=1e-05, momentum=0.1, affine=True, track_running_stats=True)\n",
            "    )\n",
            "  )\n",
            "  (1): BasicBlock(\n",
            "    (conv1): Conv2d(128, 128, kernel_size=(3, 3), stride=(1, 1), padding=(1, 1), bias=False)\n",
            "    (bn1): BatchNorm2d(128, eps=1e-05, momentum=0.1, affine=True, track_running_stats=True)\n",
            "    (relu): ReLU(inplace=True)\n",
            "    (conv2): Conv2d(128, 128, kernel_size=(3, 3), stride=(1, 1), padding=(1, 1), bias=False)\n",
            "    (bn2): BatchNorm2d(128, eps=1e-05, momentum=0.1, affine=True, track_running_stats=True)\n",
            "  )\n",
            "))\n",
            "('layer2.0', BasicBlock(\n",
            "  (conv1): Conv2d(64, 128, kernel_size=(3, 3), stride=(2, 2), padding=(1, 1), bias=False)\n",
            "  (bn1): BatchNorm2d(128, eps=1e-05, momentum=0.1, affine=True, track_running_stats=True)\n",
            "  (relu): ReLU(inplace=True)\n",
            "  (conv2): Conv2d(128, 128, kernel_size=(3, 3), stride=(1, 1), padding=(1, 1), bias=False)\n",
            "  (bn2): BatchNorm2d(128, eps=1e-05, momentum=0.1, affine=True, track_running_stats=True)\n",
            "  (downsample): Sequential(\n",
            "    (0): Conv2d(64, 128, kernel_size=(1, 1), stride=(2, 2), bias=False)\n",
            "    (1): BatchNorm2d(128, eps=1e-05, momentum=0.1, affine=True, track_running_stats=True)\n",
            "  )\n",
            "))\n",
            "('layer2.0.conv1', Conv2d(64, 128, kernel_size=(3, 3), stride=(2, 2), padding=(1, 1), bias=False))\n",
            "('layer2.0.bn1', BatchNorm2d(128, eps=1e-05, momentum=0.1, affine=True, track_running_stats=True))\n",
            "('layer2.0.relu', ReLU(inplace=True))\n",
            "('layer2.0.conv2', Conv2d(128, 128, kernel_size=(3, 3), stride=(1, 1), padding=(1, 1), bias=False))\n",
            "('layer2.0.bn2', BatchNorm2d(128, eps=1e-05, momentum=0.1, affine=True, track_running_stats=True))\n",
            "('layer2.0.downsample', Sequential(\n",
            "  (0): Conv2d(64, 128, kernel_size=(1, 1), stride=(2, 2), bias=False)\n",
            "  (1): BatchNorm2d(128, eps=1e-05, momentum=0.1, affine=True, track_running_stats=True)\n",
            "))\n",
            "('layer2.0.downsample.0', Conv2d(64, 128, kernel_size=(1, 1), stride=(2, 2), bias=False))\n",
            "('layer2.0.downsample.1', BatchNorm2d(128, eps=1e-05, momentum=0.1, affine=True, track_running_stats=True))\n",
            "('layer2.1', BasicBlock(\n",
            "  (conv1): Conv2d(128, 128, kernel_size=(3, 3), stride=(1, 1), padding=(1, 1), bias=False)\n",
            "  (bn1): BatchNorm2d(128, eps=1e-05, momentum=0.1, affine=True, track_running_stats=True)\n",
            "  (relu): ReLU(inplace=True)\n",
            "  (conv2): Conv2d(128, 128, kernel_size=(3, 3), stride=(1, 1), padding=(1, 1), bias=False)\n",
            "  (bn2): BatchNorm2d(128, eps=1e-05, momentum=0.1, affine=True, track_running_stats=True)\n",
            "))\n",
            "('layer2.1.conv1', Conv2d(128, 128, kernel_size=(3, 3), stride=(1, 1), padding=(1, 1), bias=False))\n",
            "('layer2.1.bn1', BatchNorm2d(128, eps=1e-05, momentum=0.1, affine=True, track_running_stats=True))\n",
            "('layer2.1.relu', ReLU(inplace=True))\n",
            "('layer2.1.conv2', Conv2d(128, 128, kernel_size=(3, 3), stride=(1, 1), padding=(1, 1), bias=False))\n",
            "('layer2.1.bn2', BatchNorm2d(128, eps=1e-05, momentum=0.1, affine=True, track_running_stats=True))\n",
            "('layer3', Sequential(\n",
            "  (0): BasicBlock(\n",
            "    (conv1): Conv2d(128, 256, kernel_size=(3, 3), stride=(2, 2), padding=(1, 1), bias=False)\n",
            "    (bn1): BatchNorm2d(256, eps=1e-05, momentum=0.1, affine=True, track_running_stats=True)\n",
            "    (relu): ReLU(inplace=True)\n",
            "    (conv2): Conv2d(256, 256, kernel_size=(3, 3), stride=(1, 1), padding=(1, 1), bias=False)\n",
            "    (bn2): BatchNorm2d(256, eps=1e-05, momentum=0.1, affine=True, track_running_stats=True)\n",
            "    (downsample): Sequential(\n",
            "      (0): Conv2d(128, 256, kernel_size=(1, 1), stride=(2, 2), bias=False)\n",
            "      (1): BatchNorm2d(256, eps=1e-05, momentum=0.1, affine=True, track_running_stats=True)\n",
            "    )\n",
            "  )\n",
            "  (1): BasicBlock(\n",
            "    (conv1): Conv2d(256, 256, kernel_size=(3, 3), stride=(1, 1), padding=(1, 1), bias=False)\n",
            "    (bn1): BatchNorm2d(256, eps=1e-05, momentum=0.1, affine=True, track_running_stats=True)\n",
            "    (relu): ReLU(inplace=True)\n",
            "    (conv2): Conv2d(256, 256, kernel_size=(3, 3), stride=(1, 1), padding=(1, 1), bias=False)\n",
            "    (bn2): BatchNorm2d(256, eps=1e-05, momentum=0.1, affine=True, track_running_stats=True)\n",
            "  )\n",
            "))\n",
            "('layer3.0', BasicBlock(\n",
            "  (conv1): Conv2d(128, 256, kernel_size=(3, 3), stride=(2, 2), padding=(1, 1), bias=False)\n",
            "  (bn1): BatchNorm2d(256, eps=1e-05, momentum=0.1, affine=True, track_running_stats=True)\n",
            "  (relu): ReLU(inplace=True)\n",
            "  (conv2): Conv2d(256, 256, kernel_size=(3, 3), stride=(1, 1), padding=(1, 1), bias=False)\n",
            "  (bn2): BatchNorm2d(256, eps=1e-05, momentum=0.1, affine=True, track_running_stats=True)\n",
            "  (downsample): Sequential(\n",
            "    (0): Conv2d(128, 256, kernel_size=(1, 1), stride=(2, 2), bias=False)\n",
            "    (1): BatchNorm2d(256, eps=1e-05, momentum=0.1, affine=True, track_running_stats=True)\n",
            "  )\n",
            "))\n",
            "('layer3.0.conv1', Conv2d(128, 256, kernel_size=(3, 3), stride=(2, 2), padding=(1, 1), bias=False))\n",
            "('layer3.0.bn1', BatchNorm2d(256, eps=1e-05, momentum=0.1, affine=True, track_running_stats=True))\n",
            "('layer3.0.relu', ReLU(inplace=True))\n",
            "('layer3.0.conv2', Conv2d(256, 256, kernel_size=(3, 3), stride=(1, 1), padding=(1, 1), bias=False))\n",
            "('layer3.0.bn2', BatchNorm2d(256, eps=1e-05, momentum=0.1, affine=True, track_running_stats=True))\n",
            "('layer3.0.downsample', Sequential(\n",
            "  (0): Conv2d(128, 256, kernel_size=(1, 1), stride=(2, 2), bias=False)\n",
            "  (1): BatchNorm2d(256, eps=1e-05, momentum=0.1, affine=True, track_running_stats=True)\n",
            "))\n",
            "('layer3.0.downsample.0', Conv2d(128, 256, kernel_size=(1, 1), stride=(2, 2), bias=False))\n",
            "('layer3.0.downsample.1', BatchNorm2d(256, eps=1e-05, momentum=0.1, affine=True, track_running_stats=True))\n",
            "('layer3.1', BasicBlock(\n",
            "  (conv1): Conv2d(256, 256, kernel_size=(3, 3), stride=(1, 1), padding=(1, 1), bias=False)\n",
            "  (bn1): BatchNorm2d(256, eps=1e-05, momentum=0.1, affine=True, track_running_stats=True)\n",
            "  (relu): ReLU(inplace=True)\n",
            "  (conv2): Conv2d(256, 256, kernel_size=(3, 3), stride=(1, 1), padding=(1, 1), bias=False)\n",
            "  (bn2): BatchNorm2d(256, eps=1e-05, momentum=0.1, affine=True, track_running_stats=True)\n",
            "))\n",
            "('layer3.1.conv1', Conv2d(256, 256, kernel_size=(3, 3), stride=(1, 1), padding=(1, 1), bias=False))\n",
            "('layer3.1.bn1', BatchNorm2d(256, eps=1e-05, momentum=0.1, affine=True, track_running_stats=True))\n",
            "('layer3.1.relu', ReLU(inplace=True))\n",
            "('layer3.1.conv2', Conv2d(256, 256, kernel_size=(3, 3), stride=(1, 1), padding=(1, 1), bias=False))\n",
            "('layer3.1.bn2', BatchNorm2d(256, eps=1e-05, momentum=0.1, affine=True, track_running_stats=True))\n",
            "('layer4', Sequential(\n",
            "  (0): BasicBlock(\n",
            "    (conv1): Conv2d(256, 512, kernel_size=(3, 3), stride=(2, 2), padding=(1, 1), bias=False)\n",
            "    (bn1): BatchNorm2d(512, eps=1e-05, momentum=0.1, affine=True, track_running_stats=True)\n",
            "    (relu): ReLU(inplace=True)\n",
            "    (conv2): Conv2d(512, 512, kernel_size=(3, 3), stride=(1, 1), padding=(1, 1), bias=False)\n",
            "    (bn2): BatchNorm2d(512, eps=1e-05, momentum=0.1, affine=True, track_running_stats=True)\n",
            "    (downsample): Sequential(\n",
            "      (0): Conv2d(256, 512, kernel_size=(1, 1), stride=(2, 2), bias=False)\n",
            "      (1): BatchNorm2d(512, eps=1e-05, momentum=0.1, affine=True, track_running_stats=True)\n",
            "    )\n",
            "  )\n",
            "  (1): BasicBlock(\n",
            "    (conv1): Conv2d(512, 512, kernel_size=(3, 3), stride=(1, 1), padding=(1, 1), bias=False)\n",
            "    (bn1): BatchNorm2d(512, eps=1e-05, momentum=0.1, affine=True, track_running_stats=True)\n",
            "    (relu): ReLU(inplace=True)\n",
            "    (conv2): Conv2d(512, 512, kernel_size=(3, 3), stride=(1, 1), padding=(1, 1), bias=False)\n",
            "    (bn2): BatchNorm2d(512, eps=1e-05, momentum=0.1, affine=True, track_running_stats=True)\n",
            "  )\n",
            "))\n",
            "('layer4.0', BasicBlock(\n",
            "  (conv1): Conv2d(256, 512, kernel_size=(3, 3), stride=(2, 2), padding=(1, 1), bias=False)\n",
            "  (bn1): BatchNorm2d(512, eps=1e-05, momentum=0.1, affine=True, track_running_stats=True)\n",
            "  (relu): ReLU(inplace=True)\n",
            "  (conv2): Conv2d(512, 512, kernel_size=(3, 3), stride=(1, 1), padding=(1, 1), bias=False)\n",
            "  (bn2): BatchNorm2d(512, eps=1e-05, momentum=0.1, affine=True, track_running_stats=True)\n",
            "  (downsample): Sequential(\n",
            "    (0): Conv2d(256, 512, kernel_size=(1, 1), stride=(2, 2), bias=False)\n",
            "    (1): BatchNorm2d(512, eps=1e-05, momentum=0.1, affine=True, track_running_stats=True)\n",
            "  )\n",
            "))\n",
            "('layer4.0.conv1', Conv2d(256, 512, kernel_size=(3, 3), stride=(2, 2), padding=(1, 1), bias=False))\n",
            "('layer4.0.bn1', BatchNorm2d(512, eps=1e-05, momentum=0.1, affine=True, track_running_stats=True))\n",
            "('layer4.0.relu', ReLU(inplace=True))\n",
            "('layer4.0.conv2', Conv2d(512, 512, kernel_size=(3, 3), stride=(1, 1), padding=(1, 1), bias=False))\n",
            "('layer4.0.bn2', BatchNorm2d(512, eps=1e-05, momentum=0.1, affine=True, track_running_stats=True))\n",
            "('layer4.0.downsample', Sequential(\n",
            "  (0): Conv2d(256, 512, kernel_size=(1, 1), stride=(2, 2), bias=False)\n",
            "  (1): BatchNorm2d(512, eps=1e-05, momentum=0.1, affine=True, track_running_stats=True)\n",
            "))\n",
            "('layer4.0.downsample.0', Conv2d(256, 512, kernel_size=(1, 1), stride=(2, 2), bias=False))\n",
            "('layer4.0.downsample.1', BatchNorm2d(512, eps=1e-05, momentum=0.1, affine=True, track_running_stats=True))\n",
            "('layer4.1', BasicBlock(\n",
            "  (conv1): Conv2d(512, 512, kernel_size=(3, 3), stride=(1, 1), padding=(1, 1), bias=False)\n",
            "  (bn1): BatchNorm2d(512, eps=1e-05, momentum=0.1, affine=True, track_running_stats=True)\n",
            "  (relu): ReLU(inplace=True)\n",
            "  (conv2): Conv2d(512, 512, kernel_size=(3, 3), stride=(1, 1), padding=(1, 1), bias=False)\n",
            "  (bn2): BatchNorm2d(512, eps=1e-05, momentum=0.1, affine=True, track_running_stats=True)\n",
            "))\n",
            "('layer4.1.conv1', Conv2d(512, 512, kernel_size=(3, 3), stride=(1, 1), padding=(1, 1), bias=False))\n",
            "('layer4.1.bn1', BatchNorm2d(512, eps=1e-05, momentum=0.1, affine=True, track_running_stats=True))\n",
            "('layer4.1.relu', ReLU(inplace=True))\n",
            "('layer4.1.conv2', Conv2d(512, 512, kernel_size=(3, 3), stride=(1, 1), padding=(1, 1), bias=False))\n",
            "('layer4.1.bn2', BatchNorm2d(512, eps=1e-05, momentum=0.1, affine=True, track_running_stats=True))\n",
            "('avgpool', AdaptiveAvgPool2d(output_size=(1, 1)))\n",
            "('fc', Linear(in_features=512, out_features=1000, bias=True))\n"
          ]
        }
      ],
      "source": [
        "\n",
        "# 사전 학습된 ResNet-18 모델 불러오기 (ImageNet 가중치 사용)\n",
        "model = torchvision.models.resnet18(weights=torchvision.models.ResNet18_Weights.IMAGENET1K_V1)\n",
        "# 모델 내부 모듈들의 이름 확인\n",
        "for n in model.named_modules():\n",
        "  print(n)\n",
        "\n",
        "# 문제 5. 모델 수정\n",
        "# [TODO] 모델의 최종 출력 레이어(fc)를 Flowers102의 클래스 수(102)에 맞게 교체하세요.\n",
        "# 힌트: model.fc.in_features를 사용하여 입력 피쳐 수를 가져오고, nn.Linear로 새로운 레이어를 만듭니다.\n",
        "num_classes = 102\n",
        "model.fc = nn.Linear(model.fc.in_features, num_classes)\n",
        "\n",
        "# 문제 6. 모델 파라미터 동결\n",
        "# [TODO] `fc` 레이어와 `layer4`를 제외한 모든 파라미터를 동결시키세요.\n",
        "# 힌트: model.named_parameters()로 루프를 돌며, 파라미터 이름(name)에 'fc' 또는 'layer4'가 포함되지 않으면\n",
        "#       param.requires_grad를 False로 설정합니다.\n",
        "for name, param in model.named_parameters():\n",
        "    if \"fc\" not in name:  # fc 층이 아닌 경우\n",
        "        param.requires_grad = False\n",
        "    if \"layer4\" in name: # layer4 층인 경우\n",
        "        param.requires_grad = True\n",
        "\n",
        "model_before_train_dict = copy.deepcopy(model.state_dict())\n",
        "# 장치를 GPU로 이동\n",
        "model = model.to(device)"
      ]
    },
    {
      "cell_type": "code",
      "execution_count": 28,
      "metadata": {
        "colab": {
          "base_uri": "https://localhost:8080/"
        },
        "id": "YPk8PecDOTgi",
        "outputId": "911b5df6-21f8-43b1-a80a-7b746d40d2d3"
      },
      "outputs": [
        {
          "output_type": "stream",
          "name": "stdout",
          "text": [
            "모델의 Gradient가 알맞게 Freeze 되었습니다.\n"
          ]
        }
      ],
      "source": [
        "# Assertion 2. 모델의 Gradient는 알맞게 기록되었는가?\n",
        "for n, p in model.named_parameters():\n",
        "    if \"fc\" in n:\n",
        "        assert p.requires_grad == True\n",
        "    elif \"layer4\" in n:\n",
        "        assert p.requires_grad == True\n",
        "    else:\n",
        "        assert p.requires_grad == False\n",
        "\n",
        "print(\"모델의 Gradient가 알맞게 Freeze 되었습니다.\")"
      ]
    },
    {
      "cell_type": "markdown",
      "metadata": {
        "id": "LDjUA16eE9_F"
      },
      "source": [
        "앞선 실습과 다르게,  이번에 진행하는 것은 Linear Layer만 최적화하지 않습니다. 최종 linear layer 이외 마지막 4번째 Block 또한 학습시켜, 조금 더 목표하는 데이터셋에 맞도록 변화시키며, 동시에 원본의 지식을 얼마나 잃는가 확인합니다."
      ]
    },
    {
      "cell_type": "markdown",
      "metadata": {
        "id": "RzIXemlCFae0"
      },
      "source": [
        "#### 모델 학습을 위해 손실함수, 옵티마이저, 학습률, 에포크 수 등을 설정합니다.\n",
        "1. 손실 함수 (criterion) 로는 다중 클래스 분류를 위한 크로스 엔트로피 오차(nn.CrossEntropyLoss)를 사용합니다.\n",
        "2. 옵티마이저 (optimizer) 로는 분류층 파라미터만 업데이트하도록 SGD(Stochastic Gradient Descent)를 사용합니다.\n",
        "3. 학습률(lr)은 예시로 0.01로 설정합니다.\n",
        "4. 에포크 수 (epochs) 는 5로 설정합니다."
      ]
    },
    {
      "cell_type": "code",
      "execution_count": 29,
      "metadata": {
        "id": "aIYVjmoKFqeA-problem",
        "colab": {
          "base_uri": "https://localhost:8080/"
        },
        "outputId": "a5b42082-cc14-4aaf-d215-d869590d1a1a"
      },
      "outputs": [
        {
          "output_type": "stream",
          "name": "stderr",
          "text": [
            "  0%|          | 0/10 [00:00<?, ?it/s]\n",
            "  0%|          | 0/16 [00:00<?, ?it/s]\u001b[A\n",
            "  6%|▋         | 1/16 [00:01<00:23,  1.56s/it]\u001b[A\n",
            " 12%|█▎        | 2/16 [00:02<00:12,  1.11it/s]\u001b[A\n",
            " 19%|█▉        | 3/16 [00:02<00:08,  1.47it/s]\u001b[A\n",
            " 25%|██▌       | 4/16 [00:02<00:06,  1.73it/s]\u001b[A\n",
            " 31%|███▏      | 5/16 [00:03<00:05,  1.94it/s]\u001b[A\n",
            " 38%|███▊      | 6/16 [00:03<00:04,  2.08it/s]\u001b[A\n",
            " 44%|████▍     | 7/16 [00:04<00:04,  2.17it/s]\u001b[A\n",
            " 50%|█████     | 8/16 [00:04<00:03,  2.26it/s]\u001b[A\n",
            " 56%|█████▋    | 9/16 [00:04<00:03,  2.28it/s]\u001b[A\n",
            " 62%|██████▎   | 10/16 [00:05<00:02,  2.32it/s]\u001b[A\n",
            " 69%|██████▉   | 11/16 [00:05<00:02,  2.34it/s]\u001b[A\n",
            " 75%|███████▌  | 12/16 [00:06<00:01,  2.32it/s]\u001b[A\n",
            " 81%|████████▏ | 13/16 [00:06<00:01,  2.34it/s]\u001b[A\n",
            " 88%|████████▊ | 14/16 [00:07<00:00,  2.36it/s]\u001b[A\n",
            " 94%|█████████▍| 15/16 [00:07<00:00,  2.38it/s]\u001b[A\n",
            "100%|██████████| 16/16 [00:07<00:00,  2.43it/s]\u001b[A\n",
            " 10%|█         | 1/10 [00:07<01:10,  7.83s/it]"
          ]
        },
        {
          "output_type": "stream",
          "name": "stdout",
          "text": [
            "[Epoch 1/10] 평균 훈련 손실: 4.7700\n"
          ]
        },
        {
          "output_type": "stream",
          "name": "stderr",
          "text": [
            "\n",
            "  0%|          | 0/16 [00:00<?, ?it/s]\u001b[A\n",
            "  6%|▋         | 1/16 [00:00<00:06,  2.44it/s]\u001b[A\n",
            " 12%|█▎        | 2/16 [00:00<00:05,  2.36it/s]\u001b[A\n",
            " 19%|█▉        | 3/16 [00:01<00:06,  1.99it/s]\u001b[A\n",
            " 25%|██▌       | 4/16 [00:02<00:06,  1.87it/s]\u001b[A\n",
            " 31%|███▏      | 5/16 [00:02<00:06,  1.80it/s]\u001b[A\n",
            " 38%|███▊      | 6/16 [00:03<00:05,  1.84it/s]\u001b[A\n",
            " 44%|████▍     | 7/16 [00:03<00:04,  1.99it/s]\u001b[A\n",
            " 50%|█████     | 8/16 [00:03<00:03,  2.09it/s]\u001b[A\n",
            " 56%|█████▋    | 9/16 [00:04<00:03,  2.17it/s]\u001b[A\n",
            " 62%|██████▎   | 10/16 [00:04<00:02,  2.24it/s]\u001b[A\n",
            " 69%|██████▉   | 11/16 [00:05<00:02,  2.28it/s]\u001b[A\n",
            " 75%|███████▌  | 12/16 [00:05<00:01,  2.28it/s]\u001b[A\n",
            " 81%|████████▏ | 13/16 [00:06<00:01,  2.30it/s]\u001b[A\n",
            " 88%|████████▊ | 14/16 [00:06<00:00,  2.31it/s]\u001b[A\n",
            " 94%|█████████▍| 15/16 [00:06<00:00,  2.31it/s]\u001b[A\n",
            "100%|██████████| 16/16 [00:07<00:00,  2.36it/s]\u001b[A\n",
            " 20%|██        | 2/10 [00:15<01:00,  7.57s/it]"
          ]
        },
        {
          "output_type": "stream",
          "name": "stdout",
          "text": [
            "[Epoch 2/10] 평균 훈련 손실: 4.4503\n"
          ]
        },
        {
          "output_type": "stream",
          "name": "stderr",
          "text": [
            "\n",
            "  0%|          | 0/16 [00:00<?, ?it/s]\u001b[A\n",
            "  6%|▋         | 1/16 [00:00<00:06,  2.41it/s]\u001b[A\n",
            " 12%|█▎        | 2/16 [00:00<00:05,  2.42it/s]\u001b[A\n",
            " 19%|█▉        | 3/16 [00:01<00:05,  2.37it/s]\u001b[A\n",
            " 25%|██▌       | 4/16 [00:01<00:05,  2.40it/s]\u001b[A\n",
            " 31%|███▏      | 5/16 [00:02<00:05,  2.10it/s]\u001b[A\n",
            " 38%|███▊      | 6/16 [00:02<00:05,  1.88it/s]\u001b[A\n",
            " 44%|████▍     | 7/16 [00:03<00:04,  2.01it/s]\u001b[A\n",
            " 50%|█████     | 8/16 [00:03<00:03,  2.10it/s]\u001b[A\n",
            " 56%|█████▋    | 9/16 [00:04<00:03,  2.18it/s]\u001b[A\n",
            " 62%|██████▎   | 10/16 [00:04<00:02,  2.22it/s]\u001b[A\n",
            " 69%|██████▉   | 11/16 [00:05<00:02,  2.26it/s]\u001b[A\n",
            " 75%|███████▌  | 12/16 [00:05<00:01,  2.25it/s]\u001b[A\n",
            " 81%|████████▏ | 13/16 [00:06<00:01,  2.10it/s]\u001b[A\n",
            " 88%|████████▊ | 14/16 [00:06<00:01,  1.97it/s]\u001b[A\n",
            " 94%|█████████▍| 15/16 [00:07<00:00,  1.87it/s]\u001b[A\n",
            "100%|██████████| 16/16 [00:07<00:00,  1.85it/s]\u001b[A\n",
            " 30%|███       | 3/10 [00:22<00:53,  7.66s/it]"
          ]
        },
        {
          "output_type": "stream",
          "name": "stdout",
          "text": [
            "[Epoch 3/10] 평균 훈련 손실: 4.1181\n"
          ]
        },
        {
          "output_type": "stream",
          "name": "stderr",
          "text": [
            "\n",
            "  0%|          | 0/16 [00:00<?, ?it/s]\u001b[A\n",
            "  6%|▋         | 1/16 [00:00<00:06,  2.37it/s]\u001b[A\n",
            " 12%|█▎        | 2/16 [00:00<00:06,  2.32it/s]\u001b[A\n",
            " 19%|█▉        | 3/16 [00:01<00:05,  2.36it/s]\u001b[A\n",
            " 25%|██▌       | 4/16 [00:01<00:05,  2.26it/s]\u001b[A\n",
            " 31%|███▏      | 5/16 [00:02<00:06,  1.81it/s]\u001b[A\n",
            " 38%|███▊      | 6/16 [00:03<00:05,  1.72it/s]\u001b[A\n",
            " 44%|████▍     | 7/16 [00:03<00:05,  1.67it/s]\u001b[A\n",
            " 50%|█████     | 8/16 [00:04<00:06,  1.28it/s]\u001b[A\n",
            " 56%|█████▋    | 9/16 [00:06<00:07,  1.01s/it]\u001b[A\n",
            " 62%|██████▎   | 10/16 [00:07<00:06,  1.14s/it]\u001b[A\n",
            " 69%|██████▉   | 11/16 [00:08<00:05,  1.02s/it]\u001b[A\n",
            " 75%|███████▌  | 12/16 [00:09<00:03,  1.09it/s]\u001b[A\n",
            " 81%|████████▏ | 13/16 [00:10<00:02,  1.12it/s]\u001b[A\n",
            " 88%|████████▊ | 14/16 [00:11<00:02,  1.09s/it]\u001b[A\n",
            " 94%|█████████▍| 15/16 [00:12<00:00,  1.00it/s]\u001b[A\n",
            "100%|██████████| 16/16 [00:13<00:00,  1.12it/s]\u001b[A\n",
            " 40%|████      | 4/10 [00:36<00:58,  9.82s/it]"
          ]
        },
        {
          "output_type": "stream",
          "name": "stdout",
          "text": [
            "[Epoch 4/10] 평균 훈련 손실: 3.7827\n"
          ]
        },
        {
          "output_type": "stream",
          "name": "stderr",
          "text": [
            "\n",
            "  0%|          | 0/16 [00:00<?, ?it/s]\u001b[A\n",
            "  6%|▋         | 1/16 [00:00<00:09,  1.54it/s]\u001b[A\n",
            " 12%|█▎        | 2/16 [00:01<00:09,  1.41it/s]\u001b[A\n",
            " 19%|█▉        | 3/16 [00:02<00:08,  1.49it/s]\u001b[A\n",
            " 25%|██▌       | 4/16 [00:02<00:07,  1.55it/s]\u001b[A\n",
            " 31%|███▏      | 5/16 [00:03<00:07,  1.48it/s]\u001b[A\n",
            " 38%|███▊      | 6/16 [00:03<00:06,  1.54it/s]\u001b[A\n",
            " 44%|████▍     | 7/16 [00:04<00:05,  1.57it/s]\u001b[A\n",
            " 50%|█████     | 8/16 [00:05<00:04,  1.60it/s]\u001b[A\n",
            " 56%|█████▋    | 9/16 [00:05<00:04,  1.61it/s]\u001b[A\n",
            " 62%|██████▎   | 10/16 [00:06<00:03,  1.65it/s]\u001b[A\n",
            " 69%|██████▉   | 11/16 [00:07<00:03,  1.60it/s]\u001b[A\n",
            " 75%|███████▌  | 12/16 [00:07<00:02,  1.68it/s]\u001b[A\n",
            " 81%|████████▏ | 13/16 [00:07<00:01,  1.84it/s]\u001b[A\n",
            " 88%|████████▊ | 14/16 [00:08<00:01,  1.99it/s]\u001b[A\n",
            " 94%|█████████▍| 15/16 [00:08<00:00,  2.09it/s]\u001b[A\n",
            "100%|██████████| 16/16 [00:09<00:00,  2.21it/s]\u001b[A\n",
            " 50%|█████     | 5/10 [00:45<00:48,  9.60s/it]"
          ]
        },
        {
          "output_type": "stream",
          "name": "stdout",
          "text": [
            "[Epoch 5/10] 평균 훈련 손실: 3.4703\n"
          ]
        },
        {
          "output_type": "stream",
          "name": "stderr",
          "text": [
            "\n",
            "  0%|          | 0/16 [00:00<?, ?it/s]\u001b[A\n",
            "  6%|▋         | 1/16 [00:00<00:06,  2.30it/s]\u001b[A\n",
            " 12%|█▎        | 2/16 [00:01<00:07,  1.90it/s]\u001b[A\n",
            " 19%|█▉        | 3/16 [00:01<00:07,  1.78it/s]\u001b[A\n",
            " 25%|██▌       | 4/16 [00:02<00:06,  1.75it/s]\u001b[A\n",
            " 31%|███▏      | 5/16 [00:02<00:06,  1.78it/s]\u001b[A\n",
            " 38%|███▊      | 6/16 [00:03<00:05,  1.95it/s]\u001b[A\n",
            " 44%|████▍     | 7/16 [00:03<00:04,  2.05it/s]\u001b[A\n",
            " 50%|█████     | 8/16 [00:04<00:03,  2.15it/s]\u001b[A\n",
            " 56%|█████▋    | 9/16 [00:04<00:03,  2.21it/s]\u001b[A\n",
            " 62%|██████▎   | 10/16 [00:04<00:02,  2.23it/s]\u001b[A\n",
            " 69%|██████▉   | 11/16 [00:05<00:02,  2.27it/s]\u001b[A\n",
            " 75%|███████▌  | 12/16 [00:05<00:01,  2.28it/s]\u001b[A\n",
            " 81%|████████▏ | 13/16 [00:06<00:01,  2.32it/s]\u001b[A\n",
            " 88%|████████▊ | 14/16 [00:06<00:00,  2.32it/s]\u001b[A\n",
            " 94%|█████████▍| 15/16 [00:07<00:00,  2.32it/s]\u001b[A\n",
            "100%|██████████| 16/16 [00:07<00:00,  2.37it/s]\u001b[A\n",
            " 60%|██████    | 6/10 [00:52<00:35,  8.87s/it]"
          ]
        },
        {
          "output_type": "stream",
          "name": "stdout",
          "text": [
            "[Epoch 6/10] 평균 훈련 손실: 3.2607\n"
          ]
        },
        {
          "output_type": "stream",
          "name": "stderr",
          "text": [
            "\n",
            "  0%|          | 0/16 [00:00<?, ?it/s]\u001b[A\n",
            "  6%|▋         | 1/16 [00:00<00:06,  2.33it/s]\u001b[A\n",
            " 12%|█▎        | 2/16 [00:00<00:05,  2.35it/s]\u001b[A\n",
            " 19%|█▉        | 3/16 [00:01<00:06,  1.88it/s]\u001b[A\n",
            " 25%|██▌       | 4/16 [00:02<00:06,  1.82it/s]\u001b[A\n",
            " 31%|███▏      | 5/16 [00:02<00:06,  1.59it/s]\u001b[A\n",
            " 38%|███▊      | 6/16 [00:03<00:06,  1.61it/s]\u001b[A\n",
            " 44%|████▍     | 7/16 [00:04<00:05,  1.63it/s]\u001b[A\n",
            " 50%|█████     | 8/16 [00:04<00:04,  1.63it/s]\u001b[A\n",
            " 56%|█████▋    | 9/16 [00:05<00:04,  1.59it/s]\u001b[A\n",
            " 62%|██████▎   | 10/16 [00:06<00:04,  1.36it/s]\u001b[A\n",
            " 69%|██████▉   | 11/16 [00:07<00:03,  1.25it/s]\u001b[A\n",
            " 75%|███████▌  | 12/16 [00:07<00:03,  1.29it/s]\u001b[A\n",
            " 81%|████████▏ | 13/16 [00:08<00:02,  1.39it/s]\u001b[A\n",
            " 88%|████████▊ | 14/16 [00:09<00:01,  1.47it/s]\u001b[A\n",
            " 94%|█████████▍| 15/16 [00:09<00:00,  1.52it/s]\u001b[A\n",
            "100%|██████████| 16/16 [00:10<00:00,  1.69it/s]\u001b[A\n",
            " 70%|███████   | 7/10 [01:02<00:27,  9.31s/it]"
          ]
        },
        {
          "output_type": "stream",
          "name": "stdout",
          "text": [
            "[Epoch 7/10] 평균 훈련 손실: 3.2255\n"
          ]
        },
        {
          "output_type": "stream",
          "name": "stderr",
          "text": [
            "\n",
            "  0%|          | 0/16 [00:00<?, ?it/s]\u001b[A\n",
            "  6%|▋         | 1/16 [00:00<00:06,  2.41it/s]\u001b[A\n",
            " 12%|█▎        | 2/16 [00:00<00:05,  2.38it/s]\u001b[A\n",
            " 19%|█▉        | 3/16 [00:01<00:05,  2.41it/s]\u001b[A\n",
            " 25%|██▌       | 4/16 [00:01<00:04,  2.41it/s]\u001b[A\n",
            " 31%|███▏      | 5/16 [00:02<00:04,  2.42it/s]\u001b[A\n",
            " 38%|███▊      | 6/16 [00:02<00:04,  2.42it/s]\u001b[A\n",
            " 44%|████▍     | 7/16 [00:02<00:03,  2.41it/s]\u001b[A\n",
            " 50%|█████     | 8/16 [00:03<00:03,  2.40it/s]\u001b[A\n",
            " 56%|█████▋    | 9/16 [00:03<00:02,  2.38it/s]\u001b[A\n",
            " 62%|██████▎   | 10/16 [00:04<00:02,  2.40it/s]\u001b[A\n",
            " 69%|██████▉   | 11/16 [00:04<00:02,  2.14it/s]\u001b[A\n",
            " 75%|███████▌  | 12/16 [00:05<00:02,  1.79it/s]\u001b[A\n",
            " 81%|████████▏ | 13/16 [00:06<00:01,  1.73it/s]\u001b[A\n",
            " 88%|████████▊ | 14/16 [00:06<00:01,  1.59it/s]\u001b[A\n",
            " 94%|█████████▍| 15/16 [00:07<00:00,  1.61it/s]\u001b[A\n",
            "100%|██████████| 16/16 [00:08<00:00,  1.57it/s]\u001b[A\n",
            " 80%|████████  | 8/10 [01:11<00:17,  8.95s/it]"
          ]
        },
        {
          "output_type": "stream",
          "name": "stdout",
          "text": [
            "[Epoch 8/10] 평균 훈련 손실: 3.2039\n"
          ]
        },
        {
          "output_type": "stream",
          "name": "stderr",
          "text": [
            "\n",
            "  0%|          | 0/16 [00:00<?, ?it/s]\u001b[A\n",
            "  6%|▋         | 1/16 [00:01<00:15,  1.02s/it]\u001b[A\n",
            " 12%|█▎        | 2/16 [00:02<00:13,  1.00it/s]\u001b[A\n",
            " 19%|█▉        | 3/16 [00:02<00:11,  1.12it/s]\u001b[A\n",
            " 25%|██▌       | 4/16 [00:03<00:09,  1.27it/s]\u001b[A\n",
            " 31%|███▏      | 5/16 [00:03<00:07,  1.39it/s]\u001b[A\n",
            " 38%|███▊      | 6/16 [00:04<00:06,  1.62it/s]\u001b[A\n",
            " 44%|████▍     | 7/16 [00:04<00:05,  1.78it/s]\u001b[A\n",
            " 50%|█████     | 8/16 [00:05<00:04,  1.92it/s]\u001b[A\n",
            " 56%|█████▋    | 9/16 [00:05<00:03,  2.05it/s]\u001b[A\n",
            " 62%|██████▎   | 10/16 [00:06<00:02,  2.13it/s]\u001b[A\n",
            " 69%|██████▉   | 11/16 [00:06<00:02,  2.18it/s]\u001b[A\n",
            " 75%|███████▌  | 12/16 [00:06<00:01,  2.24it/s]\u001b[A\n",
            " 81%|████████▏ | 13/16 [00:07<00:01,  2.18it/s]\u001b[A\n",
            " 88%|████████▊ | 14/16 [00:08<00:01,  1.77it/s]\u001b[A\n",
            " 94%|█████████▍| 15/16 [00:08<00:00,  1.72it/s]\u001b[A\n",
            "100%|██████████| 16/16 [00:09<00:00,  1.73it/s]\u001b[A\n",
            " 90%|█████████ | 9/10 [01:20<00:09,  9.12s/it]"
          ]
        },
        {
          "output_type": "stream",
          "name": "stdout",
          "text": [
            "[Epoch 9/10] 평균 훈련 손실: 3.1713\n"
          ]
        },
        {
          "output_type": "stream",
          "name": "stderr",
          "text": [
            "\n",
            "  0%|          | 0/16 [00:00<?, ?it/s]\u001b[A\n",
            "  6%|▋         | 1/16 [00:00<00:08,  1.71it/s]\u001b[A\n",
            " 12%|█▎        | 2/16 [00:01<00:09,  1.42it/s]\u001b[A\n",
            " 19%|█▉        | 3/16 [00:02<00:08,  1.48it/s]\u001b[A\n",
            " 25%|██▌       | 4/16 [00:02<00:07,  1.54it/s]\u001b[A\n",
            " 31%|███▏      | 5/16 [00:03<00:07,  1.50it/s]\u001b[A\n",
            " 38%|███▊      | 6/16 [00:04<00:07,  1.30it/s]\u001b[A\n",
            " 44%|████▍     | 7/16 [00:05<00:07,  1.20it/s]\u001b[A\n",
            " 50%|█████     | 8/16 [00:05<00:06,  1.25it/s]\u001b[A\n",
            " 56%|█████▋    | 9/16 [00:06<00:04,  1.46it/s]\u001b[A\n",
            " 62%|██████▎   | 10/16 [00:06<00:03,  1.65it/s]\u001b[A\n",
            " 69%|██████▉   | 11/16 [00:07<00:02,  1.80it/s]\u001b[A\n",
            " 75%|███████▌  | 12/16 [00:07<00:02,  1.94it/s]\u001b[A\n",
            " 81%|████████▏ | 13/16 [00:08<00:01,  2.07it/s]\u001b[A\n",
            " 88%|████████▊ | 14/16 [00:08<00:00,  2.15it/s]\u001b[A\n",
            " 94%|█████████▍| 15/16 [00:08<00:00,  2.22it/s]\u001b[A\n",
            "100%|██████████| 16/16 [00:09<00:00,  2.28it/s]\u001b[A\n",
            "100%|██████████| 10/10 [01:30<00:00,  9.01s/it]"
          ]
        },
        {
          "output_type": "stream",
          "name": "stdout",
          "text": [
            "[Epoch 10/10] 평균 훈련 손실: 3.1404\n"
          ]
        },
        {
          "output_type": "stream",
          "name": "stderr",
          "text": [
            "\n"
          ]
        }
      ],
      "source": [
        "from tqdm import tqdm\n",
        "\n",
        "# 손실 함수 정의\n",
        "criterion = nn.CrossEntropyLoss()\n",
        "\n",
        "# 문제 7. Optimizer와 Scheduler 정의\n",
        "# [TODO] Optimizer와 Scheduler를 정의하세요.\n",
        "# 힌트 1 (Optimizer): optim.SGD를 사용하고, 학습률(lr)=0.001, momentum=0.9로 설정합니다.\n",
        "# 힌트 2 (Scheduler): optim.lr_scheduler.StepLR을 사용하고, step_size=5, gamma=0.1로 설정합니다.\n",
        "optimizer = optim.SGD(model.parameters(), lr=0.001, momentum=0.9)\n",
        "scheduler = optim.lr_scheduler.StepLR(optimizer, step_size=5, gamma=0.1)\n",
        "\n",
        "# 에포크 수 설정\n",
        "num_epochs = 10\n",
        "naive_losses = []\n",
        "for epoch in tqdm(range(num_epochs)):\n",
        "    model.train()  # 학습 모드\n",
        "    running_loss = 0.0\n",
        "\n",
        "    # 문제 8. 학습 루프\n",
        "    # [TODO] 학습 루프의 핵심 로직을 완성하세요.\n",
        "    for inputs, labels in tqdm(trainloader,leave=False):\n",
        "        inputs, labels = inputs.to(device), labels.to(device)\n",
        "        # 1. 그래디언트 초기화\n",
        "        optimizer.zero_grad()\n",
        "        # 2. 모델 순전파\n",
        "        outputs = model(inputs)\n",
        "        # 3. 손실 계산\n",
        "        loss = criterion(outputs, labels)\n",
        "        # 4. 역전파\n",
        "        loss.backward()\n",
        "        # 5. 가중치 업데이트\n",
        "        optimizer.step()\n",
        "        # 6. 손실 기록\n",
        "        running_loss += loss.item()\n",
        "\n",
        "    avg_loss = running_loss / len(trainloader)\n",
        "    naive_losses.append(avg_loss)\n",
        "    scheduler.step()\n",
        "    print(f\"[Epoch {epoch+1}/{num_epochs}] 평균 훈련 손실: {avg_loss:.4f}\")"
      ]
    },
    {
      "cell_type": "code",
      "execution_count": 30,
      "metadata": {
        "id": "Vi-fyEitLQ1z",
        "colab": {
          "base_uri": "https://localhost:8080/"
        },
        "outputId": "41145d79-43d1-4566-bbc7-378fc60285b9"
      },
      "outputs": [
        {
          "output_type": "stream",
          "name": "stderr",
          "text": [
            "100%|██████████| 97/97 [00:57<00:00,  1.69it/s]"
          ]
        },
        {
          "output_type": "stream",
          "name": "stdout",
          "text": [
            "테스트 데이터 정확도: 40.10%\n"
          ]
        },
        {
          "output_type": "stream",
          "name": "stderr",
          "text": [
            "\n"
          ]
        }
      ],
      "source": [
        "model.eval()  # 평가 모드로 설정 (드롭아웃/배치정규화 비활성화 등)\n",
        "correct = 0\n",
        "total = 0\n",
        "with torch.no_grad():  # 평가 시에는 no_grad()로 메모리 절약\n",
        "    for inputs, labels in tqdm(testloader):\n",
        "        inputs, labels = inputs.to(device), labels.to(device)\n",
        "        outputs = model(inputs)\n",
        "\n",
        "        # 가장 높은 값의 인덱스를 예측으로 간주\n",
        "        _, predicted = torch.max(outputs.data, 1)\n",
        "\n",
        "        total += labels.size(0)\n",
        "        correct += (predicted == labels).sum().item()\n",
        "\n",
        "accuracy = 100 * correct / total\n",
        "print(f\"테스트 데이터 정확도: {accuracy:.2f}%\")"
      ]
    },
    {
      "cell_type": "markdown",
      "metadata": {
        "id": "5zNzY7d4XHcR"
      },
      "source": [
        "실습에선 Augmentation을 이용한 성능 향상을 배워보았습니다. 과제에서는, 추가적인 LR Scheduler와 Optimizer를 사용해보고, 차이점을 확인합니다."
      ]
    },
    {
      "cell_type": "code",
      "execution_count": 31,
      "metadata": {
        "id": "d3dErmiIWakw",
        "colab": {
          "base_uri": "https://localhost:8080/"
        },
        "outputId": "f3b640d4-1755-4934-aabf-99f1e6ecb737"
      },
      "outputs": [
        {
          "output_type": "execute_result",
          "data": {
            "text/plain": [
              "<All keys matched successfully>"
            ]
          },
          "metadata": {},
          "execution_count": 31
        }
      ],
      "source": [
        "# 모델의 상태를 학습 전으로 되돌립니다.\n",
        "model.load_state_dict(model_before_train_dict)"
      ]
    },
    {
      "cell_type": "markdown",
      "metadata": {
        "id": "URjmjF8Gb5DI"
      },
      "source": [
        "실습과 이전 코드에서 사용하던 Optimizer는 Momentum 옵티마이저로, 쉽게 정리하여 이전 진행방향으로의 이동에 대한 성분을 이번 진행방향에 조금 더 반영해 진행하던 방향으로 조금 더 빠르게 진행하도록 작업한 옵티마이저였습니다. 이번에는 가벼운 딥러닝 태스크에서 통상적으로 사용되고, Local Minima의 탈출에 용이한 것으로 유명한 Adam Optimizer를 사용해 보겠습니다."
      ]
    },
    {
      "cell_type": "markdown",
      "metadata": {
        "id": "a6RvlZn9cjYd"
      },
      "source": [
        "**Adam Optimizer 수식 및 설명**\n",
        "\n",
        "Adam(Adaptive Moment Estimation)은 확률적 경사하강법(SGD)의 변형으로, 1차 모멘트(평균)와 2차 모멘트(분산 추정치)를 모두 활용하여 학습률을 적응적으로 조정하는 최적화 알고리즘입니다.\n",
        "\n",
        "초기화:  \n",
        "m₀ = 0,  v₀ = 0,  t = 0\n",
        "\n",
        "하이퍼파라미터:  \n",
        "α (학습률), β₁ (1차 모멘트 감쇠율), β₂ (2차 모멘트 감쇠율), ε (수치 안정성)\n",
        "\n",
        "1. **시점 업데이트**\n",
        "t ← t + 1\n",
        "\n",
        "2. **1차 모멘트 추정**\n",
        "mₜ = β₁·mₜ₋₁ + (1 − β₁)·gₜ\n",
        "\n",
        "3. **2차 모멘트 추정**\n",
        "vₜ = β₂·vₜ₋₁ + (1 − β₂)·gₜ²\n",
        "\n",
        "4. **편향 보정**\n",
        "m̂ₜ = mₜ / (1 − β₁ᵗ)  \n",
        "v̂ₜ = vₜ / (1 − β₂ᵗ)\n",
        "\n",
        "5. **파라미터 업데이트**\n",
        "θₜ = θₜ₋₁ − α · m̂ₜ / (√v̂ₜ + ε)\n",
        "\n",
        "---\n",
        "\n",
        "여기서,  \n",
        "- gₜ은 시점 t에서의 기울기입니다.  \n",
        "- mₜ은 기울기의 지수이동평균(1차 모멘트)입니다.  \n",
        "- vₜ은 기울기 제곱의 지수이동평균(2차 모멘트)입니다.  \n",
        "- m̂ₜ, v̂ₜ은 초기 편향을 보정한 모멘트 추정치입니다.  \n",
        "- β₁, β₂는 각각 1차, 2차 모멘트의 감쇠율이며, 일반적으로 β₁ = 0.9, β₂ = 0.999입니다.  \n",
        "- ε은 0으로 나누는 것을 방지하는 작은 상수이며, 예를 들어 10⁻⁸을 사용합니다.  \n",
        "\n",
        "\n",
        "#### **간단히 요약하여, 최근 기울기의 평균이 되는 방향(1차 모멘트)으로 최근 기울기들의 분산값이 반영된 속도로 움직이는 알고리즘입니다.**\n",
        "\n",
        "더 쉽게 말해, 평균적인 가던 방향으로 최근 기울기가 크게 변했다면 안정성을 위해 느리게, 그렇지 않다면 속도를 유지하는 알고리즘입니다.\n"
      ]
    },
    {
      "cell_type": "markdown",
      "metadata": {
        "id": "GCVUqYEBeP-3"
      },
      "source": [
        "**Learning Rate Scheduler**\n",
        "\n",
        "`ReduceLROnPlateau`는 모델의 성능 지표(예: 검증 손실, 검증 정확도)가 일정 기간 동안 향상되지 않을 경우 학습률을 자동으로 감소시키는 스케줄러입니다. 주로 학습이 정체 상태(plateau)에 도달했을 때, 더 세밀한 학습을 유도하기 위해 사용됩니다.\n",
        "\n",
        "---\n",
        "\n",
        "**작동 방식**\n",
        "1. 사용자가 지정한 모니터 지표를 추적합니다.  \n",
        "2. 해당 지표가 `patience`로 지정된 기간 동안 개선되지 않으면 학습률을 줄입니다.  \n",
        "3. 학습률 감소 비율은 `factor`로 지정하며,  \n",
        "   새 학습률 = 기존 학습률 × factor 로 계산됩니다.  \n",
        "4. 최소 학습률(`min_lr`) 이하로는 감소하지 않습니다.\n",
        "\n",
        "---\n",
        "\n",
        "**주요 파라미터**\n",
        "- **monitor** : 추적할 성능 지표 (예: \"val_loss\")  \n",
        "- **factor** : 학습률 감소 비율 (예: 0.1 → 10%로 줄임)  \n",
        "- **patience** : 성능 향상이 없더라도 기다릴 epoch 수  \n",
        "- **mode** : 'min' 또는 'max' (감소 방향에 따라 선택)  \n",
        "- **min_lr** : 학습률의 하한선  \n",
        "\n",
        "---\n",
        "\n",
        "**예시**\n",
        "- monitor = \"val_loss\", mode = \"min\"  \n",
        "- factor = 0.1, patience = 2\n",
        "- 검증 손실이 2 epoch 동안 감소하지 않으면 학습률을 10%로 줄입니다."
      ]
    },
    {
      "cell_type": "markdown",
      "metadata": {
        "id": "UDTuMwbJeyzA"
      },
      "source": [
        "**아래 코드에서 Adam은 $\\beta_1 = 0.9, \\beta_2 = 0.99, \\epsilon=10^{-8}$을 사용합니다**"
      ]
    },
    {
      "cell_type": "code",
      "execution_count": 35,
      "metadata": {
        "id": "h2vAjxQ_bwgb-problem"
      },
      "outputs": [],
      "source": [
        "# 문제 9. Optimizer와 Scheduler를 새로 정의\n",
        "# [TODO] Optimizer와 Scheduler를 새로 정의하세요.\n",
        "# 힌트 1 (Optimizer): optim.Adam을 사용하고, 학습률(lr)=0.001로 설정합니다.\n",
        "# 힌트 2 (Scheduler): optim.lr_scheduler.ReduceLROnPlateau를 사용하고, mode='min', factor=0.1, patience=2로 설정합니다.\n",
        "optimizer = optim.Adam(model.parameters(), lr=0.001, betas=(0.9, 0.999), eps=1e-08)\n",
        "scheduler = optim.lr_scheduler.ReduceLROnPlateau(optimizer, mode='min', factor=0.1, patience=2, min_lr=1e-5)\n"
      ]
    },
    {
      "cell_type": "markdown",
      "metadata": {
        "id": "zhCXXDqwfXID"
      },
      "source": [
        "Validation Loss를 기준으로 작동하는 알고리즘인 만큼, 위에서 생성해둔 Val_dataset을 사용해 Val loss에 따라 스케쥴러를 작동합니다. 스케쥴러의 Patience는 호출되는 때 카운트가 올라가므로, 적합한 지점에서 호출하며, 이 때 평균 Val_loss를 전달해줍니다."
      ]
    },
    {
      "cell_type": "code",
      "execution_count": 36,
      "metadata": {
        "id": "Fx8U3ouRfSQ6-problem",
        "colab": {
          "base_uri": "https://localhost:8080/"
        },
        "outputId": "7886224e-e42b-407e-8f67-739f94bf2594"
      },
      "outputs": [
        {
          "output_type": "stream",
          "name": "stderr",
          "text": [
            "  0%|          | 0/10 [00:00<?, ?it/s]\n",
            "  0%|          | 0/16 [00:00<?, ?it/s]\u001b[A\n",
            "  6%|▋         | 1/16 [00:01<00:17,  1.18s/it]\u001b[A\n",
            " 12%|█▎        | 2/16 [00:02<00:14,  1.00s/it]\u001b[A\n",
            " 19%|█▉        | 3/16 [00:02<00:10,  1.22it/s]\u001b[A\n",
            " 25%|██▌       | 4/16 [00:03<00:08,  1.37it/s]\u001b[A\n",
            " 31%|███▏      | 5/16 [00:03<00:07,  1.46it/s]\u001b[A\n",
            " 38%|███▊      | 6/16 [00:04<00:06,  1.53it/s]\u001b[A\n",
            " 44%|████▍     | 7/16 [00:04<00:05,  1.73it/s]\u001b[A\n",
            " 50%|█████     | 8/16 [00:05<00:04,  1.91it/s]\u001b[A\n",
            " 56%|█████▋    | 9/16 [00:05<00:03,  2.01it/s]\u001b[A\n",
            " 62%|██████▎   | 10/16 [00:06<00:02,  2.13it/s]\u001b[A\n",
            " 69%|██████▉   | 11/16 [00:06<00:02,  2.21it/s]\u001b[A\n",
            " 75%|███████▌  | 12/16 [00:06<00:01,  2.25it/s]\u001b[A\n",
            " 81%|████████▏ | 13/16 [00:07<00:01,  2.28it/s]\u001b[A\n",
            " 88%|████████▊ | 14/16 [00:07<00:00,  2.29it/s]\u001b[A\n",
            " 94%|█████████▍| 15/16 [00:08<00:00,  2.31it/s]\u001b[A\n",
            "100%|██████████| 16/16 [00:08<00:00,  2.38it/s]\u001b[A\n",
            " 10%|█         | 1/10 [00:15<02:20, 15.56s/it]"
          ]
        },
        {
          "output_type": "stream",
          "name": "stdout",
          "text": [
            "[Epoch 1/10] 평균 훈련 손실: 3.1037\n"
          ]
        },
        {
          "output_type": "stream",
          "name": "stderr",
          "text": [
            "\n",
            "  0%|          | 0/16 [00:00<?, ?it/s]\u001b[A\n",
            "  6%|▋         | 1/16 [00:00<00:06,  2.38it/s]\u001b[A\n",
            " 12%|█▎        | 2/16 [00:00<00:05,  2.42it/s]\u001b[A\n",
            " 19%|█▉        | 3/16 [00:01<00:05,  2.43it/s]\u001b[A\n",
            " 25%|██▌       | 4/16 [00:01<00:04,  2.41it/s]\u001b[A\n",
            " 31%|███▏      | 5/16 [00:02<00:04,  2.45it/s]\u001b[A\n",
            " 38%|███▊      | 6/16 [00:02<00:04,  2.45it/s]\u001b[A\n",
            " 44%|████▍     | 7/16 [00:02<00:03,  2.42it/s]\u001b[A\n",
            " 50%|█████     | 8/16 [00:03<00:03,  2.39it/s]\u001b[A\n",
            " 56%|█████▋    | 9/16 [00:03<00:02,  2.35it/s]\u001b[A\n",
            " 62%|██████▎   | 10/16 [00:04<00:02,  2.36it/s]\u001b[A\n",
            " 69%|██████▉   | 11/16 [00:04<00:02,  2.38it/s]\u001b[A\n",
            " 75%|███████▌  | 12/16 [00:05<00:01,  2.39it/s]\u001b[A\n",
            " 81%|████████▏ | 13/16 [00:05<00:01,  2.40it/s]\u001b[A\n",
            " 88%|████████▊ | 14/16 [00:05<00:00,  2.38it/s]\u001b[A\n",
            " 94%|█████████▍| 15/16 [00:06<00:00,  2.40it/s]\u001b[A\n",
            "100%|██████████| 16/16 [00:06<00:00,  2.43it/s]\u001b[A\n",
            " 20%|██        | 2/10 [00:29<01:56, 14.55s/it]"
          ]
        },
        {
          "output_type": "stream",
          "name": "stdout",
          "text": [
            "[Epoch 2/10] 평균 훈련 손실: 0.5757\n"
          ]
        },
        {
          "output_type": "stream",
          "name": "stderr",
          "text": [
            "\n",
            "  0%|          | 0/16 [00:00<?, ?it/s]\u001b[A\n",
            "  6%|▋         | 1/16 [00:00<00:13,  1.09it/s]\u001b[A\n",
            " 12%|█▎        | 2/16 [00:03<00:23,  1.70s/it]\u001b[A\n",
            " 19%|█▉        | 3/16 [00:04<00:17,  1.37s/it]\u001b[A\n",
            " 25%|██▌       | 4/16 [00:04<00:13,  1.14s/it]\u001b[A\n",
            " 31%|███▏      | 5/16 [00:06<00:12,  1.14s/it]\u001b[A\n",
            " 38%|███▊      | 6/16 [00:06<00:09,  1.03it/s]\u001b[A\n",
            " 44%|████▍     | 7/16 [00:07<00:07,  1.15it/s]\u001b[A\n",
            " 50%|█████     | 8/16 [00:08<00:07,  1.08it/s]\u001b[A\n",
            " 56%|█████▋    | 9/16 [00:09<00:06,  1.12it/s]\u001b[A\n",
            " 62%|██████▎   | 10/16 [00:10<00:05,  1.17it/s]\u001b[A\n",
            " 69%|██████▉   | 11/16 [00:10<00:03,  1.30it/s]\u001b[A\n",
            " 75%|███████▌  | 12/16 [00:11<00:02,  1.39it/s]\u001b[A\n",
            " 81%|████████▏ | 13/16 [00:11<00:02,  1.46it/s]\u001b[A\n",
            " 88%|████████▊ | 14/16 [00:12<00:01,  1.53it/s]\u001b[A\n",
            " 94%|█████████▍| 15/16 [00:12<00:00,  1.57it/s]\u001b[A\n",
            "100%|██████████| 16/16 [00:13<00:00,  1.74it/s]\u001b[A\n",
            " 30%|███       | 3/10 [00:49<02:00, 17.20s/it]"
          ]
        },
        {
          "output_type": "stream",
          "name": "stdout",
          "text": [
            "[Epoch 3/10] 평균 훈련 손실: 0.0897\n"
          ]
        },
        {
          "output_type": "stream",
          "name": "stderr",
          "text": [
            "\n",
            "  0%|          | 0/16 [00:00<?, ?it/s]\u001b[A\n",
            "  6%|▋         | 1/16 [00:01<00:15,  1.07s/it]\u001b[A\n",
            " 12%|█▎        | 2/16 [00:02<00:15,  1.11s/it]\u001b[A\n",
            " 19%|█▉        | 3/16 [00:02<00:11,  1.09it/s]\u001b[A\n",
            " 25%|██▌       | 4/16 [00:03<00:10,  1.15it/s]\u001b[A\n",
            " 31%|███▏      | 5/16 [00:05<00:12,  1.12s/it]\u001b[A\n",
            " 38%|███▊      | 6/16 [00:06<00:09,  1.01it/s]\u001b[A\n",
            " 44%|████▍     | 7/16 [00:06<00:08,  1.08it/s]\u001b[A\n",
            " 50%|█████     | 8/16 [00:07<00:07,  1.11it/s]\u001b[A\n",
            " 56%|█████▋    | 9/16 [00:08<00:06,  1.10it/s]\u001b[A\n",
            " 62%|██████▎   | 10/16 [00:09<00:05,  1.17it/s]\u001b[A\n",
            " 69%|██████▉   | 11/16 [00:10<00:04,  1.22it/s]\u001b[A\n",
            " 75%|███████▌  | 12/16 [00:11<00:03,  1.11it/s]\u001b[A\n",
            " 81%|████████▏ | 13/16 [00:11<00:02,  1.18it/s]\u001b[A\n",
            " 88%|████████▊ | 14/16 [00:14<00:02,  1.30s/it]\u001b[A\n",
            " 94%|█████████▍| 15/16 [00:15<00:01,  1.24s/it]\u001b[A\n",
            "100%|██████████| 16/16 [00:16<00:00,  1.27s/it]\u001b[A\n",
            " 40%|████      | 4/10 [01:18<02:09, 21.62s/it]"
          ]
        },
        {
          "output_type": "stream",
          "name": "stdout",
          "text": [
            "[Epoch 4/10] 평균 훈련 손실: 0.0214\n"
          ]
        },
        {
          "output_type": "stream",
          "name": "stderr",
          "text": [
            "\n",
            "  0%|          | 0/16 [00:00<?, ?it/s]\u001b[A\n",
            "  6%|▋         | 1/16 [00:01<00:22,  1.50s/it]\u001b[A\n",
            " 12%|█▎        | 2/16 [00:02<00:15,  1.08s/it]\u001b[A\n",
            " 19%|█▉        | 3/16 [00:03<00:13,  1.03s/it]\u001b[A\n",
            " 25%|██▌       | 4/16 [00:04<00:12,  1.02s/it]\u001b[A\n",
            " 31%|███▏      | 5/16 [00:05<00:10,  1.09it/s]\u001b[A\n",
            " 38%|███▊      | 6/16 [00:05<00:09,  1.08it/s]\u001b[A\n",
            " 44%|████▍     | 7/16 [00:07<00:09,  1.06s/it]\u001b[A\n",
            " 50%|█████     | 8/16 [00:08<00:07,  1.04it/s]\u001b[A\n",
            " 56%|█████▋    | 9/16 [00:08<00:06,  1.04it/s]\u001b[A\n",
            " 62%|██████▎   | 10/16 [00:09<00:05,  1.06it/s]\u001b[A\n",
            " 69%|██████▉   | 11/16 [00:10<00:04,  1.02it/s]\u001b[A\n",
            " 75%|███████▌  | 12/16 [00:11<00:03,  1.03it/s]\u001b[A\n",
            " 81%|████████▏ | 13/16 [00:12<00:02,  1.17it/s]\u001b[A\n",
            " 88%|████████▊ | 14/16 [00:13<00:01,  1.29it/s]\u001b[A\n",
            " 94%|█████████▍| 15/16 [00:13<00:00,  1.37it/s]\u001b[A\n",
            "100%|██████████| 16/16 [00:14<00:00,  1.47it/s]\u001b[A\n",
            " 50%|█████     | 5/10 [01:39<01:47, 21.50s/it]"
          ]
        },
        {
          "output_type": "stream",
          "name": "stdout",
          "text": [
            "[Epoch 5/10] 평균 훈련 손실: 0.0095\n"
          ]
        },
        {
          "output_type": "stream",
          "name": "stderr",
          "text": [
            "\n",
            "  0%|          | 0/16 [00:00<?, ?it/s]\u001b[A\n",
            "  6%|▋         | 1/16 [00:00<00:06,  2.38it/s]\u001b[A\n",
            " 12%|█▎        | 2/16 [00:00<00:06,  2.01it/s]\u001b[A\n",
            " 19%|█▉        | 3/16 [00:01<00:07,  1.83it/s]\u001b[A\n",
            " 25%|██▌       | 4/16 [00:02<00:06,  1.75it/s]\u001b[A\n",
            " 31%|███▏      | 5/16 [00:02<00:06,  1.73it/s]\u001b[A\n",
            " 38%|███▊      | 6/16 [00:03<00:05,  1.91it/s]\u001b[A\n",
            " 44%|████▍     | 7/16 [00:03<00:04,  2.05it/s]\u001b[A\n",
            " 50%|█████     | 8/16 [00:04<00:03,  2.13it/s]\u001b[A\n",
            " 56%|█████▋    | 9/16 [00:04<00:03,  2.18it/s]\u001b[A\n",
            " 62%|██████▎   | 10/16 [00:04<00:02,  2.24it/s]\u001b[A\n",
            " 69%|██████▉   | 11/16 [00:05<00:02,  2.30it/s]\u001b[A\n",
            " 75%|███████▌  | 12/16 [00:05<00:01,  2.35it/s]\u001b[A\n",
            " 81%|████████▏ | 13/16 [00:06<00:01,  2.35it/s]\u001b[A\n",
            " 88%|████████▊ | 14/16 [00:06<00:00,  2.37it/s]\u001b[A\n",
            " 94%|█████████▍| 15/16 [00:06<00:00,  2.35it/s]\u001b[A\n",
            "100%|██████████| 16/16 [00:07<00:00,  2.41it/s]\u001b[A\n",
            " 60%|██████    | 6/10 [01:53<01:15, 18.99s/it]"
          ]
        },
        {
          "output_type": "stream",
          "name": "stdout",
          "text": [
            "[Epoch 6/10] 평균 훈련 손실: 0.0058\n"
          ]
        },
        {
          "output_type": "stream",
          "name": "stderr",
          "text": [
            "\n",
            "  0%|          | 0/16 [00:00<?, ?it/s]\u001b[A\n",
            "  6%|▋         | 1/16 [00:00<00:09,  1.64it/s]\u001b[A\n",
            " 12%|█▎        | 2/16 [00:01<00:07,  1.88it/s]\u001b[A\n",
            " 19%|█▉        | 3/16 [00:01<00:06,  2.08it/s]\u001b[A\n",
            " 25%|██▌       | 4/16 [00:01<00:05,  2.18it/s]\u001b[A\n",
            " 31%|███▏      | 5/16 [00:02<00:04,  2.25it/s]\u001b[A\n",
            " 38%|███▊      | 6/16 [00:02<00:04,  2.30it/s]\u001b[A\n",
            " 44%|████▍     | 7/16 [00:03<00:03,  2.32it/s]\u001b[A\n",
            " 50%|█████     | 8/16 [00:03<00:03,  2.35it/s]\u001b[A\n",
            " 56%|█████▋    | 9/16 [00:04<00:02,  2.36it/s]\u001b[A\n",
            " 62%|██████▎   | 10/16 [00:04<00:02,  2.34it/s]\u001b[A\n",
            " 69%|██████▉   | 11/16 [00:04<00:02,  2.34it/s]\u001b[A\n",
            " 75%|███████▌  | 12/16 [00:05<00:01,  2.33it/s]\u001b[A\n",
            " 81%|████████▏ | 13/16 [00:05<00:01,  2.34it/s]\u001b[A\n",
            " 88%|████████▊ | 14/16 [00:06<00:00,  2.37it/s]\u001b[A\n",
            " 94%|█████████▍| 15/16 [00:06<00:00,  2.38it/s]\u001b[A\n",
            "100%|██████████| 16/16 [00:06<00:00,  2.43it/s]\u001b[A\n",
            " 70%|███████   | 7/10 [02:07<00:52, 17.37s/it]"
          ]
        },
        {
          "output_type": "stream",
          "name": "stdout",
          "text": [
            "[Epoch 7/10] 평균 훈련 손실: 0.0043\n"
          ]
        },
        {
          "output_type": "stream",
          "name": "stderr",
          "text": [
            "\n",
            "  0%|          | 0/16 [00:00<?, ?it/s]\u001b[A\n",
            "  6%|▋         | 1/16 [00:00<00:06,  2.34it/s]\u001b[A\n",
            " 12%|█▎        | 2/16 [00:00<00:06,  2.33it/s]\u001b[A\n",
            " 19%|█▉        | 3/16 [00:01<00:05,  2.37it/s]\u001b[A\n",
            " 25%|██▌       | 4/16 [00:01<00:05,  2.33it/s]\u001b[A\n",
            " 31%|███▏      | 5/16 [00:02<00:04,  2.38it/s]\u001b[A\n",
            " 38%|███▊      | 6/16 [00:02<00:04,  2.40it/s]\u001b[A\n",
            " 44%|████▍     | 7/16 [00:02<00:03,  2.35it/s]\u001b[A\n",
            " 50%|█████     | 8/16 [00:03<00:03,  2.38it/s]\u001b[A\n",
            " 56%|█████▋    | 9/16 [00:03<00:02,  2.36it/s]\u001b[A\n",
            " 62%|██████▎   | 10/16 [00:04<00:02,  2.37it/s]\u001b[A\n",
            " 69%|██████▉   | 11/16 [00:04<00:02,  2.39it/s]\u001b[A\n",
            " 75%|███████▌  | 12/16 [00:05<00:01,  2.40it/s]\u001b[A\n",
            " 81%|████████▏ | 13/16 [00:05<00:01,  2.42it/s]\u001b[A\n",
            " 88%|████████▊ | 14/16 [00:05<00:00,  2.39it/s]\u001b[A\n",
            " 94%|█████████▍| 15/16 [00:06<00:00,  2.37it/s]\u001b[A\n",
            "100%|██████████| 16/16 [00:06<00:00,  2.43it/s]\u001b[A\n",
            " 80%|████████  | 8/10 [02:21<00:32, 16.20s/it]"
          ]
        },
        {
          "output_type": "stream",
          "name": "stdout",
          "text": [
            "[Epoch 8/10] 평균 훈련 손실: 0.0036\n"
          ]
        },
        {
          "output_type": "stream",
          "name": "stderr",
          "text": [
            "\n",
            "  0%|          | 0/16 [00:00<?, ?it/s]\u001b[A\n",
            "  6%|▋         | 1/16 [00:00<00:06,  2.33it/s]\u001b[A\n",
            " 12%|█▎        | 2/16 [00:00<00:06,  2.33it/s]\u001b[A\n",
            " 19%|█▉        | 3/16 [00:01<00:05,  2.36it/s]\u001b[A\n",
            " 25%|██▌       | 4/16 [00:01<00:05,  2.34it/s]\u001b[A\n",
            " 31%|███▏      | 5/16 [00:02<00:04,  2.35it/s]\u001b[A\n",
            " 38%|███▊      | 6/16 [00:02<00:04,  2.34it/s]\u001b[A\n",
            " 44%|████▍     | 7/16 [00:02<00:03,  2.36it/s]\u001b[A\n",
            " 50%|█████     | 8/16 [00:03<00:03,  2.37it/s]\u001b[A\n",
            " 56%|█████▋    | 9/16 [00:03<00:02,  2.39it/s]\u001b[A\n",
            " 62%|██████▎   | 10/16 [00:04<00:02,  2.38it/s]\u001b[A\n",
            " 69%|██████▉   | 11/16 [00:04<00:02,  2.34it/s]\u001b[A\n",
            " 75%|███████▌  | 12/16 [00:05<00:01,  2.34it/s]\u001b[A\n",
            " 81%|████████▏ | 13/16 [00:05<00:01,  2.32it/s]\u001b[A\n",
            " 88%|████████▊ | 14/16 [00:05<00:00,  2.32it/s]\u001b[A\n",
            " 94%|█████████▍| 15/16 [00:06<00:00,  2.33it/s]\u001b[A\n",
            "100%|██████████| 16/16 [00:06<00:00,  2.35it/s]\u001b[A\n",
            " 90%|█████████ | 9/10 [02:35<00:15, 15.50s/it]"
          ]
        },
        {
          "output_type": "stream",
          "name": "stdout",
          "text": [
            "[Epoch 9/10] 평균 훈련 손실: 0.0031\n"
          ]
        },
        {
          "output_type": "stream",
          "name": "stderr",
          "text": [
            "\n",
            "  0%|          | 0/16 [00:00<?, ?it/s]\u001b[A\n",
            "  6%|▋         | 1/16 [00:00<00:06,  2.31it/s]\u001b[A\n",
            " 12%|█▎        | 2/16 [00:00<00:05,  2.39it/s]\u001b[A\n",
            " 19%|█▉        | 3/16 [00:01<00:05,  2.39it/s]\u001b[A\n",
            " 25%|██▌       | 4/16 [00:01<00:05,  2.40it/s]\u001b[A\n",
            " 31%|███▏      | 5/16 [00:02<00:04,  2.41it/s]\u001b[A\n",
            " 38%|███▊      | 6/16 [00:02<00:04,  2.41it/s]\u001b[A\n",
            " 44%|████▍     | 7/16 [00:02<00:03,  2.43it/s]\u001b[A\n",
            " 50%|█████     | 8/16 [00:03<00:03,  2.39it/s]\u001b[A\n",
            " 56%|█████▋    | 9/16 [00:03<00:02,  2.39it/s]\u001b[A\n",
            " 62%|██████▎   | 10/16 [00:04<00:02,  2.38it/s]\u001b[A\n",
            " 69%|██████▉   | 11/16 [00:04<00:02,  2.40it/s]\u001b[A\n",
            " 75%|███████▌  | 12/16 [00:05<00:01,  2.41it/s]\u001b[A\n",
            " 81%|████████▏ | 13/16 [00:05<00:01,  2.38it/s]\u001b[A\n",
            " 88%|████████▊ | 14/16 [00:05<00:00,  2.25it/s]\u001b[A\n",
            " 94%|█████████▍| 15/16 [00:06<00:00,  2.04it/s]\u001b[A\n",
            "100%|██████████| 16/16 [00:07<00:00,  1.95it/s]\u001b[A\n",
            "100%|██████████| 10/10 [02:48<00:00, 16.88s/it]"
          ]
        },
        {
          "output_type": "stream",
          "name": "stdout",
          "text": [
            "[Epoch 10/10] 평균 훈련 손실: 0.0030\n"
          ]
        },
        {
          "output_type": "stream",
          "name": "stderr",
          "text": [
            "\n"
          ]
        }
      ],
      "source": [
        "# 에포크 수 설정\n",
        "num_epochs = 10\n",
        "new_losses = []\n",
        "for epoch in tqdm(range(num_epochs)):\n",
        "    model.train()  # 학습 모드\n",
        "    running_loss = 0.0\n",
        "    # 문제 10. 학습 루프\n",
        "    # [TODO] 학습 루프의 핵심 로직을 완성하세요.\n",
        "    for inputs, labels in tqdm(trainloader,leave=False):\n",
        "        inputs, labels = inputs.to(device), labels.to(device)\n",
        "        optimizer.zero_grad()\n",
        "        outputs = model(inputs)\n",
        "        loss = criterion(outputs, labels)\n",
        "        loss.backward()\n",
        "        optimizer.step()\n",
        "        running_loss += loss.item()\n",
        "\n",
        "    # 문제 11. 검증 루프\n",
        "    # [TODO] 검증(Validation) 루프를 작성하여 평균 검증 손실(avg_val_loss)을 계산하세요.\n",
        "    # 힌트: torch.no_grad() 블록 안에서 model.eval() 모드로 val_loader를 반복합니다.\n",
        "    with torch.no_grad():\n",
        "        model.eval()\n",
        "        val_loss = 0\n",
        "        # 여기에 검증 루프 코드를 작성하세요\n",
        "        for inputs, labels in valloader:\n",
        "            inputs, labels = inputs.to(device), labels.to(device)\n",
        "            outputs = model(inputs)\n",
        "            loss = criterion(outputs, labels)\n",
        "            val_loss += loss.item()\n",
        "\n",
        "\n",
        "        avg_val_loss = val_loss / len(valloader)\n",
        "        scheduler.step(avg_val_loss)\n",
        "\n",
        "    avg_loss = running_loss / len(trainloader)\n",
        "    new_losses.append(avg_loss)\n",
        "    print(f\"[Epoch {epoch+1}/{num_epochs}] 평균 훈련 손실: {avg_loss:.4f}\")"
      ]
    },
    {
      "cell_type": "markdown",
      "metadata": {
        "id": "9v9tazDnggml"
      },
      "source": [
        "학습이 완료되었다면, 다시 Test 성능을 측정합니다."
      ]
    },
    {
      "cell_type": "code",
      "execution_count": 37,
      "metadata": {
        "id": "dNz_Ju5sgk9v",
        "colab": {
          "base_uri": "https://localhost:8080/"
        },
        "outputId": "417dea68-9fc3-4ec9-e22f-0cd6fd2dc87c"
      },
      "outputs": [
        {
          "output_type": "stream",
          "name": "stderr",
          "text": [
            "100%|██████████| 97/97 [00:41<00:00,  2.35it/s]"
          ]
        },
        {
          "output_type": "stream",
          "name": "stdout",
          "text": [
            "Optimizer, Scheduler 변경 후 테스트 데이터 정확도: 87.36%\n"
          ]
        },
        {
          "output_type": "stream",
          "name": "stderr",
          "text": [
            "\n"
          ]
        }
      ],
      "source": [
        "model.eval()  # 평가 모드로 설정 (드롭아웃/배치정규화 비활성화 등)\n",
        "correct = 0\n",
        "total = 0\n",
        "with torch.no_grad():  # 평가 시에는 no_grad()로 메모리 절약\n",
        "    for inputs, labels in tqdm(testloader):\n",
        "        inputs, labels = inputs.to(device), labels.to(device)\n",
        "        outputs = model(inputs)\n",
        "\n",
        "        # 가장 높은 값의 인덱스를 예측으로 간주\n",
        "        _, predicted = torch.max(outputs.data, 1)\n",
        "\n",
        "        total += labels.size(0)\n",
        "        correct += (predicted == labels).sum().item()\n",
        "\n",
        "accuracy = 100 * correct / total\n",
        "print(f\"Optimizer, Scheduler 변경 후 테스트 데이터 정확도: {accuracy:.2f}%\")"
      ]
    },
    {
      "cell_type": "markdown",
      "metadata": {
        "id": "mSWmx6xTiMUy"
      },
      "source": [
        "### **간단한 시각화 진행**"
      ]
    },
    {
      "cell_type": "markdown",
      "metadata": {
        "id": "29Qwom24l4h4"
      },
      "source": [
        "Training 과정의 수렴 속도를 간단한 시각화로 확인해봅니다."
      ]
    },
    {
      "cell_type": "code",
      "execution_count": 38,
      "metadata": {
        "id": "QaVbesJOiLbB",
        "colab": {
          "base_uri": "https://localhost:8080/",
          "height": 454
        },
        "outputId": "49222685-4340-4a85-d03a-2cb9543e2bcd"
      },
      "outputs": [
        {
          "output_type": "display_data",
          "data": {
            "text/plain": [
              "<Figure size 640x480 with 1 Axes>"
            ],
            "image/png": "[encoded data removed]"
          },
          "metadata": {}
        }
      ],
      "source": [
        "import matplotlib.pyplot as plt\n",
        "\n",
        "plt.figure()\n",
        "plt.plot(naive_losses, label='Momentum + StepLR')\n",
        "plt.plot(new_losses, label='Adam + ReduceOnPlateau')\n",
        "plt.xlabel('Epoch')\n",
        "plt.ylabel('Loss')\n",
        "plt.legend()\n",
        "plt.show()"
      ]
    },
    {
      "cell_type": "markdown",
      "metadata": {
        "id": "qAb7lsgRmAXy"
      },
      "source": [
        "실습에서 진행한 Augmentation 뿐 아닌, 상황에 적합한 LR Scheduler와 Optimizer의 선택 또한 중요하다는 점을 확인해보았습니다.\n",
        "\n",
        "일반적으로 수 Epoch 후에 0에 가까워지는 Loss는, 학습 여부를 떠나 모델의 수학적 최적화 (Optimization) 진행 자체가 잘 되고 있음을 나타냅니다."
      ]
    },
    {
      "cell_type": "markdown",
      "metadata": {
        "id": "x4LRhjxlnFVZ"
      },
      "source": [
        "# 과제 03. HuggingFace Transformers를 활용한 ViT(Vision Transformer) 추론\n",
        "\n",
        "Huggingface는 트랜스포머 계열 모델들의 간편한 사용과 공유를 위해 사용되던 패키지로, 현재는 많은 AI 태스크의 간편한 진행을 위해 범용적으로 사용됩니다.\n",
        "\n",
        "그러나, Huggingface의 모델 또한 기본적으로는 PyTorch 모델인 바, 실습에서 진행했던 ViT 태스크를 PyTorch와 조금 더 깊게 섞어 진행해봅시다. 이전 실습에서 사용한 CIFAR10에 학습된 ViT를 그대로 다시 사용합니다.\n",
        "\n",
        "해당 과제에서, 여러번 반복하여 만들고 있는 Training Loop를 Huggingface model를 기준으로 다시 작성하게 됩니다."
      ]
    },
    {
      "cell_type": "code",
      "execution_count": 39,
      "metadata": {
        "id": "50NfHAhynE5p-problem",
        "colab": {
          "base_uri": "https://localhost:8080/",
          "height": 545,
          "referenced_widgets": [
            "61304dc4ff2a41f5ad68068310fa04f9",
            "764ebbb7e9d24fa8a1c71ccca81d988c",
            "c69a631d64fe43c4a7025ffd1c5ea18f",
            "77596697ec1d45f1bfc38fd54ce267be",
            "cc34137976934bd1b4cacbbae4ee1902",
            "3519854a766d42b89f54aaed56c39294",
            "1bf9cacf67ca4da88dd216310f3b6823",
            "22352f4178ee4be191c2e6c84da62f20",
            "4b5e3954a66a47e497b79454793f60dc",
            "bb8bf813d4a34283ae2adb43ada637e6",
            "02a88185730f4e4981aad1d6ac6328cc",
            "49fdf57a7e9c4efcbf4fe3a090b625ec",
            "41d944041e224968a5d1fddc5785437f",
            "f97d29af019f49c589a1aeee6e42e728",
            "c3e48448c81e444494c351bcce63af2a",
            "680e2825be584ddea908ead4ac43eb6c",
            "c886ec024fc946b5a290450889eb6e17",
            "eb65895939db4a09b40f3e2e658a0129",
            "09701e17c223468e833f4707ebb2f78f",
            "6c204ee0a42749988da2d90e379f5b26",
            "88149b43be8444f1aa2b3abc7ccd6249",
            "d7babe1dd9de45d6b992bc2adf7f968a",
            "38a25b4b949c464797daf6688abc99c5",
            "ea586a066d0244289bca0be145c128fe",
            "0e26c1cdbaf242bd9eaa79fbf12b6948",
            "c6b958ea99374035a0e89a3767a74c30",
            "0abb24c366764beaae1f61328313dea2",
            "96dcc579a58f49de8c75c03ed06c1e96",
            "0fc228911286450b888d7ac312de05f5",
            "0e174055aebf4e60b802947bd38e852e",
            "12ffc35f9fe94214a90fe10c7519adfd",
            "8166177458214caa931757dfa18eb523",
            "0e8bd46f222d4500b85912690d1e79e1",
            "3f0c8af708574435a75a969c4c4b4678",
            "d016c8c7bbeb4d86856ef6452ef77ef9",
            "648f5100434c4df3b0ece677106e61e3",
            "5cf7b76f51f24f5fbad76d6f28301e2a",
            "26f33ca3e13e4a21ae92dedb57063c46",
            "3334f1133f6d44a88486155bbda94979",
            "798f8e152a874e59a2924ed599c6b69e",
            "e6e1953b3f3c4f749eac1a3851d2ad50",
            "8fb11198cad34d98b31dff25ebd8afbc",
            "d48d954c62c1430992572383ba942930",
            "b6fca127b5b24d1ea5f1d827e623a489",
            "4ff8aa7a655e452ca4e488bd4f26ca09",
            "e8a0b547f85d4a4eb352298fa0164da1",
            "6061e9e82f304bbfbde60268095d4e65",
            "44c9615997f04350b7c19e54934fba48",
            "7d5587d2a61a4ae6a9c46377d8d7cc77",
            "68b07f2a6e844429ba8b4e9dca8429a7",
            "77503431580f4f739bf7da2829447cb0",
            "d9433a04d97b43e1a4844009ee9b0c93",
            "1cc034afb01f441ca322f71cf5b55904",
            "b9f5d2f78dc54f9da957439a8b6d402b",
            "cca5279b1961477c8996a2c2b1d2240c",
            "be158c2a978044ac86f6846695a8a537",
            "ab9bd62b2909402b819bc920e25784f7",
            "1180379d18db4699aaabf34b7441d602",
            "a4da22a2c7ca4fd397659b2071d9131d",
            "550cb98d4c5b49c98c2ec5be4592843f",
            "cafd9b1254fd4e6594fe0faa96d867a3",
            "a956ecad9fd3484cbffbc5a1b3dfcf51",
            "93392edf7e774743baa303aa3a308edb",
            "54610c74ffe1456a8f4695c4872706b3",
            "2e6c82f78d284f7382e64b1248420b72",
            "f80a34eaa6db47edb9dfb775effe5fd7",
            "cd71e26fcfaa464da200d826b618f4e6",
            "ee46b7271e1c42ef926da568969af14f",
            "fa6217393f5c404fb38da45fca776456",
            "cfcda15259c24255a546c2316f2ccae8",
            "43681ab9eb324724939c2766a740a409",
            "fa182027223747c2bd888da9935492ba",
            "c923404812dd4bdab45b8e33325b2178",
            "b85174bad29b416cae48b81bed618d72",
            "083c4cb88cb14452a3046d1bf123642b",
            "f60273057c144ffaaad379f578b284c5",
            "59737ee8ebea4299ae72bea0d69d9c21",
            "431bd5c399c74cccb9574c1a6c4ce654",
            "cffbeb33d97048b1ba65133be66530b5",
            "c24e9ff0b9414c06a1ca03f124522b8c",
            "f91fc0e4f9a949baacbdcb9bf1cd20d3",
            "96f2b95c48cb47c986e78aaa7ff5c5b8",
            "e30dabafcd8a451b8eaac409dfa99fbf",
            "bb87fc0e7d264193a75e7e5f8cef63b6",
            "234e9443acc14b4eaee8c9ea96e1bf83",
            "86db55ecf3ef428bab0a869f4d13fcf2",
            "e7d9301b237d4394a37f89fc0029f742",
            "8ecda325012444978a97a5e2707c8413",
            "ecf7575ff3c040db9f72265b9ebc17e8",
            "e86f46b434654ff3bdbbbde4b1931ef4",
            "f5048f5829eb42599537857980a8e01c",
            "acb9928d683a452f90e5adba8aa54875",
            "2e73179e93a24e82af71664be07fbc24",
            "0aec90b637174443adf4e6f8ace67da0",
            "4c39120dbb9c4fd79cf6fcd369ec84c5",
            "9ad82d707f0448aaba63b1ffbbec6d99",
            "49bf0fe78105469580efb34a061968b9",
            "5c7f63b770fc404e962d94f4389099bf",
            "1401129eafd247a38932bdf0359661a2"
          ]
        },
        "outputId": "d42e6575-c6ba-41fc-cb6b-81d3347f63c8"
      },
      "outputs": [
        {
          "output_type": "stream",
          "name": "stderr",
          "text": [
            "/usr/local/lib/python3.12/dist-packages/huggingface_hub/utils/_auth.py:94: UserWarning: \n",
            "The secret `HF_TOKEN` does not exist in your Colab secrets.\n",
            "To authenticate with the Hugging Face Hub, create a token in your settings tab (https://huggingface.co/settings/tokens), set it as secret in your Google Colab and restart your session.\n",
            "You will be able to reuse this secret in all of your notebooks.\n",
            "Please note that authentication is recommended but still optional to access public models or datasets.\n",
            "  warnings.warn(\n"
          ]
        },
        {
          "output_type": "display_data",
          "data": {
            "text/plain": [
              "preprocessor_config.json:   0%|          | 0.00/160 [00:00<?, ?B/s]"
            ],
            "application/vnd.jupyter.widget-view+json": {
              "version_major": 2,
              "version_minor": 0,
              "model_id": "61304dc4ff2a41f5ad68068310fa04f9"
            }
          },
          "metadata": {}
        },
        {
          "output_type": "stream",
          "name": "stderr",
          "text": [
            "/usr/local/lib/python3.12/dist-packages/transformers/models/vit/feature_extraction_vit.py:30: FutureWarning: The class ViTFeatureExtractor is deprecated and will be removed in version 5 of Transformers. Please use ViTImageProcessor instead.\n",
            "  warnings.warn(\n"
          ]
        },
        {
          "output_type": "display_data",
          "data": {
            "text/plain": [
              "config.json:   0%|          | 0.00/918 [00:00<?, ?B/s]"
            ],
            "application/vnd.jupyter.widget-view+json": {
              "version_major": 2,
              "version_minor": 0,
              "model_id": "49fdf57a7e9c4efcbf4fe3a090b625ec"
            }
          },
          "metadata": {}
        },
        {
          "output_type": "display_data",
          "data": {
            "text/plain": [
              "pytorch_model.bin:   0%|          | 0.00/343M [00:00<?, ?B/s]"
            ],
            "application/vnd.jupyter.widget-view+json": {
              "version_major": 2,
              "version_minor": 0,
              "model_id": "38a25b4b949c464797daf6688abc99c5"
            }
          },
          "metadata": {}
        },
        {
          "output_type": "display_data",
          "data": {
            "text/plain": [
              "README.md: 0.00B [00:00, ?B/s]"
            ],
            "application/vnd.jupyter.widget-view+json": {
              "version_major": 2,
              "version_minor": 0,
              "model_id": "3f0c8af708574435a75a969c4c4b4678"
            }
          },
          "metadata": {}
        },
        {
          "output_type": "display_data",
          "data": {
            "text/plain": [
              "model.safetensors:   0%|          | 0.00/343M [00:00<?, ?B/s]"
            ],
            "application/vnd.jupyter.widget-view+json": {
              "version_major": 2,
              "version_minor": 0,
              "model_id": "4ff8aa7a655e452ca4e488bd4f26ca09"
            }
          },
          "metadata": {}
        },
        {
          "output_type": "display_data",
          "data": {
            "text/plain": [
              "plain_text/train-00000-of-00001.parquet:   0%|          | 0.00/120M [00:00<?, ?B/s]"
            ],
            "application/vnd.jupyter.widget-view+json": {
              "version_major": 2,
              "version_minor": 0,
              "model_id": "be158c2a978044ac86f6846695a8a537"
            }
          },
          "metadata": {}
        },
        {
          "output_type": "display_data",
          "data": {
            "text/plain": [
              "plain_text/test-00000-of-00001.parquet:   0%|          | 0.00/23.9M [00:00<?, ?B/s]"
            ],
            "application/vnd.jupyter.widget-view+json": {
              "version_major": 2,
              "version_minor": 0,
              "model_id": "cd71e26fcfaa464da200d826b618f4e6"
            }
          },
          "metadata": {}
        },
        {
          "output_type": "display_data",
          "data": {
            "text/plain": [
              "Generating train split:   0%|          | 0/50000 [00:00<?, ? examples/s]"
            ],
            "application/vnd.jupyter.widget-view+json": {
              "version_major": 2,
              "version_minor": 0,
              "model_id": "431bd5c399c74cccb9574c1a6c4ce654"
            }
          },
          "metadata": {}
        },
        {
          "output_type": "display_data",
          "data": {
            "text/plain": [
              "Generating test split:   0%|          | 0/10000 [00:00<?, ? examples/s]"
            ],
            "application/vnd.jupyter.widget-view+json": {
              "version_major": 2,
              "version_minor": 0,
              "model_id": "ecf7575ff3c040db9f72265b9ebc17e8"
            }
          },
          "metadata": {}
        },
        {
          "output_type": "stream",
          "name": "stdout",
          "text": [
            "Dataset({\n",
            "    features: ['img', 'label'],\n",
            "    num_rows: 10000\n",
            "})\n"
          ]
        }
      ],
      "source": [
        "from datasets import load_dataset\n",
        "from transformers import ViTFeatureExtractor, ViTForImageClassification\n",
        "from torch.utils.data import DataLoader\n",
        "from tqdm.notebook import tqdm\n",
        "\n",
        "model_name = \"nateraw/vit-base-patch16-224-cifar10\"\n",
        "feature_extractor = ViTFeatureExtractor.from_pretrained(model_name)\n",
        "vit_model = ViTForImageClassification.from_pretrained(model_name)\n",
        "vit_model.to(device)  # 모델을 GPU로 이동\n",
        "\n",
        "# CIFAR-10 데이터셋 불러오기 (시간상의 이유로 test 셋)\n",
        "dataset = load_dataset('cifar10', split='test')\n",
        "print(dataset)  # 데이터셋 정보 출력\n"
      ]
    },
    {
      "cell_type": "markdown",
      "metadata": {
        "id": "qvj1YOAAzux8"
      },
      "source": [
        "1. 새 Classifier를 정의합시다.\n",
        "2. 해당 Classifier도 GPU로 옮깁니다.\n",
        "3. 해당 Classifier를 원본 모델의 Classifier 대신 대체합니다.\n",
        "4. 위에서 진행한 것과 동일하게, classifier를 제외한 모든 레이어의 Gradient 저장을 멈춥니다."
      ]
    },
    {
      "cell_type": "code",
      "execution_count": 40,
      "metadata": {
        "id": "WBWRIzM_zjUs-problem"
      },
      "outputs": [],
      "source": [
        "# 문제 12. 새 분류기 정의 및 교체\n",
        "# [TODO] 새 분류기(classifier)를 정의하고, ViT 모델의 분류기를 교체하세요.\n",
        "# 힌트: nn.Linear(768, 10)으로 새로운 분류기를 정의, GPU로 이동 후 vit_model.classifier에 할당합니다.\n",
        "new_classifier = nn.Linear(768, 10).to(device)\n",
        "vit_model.classifier = new_classifier\n",
        "\n",
        "# 문제 13. ViT 모델의 레이어 동결\n",
        "# [TODO] ViT 모델의 분류기(classifier)를 제외한 모든 레이어의 가중치를 동결시키세요.\n",
        "# 힌트: vit_model.named_parameters() 루프를 돌며, 파라미터 이름에 'classifier'가 없으면 requires_grad를 False로 설정합니다.\n",
        "for name, param in vit_model.named_parameters():\n",
        "    if \"classfier\" not in name:\n",
        "      param.requires_grad = False"
      ]
    },
    {
      "cell_type": "markdown",
      "metadata": {
        "id": "ZKrDv-TF1Mjy"
      },
      "source": [
        "## 이번 과제에서, Training loop를 Huggingface에 맞춘다고 하였으나, 사실 작성 자체는 동일합니다. 결과적으로는 동일한 모델이기 때문입니다.\n",
        "\n",
        "지금까지 배운 모든 작업은, 기본적으로 허깅페이스 모델 및 파이프 내부 모델에 전부 적용 가능합니다."
      ]
    },
    {
      "cell_type": "markdown",
      "metadata": {
        "id": "aSH2L2Di4d3b"
      },
      "source": [
        "정상적인 훈련 루프를 다시 짜봅시다. 이전과 동일하게 작성하되, 이미지의 전처리 모델 또한 통과시킬 필요성이 있다는 지점과, 허깅페이스 모델은 내부에 필요한 Loss를 같이 구현해두기 때문에 아래의 형식으로 호출할 시 output 내부 attribute로 loss가 리턴된다는 점이 다릅니다.\n",
        "\n",
        "**hint : pixel_values = encoded[\"pixel_values\"].to(device)**\n",
        "        \n",
        "**hint2 : outputs = vit_model(pixel_values=pixel_values, labels=labels)**\n"
      ]
    },
    {
      "cell_type": "code",
      "execution_count": 41,
      "metadata": {
        "id": "MJTqHB9_OTgj",
        "colab": {
          "base_uri": "https://localhost:8080/"
        },
        "outputId": "69a5a656-d1a0-4349-90bd-a8c55a7de1af"
      },
      "outputs": [
        {
          "output_type": "stream",
          "name": "stderr",
          "text": [
            "100%|██████████| 170M/170M [00:04<00:00, 35.3MB/s]\n",
            "/usr/local/lib/python3.12/dist-packages/torch/utils/data/dataloader.py:627: UserWarning: This DataLoader will create 4 worker processes in total. Our suggested max number of worker in current system is 2, which is smaller than what this DataLoader is going to create. Please be aware that excessive worker creation might get DataLoader running slow or even freeze, lower the worker number to avoid potential slowness/freeze if necessary.\n",
            "  warnings.warn(\n"
          ]
        }
      ],
      "source": [
        "from torch.utils.data import DataLoader\n",
        "from tqdm import tqdm\n",
        "trainset = datasets.CIFAR10(root=\"./data\", train=True, download=True, transform=None)\n",
        "valset   = datasets.CIFAR10(root=\"./data\", train=False, download=True, transform=None)\n",
        "batch_size = 64\n",
        "\n",
        "# collate_fn: 배치의 PIL 이미지를 리스트로 받고 레이블은 텐서로 반환\n",
        "def collate_fn(batch):\n",
        "    imgs = [item[0] for item in batch]   # PIL.Image 리스트\n",
        "    labels = torch.tensor([item[1] for item in batch], dtype=torch.long)\n",
        "    return imgs, labels\n",
        "\n",
        "trainloader = DataLoader(trainset, batch_size=batch_size, shuffle=True, num_workers=4, collate_fn=collate_fn)\n",
        "valloader   = DataLoader(valset,   batch_size=batch_size, shuffle=False, num_workers=4, collate_fn=collate_fn)\n"
      ]
    },
    {
      "cell_type": "code",
      "execution_count": 47,
      "metadata": {
        "id": "k6-NyRRR4JGN-problem",
        "colab": {
          "base_uri": "https://localhost:8080/",
          "height": 373
        },
        "outputId": "e4328118-25df-4e0c-8b07-4b30263711a2"
      },
      "outputs": [
        {
          "output_type": "stream",
          "name": "stderr",
          "text": []
        },
        {
          "output_type": "error",
          "ename": "RuntimeError",
          "evalue": "element 0 of tensors does not require grad and does not have a grad_fn",
          "traceback": [
            "\u001b[0;31m---------------------------------------------------------------------------\u001b[0m",
            "\u001b[0;31mRuntimeError\u001b[0m                              Traceback (most recent call last)",
            "\u001b[0;32m/tmp/ipython-input-1585527092.py\u001b[0m in \u001b[0;36m<cell line: 0>\u001b[0;34m()\u001b[0m\n\u001b[1;32m     38\u001b[0m         \u001b[0;31m# 5. loss 추출 및 역전파, 가중치 업데이트\u001b[0m\u001b[0;34m\u001b[0m\u001b[0;34m\u001b[0m\u001b[0m\n\u001b[1;32m     39\u001b[0m         \u001b[0mloss\u001b[0m \u001b[0;34m=\u001b[0m \u001b[0moutputs\u001b[0m\u001b[0;34m.\u001b[0m\u001b[0mloss\u001b[0m\u001b[0;34m\u001b[0m\u001b[0;34m\u001b[0m\u001b[0m\n\u001b[0;32m---> 40\u001b[0;31m         \u001b[0mloss\u001b[0m\u001b[0;34m.\u001b[0m\u001b[0mbackward\u001b[0m\u001b[0;34m(\u001b[0m\u001b[0;34m)\u001b[0m\u001b[0;34m\u001b[0m\u001b[0;34m\u001b[0m\u001b[0m\n\u001b[0m\u001b[1;32m     41\u001b[0m         \u001b[0moptimizer\u001b[0m\u001b[0;34m.\u001b[0m\u001b[0mstep\u001b[0m\u001b[0;34m(\u001b[0m\u001b[0;34m)\u001b[0m\u001b[0;34m\u001b[0m\u001b[0;34m\u001b[0m\u001b[0m\n\u001b[1;32m     42\u001b[0m \u001b[0;34m\u001b[0m\u001b[0m\n",
            "\u001b[0;32m/usr/local/lib/python3.12/dist-packages/torch/_tensor.py\u001b[0m in \u001b[0;36mbackward\u001b[0;34m(self, gradient, retain_graph, create_graph, inputs)\u001b[0m\n\u001b[1;32m    645\u001b[0m                 \u001b[0minputs\u001b[0m\u001b[0;34m=\u001b[0m\u001b[0minputs\u001b[0m\u001b[0;34m,\u001b[0m\u001b[0;34m\u001b[0m\u001b[0;34m\u001b[0m\u001b[0m\n\u001b[1;32m    646\u001b[0m             )\n\u001b[0;32m--> 647\u001b[0;31m         torch.autograd.backward(\n\u001b[0m\u001b[1;32m    648\u001b[0m             \u001b[0mself\u001b[0m\u001b[0;34m,\u001b[0m \u001b[0mgradient\u001b[0m\u001b[0;34m,\u001b[0m \u001b[0mretain_graph\u001b[0m\u001b[0;34m,\u001b[0m \u001b[0mcreate_graph\u001b[0m\u001b[0;34m,\u001b[0m \u001b[0minputs\u001b[0m\u001b[0;34m=\u001b[0m\u001b[0minputs\u001b[0m\u001b[0;34m\u001b[0m\u001b[0;34m\u001b[0m\u001b[0m\n\u001b[1;32m    649\u001b[0m         )\n",
            "\u001b[0;32m/usr/local/lib/python3.12/dist-packages/torch/autograd/__init__.py\u001b[0m in \u001b[0;36mbackward\u001b[0;34m(tensors, grad_tensors, retain_graph, create_graph, grad_variables, inputs)\u001b[0m\n\u001b[1;32m    352\u001b[0m     \u001b[0;31m# some Python versions print out the first line of a multi-line function\u001b[0m\u001b[0;34m\u001b[0m\u001b[0;34m\u001b[0m\u001b[0m\n\u001b[1;32m    353\u001b[0m     \u001b[0;31m# calls in the traceback and some print out the last line\u001b[0m\u001b[0;34m\u001b[0m\u001b[0;34m\u001b[0m\u001b[0m\n\u001b[0;32m--> 354\u001b[0;31m     _engine_run_backward(\n\u001b[0m\u001b[1;32m    355\u001b[0m         \u001b[0mtensors\u001b[0m\u001b[0;34m,\u001b[0m\u001b[0;34m\u001b[0m\u001b[0;34m\u001b[0m\u001b[0m\n\u001b[1;32m    356\u001b[0m         \u001b[0mgrad_tensors_\u001b[0m\u001b[0;34m,\u001b[0m\u001b[0;34m\u001b[0m\u001b[0;34m\u001b[0m\u001b[0m\n",
            "\u001b[0;32m/usr/local/lib/python3.12/dist-packages/torch/autograd/graph.py\u001b[0m in \u001b[0;36m_engine_run_backward\u001b[0;34m(t_outputs, *args, **kwargs)\u001b[0m\n\u001b[1;32m    827\u001b[0m         \u001b[0munregister_hooks\u001b[0m \u001b[0;34m=\u001b[0m \u001b[0m_register_logging_hooks_on_whole_graph\u001b[0m\u001b[0;34m(\u001b[0m\u001b[0mt_outputs\u001b[0m\u001b[0;34m)\u001b[0m\u001b[0;34m\u001b[0m\u001b[0;34m\u001b[0m\u001b[0m\n\u001b[1;32m    828\u001b[0m     \u001b[0;32mtry\u001b[0m\u001b[0;34m:\u001b[0m\u001b[0;34m\u001b[0m\u001b[0;34m\u001b[0m\u001b[0m\n\u001b[0;32m--> 829\u001b[0;31m         return Variable._execution_engine.run_backward(  # Calls into the C++ engine to run the backward pass\n\u001b[0m\u001b[1;32m    830\u001b[0m             \u001b[0mt_outputs\u001b[0m\u001b[0;34m,\u001b[0m \u001b[0;34m*\u001b[0m\u001b[0margs\u001b[0m\u001b[0;34m,\u001b[0m \u001b[0;34m**\u001b[0m\u001b[0mkwargs\u001b[0m\u001b[0;34m\u001b[0m\u001b[0;34m\u001b[0m\u001b[0m\n\u001b[1;32m    831\u001b[0m         )  # Calls into the C++ engine to run the backward pass\n",
            "\u001b[0;31mRuntimeError\u001b[0m: element 0 of tensors does not require grad and does not have a grad_fn"
          ]
        }
      ],
      "source": [
        "criterion = nn.CrossEntropyLoss()\n",
        "lr = 0.001\n",
        "momentum = 0.9\n",
        "num_epochs = 1\n",
        "optimizer = optim.SGD(vit_model.parameters(), lr=lr, momentum=momentum)\n",
        "\n",
        "def collate_fn(batch):\n",
        "    imgs = [item[0] for item in batch]\n",
        "    labels = torch.tensor([item[1] for item in batch])\n",
        "    return imgs, labels\n",
        "\n",
        "\n",
        "best_val_acc = 0.0\n",
        "\n",
        "for epoch in range(num_epochs):\n",
        "    vit_model.train()\n",
        "    running_loss = 0.0\n",
        "    total = 0\n",
        "    correct = 0\n",
        "\n",
        "    pbar = tqdm(trainloader, desc=f\"Epoch {epoch+1}/{num_epochs} Train\", leave=False)\n",
        "    for imgs, labels in pbar:\n",
        "        # 문제 14. ViT 모델 학습 루프\n",
        "        # [TODO] ViT 모델 학습 루프의 핵심 로직을 완성하세요.\n",
        "        # 1. feature_extractor를 사용하여 이미지를 전처리하고, 결과를 텐서로 변환합니다.\n",
        "        encoded = feature_extractor(images=imgs, return_tensors=\"pt\")\n",
        "\n",
        "        # 2. 전처리된 pixel_values와 labels를 device로 이동시킵니다.\n",
        "        pixel_values = encoded[\"pixel_values\"].to(device)\n",
        "        labels = labels.to(device)\n",
        "\n",
        "        # 3. 그래디언트 초기화\n",
        "        optimizer.zero_grad()\n",
        "\n",
        "        # 4. 모델 순전파 (labels도 함께 전달하여 loss 계산)\n",
        "        outputs = vit_model(pixel_values=pixel_values, labels=labels)\n",
        "\n",
        "        # 5. loss 추출 및 역전파, 가중치 업데이트\n",
        "        loss = outputs.loss\n",
        "        loss.backward()\n",
        "        optimizer.step()\n",
        "\n",
        "\n",
        "        running_loss += loss.item() * pixel_values.size(0)\n",
        "        preds = outputs.logits.argmax(dim=-1)\n",
        "        correct += (preds == labels).sum().item()\n",
        "        total += labels.size(0)\n",
        "        avg_loss = running_loss / total\n",
        "        acc = 100.0 * correct / total\n",
        "        pbar.set_postfix(loss=f\"{avg_loss:.4f}\", acc=f\"{acc:.2f}%\")\n",
        "\n",
        "    train_avg_loss = running_loss / total\n",
        "    train_acc = correct / total\n",
        "    print(f\"[Epoch {epoch+1}/{num_epochs}] 평균 훈련 손실: {train_avg_loss:.4f}, Train Acc: {100.*train_acc:.2f}%\")"
      ]
    },
    {
      "cell_type": "markdown",
      "metadata": {
        "id": "ZyT7PHa8-ybz"
      },
      "source": [
        "## 실습과 동일한 코드로 평가해봅시다."
      ]
    },
    {
      "cell_type": "code",
      "execution_count": null,
      "metadata": {
        "id": "1Apz96iZ40nR-problem"
      },
      "outputs": [],
      "source": [
        "\n",
        "# 데이터셋에서 첫 5개 샘플 추출\n",
        "sample_images = [dataset[i]['img'] for i in range(5)]\n",
        "true_labels = [dataset[i]['label'] for i in range(5)]\n",
        "print(\"실제 레이블:\", true_labels)\n",
        "# 문제 14. 샘플 이미지 전처리\n",
        "# [TODO] 추출한 샘플 이미지를 FeatureExtractor로 전처리합니다.\n",
        "# 힌트: feature_extractor를 사용합니다.\n",
        "inputs = feature_extractor(images=sample_images, return_tensors=\"pt\")\n",
        "inputs = {k: v.to(device) for k,v in inputs.items()}  # device로 이동\n",
        "\n",
        "# 문제 15. ViT 모델 예측\n",
        "# [TODO] ViT 모델을 사용하여 예측을 수행합니다.\n",
        "outputs = vit_model(**inputs)\n",
        "logits = ouputs.logits  # 모델 출력 로짓(logits)\n",
        "predicted_class_idxs = logits.argmax(dim=1).cpu().numpy()\n",
        "print(\"모델 예측 클래스 인덱스:\", predicted_class_idxs)\n",
        "predicted_labels = [labels[idx] for idx in predicted_class_idxs]\n",
        "print(\"모델 예측 클래스 이름:\", predicted_labels)"
      ]
    },
    {
      "cell_type": "code",
      "execution_count": null,
      "metadata": {
        "id": "cljiDevMOTgj"
      },
      "outputs": [],
      "source": [
        "import matplotlib.pyplot as plt\n",
        "\n",
        "plt.figure(figsize=(10,2))\n",
        "for i, img in enumerate(sample_images):\n",
        "    plt.subplot(1, 5, i+1)\n",
        "    plt.imshow(img)\n",
        "    plt.title(f\"Pred: {predicted_labels[i]}\")\n",
        "    plt.axis('off')\n",
        "plt.show()"
      ]
    },
    {
      "cell_type": "markdown",
      "metadata": {
        "id": "q-kc_955OTgj"
      },
      "source": [
        "새롭게 초기화한 분류기를 가져왔음에도 불구하고, 짧은 트레이닝으로 성능을 대부분 되찾은 모습을 볼 수 있습니다.\n",
        "또한 이렇게 만들어낸 모델은, 그대로 다시 pipeline에 주입해 사용할 수 있습니다."
      ]
    },
    {
      "cell_type": "code",
      "execution_count": null,
      "metadata": {
        "id": "w2xHLAPoOTgj"
      },
      "outputs": [],
      "source": [
        "from transformers import pipeline\n",
        "\n",
        "clf = pipeline(\n",
        "    \"image-classification\",\n",
        "    model=vit_model,\n",
        "    feature_extractor=feature_extractor,\n",
        "    device=0  # GPU 사용 시, CPU면 device=-1\n",
        ")\n",
        "\n",
        "preds = clf(sample_images)\n",
        "\n",
        "# 예측 결과를 더 읽기 쉽게 출력\n",
        "print(\"Pipeline 예측 결과:\")\n",
        "for i, pred_list in enumerate(preds):\n",
        "    print(f\"이미지 {i+1}:\")\n",
        "    for pred in pred_list:\n",
        "        # 'LABEL_X' 문자열에서 레이블 인덱스 추출\n",
        "        label_index = int(pred['label'].split('_')[1])\n",
        "        print(f\"  - 레이블: {labels[label_index]}, 신뢰도: {pred['score']:.4f}\")"
      ]
    },
    {
      "cell_type": "markdown",
      "metadata": {
        "id": "y4l9krp0_o9u"
      },
      "source": [
        "## 마치며\n",
        "\n",
        "이번 과제에서는, 실습과 유사한 코드를 작성하되 실습에서 지나간 optimizer와 lr scheduler의 성능에 대한 영향에 대해 다루었으며, 특정 전문 데이터셋에 집중해 모델을 재훈련하는 방법을 알아보았습니다. Linear Layer에 국한되지 않고 연산이 이어져 있다면 추가로 부분적인 훈련이 가능함을 알게 되었고, 허깅페이스의 모델들 내부에는 PyTorch 기반의 모델들이 있어 비교적 쉽게 PyTorch 처럼 활용하고 적용할 수 있음을 알게 되었습니다."
      ]
    }
  ],
  "metadata": {
    "accelerator": "GPU",
    "colab": {
      "gpuType": "T4",
      "provenance": []
    },
    "kernelspec": {
      "display_name": "upstage",
      "language": "python",
      "name": "python3"
    },
    "language_info": {
      "name": "python",
      "version": "3.10.18"
    },
    "widgets": {
      "application/vnd.jupyter.widget-state+json": {
        "61304dc4ff2a41f5ad68068310fa04f9": {
          "model_module": "@jupyter-widgets/controls",
          "model_name": "HBoxModel",
          "model_module_version": "1.5.0",
          "state": {
            "_dom_classes": [],
            "_model_module": "@jupyter-widgets/controls",
            "_model_module_version": "1.5.0",
            "_model_name": "HBoxModel",
            "_view_count": null,
            "_view_module": "@jupyter-widgets/controls",
            "_view_module_version": "1.5.0",
            "_view_name": "HBoxView",
            "box_style": "",
            "children": [
              "IPY_MODEL_764ebbb7e9d24fa8a1c71ccca81d988c",
              "IPY_MODEL_c69a631d64fe43c4a7025ffd1c5ea18f",
              "IPY_MODEL_77596697ec1d45f1bfc38fd54ce267be"
            ],
            "layout": "IPY_MODEL_cc34137976934bd1b4cacbbae4ee1902"
          }
        },
        "764ebbb7e9d24fa8a1c71ccca81d988c": {
          "model_module": "@jupyter-widgets/controls",
          "model_name": "HTMLModel",
          "model_module_version": "1.5.0",
          "state": {
            "_dom_classes": [],
            "_model_module": "@jupyter-widgets/controls",
            "_model_module_version": "1.5.0",
            "_model_name": "HTMLModel",
            "_view_count": null,
            "_view_module": "@jupyter-widgets/controls",
            "_view_module_version": "1.5.0",
            "_view_name": "HTMLView",
            "description": "",
            "description_tooltip": null,
            "layout": "IPY_MODEL_3519854a766d42b89f54aaed56c39294",
            "placeholder": "​",
            "style": "IPY_MODEL_1bf9cacf67ca4da88dd216310f3b6823",
            "value": "preprocessor_config.json: 100%"
          }
        },
        "c69a631d64fe43c4a7025ffd1c5ea18f": {
          "model_module": "@jupyter-widgets/controls",
          "model_name": "FloatProgressModel",
          "model_module_version": "1.5.0",
          "state": {
            "_dom_classes": [],
            "_model_module": "@jupyter-widgets/controls",
            "_model_module_version": "1.5.0",
            "_model_name": "FloatProgressModel",
            "_view_count": null,
            "_view_module": "@jupyter-widgets/controls",
            "_view_module_version": "1.5.0",
            "_view_name": "ProgressView",
            "bar_style": "success",
            "description": "",
            "description_tooltip": null,
            "layout": "IPY_MODEL_22352f4178ee4be191c2e6c84da62f20",
            "max": 160,
            "min": 0,
            "orientation": "horizontal",
            "style": "IPY_MODEL_4b5e3954a66a47e497b79454793f60dc",
            "value": 160
          }
        },
        "77596697ec1d45f1bfc38fd54ce267be": {
          "model_module": "@jupyter-widgets/controls",
          "model_name": "HTMLModel",
          "model_module_version": "1.5.0",
          "state": {
            "_dom_classes": [],
            "_model_module": "@jupyter-widgets/controls",
            "_model_module_version": "1.5.0",
            "_model_name": "HTMLModel",
            "_view_count": null,
            "_view_module": "@jupyter-widgets/controls",
            "_view_module_version": "1.5.0",
            "_view_name": "HTMLView",
            "description": "",
            "description_tooltip": null,
            "layout": "IPY_MODEL_bb8bf813d4a34283ae2adb43ada637e6",
            "placeholder": "​",
            "style": "IPY_MODEL_02a88185730f4e4981aad1d6ac6328cc",
            "value": " 160/160 [00:00&lt;00:00, 9.71kB/s]"
          }
        },
        "cc34137976934bd1b4cacbbae4ee1902": {
          "model_module": "@jupyter-widgets/base",
          "model_name": "LayoutModel",
          "model_module_version": "1.2.0",
          "state": {
            "_model_module": "@jupyter-widgets/base",
            "_model_module_version": "1.2.0",
            "_model_name": "LayoutModel",
            "_view_count": null,
            "_view_module": "@jupyter-widgets/base",
            "_view_module_version": "1.2.0",
            "_view_name": "LayoutView",
            "align_content": null,
            "align_items": null,
            "align_self": null,
            "border": null,
            "bottom": null,
            "display": null,
            "flex": null,
            "flex_flow": null,
            "grid_area": null,
            "grid_auto_columns": null,
            "grid_auto_flow": null,
            "grid_auto_rows": null,
            "grid_column": null,
            "grid_gap": null,
            "grid_row": null,
            "grid_template_areas": null,
            "grid_template_columns": null,
            "grid_template_rows": null,
            "height": null,
            "justify_content": null,
            "justify_items": null,
            "left": null,
            "margin": null,
            "max_height": null,
            "max_width": null,
            "min_height": null,
            "min_width": null,
            "object_fit": null,
            "object_position": null,
            "order": null,
            "overflow": null,
            "overflow_x": null,
            "overflow_y": null,
            "padding": null,
            "right": null,
            "top": null,
            "visibility": null,
            "width": null
          }
        },
        "3519854a766d42b89f54aaed56c39294": {
          "model_module": "@jupyter-widgets/base",
          "model_name": "LayoutModel",
          "model_module_version": "1.2.0",
          "state": {
            "_model_module": "@jupyter-widgets/base",
            "_model_module_version": "1.2.0",
            "_model_name": "LayoutModel",
            "_view_count": null,
            "_view_module": "@jupyter-widgets/base",
            "_view_module_version": "1.2.0",
            "_view_name": "LayoutView",
            "align_content": null,
            "align_items": null,
            "align_self": null,
            "border": null,
            "bottom": null,
            "display": null,
            "flex": null,
            "flex_flow": null,
            "grid_area": null,
            "grid_auto_columns": null,
            "grid_auto_flow": null,
            "grid_auto_rows": null,
            "grid_column": null,
            "grid_gap": null,
            "grid_row": null,
            "grid_template_areas": null,
            "grid_template_columns": null,
            "grid_template_rows": null,
            "height": null,
            "justify_content": null,
            "justify_items": null,
            "left": null,
            "margin": null,
            "max_height": null,
            "max_width": null,
            "min_height": null,
            "min_width": null,
            "object_fit": null,
            "object_position": null,
            "order": null,
            "overflow": null,
            "overflow_x": null,
            "overflow_y": null,
            "padding": null,
            "right": null,
            "top": null,
            "visibility": null,
            "width": null
          }
        },
        "1bf9cacf67ca4da88dd216310f3b6823": {
          "model_module": "@jupyter-widgets/controls",
          "model_name": "DescriptionStyleModel",
          "model_module_version": "1.5.0",
          "state": {
            "_model_module": "@jupyter-widgets/controls",
            "_model_module_version": "1.5.0",
            "_model_name": "DescriptionStyleModel",
            "_view_count": null,
            "_view_module": "@jupyter-widgets/base",
            "_view_module_version": "1.2.0",
            "_view_name": "StyleView",
            "description_width": ""
          }
        },
        "22352f4178ee4be191c2e6c84da62f20": {
          "model_module": "@jupyter-widgets/base",
          "model_name": "LayoutModel",
          "model_module_version": "1.2.0",
          "state": {
            "_model_module": "@jupyter-widgets/base",
            "_model_module_version": "1.2.0",
            "_model_name": "LayoutModel",
            "_view_count": null,
            "_view_module": "@jupyter-widgets/base",
            "_view_module_version": "1.2.0",
            "_view_name": "LayoutView",
            "align_content": null,
            "align_items": null,
            "align_self": null,
            "border": null,
            "bottom": null,
            "display": null,
            "flex": null,
            "flex_flow": null,
            "grid_area": null,
            "grid_auto_columns": null,
            "grid_auto_flow": null,
            "grid_auto_rows": null,
            "grid_column": null,
            "grid_gap": null,
            "grid_row": null,
            "grid_template_areas": null,
            "grid_template_columns": null,
            "grid_template_rows": null,
            "height": null,
            "justify_content": null,
            "justify_items": null,
            "left": null,
            "margin": null,
            "max_height": null,
            "max_width": null,
            "min_height": null,
            "min_width": null,
            "object_fit": null,
            "object_position": null,
            "order": null,
            "overflow": null,
            "overflow_x": null,
            "overflow_y": null,
            "padding": null,
            "right": null,
            "top": null,
            "visibility": null,
            "width": null
          }
        },
        "4b5e3954a66a47e497b79454793f60dc": {
          "model_module": "@jupyter-widgets/controls",
          "model_name": "ProgressStyleModel",
          "model_module_version": "1.5.0",
          "state": {
            "_model_module": "@jupyter-widgets/controls",
            "_model_module_version": "1.5.0",
            "_model_name": "ProgressStyleModel",
            "_view_count": null,
            "_view_module": "@jupyter-widgets/base",
            "_view_module_version": "1.2.0",
            "_view_name": "StyleView",
            "bar_color": null,
            "description_width": ""
          }
        },
        "bb8bf813d4a34283ae2adb43ada637e6": {
          "model_module": "@jupyter-widgets/base",
          "model_name": "LayoutModel",
          "model_module_version": "1.2.0",
          "state": {
            "_model_module": "@jupyter-widgets/base",
            "_model_module_version": "1.2.0",
            "_model_name": "LayoutModel",
            "_view_count": null,
            "_view_module": "@jupyter-widgets/base",
            "_view_module_version": "1.2.0",
            "_view_name": "LayoutView",
            "align_content": null,
            "align_items": null,
            "align_self": null,
            "border": null,
            "bottom": null,
            "display": null,
            "flex": null,
            "flex_flow": null,
            "grid_area": null,
            "grid_auto_columns": null,
            "grid_auto_flow": null,
            "grid_auto_rows": null,
            "grid_column": null,
            "grid_gap": null,
            "grid_row": null,
            "grid_template_areas": null,
            "grid_template_columns": null,
            "grid_template_rows": null,
            "height": null,
            "justify_content": null,
            "justify_items": null,
            "left": null,
            "margin": null,
            "max_height": null,
            "max_width": null,
            "min_height": null,
            "min_width": null,
            "object_fit": null,
            "object_position": null,
            "order": null,
            "overflow": null,
            "overflow_x": null,
            "overflow_y": null,
            "padding": null,
            "right": null,
            "top": null,
            "visibility": null,
            "width": null
          }
        },
        "02a88185730f4e4981aad1d6ac6328cc": {
          "model_module": "@jupyter-widgets/controls",
          "model_name": "DescriptionStyleModel",
          "model_module_version": "1.5.0",
          "state": {
            "_model_module": "@jupyter-widgets/controls",
            "_model_module_version": "1.5.0",
            "_model_name": "DescriptionStyleModel",
            "_view_count": null,
            "_view_module": "@jupyter-widgets/base",
            "_view_module_version": "1.2.0",
            "_view_name": "StyleView",
            "description_width": ""
          }
        },
        "49fdf57a7e9c4efcbf4fe3a090b625ec": {
          "model_module": "@jupyter-widgets/controls",
          "model_name": "HBoxModel",
          "model_module_version": "1.5.0",
          "state": {
            "_dom_classes": [],
            "_model_module": "@jupyter-widgets/controls",
            "_model_module_version": "1.5.0",
            "_model_name": "HBoxModel",
            "_view_count": null,
            "_view_module": "@jupyter-widgets/controls",
            "_view_module_version": "1.5.0",
            "_view_name": "HBoxView",
            "box_style": "",
            "children": [
              "IPY_MODEL_41d944041e224968a5d1fddc5785437f",
              "IPY_MODEL_f97d29af019f49c589a1aeee6e42e728",
              "IPY_MODEL_c3e48448c81e444494c351bcce63af2a"
            ],
            "layout": "IPY_MODEL_680e2825be584ddea908ead4ac43eb6c"
          }
        },
        "41d944041e224968a5d1fddc5785437f": {
          "model_module": "@jupyter-widgets/controls",
          "model_name": "HTMLModel",
          "model_module_version": "1.5.0",
          "state": {
            "_dom_classes": [],
            "_model_module": "@jupyter-widgets/controls",
            "_model_module_version": "1.5.0",
            "_model_name": "HTMLModel",
            "_view_count": null,
            "_view_module": "@jupyter-widgets/controls",
            "_view_module_version": "1.5.0",
            "_view_name": "HTMLView",
            "description": "",
            "description_tooltip": null,
            "layout": "IPY_MODEL_c886ec024fc946b5a290450889eb6e17",
            "placeholder": "​",
            "style": "IPY_MODEL_eb65895939db4a09b40f3e2e658a0129",
            "value": "config.json: 100%"
          }
        },
        "f97d29af019f49c589a1aeee6e42e728": {
          "model_module": "@jupyter-widgets/controls",
          "model_name": "FloatProgressModel",
          "model_module_version": "1.5.0",
          "state": {
            "_dom_classes": [],
            "_model_module": "@jupyter-widgets/controls",
            "_model_module_version": "1.5.0",
            "_model_name": "FloatProgressModel",
            "_view_count": null,
            "_view_module": "@jupyter-widgets/controls",
            "_view_module_version": "1.5.0",
            "_view_name": "ProgressView",
            "bar_style": "success",
            "description": "",
            "description_tooltip": null,
            "layout": "IPY_MODEL_09701e17c223468e833f4707ebb2f78f",
            "max": 918,
            "min": 0,
            "orientation": "horizontal",
            "style": "IPY_MODEL_6c204ee0a42749988da2d90e379f5b26",
            "value": 918
          }
        },
        "c3e48448c81e444494c351bcce63af2a": {
          "model_module": "@jupyter-widgets/controls",
          "model_name": "HTMLModel",
          "model_module_version": "1.5.0",
          "state": {
            "_dom_classes": [],
            "_model_module": "@jupyter-widgets/controls",
            "_model_module_version": "1.5.0",
            "_model_name": "HTMLModel",
            "_view_count": null,
            "_view_module": "@jupyter-widgets/controls",
            "_view_module_version": "1.5.0",
            "_view_name": "HTMLView",
            "description": "",
            "description_tooltip": null,
            "layout": "IPY_MODEL_88149b43be8444f1aa2b3abc7ccd6249",
            "placeholder": "​",
            "style": "IPY_MODEL_d7babe1dd9de45d6b992bc2adf7f968a",
            "value": " 918/918 [00:00&lt;00:00, 116kB/s]"
          }
        },
        "680e2825be584ddea908ead4ac43eb6c": {
          "model_module": "@jupyter-widgets/base",
          "model_name": "LayoutModel",
          "model_module_version": "1.2.0",
          "state": {
            "_model_module": "@jupyter-widgets/base",
            "_model_module_version": "1.2.0",
            "_model_name": "LayoutModel",
            "_view_count": null,
            "_view_module": "@jupyter-widgets/base",
            "_view_module_version": "1.2.0",
            "_view_name": "LayoutView",
            "align_content": null,
            "align_items": null,
            "align_self": null,
            "border": null,
            "bottom": null,
            "display": null,
            "flex": null,
            "flex_flow": null,
            "grid_area": null,
            "grid_auto_columns": null,
            "grid_auto_flow": null,
            "grid_auto_rows": null,
            "grid_column": null,
            "grid_gap": null,
            "grid_row": null,
            "grid_template_areas": null,
            "grid_template_columns": null,
            "grid_template_rows": null,
            "height": null,
            "justify_content": null,
            "justify_items": null,
            "left": null,
            "margin": null,
            "max_height": null,
            "max_width": null,
            "min_height": null,
            "min_width": null,
            "object_fit": null,
            "object_position": null,
            "order": null,
            "overflow": null,
            "overflow_x": null,
            "overflow_y": null,
            "padding": null,
            "right": null,
            "top": null,
            "visibility": null,
            "width": null
          }
        },
        "c886ec024fc946b5a290450889eb6e17": {
          "model_module": "@jupyter-widgets/base",
          "model_name": "LayoutModel",
          "model_module_version": "1.2.0",
          "state": {
            "_model_module": "@jupyter-widgets/base",
            "_model_module_version": "1.2.0",
            "_model_name": "LayoutModel",
            "_view_count": null,
            "_view_module": "@jupyter-widgets/base",
            "_view_module_version": "1.2.0",
            "_view_name": "LayoutView",
            "align_content": null,
            "align_items": null,
            "align_self": null,
            "border": null,
            "bottom": null,
            "display": null,
            "flex": null,
            "flex_flow": null,
            "grid_area": null,
            "grid_auto_columns": null,
            "grid_auto_flow": null,
            "grid_auto_rows": null,
            "grid_column": null,
            "grid_gap": null,
            "grid_row": null,
            "grid_template_areas": null,
            "grid_template_columns": null,
            "grid_template_rows": null,
            "height": null,
            "justify_content": null,
            "justify_items": null,
            "left": null,
            "margin": null,
            "max_height": null,
            "max_width": null,
            "min_height": null,
            "min_width": null,
            "object_fit": null,
            "object_position": null,
            "order": null,
            "overflow": null,
            "overflow_x": null,
            "overflow_y": null,
            "padding": null,
            "right": null,
            "top": null,
            "visibility": null,
            "width": null
          }
        },
        "eb65895939db4a09b40f3e2e658a0129": {
          "model_module": "@jupyter-widgets/controls",
          "model_name": "DescriptionStyleModel",
          "model_module_version": "1.5.0",
          "state": {
            "_model_module": "@jupyter-widgets/controls",
            "_model_module_version": "1.5.0",
            "_model_name": "DescriptionStyleModel",
            "_view_count": null,
            "_view_module": "@jupyter-widgets/base",
            "_view_module_version": "1.2.0",
            "_view_name": "StyleView",
            "description_width": ""
          }
        },
        "09701e17c223468e833f4707ebb2f78f": {
          "model_module": "@jupyter-widgets/base",
          "model_name": "LayoutModel",
          "model_module_version": "1.2.0",
          "state": {
            "_model_module": "@jupyter-widgets/base",
            "_model_module_version": "1.2.0",
            "_model_name": "LayoutModel",
            "_view_count": null,
            "_view_module": "@jupyter-widgets/base",
            "_view_module_version": "1.2.0",
            "_view_name": "LayoutView",
            "align_content": null,
            "align_items": null,
            "align_self": null,
            "border": null,
            "bottom": null,
            "display": null,
            "flex": null,
            "flex_flow": null,
            "grid_area": null,
            "grid_auto_columns": null,
            "grid_auto_flow": null,
            "grid_auto_rows": null,
            "grid_column": null,
            "grid_gap": null,
            "grid_row": null,
            "grid_template_areas": null,
            "grid_template_columns": null,
            "grid_template_rows": null,
            "height": null,
            "justify_content": null,
            "justify_items": null,
            "left": null,
            "margin": null,
            "max_height": null,
            "max_width": null,
            "min_height": null,
            "min_width": null,
            "object_fit": null,
            "object_position": null,
            "order": null,
            "overflow": null,
            "overflow_x": null,
            "overflow_y": null,
            "padding": null,
            "right": null,
            "top": null,
            "visibility": null,
            "width": null
          }
        },
        "6c204ee0a42749988da2d90e379f5b26": {
          "model_module": "@jupyter-widgets/controls",
          "model_name": "ProgressStyleModel",
          "model_module_version": "1.5.0",
          "state": {
            "_model_module": "@jupyter-widgets/controls",
            "_model_module_version": "1.5.0",
            "_model_name": "ProgressStyleModel",
            "_view_count": null,
            "_view_module": "@jupyter-widgets/base",
            "_view_module_version": "1.2.0",
            "_view_name": "StyleView",
            "bar_color": null,
            "description_width": ""
          }
        },
        "88149b43be8444f1aa2b3abc7ccd6249": {
          "model_module": "@jupyter-widgets/base",
          "model_name": "LayoutModel",
          "model_module_version": "1.2.0",
          "state": {
            "_model_module": "@jupyter-widgets/base",
            "_model_module_version": "1.2.0",
            "_model_name": "LayoutModel",
            "_view_count": null,
            "_view_module": "@jupyter-widgets/base",
            "_view_module_version": "1.2.0",
            "_view_name": "LayoutView",
            "align_content": null,
            "align_items": null,
            "align_self": null,
            "border": null,
            "bottom": null,
            "display": null,
            "flex": null,
            "flex_flow": null,
            "grid_area": null,
            "grid_auto_columns": null,
            "grid_auto_flow": null,
            "grid_auto_rows": null,
            "grid_column": null,
            "grid_gap": null,
            "grid_row": null,
            "grid_template_areas": null,
            "grid_template_columns": null,
            "grid_template_rows": null,
            "height": null,
            "justify_content": null,
            "justify_items": null,
            "left": null,
            "margin": null,
            "max_height": null,
            "max_width": null,
            "min_height": null,
            "min_width": null,
            "object_fit": null,
            "object_position": null,
            "order": null,
            "overflow": null,
            "overflow_x": null,
            "overflow_y": null,
            "padding": null,
            "right": null,
            "top": null,
            "visibility": null,
            "width": null
          }
        },
        "d7babe1dd9de45d6b992bc2adf7f968a": {
          "model_module": "@jupyter-widgets/controls",
          "model_name": "DescriptionStyleModel",
          "model_module_version": "1.5.0",
          "state": {
            "_model_module": "@jupyter-widgets/controls",
            "_model_module_version": "1.5.0",
            "_model_name": "DescriptionStyleModel",
            "_view_count": null,
            "_view_module": "@jupyter-widgets/base",
            "_view_module_version": "1.2.0",
            "_view_name": "StyleView",
            "description_width": ""
          }
        },
        "38a25b4b949c464797daf6688abc99c5": {
          "model_module": "@jupyter-widgets/controls",
          "model_name": "HBoxModel",
          "model_module_version": "1.5.0",
          "state": {
            "_dom_classes": [],
            "_model_module": "@jupyter-widgets/controls",
            "_model_module_version": "1.5.0",
            "_model_name": "HBoxModel",
            "_view_count": null,
            "_view_module": "@jupyter-widgets/controls",
            "_view_module_version": "1.5.0",
            "_view_name": "HBoxView",
            "box_style": "",
            "children": [
              "IPY_MODEL_ea586a066d0244289bca0be145c128fe",
              "IPY_MODEL_0e26c1cdbaf242bd9eaa79fbf12b6948",
              "IPY_MODEL_c6b958ea99374035a0e89a3767a74c30"
            ],
            "layout": "IPY_MODEL_0abb24c366764beaae1f61328313dea2"
          }
        },
        "ea586a066d0244289bca0be145c128fe": {
          "model_module": "@jupyter-widgets/controls",
          "model_name": "HTMLModel",
          "model_module_version": "1.5.0",
          "state": {
            "_dom_classes": [],
            "_model_module": "@jupyter-widgets/controls",
            "_model_module_version": "1.5.0",
            "_model_name": "HTMLModel",
            "_view_count": null,
            "_view_module": "@jupyter-widgets/controls",
            "_view_module_version": "1.5.0",
            "_view_name": "HTMLView",
            "description": "",
            "description_tooltip": null,
            "layout": "IPY_MODEL_96dcc579a58f49de8c75c03ed06c1e96",
            "placeholder": "​",
            "style": "IPY_MODEL_0fc228911286450b888d7ac312de05f5",
            "value": "pytorch_model.bin: 100%"
          }
        },
        "0e26c1cdbaf242bd9eaa79fbf12b6948": {
          "model_module": "@jupyter-widgets/controls",
          "model_name": "FloatProgressModel",
          "model_module_version": "1.5.0",
          "state": {
            "_dom_classes": [],
            "_model_module": "@jupyter-widgets/controls",
            "_model_module_version": "1.5.0",
            "_model_name": "FloatProgressModel",
            "_view_count": null,
            "_view_module": "@jupyter-widgets/controls",
            "_view_module_version": "1.5.0",
            "_view_name": "ProgressView",
            "bar_style": "success",
            "description": "",
            "description_tooltip": null,
            "layout": "IPY_MODEL_0e174055aebf4e60b802947bd38e852e",
            "max": 343306743,
            "min": 0,
            "orientation": "horizontal",
            "style": "IPY_MODEL_12ffc35f9fe94214a90fe10c7519adfd",
            "value": 343306743
          }
        },
        "c6b958ea99374035a0e89a3767a74c30": {
          "model_module": "@jupyter-widgets/controls",
          "model_name": "HTMLModel",
          "model_module_version": "1.5.0",
          "state": {
            "_dom_classes": [],
            "_model_module": "@jupyter-widgets/controls",
            "_model_module_version": "1.5.0",
            "_model_name": "HTMLModel",
            "_view_count": null,
            "_view_module": "@jupyter-widgets/controls",
            "_view_module_version": "1.5.0",
            "_view_name": "HTMLView",
            "description": "",
            "description_tooltip": null,
            "layout": "IPY_MODEL_8166177458214caa931757dfa18eb523",
            "placeholder": "​",
            "style": "IPY_MODEL_0e8bd46f222d4500b85912690d1e79e1",
            "value": " 343M/343M [00:06&lt;00:00, 75.4MB/s]"
          }
        },
        "0abb24c366764beaae1f61328313dea2": {
          "model_module": "@jupyter-widgets/base",
          "model_name": "LayoutModel",
          "model_module_version": "1.2.0",
          "state": {
            "_model_module": "@jupyter-widgets/base",
            "_model_module_version": "1.2.0",
            "_model_name": "LayoutModel",
            "_view_count": null,
            "_view_module": "@jupyter-widgets/base",
            "_view_module_version": "1.2.0",
            "_view_name": "LayoutView",
            "align_content": null,
            "align_items": null,
            "align_self": null,
            "border": null,
            "bottom": null,
            "display": null,
            "flex": null,
            "flex_flow": null,
            "grid_area": null,
            "grid_auto_columns": null,
            "grid_auto_flow": null,
            "grid_auto_rows": null,
            "grid_column": null,
            "grid_gap": null,
            "grid_row": null,
            "grid_template_areas": null,
            "grid_template_columns": null,
            "grid_template_rows": null,
            "height": null,
            "justify_content": null,
            "justify_items": null,
            "left": null,
            "margin": null,
            "max_height": null,
            "max_width": null,
            "min_height": null,
            "min_width": null,
            "object_fit": null,
            "object_position": null,
            "order": null,
            "overflow": null,
            "overflow_x": null,
            "overflow_y": null,
            "padding": null,
            "right": null,
            "top": null,
            "visibility": null,
            "width": null
          }
        },
        "96dcc579a58f49de8c75c03ed06c1e96": {
          "model_module": "@jupyter-widgets/base",
          "model_name": "LayoutModel",
          "model_module_version": "1.2.0",
          "state": {
            "_model_module": "@jupyter-widgets/base",
            "_model_module_version": "1.2.0",
            "_model_name": "LayoutModel",
            "_view_count": null,
            "_view_module": "@jupyter-widgets/base",
            "_view_module_version": "1.2.0",
            "_view_name": "LayoutView",
            "align_content": null,
            "align_items": null,
            "align_self": null,
            "border": null,
            "bottom": null,
            "display": null,
            "flex": null,
            "flex_flow": null,
            "grid_area": null,
            "grid_auto_columns": null,
            "grid_auto_flow": null,
            "grid_auto_rows": null,
            "grid_column": null,
            "grid_gap": null,
            "grid_row": null,
            "grid_template_areas": null,
            "grid_template_columns": null,
            "grid_template_rows": null,
            "height": null,
            "justify_content": null,
            "justify_items": null,
            "left": null,
            "margin": null,
            "max_height": null,
            "max_width": null,
            "min_height": null,
            "min_width": null,
            "object_fit": null,
            "object_position": null,
            "order": null,
            "overflow": null,
            "overflow_x": null,
            "overflow_y": null,
            "padding": null,
            "right": null,
            "top": null,
            "visibility": null,
            "width": null
          }
        },
        "0fc228911286450b888d7ac312de05f5": {
          "model_module": "@jupyter-widgets/controls",
          "model_name": "DescriptionStyleModel",
          "model_module_version": "1.5.0",
          "state": {
            "_model_module": "@jupyter-widgets/controls",
            "_model_module_version": "1.5.0",
            "_model_name": "DescriptionStyleModel",
            "_view_count": null,
            "_view_module": "@jupyter-widgets/base",
            "_view_module_version": "1.2.0",
            "_view_name": "StyleView",
            "description_width": ""
          }
        },
        "0e174055aebf4e60b802947bd38e852e": {
          "model_module": "@jupyter-widgets/base",
          "model_name": "LayoutModel",
          "model_module_version": "1.2.0",
          "state": {
            "_model_module": "@jupyter-widgets/base",
            "_model_module_version": "1.2.0",
            "_model_name": "LayoutModel",
            "_view_count": null,
            "_view_module": "@jupyter-widgets/base",
            "_view_module_version": "1.2.0",
            "_view_name": "LayoutView",
            "align_content": null,
            "align_items": null,
            "align_self": null,
            "border": null,
            "bottom": null,
            "display": null,
            "flex": null,
            "flex_flow": null,
            "grid_area": null,
            "grid_auto_columns": null,
            "grid_auto_flow": null,
            "grid_auto_rows": null,
            "grid_column": null,
            "grid_gap": null,
            "grid_row": null,
            "grid_template_areas": null,
            "grid_template_columns": null,
            "grid_template_rows": null,
            "height": null,
            "justify_content": null,
            "justify_items": null,
            "left": null,
            "margin": null,
            "max_height": null,
            "max_width": null,
            "min_height": null,
            "min_width": null,
            "object_fit": null,
            "object_position": null,
            "order": null,
            "overflow": null,
            "overflow_x": null,
            "overflow_y": null,
            "padding": null,
            "right": null,
            "top": null,
            "visibility": null,
            "width": null
          }
        },
        "12ffc35f9fe94214a90fe10c7519adfd": {
          "model_module": "@jupyter-widgets/controls",
          "model_name": "ProgressStyleModel",
          "model_module_version": "1.5.0",
          "state": {
            "_model_module": "@jupyter-widgets/controls",
            "_model_module_version": "1.5.0",
            "_model_name": "ProgressStyleModel",
            "_view_count": null,
            "_view_module": "@jupyter-widgets/base",
            "_view_module_version": "1.2.0",
            "_view_name": "StyleView",
            "bar_color": null,
            "description_width": ""
          }
        },
        "8166177458214caa931757dfa18eb523": {
          "model_module": "@jupyter-widgets/base",
          "model_name": "LayoutModel",
          "model_module_version": "1.2.0",
          "state": {
            "_model_module": "@jupyter-widgets/base",
            "_model_module_version": "1.2.0",
            "_model_name": "LayoutModel",
            "_view_count": null,
            "_view_module": "@jupyter-widgets/base",
            "_view_module_version": "1.2.0",
            "_view_name": "LayoutView",
            "align_content": null,
            "align_items": null,
            "align_self": null,
            "border": null,
            "bottom": null,
            "display": null,
            "flex": null,
            "flex_flow": null,
            "grid_area": null,
            "grid_auto_columns": null,
            "grid_auto_flow": null,
            "grid_auto_rows": null,
            "grid_column": null,
            "grid_gap": null,
            "grid_row": null,
            "grid_template_areas": null,
            "grid_template_columns": null,
            "grid_template_rows": null,
            "height": null,
            "justify_content": null,
            "justify_items": null,
            "left": null,
            "margin": null,
            "max_height": null,
            "max_width": null,
            "min_height": null,
            "min_width": null,
            "object_fit": null,
            "object_position": null,
            "order": null,
            "overflow": null,
            "overflow_x": null,
            "overflow_y": null,
            "padding": null,
            "right": null,
            "top": null,
            "visibility": null,
            "width": null
          }
        },
        "0e8bd46f222d4500b85912690d1e79e1": {
          "model_module": "@jupyter-widgets/controls",
          "model_name": "DescriptionStyleModel",
          "model_module_version": "1.5.0",
          "state": {
            "_model_module": "@jupyter-widgets/controls",
            "_model_module_version": "1.5.0",
            "_model_name": "DescriptionStyleModel",
            "_view_count": null,
            "_view_module": "@jupyter-widgets/base",
            "_view_module_version": "1.2.0",
            "_view_name": "StyleView",
            "description_width": ""
          }
        },
        "3f0c8af708574435a75a969c4c4b4678": {
          "model_module": "@jupyter-widgets/controls",
          "model_name": "HBoxModel",
          "model_module_version": "1.5.0",
          "state": {
            "_dom_classes": [],
            "_model_module": "@jupyter-widgets/controls",
            "_model_module_version": "1.5.0",
            "_model_name": "HBoxModel",
            "_view_count": null,
            "_view_module": "@jupyter-widgets/controls",
            "_view_module_version": "1.5.0",
            "_view_name": "HBoxView",
            "box_style": "",
            "children": [
              "IPY_MODEL_d016c8c7bbeb4d86856ef6452ef77ef9",
              "IPY_MODEL_648f5100434c4df3b0ece677106e61e3",
              "IPY_MODEL_5cf7b76f51f24f5fbad76d6f28301e2a"
            ],
            "layout": "IPY_MODEL_26f33ca3e13e4a21ae92dedb57063c46"
          }
        },
        "d016c8c7bbeb4d86856ef6452ef77ef9": {
          "model_module": "@jupyter-widgets/controls",
          "model_name": "HTMLModel",
          "model_module_version": "1.5.0",
          "state": {
            "_dom_classes": [],
            "_model_module": "@jupyter-widgets/controls",
            "_model_module_version": "1.5.0",
            "_model_name": "HTMLModel",
            "_view_count": null,
            "_view_module": "@jupyter-widgets/controls",
            "_view_module_version": "1.5.0",
            "_view_name": "HTMLView",
            "description": "",
            "description_tooltip": null,
            "layout": "IPY_MODEL_3334f1133f6d44a88486155bbda94979",
            "placeholder": "​",
            "style": "IPY_MODEL_798f8e152a874e59a2924ed599c6b69e",
            "value": "README.md: "
          }
        },
        "648f5100434c4df3b0ece677106e61e3": {
          "model_module": "@jupyter-widgets/controls",
          "model_name": "FloatProgressModel",
          "model_module_version": "1.5.0",
          "state": {
            "_dom_classes": [],
            "_model_module": "@jupyter-widgets/controls",
            "_model_module_version": "1.5.0",
            "_model_name": "FloatProgressModel",
            "_view_count": null,
            "_view_module": "@jupyter-widgets/controls",
            "_view_module_version": "1.5.0",
            "_view_name": "ProgressView",
            "bar_style": "success",
            "description": "",
            "description_tooltip": null,
            "layout": "IPY_MODEL_e6e1953b3f3c4f749eac1a3851d2ad50",
            "max": 1,
            "min": 0,
            "orientation": "horizontal",
            "style": "IPY_MODEL_8fb11198cad34d98b31dff25ebd8afbc",
            "value": 1
          }
        },
        "5cf7b76f51f24f5fbad76d6f28301e2a": {
          "model_module": "@jupyter-widgets/controls",
          "model_name": "HTMLModel",
          "model_module_version": "1.5.0",
          "state": {
            "_dom_classes": [],
            "_model_module": "@jupyter-widgets/controls",
            "_model_module_version": "1.5.0",
            "_model_name": "HTMLModel",
            "_view_count": null,
            "_view_module": "@jupyter-widgets/controls",
            "_view_module_version": "1.5.0",
            "_view_name": "HTMLView",
            "description": "",
            "description_tooltip": null,
            "layout": "IPY_MODEL_d48d954c62c1430992572383ba942930",
            "placeholder": "​",
            "style": "IPY_MODEL_b6fca127b5b24d1ea5f1d827e623a489",
            "value": " 5.16k/? [00:00&lt;00:00, 233kB/s]"
          }
        },
        "26f33ca3e13e4a21ae92dedb57063c46": {
          "model_module": "@jupyter-widgets/base",
          "model_name": "LayoutModel",
          "model_module_version": "1.2.0",
          "state": {
            "_model_module": "@jupyter-widgets/base",
            "_model_module_version": "1.2.0",
            "_model_name": "LayoutModel",
            "_view_count": null,
            "_view_module": "@jupyter-widgets/base",
            "_view_module_version": "1.2.0",
            "_view_name": "LayoutView",
            "align_content": null,
            "align_items": null,
            "align_self": null,
            "border": null,
            "bottom": null,
            "display": null,
            "flex": null,
            "flex_flow": null,
            "grid_area": null,
            "grid_auto_columns": null,
            "grid_auto_flow": null,
            "grid_auto_rows": null,
            "grid_column": null,
            "grid_gap": null,
            "grid_row": null,
            "grid_template_areas": null,
            "grid_template_columns": null,
            "grid_template_rows": null,
            "height": null,
            "justify_content": null,
            "justify_items": null,
            "left": null,
            "margin": null,
            "max_height": null,
            "max_width": null,
            "min_height": null,
            "min_width": null,
            "object_fit": null,
            "object_position": null,
            "order": null,
            "overflow": null,
            "overflow_x": null,
            "overflow_y": null,
            "padding": null,
            "right": null,
            "top": null,
            "visibility": null,
            "width": null
          }
        },
        "3334f1133f6d44a88486155bbda94979": {
          "model_module": "@jupyter-widgets/base",
          "model_name": "LayoutModel",
          "model_module_version": "1.2.0",
          "state": {
            "_model_module": "@jupyter-widgets/base",
            "_model_module_version": "1.2.0",
            "_model_name": "LayoutModel",
            "_view_count": null,
            "_view_module": "@jupyter-widgets/base",
            "_view_module_version": "1.2.0",
            "_view_name": "LayoutView",
            "align_content": null,
            "align_items": null,
            "align_self": null,
            "border": null,
            "bottom": null,
            "display": null,
            "flex": null,
            "flex_flow": null,
            "grid_area": null,
            "grid_auto_columns": null,
            "grid_auto_flow": null,
            "grid_auto_rows": null,
            "grid_column": null,
            "grid_gap": null,
            "grid_row": null,
            "grid_template_areas": null,
            "grid_template_columns": null,
            "grid_template_rows": null,
            "height": null,
            "justify_content": null,
            "justify_items": null,
            "left": null,
            "margin": null,
            "max_height": null,
            "max_width": null,
            "min_height": null,
            "min_width": null,
            "object_fit": null,
            "object_position": null,
            "order": null,
            "overflow": null,
            "overflow_x": null,
            "overflow_y": null,
            "padding": null,
            "right": null,
            "top": null,
            "visibility": null,
            "width": null
          }
        },
        "798f8e152a874e59a2924ed599c6b69e": {
          "model_module": "@jupyter-widgets/controls",
          "model_name": "DescriptionStyleModel",
          "model_module_version": "1.5.0",
          "state": {
            "_model_module": "@jupyter-widgets/controls",
            "_model_module_version": "1.5.0",
            "_model_name": "DescriptionStyleModel",
            "_view_count": null,
            "_view_module": "@jupyter-widgets/base",
            "_view_module_version": "1.2.0",
            "_view_name": "StyleView",
            "description_width": ""
          }
        },
        "e6e1953b3f3c4f749eac1a3851d2ad50": {
          "model_module": "@jupyter-widgets/base",
          "model_name": "LayoutModel",
          "model_module_version": "1.2.0",
          "state": {
            "_model_module": "@jupyter-widgets/base",
            "_model_module_version": "1.2.0",
            "_model_name": "LayoutModel",
            "_view_count": null,
            "_view_module": "@jupyter-widgets/base",
            "_view_module_version": "1.2.0",
            "_view_name": "LayoutView",
            "align_content": null,
            "align_items": null,
            "align_self": null,
            "border": null,
            "bottom": null,
            "display": null,
            "flex": null,
            "flex_flow": null,
            "grid_area": null,
            "grid_auto_columns": null,
            "grid_auto_flow": null,
            "grid_auto_rows": null,
            "grid_column": null,
            "grid_gap": null,
            "grid_row": null,
            "grid_template_areas": null,
            "grid_template_columns": null,
            "grid_template_rows": null,
            "height": null,
            "justify_content": null,
            "justify_items": null,
            "left": null,
            "margin": null,
            "max_height": null,
            "max_width": null,
            "min_height": null,
            "min_width": null,
            "object_fit": null,
            "object_position": null,
            "order": null,
            "overflow": null,
            "overflow_x": null,
            "overflow_y": null,
            "padding": null,
            "right": null,
            "top": null,
            "visibility": null,
            "width": "20px"
          }
        },
        "8fb11198cad34d98b31dff25ebd8afbc": {
          "model_module": "@jupyter-widgets/controls",
          "model_name": "ProgressStyleModel",
          "model_module_version": "1.5.0",
          "state": {
            "_model_module": "@jupyter-widgets/controls",
            "_model_module_version": "1.5.0",
            "_model_name": "ProgressStyleModel",
            "_view_count": null,
            "_view_module": "@jupyter-widgets/base",
            "_view_module_version": "1.2.0",
            "_view_name": "StyleView",
            "bar_color": null,
            "description_width": ""
          }
        },
        "d48d954c62c1430992572383ba942930": {
          "model_module": "@jupyter-widgets/base",
          "model_name": "LayoutModel",
          "model_module_version": "1.2.0",
          "state": {
            "_model_module": "@jupyter-widgets/base",
            "_model_module_version": "1.2.0",
            "_model_name": "LayoutModel",
            "_view_count": null,
            "_view_module": "@jupyter-widgets/base",
            "_view_module_version": "1.2.0",
            "_view_name": "LayoutView",
            "align_content": null,
            "align_items": null,
            "align_self": null,
            "border": null,
            "bottom": null,
            "display": null,
            "flex": null,
            "flex_flow": null,
            "grid_area": null,
            "grid_auto_columns": null,
            "grid_auto_flow": null,
            "grid_auto_rows": null,
            "grid_column": null,
            "grid_gap": null,
            "grid_row": null,
            "grid_template_areas": null,
            "grid_template_columns": null,
            "grid_template_rows": null,
            "height": null,
            "justify_content": null,
            "justify_items": null,
            "left": null,
            "margin": null,
            "max_height": null,
            "max_width": null,
            "min_height": null,
            "min_width": null,
            "object_fit": null,
            "object_position": null,
            "order": null,
            "overflow": null,
            "overflow_x": null,
            "overflow_y": null,
            "padding": null,
            "right": null,
            "top": null,
            "visibility": null,
            "width": null
          }
        },
        "b6fca127b5b24d1ea5f1d827e623a489": {
          "model_module": "@jupyter-widgets/controls",
          "model_name": "DescriptionStyleModel",
          "model_module_version": "1.5.0",
          "state": {
            "_model_module": "@jupyter-widgets/controls",
            "_model_module_version": "1.5.0",
            "_model_name": "DescriptionStyleModel",
            "_view_count": null,
            "_view_module": "@jupyter-widgets/base",
            "_view_module_version": "1.2.0",
            "_view_name": "StyleView",
            "description_width": ""
          }
        },
        "4ff8aa7a655e452ca4e488bd4f26ca09": {
          "model_module": "@jupyter-widgets/controls",
          "model_name": "HBoxModel",
          "model_module_version": "1.5.0",
          "state": {
            "_dom_classes": [],
            "_model_module": "@jupyter-widgets/controls",
            "_model_module_version": "1.5.0",
            "_model_name": "HBoxModel",
            "_view_count": null,
            "_view_module": "@jupyter-widgets/controls",
            "_view_module_version": "1.5.0",
            "_view_name": "HBoxView",
            "box_style": "",
            "children": [
              "IPY_MODEL_e8a0b547f85d4a4eb352298fa0164da1",
              "IPY_MODEL_6061e9e82f304bbfbde60268095d4e65",
              "IPY_MODEL_44c9615997f04350b7c19e54934fba48"
            ],
            "layout": "IPY_MODEL_7d5587d2a61a4ae6a9c46377d8d7cc77"
          }
        },
        "e8a0b547f85d4a4eb352298fa0164da1": {
          "model_module": "@jupyter-widgets/controls",
          "model_name": "HTMLModel",
          "model_module_version": "1.5.0",
          "state": {
            "_dom_classes": [],
            "_model_module": "@jupyter-widgets/controls",
            "_model_module_version": "1.5.0",
            "_model_name": "HTMLModel",
            "_view_count": null,
            "_view_module": "@jupyter-widgets/controls",
            "_view_module_version": "1.5.0",
            "_view_name": "HTMLView",
            "description": "",
            "description_tooltip": null,
            "layout": "IPY_MODEL_68b07f2a6e844429ba8b4e9dca8429a7",
            "placeholder": "​",
            "style": "IPY_MODEL_77503431580f4f739bf7da2829447cb0",
            "value": "model.safetensors: 100%"
          }
        },
        "6061e9e82f304bbfbde60268095d4e65": {
          "model_module": "@jupyter-widgets/controls",
          "model_name": "FloatProgressModel",
          "model_module_version": "1.5.0",
          "state": {
            "_dom_classes": [],
            "_model_module": "@jupyter-widgets/controls",
            "_model_module_version": "1.5.0",
            "_model_name": "FloatProgressModel",
            "_view_count": null,
            "_view_module": "@jupyter-widgets/controls",
            "_view_module_version": "1.5.0",
            "_view_name": "ProgressView",
            "bar_style": "success",
            "description": "",
            "description_tooltip": null,
            "layout": "IPY_MODEL_d9433a04d97b43e1a4844009ee9b0c93",
            "max": 343248584,
            "min": 0,
            "orientation": "horizontal",
            "style": "IPY_MODEL_1cc034afb01f441ca322f71cf5b55904",
            "value": 343248584
          }
        },
        "44c9615997f04350b7c19e54934fba48": {
          "model_module": "@jupyter-widgets/controls",
          "model_name": "HTMLModel",
          "model_module_version": "1.5.0",
          "state": {
            "_dom_classes": [],
            "_model_module": "@jupyter-widgets/controls",
            "_model_module_version": "1.5.0",
            "_model_name": "HTMLModel",
            "_view_count": null,
            "_view_module": "@jupyter-widgets/controls",
            "_view_module_version": "1.5.0",
            "_view_name": "HTMLView",
            "description": "",
            "description_tooltip": null,
            "layout": "IPY_MODEL_b9f5d2f78dc54f9da957439a8b6d402b",
            "placeholder": "​",
            "style": "IPY_MODEL_cca5279b1961477c8996a2c2b1d2240c",
            "value": " 343M/343M [00:04&lt;00:00, 73.1MB/s]"
          }
        },
        "7d5587d2a61a4ae6a9c46377d8d7cc77": {
          "model_module": "@jupyter-widgets/base",
          "model_name": "LayoutModel",
          "model_module_version": "1.2.0",
          "state": {
            "_model_module": "@jupyter-widgets/base",
            "_model_module_version": "1.2.0",
            "_model_name": "LayoutModel",
            "_view_count": null,
            "_view_module": "@jupyter-widgets/base",
            "_view_module_version": "1.2.0",
            "_view_name": "LayoutView",
            "align_content": null,
            "align_items": null,
            "align_self": null,
            "border": null,
            "bottom": null,
            "display": null,
            "flex": null,
            "flex_flow": null,
            "grid_area": null,
            "grid_auto_columns": null,
            "grid_auto_flow": null,
            "grid_auto_rows": null,
            "grid_column": null,
            "grid_gap": null,
            "grid_row": null,
            "grid_template_areas": null,
            "grid_template_columns": null,
            "grid_template_rows": null,
            "height": null,
            "justify_content": null,
            "justify_items": null,
            "left": null,
            "margin": null,
            "max_height": null,
            "max_width": null,
            "min_height": null,
            "min_width": null,
            "object_fit": null,
            "object_position": null,
            "order": null,
            "overflow": null,
            "overflow_x": null,
            "overflow_y": null,
            "padding": null,
            "right": null,
            "top": null,
            "visibility": null,
            "width": null
          }
        },
        "68b07f2a6e844429ba8b4e9dca8429a7": {
          "model_module": "@jupyter-widgets/base",
          "model_name": "LayoutModel",
          "model_module_version": "1.2.0",
          "state": {
            "_model_module": "@jupyter-widgets/base",
            "_model_module_version": "1.2.0",
            "_model_name": "LayoutModel",
            "_view_count": null,
            "_view_module": "@jupyter-widgets/base",
            "_view_module_version": "1.2.0",
            "_view_name": "LayoutView",
            "align_content": null,
            "align_items": null,
            "align_self": null,
            "border": null,
            "bottom": null,
            "display": null,
            "flex": null,
            "flex_flow": null,
            "grid_area": null,
            "grid_auto_columns": null,
            "grid_auto_flow": null,
            "grid_auto_rows": null,
            "grid_column": null,
            "grid_gap": null,
            "grid_row": null,
            "grid_template_areas": null,
            "grid_template_columns": null,
            "grid_template_rows": null,
            "height": null,
            "justify_content": null,
            "justify_items": null,
            "left": null,
            "margin": null,
            "max_height": null,
            "max_width": null,
            "min_height": null,
            "min_width": null,
            "object_fit": null,
            "object_position": null,
            "order": null,
            "overflow": null,
            "overflow_x": null,
            "overflow_y": null,
            "padding": null,
            "right": null,
            "top": null,
            "visibility": null,
            "width": null
          }
        },
        "77503431580f4f739bf7da2829447cb0": {
          "model_module": "@jupyter-widgets/controls",
          "model_name": "DescriptionStyleModel",
          "model_module_version": "1.5.0",
          "state": {
            "_model_module": "@jupyter-widgets/controls",
            "_model_module_version": "1.5.0",
            "_model_name": "DescriptionStyleModel",
            "_view_count": null,
            "_view_module": "@jupyter-widgets/base",
            "_view_module_version": "1.2.0",
            "_view_name": "StyleView",
            "description_width": ""
          }
        },
        "d9433a04d97b43e1a4844009ee9b0c93": {
          "model_module": "@jupyter-widgets/base",
          "model_name": "LayoutModel",
          "model_module_version": "1.2.0",
          "state": {
            "_model_module": "@jupyter-widgets/base",
            "_model_module_version": "1.2.0",
            "_model_name": "LayoutModel",
            "_view_count": null,
            "_view_module": "@jupyter-widgets/base",
            "_view_module_version": "1.2.0",
            "_view_name": "LayoutView",
            "align_content": null,
            "align_items": null,
            "align_self": null,
            "border": null,
            "bottom": null,
            "display": null,
            "flex": null,
            "flex_flow": null,
            "grid_area": null,
            "grid_auto_columns": null,
            "grid_auto_flow": null,
            "grid_auto_rows": null,
            "grid_column": null,
            "grid_gap": null,
            "grid_row": null,
            "grid_template_areas": null,
            "grid_template_columns": null,
            "grid_template_rows": null,
            "height": null,
            "justify_content": null,
            "justify_items": null,
            "left": null,
            "margin": null,
            "max_height": null,
            "max_width": null,
            "min_height": null,
            "min_width": null,
            "object_fit": null,
            "object_position": null,
            "order": null,
            "overflow": null,
            "overflow_x": null,
            "overflow_y": null,
            "padding": null,
            "right": null,
            "top": null,
            "visibility": null,
            "width": null
          }
        },
        "1cc034afb01f441ca322f71cf5b55904": {
          "model_module": "@jupyter-widgets/controls",
          "model_name": "ProgressStyleModel",
          "model_module_version": "1.5.0",
          "state": {
            "_model_module": "@jupyter-widgets/controls",
            "_model_module_version": "1.5.0",
            "_model_name": "ProgressStyleModel",
            "_view_count": null,
            "_view_module": "@jupyter-widgets/base",
            "_view_module_version": "1.2.0",
            "_view_name": "StyleView",
            "bar_color": null,
            "description_width": ""
          }
        },
        "b9f5d2f78dc54f9da957439a8b6d402b": {
          "model_module": "@jupyter-widgets/base",
          "model_name": "LayoutModel",
          "model_module_version": "1.2.0",
          "state": {
            "_model_module": "@jupyter-widgets/base",
            "_model_module_version": "1.2.0",
            "_model_name": "LayoutModel",
            "_view_count": null,
            "_view_module": "@jupyter-widgets/base",
            "_view_module_version": "1.2.0",
            "_view_name": "LayoutView",
            "align_content": null,
            "align_items": null,
            "align_self": null,
            "border": null,
            "bottom": null,
            "display": null,
            "flex": null,
            "flex_flow": null,
            "grid_area": null,
            "grid_auto_columns": null,
            "grid_auto_flow": null,
            "grid_auto_rows": null,
            "grid_column": null,
            "grid_gap": null,
            "grid_row": null,
            "grid_template_areas": null,
            "grid_template_columns": null,
            "grid_template_rows": null,
            "height": null,
            "justify_content": null,
            "justify_items": null,
            "left": null,
            "margin": null,
            "max_height": null,
            "max_width": null,
            "min_height": null,
            "min_width": null,
            "object_fit": null,
            "object_position": null,
            "order": null,
            "overflow": null,
            "overflow_x": null,
            "overflow_y": null,
            "padding": null,
            "right": null,
            "top": null,
            "visibility": null,
            "width": null
          }
        },
        "cca5279b1961477c8996a2c2b1d2240c": {
          "model_module": "@jupyter-widgets/controls",
          "model_name": "DescriptionStyleModel",
          "model_module_version": "1.5.0",
          "state": {
            "_model_module": "@jupyter-widgets/controls",
            "_model_module_version": "1.5.0",
            "_model_name": "DescriptionStyleModel",
            "_view_count": null,
            "_view_module": "@jupyter-widgets/base",
            "_view_module_version": "1.2.0",
            "_view_name": "StyleView",
            "description_width": ""
          }
        },
        "be158c2a978044ac86f6846695a8a537": {
          "model_module": "@jupyter-widgets/controls",
          "model_name": "HBoxModel",
          "model_module_version": "1.5.0",
          "state": {
            "_dom_classes": [],
            "_model_module": "@jupyter-widgets/controls",
            "_model_module_version": "1.5.0",
            "_model_name": "HBoxModel",
            "_view_count": null,
            "_view_module": "@jupyter-widgets/controls",
            "_view_module_version": "1.5.0",
            "_view_name": "HBoxView",
            "box_style": "",
            "children": [
              "IPY_MODEL_ab9bd62b2909402b819bc920e25784f7",
              "IPY_MODEL_1180379d18db4699aaabf34b7441d602",
              "IPY_MODEL_a4da22a2c7ca4fd397659b2071d9131d"
            ],
            "layout": "IPY_MODEL_550cb98d4c5b49c98c2ec5be4592843f"
          }
        },
        "ab9bd62b2909402b819bc920e25784f7": {
          "model_module": "@jupyter-widgets/controls",
          "model_name": "HTMLModel",
          "model_module_version": "1.5.0",
          "state": {
            "_dom_classes": [],
            "_model_module": "@jupyter-widgets/controls",
            "_model_module_version": "1.5.0",
            "_model_name": "HTMLModel",
            "_view_count": null,
            "_view_module": "@jupyter-widgets/controls",
            "_view_module_version": "1.5.0",
            "_view_name": "HTMLView",
            "description": "",
            "description_tooltip": null,
            "layout": "IPY_MODEL_cafd9b1254fd4e6594fe0faa96d867a3",
            "placeholder": "​",
            "style": "IPY_MODEL_a956ecad9fd3484cbffbc5a1b3dfcf51",
            "value": "plain_text/train-00000-of-00001.parquet: 100%"
          }
        },
        "1180379d18db4699aaabf34b7441d602": {
          "model_module": "@jupyter-widgets/controls",
          "model_name": "FloatProgressModel",
          "model_module_version": "1.5.0",
          "state": {
            "_dom_classes": [],
            "_model_module": "@jupyter-widgets/controls",
            "_model_module_version": "1.5.0",
            "_model_name": "FloatProgressModel",
            "_view_count": null,
            "_view_module": "@jupyter-widgets/controls",
            "_view_module_version": "1.5.0",
            "_view_name": "ProgressView",
            "bar_style": "success",
            "description": "",
            "description_tooltip": null,
            "layout": "IPY_MODEL_93392edf7e774743baa303aa3a308edb",
            "max": 119705255,
            "min": 0,
            "orientation": "horizontal",
            "style": "IPY_MODEL_54610c74ffe1456a8f4695c4872706b3",
            "value": 119705255
          }
        },
        "a4da22a2c7ca4fd397659b2071d9131d": {
          "model_module": "@jupyter-widgets/controls",
          "model_name": "HTMLModel",
          "model_module_version": "1.5.0",
          "state": {
            "_dom_classes": [],
            "_model_module": "@jupyter-widgets/controls",
            "_model_module_version": "1.5.0",
            "_model_name": "HTMLModel",
            "_view_count": null,
            "_view_module": "@jupyter-widgets/controls",
            "_view_module_version": "1.5.0",
            "_view_name": "HTMLView",
            "description": "",
            "description_tooltip": null,
            "layout": "IPY_MODEL_2e6c82f78d284f7382e64b1248420b72",
            "placeholder": "​",
            "style": "IPY_MODEL_f80a34eaa6db47edb9dfb775effe5fd7",
            "value": " 120M/120M [00:06&lt;00:00, 23.1MB/s]"
          }
        },
        "550cb98d4c5b49c98c2ec5be4592843f": {
          "model_module": "@jupyter-widgets/base",
          "model_name": "LayoutModel",
          "model_module_version": "1.2.0",
          "state": {
            "_model_module": "@jupyter-widgets/base",
            "_model_module_version": "1.2.0",
            "_model_name": "LayoutModel",
            "_view_count": null,
            "_view_module": "@jupyter-widgets/base",
            "_view_module_version": "1.2.0",
            "_view_name": "LayoutView",
            "align_content": null,
            "align_items": null,
            "align_self": null,
            "border": null,
            "bottom": null,
            "display": null,
            "flex": null,
            "flex_flow": null,
            "grid_area": null,
            "grid_auto_columns": null,
            "grid_auto_flow": null,
            "grid_auto_rows": null,
            "grid_column": null,
            "grid_gap": null,
            "grid_row": null,
            "grid_template_areas": null,
            "grid_template_columns": null,
            "grid_template_rows": null,
            "height": null,
            "justify_content": null,
            "justify_items": null,
            "left": null,
            "margin": null,
            "max_height": null,
            "max_width": null,
            "min_height": null,
            "min_width": null,
            "object_fit": null,
            "object_position": null,
            "order": null,
            "overflow": null,
            "overflow_x": null,
            "overflow_y": null,
            "padding": null,
            "right": null,
            "top": null,
            "visibility": null,
            "width": null
          }
        },
        "cafd9b1254fd4e6594fe0faa96d867a3": {
          "model_module": "@jupyter-widgets/base",
          "model_name": "LayoutModel",
          "model_module_version": "1.2.0",
          "state": {
            "_model_module": "@jupyter-widgets/base",
            "_model_module_version": "1.2.0",
            "_model_name": "LayoutModel",
            "_view_count": null,
            "_view_module": "@jupyter-widgets/base",
            "_view_module_version": "1.2.0",
            "_view_name": "LayoutView",
            "align_content": null,
            "align_items": null,
            "align_self": null,
            "border": null,
            "bottom": null,
            "display": null,
            "flex": null,
            "flex_flow": null,
            "grid_area": null,
            "grid_auto_columns": null,
            "grid_auto_flow": null,
            "grid_auto_rows": null,
            "grid_column": null,
            "grid_gap": null,
            "grid_row": null,
            "grid_template_areas": null,
            "grid_template_columns": null,
            "grid_template_rows": null,
            "height": null,
            "justify_content": null,
            "justify_items": null,
            "left": null,
            "margin": null,
            "max_height": null,
            "max_width": null,
            "min_height": null,
            "min_width": null,
            "object_fit": null,
            "object_position": null,
            "order": null,
            "overflow": null,
            "overflow_x": null,
            "overflow_y": null,
            "padding": null,
            "right": null,
            "top": null,
            "visibility": null,
            "width": null
          }
        },
        "a956ecad9fd3484cbffbc5a1b3dfcf51": {
          "model_module": "@jupyter-widgets/controls",
          "model_name": "DescriptionStyleModel",
          "model_module_version": "1.5.0",
          "state": {
            "_model_module": "@jupyter-widgets/controls",
            "_model_module_version": "1.5.0",
            "_model_name": "DescriptionStyleModel",
            "_view_count": null,
            "_view_module": "@jupyter-widgets/base",
            "_view_module_version": "1.2.0",
            "_view_name": "StyleView",
            "description_width": ""
          }
        },
        "93392edf7e774743baa303aa3a308edb": {
          "model_module": "@jupyter-widgets/base",
          "model_name": "LayoutModel",
          "model_module_version": "1.2.0",
          "state": {
            "_model_module": "@jupyter-widgets/base",
            "_model_module_version": "1.2.0",
            "_model_name": "LayoutModel",
            "_view_count": null,
            "_view_module": "@jupyter-widgets/base",
            "_view_module_version": "1.2.0",
            "_view_name": "LayoutView",
            "align_content": null,
            "align_items": null,
            "align_self": null,
            "border": null,
            "bottom": null,
            "display": null,
            "flex": null,
            "flex_flow": null,
            "grid_area": null,
            "grid_auto_columns": null,
            "grid_auto_flow": null,
            "grid_auto_rows": null,
            "grid_column": null,
            "grid_gap": null,
            "grid_row": null,
            "grid_template_areas": null,
            "grid_template_columns": null,
            "grid_template_rows": null,
            "height": null,
            "justify_content": null,
            "justify_items": null,
            "left": null,
            "margin": null,
            "max_height": null,
            "max_width": null,
            "min_height": null,
            "min_width": null,
            "object_fit": null,
            "object_position": null,
            "order": null,
            "overflow": null,
            "overflow_x": null,
            "overflow_y": null,
            "padding": null,
            "right": null,
            "top": null,
            "visibility": null,
            "width": null
          }
        },
        "54610c74ffe1456a8f4695c4872706b3": {
          "model_module": "@jupyter-widgets/controls",
          "model_name": "ProgressStyleModel",
          "model_module_version": "1.5.0",
          "state": {
            "_model_module": "@jupyter-widgets/controls",
            "_model_module_version": "1.5.0",
            "_model_name": "ProgressStyleModel",
            "_view_count": null,
            "_view_module": "@jupyter-widgets/base",
            "_view_module_version": "1.2.0",
            "_view_name": "StyleView",
            "bar_color": null,
            "description_width": ""
          }
        },
        "2e6c82f78d284f7382e64b1248420b72": {
          "model_module": "@jupyter-widgets/base",
          "model_name": "LayoutModel",
          "model_module_version": "1.2.0",
          "state": {
            "_model_module": "@jupyter-widgets/base",
            "_model_module_version": "1.2.0",
            "_model_name": "LayoutModel",
            "_view_count": null,
            "_view_module": "@jupyter-widgets/base",
            "_view_module_version": "1.2.0",
            "_view_name": "LayoutView",
            "align_content": null,
            "align_items": null,
            "align_self": null,
            "border": null,
            "bottom": null,
            "display": null,
            "flex": null,
            "flex_flow": null,
            "grid_area": null,
            "grid_auto_columns": null,
            "grid_auto_flow": null,
            "grid_auto_rows": null,
            "grid_column": null,
            "grid_gap": null,
            "grid_row": null,
            "grid_template_areas": null,
            "grid_template_columns": null,
            "grid_template_rows": null,
            "height": null,
            "justify_content": null,
            "justify_items": null,
            "left": null,
            "margin": null,
            "max_height": null,
            "max_width": null,
            "min_height": null,
            "min_width": null,
            "object_fit": null,
            "object_position": null,
            "order": null,
            "overflow": null,
            "overflow_x": null,
            "overflow_y": null,
            "padding": null,
            "right": null,
            "top": null,
            "visibility": null,
            "width": null
          }
        },
        "f80a34eaa6db47edb9dfb775effe5fd7": {
          "model_module": "@jupyter-widgets/controls",
          "model_name": "DescriptionStyleModel",
          "model_module_version": "1.5.0",
          "state": {
            "_model_module": "@jupyter-widgets/controls",
            "_model_module_version": "1.5.0",
            "_model_name": "DescriptionStyleModel",
            "_view_count": null,
            "_view_module": "@jupyter-widgets/base",
            "_view_module_version": "1.2.0",
            "_view_name": "StyleView",
            "description_width": ""
          }
        },
        "cd71e26fcfaa464da200d826b618f4e6": {
          "model_module": "@jupyter-widgets/controls",
          "model_name": "HBoxModel",
          "model_module_version": "1.5.0",
          "state": {
            "_dom_classes": [],
            "_model_module": "@jupyter-widgets/controls",
            "_model_module_version": "1.5.0",
            "_model_name": "HBoxModel",
            "_view_count": null,
            "_view_module": "@jupyter-widgets/controls",
            "_view_module_version": "1.5.0",
            "_view_name": "HBoxView",
            "box_style": "",
            "children": [
              "IPY_MODEL_ee46b7271e1c42ef926da568969af14f",
              "IPY_MODEL_fa6217393f5c404fb38da45fca776456",
              "IPY_MODEL_cfcda15259c24255a546c2316f2ccae8"
            ],
            "layout": "IPY_MODEL_43681ab9eb324724939c2766a740a409"
          }
        },
        "ee46b7271e1c42ef926da568969af14f": {
          "model_module": "@jupyter-widgets/controls",
          "model_name": "HTMLModel",
          "model_module_version": "1.5.0",
          "state": {
            "_dom_classes": [],
            "_model_module": "@jupyter-widgets/controls",
            "_model_module_version": "1.5.0",
            "_model_name": "HTMLModel",
            "_view_count": null,
            "_view_module": "@jupyter-widgets/controls",
            "_view_module_version": "1.5.0",
            "_view_name": "HTMLView",
            "description": "",
            "description_tooltip": null,
            "layout": "IPY_MODEL_fa182027223747c2bd888da9935492ba",
            "placeholder": "​",
            "style": "IPY_MODEL_c923404812dd4bdab45b8e33325b2178",
            "value": "plain_text/test-00000-of-00001.parquet: 100%"
          }
        },
        "fa6217393f5c404fb38da45fca776456": {
          "model_module": "@jupyter-widgets/controls",
          "model_name": "FloatProgressModel",
          "model_module_version": "1.5.0",
          "state": {
            "_dom_classes": [],
            "_model_module": "@jupyter-widgets/controls",
            "_model_module_version": "1.5.0",
            "_model_name": "FloatProgressModel",
            "_view_count": null,
            "_view_module": "@jupyter-widgets/controls",
            "_view_module_version": "1.5.0",
            "_view_name": "ProgressView",
            "bar_style": "success",
            "description": "",
            "description_tooltip": null,
            "layout": "IPY_MODEL_b85174bad29b416cae48b81bed618d72",
            "max": 23940850,
            "min": 0,
            "orientation": "horizontal",
            "style": "IPY_MODEL_083c4cb88cb14452a3046d1bf123642b",
            "value": 23940850
          }
        },
        "cfcda15259c24255a546c2316f2ccae8": {
          "model_module": "@jupyter-widgets/controls",
          "model_name": "HTMLModel",
          "model_module_version": "1.5.0",
          "state": {
            "_dom_classes": [],
            "_model_module": "@jupyter-widgets/controls",
            "_model_module_version": "1.5.0",
            "_model_name": "HTMLModel",
            "_view_count": null,
            "_view_module": "@jupyter-widgets/controls",
            "_view_module_version": "1.5.0",
            "_view_name": "HTMLView",
            "description": "",
            "description_tooltip": null,
            "layout": "IPY_MODEL_f60273057c144ffaaad379f578b284c5",
            "placeholder": "​",
            "style": "IPY_MODEL_59737ee8ebea4299ae72bea0d69d9c21",
            "value": " 23.9M/23.9M [00:00&lt;00:00, 50.8MB/s]"
          }
        },
        "43681ab9eb324724939c2766a740a409": {
          "model_module": "@jupyter-widgets/base",
          "model_name": "LayoutModel",
          "model_module_version": "1.2.0",
          "state": {
            "_model_module": "@jupyter-widgets/base",
            "_model_module_version": "1.2.0",
            "_model_name": "LayoutModel",
            "_view_count": null,
            "_view_module": "@jupyter-widgets/base",
            "_view_module_version": "1.2.0",
            "_view_name": "LayoutView",
            "align_content": null,
            "align_items": null,
            "align_self": null,
            "border": null,
            "bottom": null,
            "display": null,
            "flex": null,
            "flex_flow": null,
            "grid_area": null,
            "grid_auto_columns": null,
            "grid_auto_flow": null,
            "grid_auto_rows": null,
            "grid_column": null,
            "grid_gap": null,
            "grid_row": null,
            "grid_template_areas": null,
            "grid_template_columns": null,
            "grid_template_rows": null,
            "height": null,
            "justify_content": null,
            "justify_items": null,
            "left": null,
            "margin": null,
            "max_height": null,
            "max_width": null,
            "min_height": null,
            "min_width": null,
            "object_fit": null,
            "object_position": null,
            "order": null,
            "overflow": null,
            "overflow_x": null,
            "overflow_y": null,
            "padding": null,
            "right": null,
            "top": null,
            "visibility": null,
            "width": null
          }
        },
        "fa182027223747c2bd888da9935492ba": {
          "model_module": "@jupyter-widgets/base",
          "model_name": "LayoutModel",
          "model_module_version": "1.2.0",
          "state": {
            "_model_module": "@jupyter-widgets/base",
            "_model_module_version": "1.2.0",
            "_model_name": "LayoutModel",
            "_view_count": null,
            "_view_module": "@jupyter-widgets/base",
            "_view_module_version": "1.2.0",
            "_view_name": "LayoutView",
            "align_content": null,
            "align_items": null,
            "align_self": null,
            "border": null,
            "bottom": null,
            "display": null,
            "flex": null,
            "flex_flow": null,
            "grid_area": null,
            "grid_auto_columns": null,
            "grid_auto_flow": null,
            "grid_auto_rows": null,
            "grid_column": null,
            "grid_gap": null,
            "grid_row": null,
            "grid_template_areas": null,
            "grid_template_columns": null,
            "grid_template_rows": null,
            "height": null,
            "justify_content": null,
            "justify_items": null,
            "left": null,
            "margin": null,
            "max_height": null,
            "max_width": null,
            "min_height": null,
            "min_width": null,
            "object_fit": null,
            "object_position": null,
            "order": null,
            "overflow": null,
            "overflow_x": null,
            "overflow_y": null,
            "padding": null,
            "right": null,
            "top": null,
            "visibility": null,
            "width": null
          }
        },
        "c923404812dd4bdab45b8e33325b2178": {
          "model_module": "@jupyter-widgets/controls",
          "model_name": "DescriptionStyleModel",
          "model_module_version": "1.5.0",
          "state": {
            "_model_module": "@jupyter-widgets/controls",
            "_model_module_version": "1.5.0",
            "_model_name": "DescriptionStyleModel",
            "_view_count": null,
            "_view_module": "@jupyter-widgets/base",
            "_view_module_version": "1.2.0",
            "_view_name": "StyleView",
            "description_width": ""
          }
        },
        "b85174bad29b416cae48b81bed618d72": {
          "model_module": "@jupyter-widgets/base",
          "model_name": "LayoutModel",
          "model_module_version": "1.2.0",
          "state": {
            "_model_module": "@jupyter-widgets/base",
            "_model_module_version": "1.2.0",
            "_model_name": "LayoutModel",
            "_view_count": null,
            "_view_module": "@jupyter-widgets/base",
            "_view_module_version": "1.2.0",
            "_view_name": "LayoutView",
            "align_content": null,
            "align_items": null,
            "align_self": null,
            "border": null,
            "bottom": null,
            "display": null,
            "flex": null,
            "flex_flow": null,
            "grid_area": null,
            "grid_auto_columns": null,
            "grid_auto_flow": null,
            "grid_auto_rows": null,
            "grid_column": null,
            "grid_gap": null,
            "grid_row": null,
            "grid_template_areas": null,
            "grid_template_columns": null,
            "grid_template_rows": null,
            "height": null,
            "justify_content": null,
            "justify_items": null,
            "left": null,
            "margin": null,
            "max_height": null,
            "max_width": null,
            "min_height": null,
            "min_width": null,
            "object_fit": null,
            "object_position": null,
            "order": null,
            "overflow": null,
            "overflow_x": null,
            "overflow_y": null,
            "padding": null,
            "right": null,
            "top": null,
            "visibility": null,
            "width": null
          }
        },
        "083c4cb88cb14452a3046d1bf123642b": {
          "model_module": "@jupyter-widgets/controls",
          "model_name": "ProgressStyleModel",
          "model_module_version": "1.5.0",
          "state": {
            "_model_module": "@jupyter-widgets/controls",
            "_model_module_version": "1.5.0",
            "_model_name": "ProgressStyleModel",
            "_view_count": null,
            "_view_module": "@jupyter-widgets/base",
            "_view_module_version": "1.2.0",
            "_view_name": "StyleView",
            "bar_color": null,
            "description_width": ""
          }
        },
        "f60273057c144ffaaad379f578b284c5": {
          "model_module": "@jupyter-widgets/base",
          "model_name": "LayoutModel",
          "model_module_version": "1.2.0",
          "state": {
            "_model_module": "@jupyter-widgets/base",
            "_model_module_version": "1.2.0",
            "_model_name": "LayoutModel",
            "_view_count": null,
            "_view_module": "@jupyter-widgets/base",
            "_view_module_version": "1.2.0",
            "_view_name": "LayoutView",
            "align_content": null,
            "align_items": null,
            "align_self": null,
            "border": null,
            "bottom": null,
            "display": null,
            "flex": null,
            "flex_flow": null,
            "grid_area": null,
            "grid_auto_columns": null,
            "grid_auto_flow": null,
            "grid_auto_rows": null,
            "grid_column": null,
            "grid_gap": null,
            "grid_row": null,
            "grid_template_areas": null,
            "grid_template_columns": null,
            "grid_template_rows": null,
            "height": null,
            "justify_content": null,
            "justify_items": null,
            "left": null,
            "margin": null,
            "max_height": null,
            "max_width": null,
            "min_height": null,
            "min_width": null,
            "object_fit": null,
            "object_position": null,
            "order": null,
            "overflow": null,
            "overflow_x": null,
            "overflow_y": null,
            "padding": null,
            "right": null,
            "top": null,
            "visibility": null,
            "width": null
          }
        },
        "59737ee8ebea4299ae72bea0d69d9c21": {
          "model_module": "@jupyter-widgets/controls",
          "model_name": "DescriptionStyleModel",
          "model_module_version": "1.5.0",
          "state": {
            "_model_module": "@jupyter-widgets/controls",
            "_model_module_version": "1.5.0",
            "_model_name": "DescriptionStyleModel",
            "_view_count": null,
            "_view_module": "@jupyter-widgets/base",
            "_view_module_version": "1.2.0",
            "_view_name": "StyleView",
            "description_width": ""
          }
        },
        "431bd5c399c74cccb9574c1a6c4ce654": {
          "model_module": "@jupyter-widgets/controls",
          "model_name": "HBoxModel",
          "model_module_version": "1.5.0",
          "state": {
            "_dom_classes": [],
            "_model_module": "@jupyter-widgets/controls",
            "_model_module_version": "1.5.0",
            "_model_name": "HBoxModel",
            "_view_count": null,
            "_view_module": "@jupyter-widgets/controls",
            "_view_module_version": "1.5.0",
            "_view_name": "HBoxView",
            "box_style": "",
            "children": [
              "IPY_MODEL_cffbeb33d97048b1ba65133be66530b5",
              "IPY_MODEL_c24e9ff0b9414c06a1ca03f124522b8c",
              "IPY_MODEL_f91fc0e4f9a949baacbdcb9bf1cd20d3"
            ],
            "layout": "IPY_MODEL_96f2b95c48cb47c986e78aaa7ff5c5b8"
          }
        },
        "cffbeb33d97048b1ba65133be66530b5": {
          "model_module": "@jupyter-widgets/controls",
          "model_name": "HTMLModel",
          "model_module_version": "1.5.0",
          "state": {
            "_dom_classes": [],
            "_model_module": "@jupyter-widgets/controls",
            "_model_module_version": "1.5.0",
            "_model_name": "HTMLModel",
            "_view_count": null,
            "_view_module": "@jupyter-widgets/controls",
            "_view_module_version": "1.5.0",
            "_view_name": "HTMLView",
            "description": "",
            "description_tooltip": null,
            "layout": "IPY_MODEL_e30dabafcd8a451b8eaac409dfa99fbf",
            "placeholder": "​",
            "style": "IPY_MODEL_bb87fc0e7d264193a75e7e5f8cef63b6",
            "value": "Generating train split: 100%"
          }
        },
        "c24e9ff0b9414c06a1ca03f124522b8c": {
          "model_module": "@jupyter-widgets/controls",
          "model_name": "FloatProgressModel",
          "model_module_version": "1.5.0",
          "state": {
            "_dom_classes": [],
            "_model_module": "@jupyter-widgets/controls",
            "_model_module_version": "1.5.0",
            "_model_name": "FloatProgressModel",
            "_view_count": null,
            "_view_module": "@jupyter-widgets/controls",
            "_view_module_version": "1.5.0",
            "_view_name": "ProgressView",
            "bar_style": "success",
            "description": "",
            "description_tooltip": null,
            "layout": "IPY_MODEL_234e9443acc14b4eaee8c9ea96e1bf83",
            "max": 50000,
            "min": 0,
            "orientation": "horizontal",
            "style": "IPY_MODEL_86db55ecf3ef428bab0a869f4d13fcf2",
            "value": 50000
          }
        },
        "f91fc0e4f9a949baacbdcb9bf1cd20d3": {
          "model_module": "@jupyter-widgets/controls",
          "model_name": "HTMLModel",
          "model_module_version": "1.5.0",
          "state": {
            "_dom_classes": [],
            "_model_module": "@jupyter-widgets/controls",
            "_model_module_version": "1.5.0",
            "_model_name": "HTMLModel",
            "_view_count": null,
            "_view_module": "@jupyter-widgets/controls",
            "_view_module_version": "1.5.0",
            "_view_name": "HTMLView",
            "description": "",
            "description_tooltip": null,
            "layout": "IPY_MODEL_e7d9301b237d4394a37f89fc0029f742",
            "placeholder": "​",
            "style": "IPY_MODEL_8ecda325012444978a97a5e2707c8413",
            "value": " 50000/50000 [00:00&lt;00:00, 106311.97 examples/s]"
          }
        },
        "96f2b95c48cb47c986e78aaa7ff5c5b8": {
          "model_module": "@jupyter-widgets/base",
          "model_name": "LayoutModel",
          "model_module_version": "1.2.0",
          "state": {
            "_model_module": "@jupyter-widgets/base",
            "_model_module_version": "1.2.0",
            "_model_name": "LayoutModel",
            "_view_count": null,
            "_view_module": "@jupyter-widgets/base",
            "_view_module_version": "1.2.0",
            "_view_name": "LayoutView",
            "align_content": null,
            "align_items": null,
            "align_self": null,
            "border": null,
            "bottom": null,
            "display": null,
            "flex": null,
            "flex_flow": null,
            "grid_area": null,
            "grid_auto_columns": null,
            "grid_auto_flow": null,
            "grid_auto_rows": null,
            "grid_column": null,
            "grid_gap": null,
            "grid_row": null,
            "grid_template_areas": null,
            "grid_template_columns": null,
            "grid_template_rows": null,
            "height": null,
            "justify_content": null,
            "justify_items": null,
            "left": null,
            "margin": null,
            "max_height": null,
            "max_width": null,
            "min_height": null,
            "min_width": null,
            "object_fit": null,
            "object_position": null,
            "order": null,
            "overflow": null,
            "overflow_x": null,
            "overflow_y": null,
            "padding": null,
            "right": null,
            "top": null,
            "visibility": null,
            "width": null
          }
        },
        "e30dabafcd8a451b8eaac409dfa99fbf": {
          "model_module": "@jupyter-widgets/base",
          "model_name": "LayoutModel",
          "model_module_version": "1.2.0",
          "state": {
            "_model_module": "@jupyter-widgets/base",
            "_model_module_version": "1.2.0",
            "_model_name": "LayoutModel",
            "_view_count": null,
            "_view_module": "@jupyter-widgets/base",
            "_view_module_version": "1.2.0",
            "_view_name": "LayoutView",
            "align_content": null,
            "align_items": null,
            "align_self": null,
            "border": null,
            "bottom": null,
            "display": null,
            "flex": null,
            "flex_flow": null,
            "grid_area": null,
            "grid_auto_columns": null,
            "grid_auto_flow": null,
            "grid_auto_rows": null,
            "grid_column": null,
            "grid_gap": null,
            "grid_row": null,
            "grid_template_areas": null,
            "grid_template_columns": null,
            "grid_template_rows": null,
            "height": null,
            "justify_content": null,
            "justify_items": null,
            "left": null,
            "margin": null,
            "max_height": null,
            "max_width": null,
            "min_height": null,
            "min_width": null,
            "object_fit": null,
            "object_position": null,
            "order": null,
            "overflow": null,
            "overflow_x": null,
            "overflow_y": null,
            "padding": null,
            "right": null,
            "top": null,
            "visibility": null,
            "width": null
          }
        },
        "bb87fc0e7d264193a75e7e5f8cef63b6": {
          "model_module": "@jupyter-widgets/controls",
          "model_name": "DescriptionStyleModel",
          "model_module_version": "1.5.0",
          "state": {
            "_model_module": "@jupyter-widgets/controls",
            "_model_module_version": "1.5.0",
            "_model_name": "DescriptionStyleModel",
            "_view_count": null,
            "_view_module": "@jupyter-widgets/base",
            "_view_module_version": "1.2.0",
            "_view_name": "StyleView",
            "description_width": ""
          }
        },
        "234e9443acc14b4eaee8c9ea96e1bf83": {
          "model_module": "@jupyter-widgets/base",
          "model_name": "LayoutModel",
          "model_module_version": "1.2.0",
          "state": {
            "_model_module": "@jupyter-widgets/base",
            "_model_module_version": "1.2.0",
            "_model_name": "LayoutModel",
            "_view_count": null,
            "_view_module": "@jupyter-widgets/base",
            "_view_module_version": "1.2.0",
            "_view_name": "LayoutView",
            "align_content": null,
            "align_items": null,
            "align_self": null,
            "border": null,
            "bottom": null,
            "display": null,
            "flex": null,
            "flex_flow": null,
            "grid_area": null,
            "grid_auto_columns": null,
            "grid_auto_flow": null,
            "grid_auto_rows": null,
            "grid_column": null,
            "grid_gap": null,
            "grid_row": null,
            "grid_template_areas": null,
            "grid_template_columns": null,
            "grid_template_rows": null,
            "height": null,
            "justify_content": null,
            "justify_items": null,
            "left": null,
            "margin": null,
            "max_height": null,
            "max_width": null,
            "min_height": null,
            "min_width": null,
            "object_fit": null,
            "object_position": null,
            "order": null,
            "overflow": null,
            "overflow_x": null,
            "overflow_y": null,
            "padding": null,
            "right": null,
            "top": null,
            "visibility": null,
            "width": null
          }
        },
        "86db55ecf3ef428bab0a869f4d13fcf2": {
          "model_module": "@jupyter-widgets/controls",
          "model_name": "ProgressStyleModel",
          "model_module_version": "1.5.0",
          "state": {
            "_model_module": "@jupyter-widgets/controls",
            "_model_module_version": "1.5.0",
            "_model_name": "ProgressStyleModel",
            "_view_count": null,
            "_view_module": "@jupyter-widgets/base",
            "_view_module_version": "1.2.0",
            "_view_name": "StyleView",
            "bar_color": null,
            "description_width": ""
          }
        },
        "e7d9301b237d4394a37f89fc0029f742": {
          "model_module": "@jupyter-widgets/base",
          "model_name": "LayoutModel",
          "model_module_version": "1.2.0",
          "state": {
            "_model_module": "@jupyter-widgets/base",
            "_model_module_version": "1.2.0",
            "_model_name": "LayoutModel",
            "_view_count": null,
            "_view_module": "@jupyter-widgets/base",
            "_view_module_version": "1.2.0",
            "_view_name": "LayoutView",
            "align_content": null,
            "align_items": null,
            "align_self": null,
            "border": null,
            "bottom": null,
            "display": null,
            "flex": null,
            "flex_flow": null,
            "grid_area": null,
            "grid_auto_columns": null,
            "grid_auto_flow": null,
            "grid_auto_rows": null,
            "grid_column": null,
            "grid_gap": null,
            "grid_row": null,
            "grid_template_areas": null,
            "grid_template_columns": null,
            "grid_template_rows": null,
            "height": null,
            "justify_content": null,
            "justify_items": null,
            "left": null,
            "margin": null,
            "max_height": null,
            "max_width": null,
            "min_height": null,
            "min_width": null,
            "object_fit": null,
            "object_position": null,
            "order": null,
            "overflow": null,
            "overflow_x": null,
            "overflow_y": null,
            "padding": null,
            "right": null,
            "top": null,
            "visibility": null,
            "width": null
          }
        },
        "8ecda325012444978a97a5e2707c8413": {
          "model_module": "@jupyter-widgets/controls",
          "model_name": "DescriptionStyleModel",
          "model_module_version": "1.5.0",
          "state": {
            "_model_module": "@jupyter-widgets/controls",
            "_model_module_version": "1.5.0",
            "_model_name": "DescriptionStyleModel",
            "_view_count": null,
            "_view_module": "@jupyter-widgets/base",
            "_view_module_version": "1.2.0",
            "_view_name": "StyleView",
            "description_width": ""
          }
        },
        "ecf7575ff3c040db9f72265b9ebc17e8": {
          "model_module": "@jupyter-widgets/controls",
          "model_name": "HBoxModel",
          "model_module_version": "1.5.0",
          "state": {
            "_dom_classes": [],
            "_model_module": "@jupyter-widgets/controls",
            "_model_module_version": "1.5.0",
            "_model_name": "HBoxModel",
            "_view_count": null,
            "_view_module": "@jupyter-widgets/controls",
            "_view_module_version": "1.5.0",
            "_view_name": "HBoxView",
            "box_style": "",
            "children": [
              "IPY_MODEL_e86f46b434654ff3bdbbbde4b1931ef4",
              "IPY_MODEL_f5048f5829eb42599537857980a8e01c",
              "IPY_MODEL_acb9928d683a452f90e5adba8aa54875"
            ],
            "layout": "IPY_MODEL_2e73179e93a24e82af71664be07fbc24"
          }
        },
        "e86f46b434654ff3bdbbbde4b1931ef4": {
          "model_module": "@jupyter-widgets/controls",
          "model_name": "HTMLModel",
          "model_module_version": "1.5.0",
          "state": {
            "_dom_classes": [],
            "_model_module": "@jupyter-widgets/controls",
            "_model_module_version": "1.5.0",
            "_model_name": "HTMLModel",
            "_view_count": null,
            "_view_module": "@jupyter-widgets/controls",
            "_view_module_version": "1.5.0",
            "_view_name": "HTMLView",
            "description": "",
            "description_tooltip": null,
            "layout": "IPY_MODEL_0aec90b637174443adf4e6f8ace67da0",
            "placeholder": "​",
            "style": "IPY_MODEL_4c39120dbb9c4fd79cf6fcd369ec84c5",
            "value": "Generating test split: 100%"
          }
        },
        "f5048f5829eb42599537857980a8e01c": {
          "model_module": "@jupyter-widgets/controls",
          "model_name": "FloatProgressModel",
          "model_module_version": "1.5.0",
          "state": {
            "_dom_classes": [],
            "_model_module": "@jupyter-widgets/controls",
            "_model_module_version": "1.5.0",
            "_model_name": "FloatProgressModel",
            "_view_count": null,
            "_view_module": "@jupyter-widgets/controls",
            "_view_module_version": "1.5.0",
            "_view_name": "ProgressView",
            "bar_style": "success",
            "description": "",
            "description_tooltip": null,
            "layout": "IPY_MODEL_9ad82d707f0448aaba63b1ffbbec6d99",
            "max": 10000,
            "min": 0,
            "orientation": "horizontal",
            "style": "IPY_MODEL_49bf0fe78105469580efb34a061968b9",
            "value": 10000
          }
        },
        "acb9928d683a452f90e5adba8aa54875": {
          "model_module": "@jupyter-widgets/controls",
          "model_name": "HTMLModel",
          "model_module_version": "1.5.0",
          "state": {
            "_dom_classes": [],
            "_model_module": "@jupyter-widgets/controls",
            "_model_module_version": "1.5.0",
            "_model_name": "HTMLModel",
            "_view_count": null,
            "_view_module": "@jupyter-widgets/controls",
            "_view_module_version": "1.5.0",
            "_view_name": "HTMLView",
            "description": "",
            "description_tooltip": null,
            "layout": "IPY_MODEL_5c7f63b770fc404e962d94f4389099bf",
            "placeholder": "​",
            "style": "IPY_MODEL_1401129eafd247a38932bdf0359661a2",
            "value": " 10000/10000 [00:00&lt;00:00, 96977.68 examples/s]"
          }
        },
        "2e73179e93a24e82af71664be07fbc24": {
          "model_module": "@jupyter-widgets/base",
          "model_name": "LayoutModel",
          "model_module_version": "1.2.0",
          "state": {
            "_model_module": "@jupyter-widgets/base",
            "_model_module_version": "1.2.0",
            "_model_name": "LayoutModel",
            "_view_count": null,
            "_view_module": "@jupyter-widgets/base",
            "_view_module_version": "1.2.0",
            "_view_name": "LayoutView",
            "align_content": null,
            "align_items": null,
            "align_self": null,
            "border": null,
            "bottom": null,
            "display": null,
            "flex": null,
            "flex_flow": null,
            "grid_area": null,
            "grid_auto_columns": null,
            "grid_auto_flow": null,
            "grid_auto_rows": null,
            "grid_column": null,
            "grid_gap": null,
            "grid_row": null,
            "grid_template_areas": null,
            "grid_template_columns": null,
            "grid_template_rows": null,
            "height": null,
            "justify_content": null,
            "justify_items": null,
            "left": null,
            "margin": null,
            "max_height": null,
            "max_width": null,
            "min_height": null,
            "min_width": null,
            "object_fit": null,
            "object_position": null,
            "order": null,
            "overflow": null,
            "overflow_x": null,
            "overflow_y": null,
            "padding": null,
            "right": null,
            "top": null,
            "visibility": null,
            "width": null
          }
        },
        "0aec90b637174443adf4e6f8ace67da0": {
          "model_module": "@jupyter-widgets/base",
          "model_name": "LayoutModel",
          "model_module_version": "1.2.0",
          "state": {
            "_model_module": "@jupyter-widgets/base",
            "_model_module_version": "1.2.0",
            "_model_name": "LayoutModel",
            "_view_count": null,
            "_view_module": "@jupyter-widgets/base",
            "_view_module_version": "1.2.0",
            "_view_name": "LayoutView",
            "align_content": null,
            "align_items": null,
            "align_self": null,
            "border": null,
            "bottom": null,
            "display": null,
            "flex": null,
            "flex_flow": null,
            "grid_area": null,
            "grid_auto_columns": null,
            "grid_auto_flow": null,
            "grid_auto_rows": null,
            "grid_column": null,
            "grid_gap": null,
            "grid_row": null,
            "grid_template_areas": null,
            "grid_template_columns": null,
            "grid_template_rows": null,
            "height": null,
            "justify_content": null,
            "justify_items": null,
            "left": null,
            "margin": null,
            "max_height": null,
            "max_width": null,
            "min_height": null,
            "min_width": null,
            "object_fit": null,
            "object_position": null,
            "order": null,
            "overflow": null,
            "overflow_x": null,
            "overflow_y": null,
            "padding": null,
            "right": null,
            "top": null,
            "visibility": null,
            "width": null
          }
        },
        "4c39120dbb9c4fd79cf6fcd369ec84c5": {
          "model_module": "@jupyter-widgets/controls",
          "model_name": "DescriptionStyleModel",
          "model_module_version": "1.5.0",
          "state": {
            "_model_module": "@jupyter-widgets/controls",
            "_model_module_version": "1.5.0",
            "_model_name": "DescriptionStyleModel",
            "_view_count": null,
            "_view_module": "@jupyter-widgets/base",
            "_view_module_version": "1.2.0",
            "_view_name": "StyleView",
            "description_width": ""
          }
        },
        "9ad82d707f0448aaba63b1ffbbec6d99": {
          "model_module": "@jupyter-widgets/base",
          "model_name": "LayoutModel",
          "model_module_version": "1.2.0",
          "state": {
            "_model_module": "@jupyter-widgets/base",
            "_model_module_version": "1.2.0",
            "_model_name": "LayoutModel",
            "_view_count": null,
            "_view_module": "@jupyter-widgets/base",
            "_view_module_version": "1.2.0",
            "_view_name": "LayoutView",
            "align_content": null,
            "align_items": null,
            "align_self": null,
            "border": null,
            "bottom": null,
            "display": null,
            "flex": null,
            "flex_flow": null,
            "grid_area": null,
            "grid_auto_columns": null,
            "grid_auto_flow": null,
            "grid_auto_rows": null,
            "grid_column": null,
            "grid_gap": null,
            "grid_row": null,
            "grid_template_areas": null,
            "grid_template_columns": null,
            "grid_template_rows": null,
            "height": null,
            "justify_content": null,
            "justify_items": null,
            "left": null,
            "margin": null,
            "max_height": null,
            "max_width": null,
            "min_height": null,
            "min_width": null,
            "object_fit": null,
            "object_position": null,
            "order": null,
            "overflow": null,
            "overflow_x": null,
            "overflow_y": null,
            "padding": null,
            "right": null,
            "top": null,
            "visibility": null,
            "width": null
          }
        },
        "49bf0fe78105469580efb34a061968b9": {
          "model_module": "@jupyter-widgets/controls",
          "model_name": "ProgressStyleModel",
          "model_module_version": "1.5.0",
          "state": {
            "_model_module": "@jupyter-widgets/controls",
            "_model_module_version": "1.5.0",
            "_model_name": "ProgressStyleModel",
            "_view_count": null,
            "_view_module": "@jupyter-widgets/base",
            "_view_module_version": "1.2.0",
            "_view_name": "StyleView",
            "bar_color": null,
            "description_width": ""
          }
        },
        "5c7f63b770fc404e962d94f4389099bf": {
          "model_module": "@jupyter-widgets/base",
          "model_name": "LayoutModel",
          "model_module_version": "1.2.0",
          "state": {
            "_model_module": "@jupyter-widgets/base",
            "_model_module_version": "1.2.0",
            "_model_name": "LayoutModel",
            "_view_count": null,
            "_view_module": "@jupyter-widgets/base",
            "_view_module_version": "1.2.0",
            "_view_name": "LayoutView",
            "align_content": null,
            "align_items": null,
            "align_self": null,
            "border": null,
            "bottom": null,
            "display": null,
            "flex": null,
            "flex_flow": null,
            "grid_area": null,
            "grid_auto_columns": null,
            "grid_auto_flow": null,
            "grid_auto_rows": null,
            "grid_column": null,
            "grid_gap": null,
            "grid_row": null,
            "grid_template_areas": null,
            "grid_template_columns": null,
            "grid_template_rows": null,
            "height": null,
            "justify_content": null,
            "justify_items": null,
            "left": null,
            "margin": null,
            "max_height": null,
            "max_width": null,
            "min_height": null,
            "min_width": null,
            "object_fit": null,
            "object_position": null,
            "order": null,
            "overflow": null,
            "overflow_x": null,
            "overflow_y": null,
            "padding": null,
            "right": null,
            "top": null,
            "visibility": null,
            "width": null
          }
        },
        "1401129eafd247a38932bdf0359661a2": {
          "model_module": "@jupyter-widgets/controls",
          "model_name": "DescriptionStyleModel",
          "model_module_version": "1.5.0",
          "state": {
            "_model_module": "@jupyter-widgets/controls",
            "_model_module_version": "1.5.0",
            "_model_name": "DescriptionStyleModel",
            "_view_count": null,
            "_view_module": "@jupyter-widgets/base",
            "_view_module_version": "1.2.0",
            "_view_name": "StyleView",
            "description_width": ""
          }
        }
      }
    }
  },
  "nbformat": 4,
  "nbformat_minor": 0
}